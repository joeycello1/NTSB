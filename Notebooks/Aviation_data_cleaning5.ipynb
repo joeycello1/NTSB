{
 "cells": [
  {
   "cell_type": "code",
   "execution_count": 3,
   "metadata": {
    "colab": {
     "base_uri": "https://localhost:8080/"
    },
    "id": "6XYvoIGu4fT-",
    "outputId": "90d7595c-509a-42c2-a677-d3fdd8d64573"
   },
   "outputs": [
    {
     "name": "stdout",
     "output_type": "stream",
     "text": [
      "<class 'pandas.core.frame.DataFrame'>\n",
      "RangeIndex: 81355 entries, 0 to 81354\n",
      "Data columns (total 28 columns):\n",
      " #   Column                  Non-Null Count  Dtype  \n",
      "---  ------                  --------------  -----  \n",
      " 0   Event_Id                81355 non-null  object \n",
      " 1   Investigation_Type      81355 non-null  object \n",
      " 2   Accident_Number         81355 non-null  object \n",
      " 3   Event_Date              81355 non-null  object \n",
      " 4   Location                81355 non-null  object \n",
      " 5   Country                 81355 non-null  object \n",
      " 6   Airport_Code            48431 non-null  object \n",
      " 7   Airport_Name            50906 non-null  object \n",
      " 8   Injury_Severity         81250 non-null  object \n",
      " 9   Aircraft_damage         79453 non-null  object \n",
      " 10  Aircraft_Category       81355 non-null  object \n",
      " 11  Registration_Number     81253 non-null  object \n",
      " 12  Make                    81334 non-null  object \n",
      " 13  Model                   81317 non-null  object \n",
      " 14  Amateur_Built           81335 non-null  object \n",
      " 15  Number_of_Engines       79509 non-null  float64\n",
      " 16  Engine_Type             81355 non-null  object \n",
      " 17  FAR_Description         28132 non-null  object \n",
      " 18  Purpose_of_flight       81355 non-null  object \n",
      " 19  Total_Fatal_Injuries    81355 non-null  float64\n",
      " 20  Total_Serious_Injuries  81355 non-null  float64\n",
      " 21  Total_Minor_Injuries    81355 non-null  float64\n",
      " 22  Total_Uninjured         81355 non-null  float64\n",
      " 23  Weather_Condition       81355 non-null  object \n",
      " 24  Broad_phase_of_flight   81355 non-null  object \n",
      " 25  Report_Status           78756 non-null  object \n",
      " 26  Publication_Date        68835 non-null  object \n",
      " 27  State                   81355 non-null  object \n",
      "dtypes: float64(5), object(23)\n",
      "memory usage: 17.4+ MB\n"
     ]
    }
   ],
   "source": [
    "import pandas as pd\n",
    "import numpy as np\n",
    "import matplotlib.pyplot as plt\n",
    "import seaborn as sns\n",
    "\n",
    "# Load cleaned_aviation_data_US.csv\n",
    "df = pd.read_csv('working-df/cleaned_aviation_data_US.csv')\n",
    "\n",
    "df.info()"
   ]
  },
  {
   "cell_type": "code",
   "execution_count": 4,
   "metadata": {
    "colab": {
     "base_uri": "https://localhost:8080/",
     "height": 147
    },
    "id": "okHQEwx35xjN",
    "outputId": "d333ee92-bd88-40fe-b97a-a3d976d227e3"
   },
   "outputs": [
    {
     "data": {
      "text/html": [
       "<div>\n",
       "<style scoped>\n",
       "    .dataframe tbody tr th:only-of-type {\n",
       "        vertical-align: middle;\n",
       "    }\n",
       "\n",
       "    .dataframe tbody tr th {\n",
       "        vertical-align: top;\n",
       "    }\n",
       "\n",
       "    .dataframe thead th {\n",
       "        text-align: right;\n",
       "    }\n",
       "</style>\n",
       "<table border=\"1\" class=\"dataframe\">\n",
       "  <thead>\n",
       "    <tr style=\"text-align: right;\">\n",
       "      <th></th>\n",
       "      <th>count</th>\n",
       "    </tr>\n",
       "    <tr>\n",
       "      <th>State</th>\n",
       "      <th></th>\n",
       "    </tr>\n",
       "  </thead>\n",
       "  <tbody>\n",
       "    <tr>\n",
       "      <th>AO</th>\n",
       "      <td>17</td>\n",
       "    </tr>\n",
       "  </tbody>\n",
       "</table>\n",
       "</div><br><label><b>dtype:</b> int64</label>"
      ],
      "text/plain": [
       "State\n",
       "AO    17\n",
       "Name: count, dtype: int64"
      ]
     },
     "execution_count": 4,
     "metadata": {},
     "output_type": "execute_result"
    }
   ],
   "source": [
    "# Show State value_counts for AO\n",
    "df[df['State'] == 'AO']['State'].value_counts()"
   ]
  },
  {
   "cell_type": "code",
   "execution_count": 5,
   "metadata": {
    "id": "NcgBEOYJ_7NU"
   },
   "outputs": [],
   "source": [
    "# Rename AO 'Atlantic Ocean' in State column\n",
    "df.loc[df['State'] == 'AO', 'State'] = 'Atlantic Ocean'"
   ]
  },
  {
   "cell_type": "code",
   "execution_count": 6,
   "metadata": {
    "colab": {
     "base_uri": "https://localhost:8080/",
     "height": 147
    },
    "id": "m-ZQLh59BIB4",
    "outputId": "2f1a160b-4e11-4007-c632-7fea66984050"
   },
   "outputs": [
    {
     "data": {
      "text/html": [
       "<div>\n",
       "<style scoped>\n",
       "    .dataframe tbody tr th:only-of-type {\n",
       "        vertical-align: middle;\n",
       "    }\n",
       "\n",
       "    .dataframe tbody tr th {\n",
       "        vertical-align: top;\n",
       "    }\n",
       "\n",
       "    .dataframe thead th {\n",
       "        text-align: right;\n",
       "    }\n",
       "</style>\n",
       "<table border=\"1\" class=\"dataframe\">\n",
       "  <thead>\n",
       "    <tr style=\"text-align: right;\">\n",
       "      <th></th>\n",
       "      <th>count</th>\n",
       "    </tr>\n",
       "    <tr>\n",
       "      <th>State</th>\n",
       "      <th></th>\n",
       "    </tr>\n",
       "  </thead>\n",
       "  <tbody>\n",
       "    <tr>\n",
       "      <th>Atlantic Ocean</th>\n",
       "      <td>17</td>\n",
       "    </tr>\n",
       "  </tbody>\n",
       "</table>\n",
       "</div><br><label><b>dtype:</b> int64</label>"
      ],
      "text/plain": [
       "State\n",
       "Atlantic Ocean    17\n",
       "Name: count, dtype: int64"
      ]
     },
     "execution_count": 6,
     "metadata": {},
     "output_type": "execute_result"
    }
   ],
   "source": [
    "df[df['State'] == 'Atlantic Ocean']['State'].value_counts()"
   ]
  },
  {
   "cell_type": "code",
   "execution_count": 7,
   "metadata": {
    "colab": {
     "base_uri": "https://localhost:8080/",
     "height": 490
    },
    "id": "ier8ePZGBN2K",
    "outputId": "f5dc7148-3eea-4746-f8ed-6016b696918e"
   },
   "outputs": [
    {
     "data": {
      "text/html": [
       "<div>\n",
       "<style scoped>\n",
       "    .dataframe tbody tr th:only-of-type {\n",
       "        vertical-align: middle;\n",
       "    }\n",
       "\n",
       "    .dataframe tbody tr th {\n",
       "        vertical-align: top;\n",
       "    }\n",
       "\n",
       "    .dataframe thead th {\n",
       "        text-align: right;\n",
       "    }\n",
       "</style>\n",
       "<table border=\"1\" class=\"dataframe\">\n",
       "  <thead>\n",
       "    <tr style=\"text-align: right;\">\n",
       "      <th></th>\n",
       "      <th>count</th>\n",
       "    </tr>\n",
       "    <tr>\n",
       "      <th>State</th>\n",
       "      <th></th>\n",
       "    </tr>\n",
       "  </thead>\n",
       "  <tbody>\n",
       "    <tr>\n",
       "      <th>CA</th>\n",
       "      <td>8700</td>\n",
       "    </tr>\n",
       "    <tr>\n",
       "      <th>TX</th>\n",
       "      <td>5839</td>\n",
       "    </tr>\n",
       "    <tr>\n",
       "      <th>FL</th>\n",
       "      <td>5732</td>\n",
       "    </tr>\n",
       "    <tr>\n",
       "      <th>AK</th>\n",
       "      <td>5625</td>\n",
       "    </tr>\n",
       "    <tr>\n",
       "      <th>AZ</th>\n",
       "      <td>2804</td>\n",
       "    </tr>\n",
       "    <tr>\n",
       "      <th>...</th>\n",
       "      <td>...</td>\n",
       "    </tr>\n",
       "    <tr>\n",
       "      <th>High Island 138,</th>\n",
       "      <td>1</td>\n",
       "    </tr>\n",
       "    <tr>\n",
       "      <th>Vermillion 229,</th>\n",
       "      <td>1</td>\n",
       "    </tr>\n",
       "    <tr>\n",
       "      <th>Atlantic Ocean,</th>\n",
       "      <td>1</td>\n",
       "    </tr>\n",
       "    <tr>\n",
       "      <th>Charlotte Amali,</th>\n",
       "      <td>1</td>\n",
       "    </tr>\n",
       "    <tr>\n",
       "      <th>CB</th>\n",
       "      <td>1</td>\n",
       "    </tr>\n",
       "  </tbody>\n",
       "</table>\n",
       "<p>97 rows × 1 columns</p>\n",
       "</div><br><label><b>dtype:</b> int64</label>"
      ],
      "text/plain": [
       "State\n",
       "CA                  8700\n",
       "TX                  5839\n",
       "FL                  5732\n",
       "AK                  5625\n",
       "AZ                  2804\n",
       "                    ... \n",
       "High Island 138,       1\n",
       "Vermillion 229,        1\n",
       "Atlantic Ocean,        1\n",
       "Charlotte Amali,       1\n",
       "CB                     1\n",
       "Name: count, Length: 97, dtype: int64"
      ]
     },
     "execution_count": 7,
     "metadata": {},
     "output_type": "execute_result"
    }
   ],
   "source": [
    "df['State'].value_counts()"
   ]
  },
  {
   "cell_type": "code",
   "execution_count": 8,
   "metadata": {
    "id": "TC2VZD1-BUsG"
   },
   "outputs": [],
   "source": [
    "# Rename 'Atlantic Ocean,' 'Atlantic Ocean' in State column\n",
    "df.loc[df['State'] == 'Atlantic Ocean,', 'State'] = 'Atlantic Ocean'"
   ]
  },
  {
   "cell_type": "code",
   "execution_count": 12,
   "metadata": {
    "colab": {
     "base_uri": "https://localhost:8080/"
    },
    "id": "5Aq8Zf_X28IC",
    "outputId": "2c92fc81-28b6-4f7b-8b67-7fd687f6f788"
   },
   "outputs": [
    {
     "name": "stdout",
     "output_type": "stream",
     "text": [
      "State\n",
      "PO                           14\n",
      "Unknown                      11\n",
      "Gulf of Mexico,               9\n",
      "GU                            8\n",
      "VI                            6\n",
      "Tamuning,                     5\n",
      "Unknown,                      4\n",
      "Pacific Ocean,                4\n",
      ",                             3\n",
      "St. Croix,                    3\n",
      "UN                            3\n",
      "Saipan,                       3\n",
      "Charlotte Amalie,             3\n",
      "Obyan,                        2\n",
      "GULF OF MEXICO,               1\n",
      "Guayaquil,                    1\n",
      "LA,                           1\n",
      "Majuro,                       1\n",
      "Santa Rita,                   1\n",
      "South Timbalier 127,          1\n",
      "Whitney,                      1\n",
      "Viosca Knoll 989,             1\n",
      "South Timbalier Platform,     1\n",
      "Eugene Island 182A,           1\n",
      "Inarajan,                     1\n",
      "West Delta 109,               1\n",
      "Main Pass 61A,                1\n",
      "Tinian Island,                1\n",
      "Ship Shoal 208H,              1\n",
      "Southern Timbalier 52CA,      1\n",
      "Gulf Of Mexico,               1\n",
      "South Pass 93A,               1\n",
      "Agana,                        1\n",
      "Mobile Block 114CC,           1\n",
      "St. Thomas,                   1\n",
      "High Island A-442A,           1\n",
      "Christiansted,                1\n",
      "High Island 138,              1\n",
      "Vermillion 229,               1\n",
      "Charlotte Amali,              1\n",
      "CB                            1\n",
      "Name: count, dtype: int64\n"
     ]
    }
   ],
   "source": [
    "# Show State value_counts over 1 and under 15\n",
    "print(df['State'].value_counts()[df['State'].value_counts() < 15])"
   ]
  },
  {
   "cell_type": "code",
   "execution_count": 13,
   "metadata": {
    "id": "DaifxRAE2-jT"
   },
   "outputs": [],
   "source": [
    "df.loc[df['State'] == 'Pacific Ocean,', 'State'] = 'Pacific Ocean'"
   ]
  },
  {
   "cell_type": "code",
   "execution_count": 14,
   "metadata": {
    "id": "gYxYOZLf52R8"
   },
   "outputs": [],
   "source": [
    "df.loc[df['State'] == 'PO', 'State'] = 'Pacific Ocean'"
   ]
  },
  {
   "cell_type": "code",
   "execution_count": 16,
   "metadata": {
    "colab": {
     "base_uri": "https://localhost:8080/",
     "height": 147
    },
    "id": "oTMhYVb454xD",
    "outputId": "be1e0f05-6165-48b2-a09b-dade2078a621"
   },
   "outputs": [
    {
     "data": {
      "text/html": [
       "<div>\n",
       "<style scoped>\n",
       "    .dataframe tbody tr th:only-of-type {\n",
       "        vertical-align: middle;\n",
       "    }\n",
       "\n",
       "    .dataframe tbody tr th {\n",
       "        vertical-align: top;\n",
       "    }\n",
       "\n",
       "    .dataframe thead th {\n",
       "        text-align: right;\n",
       "    }\n",
       "</style>\n",
       "<table border=\"1\" class=\"dataframe\">\n",
       "  <thead>\n",
       "    <tr style=\"text-align: right;\">\n",
       "      <th></th>\n",
       "      <th>count</th>\n",
       "    </tr>\n",
       "    <tr>\n",
       "      <th>State</th>\n",
       "      <th></th>\n",
       "    </tr>\n",
       "  </thead>\n",
       "  <tbody>\n",
       "    <tr>\n",
       "      <th>Pacific Ocean</th>\n",
       "      <td>18</td>\n",
       "    </tr>\n",
       "  </tbody>\n",
       "</table>\n",
       "</div><br><label><b>dtype:</b> int64</label>"
      ],
      "text/plain": [
       "State\n",
       "Pacific Ocean    18\n",
       "Name: count, dtype: int64"
      ]
     },
     "execution_count": 16,
     "metadata": {},
     "output_type": "execute_result"
    }
   ],
   "source": [
    "df[df['State'] == 'Pacific Ocean']['State'].value_counts()"
   ]
  },
  {
   "cell_type": "code",
   "execution_count": 18,
   "metadata": {
    "id": "y-7IfS0e5-Qh"
   },
   "outputs": [],
   "source": [
    "# rename all Gulf of Mexico instances\n",
    "df.loc[df['State'].apply(lambda x: x in ['Gulf of Mexico,', 'GULF OF MEXICO,', 'Gulf Of Mexico,', 'GM']), 'State'] = 'Gulf of Mexico'"
   ]
  },
  {
   "cell_type": "code",
   "execution_count": 20,
   "metadata": {
    "colab": {
     "base_uri": "https://localhost:8080/",
     "height": 147
    },
    "id": "6mYSkx6l7LSL",
    "outputId": "d51d4734-eb3e-4aa5-f702-1f2f7b5aa4f9"
   },
   "outputs": [
    {
     "data": {
      "text/html": [
       "<div>\n",
       "<style scoped>\n",
       "    .dataframe tbody tr th:only-of-type {\n",
       "        vertical-align: middle;\n",
       "    }\n",
       "\n",
       "    .dataframe tbody tr th {\n",
       "        vertical-align: top;\n",
       "    }\n",
       "\n",
       "    .dataframe thead th {\n",
       "        text-align: right;\n",
       "    }\n",
       "</style>\n",
       "<table border=\"1\" class=\"dataframe\">\n",
       "  <thead>\n",
       "    <tr style=\"text-align: right;\">\n",
       "      <th></th>\n",
       "      <th>count</th>\n",
       "    </tr>\n",
       "    <tr>\n",
       "      <th>State</th>\n",
       "      <th></th>\n",
       "    </tr>\n",
       "  </thead>\n",
       "  <tbody>\n",
       "    <tr>\n",
       "      <th>Gulf of Mexico</th>\n",
       "      <td>55</td>\n",
       "    </tr>\n",
       "  </tbody>\n",
       "</table>\n",
       "</div><br><label><b>dtype:</b> int64</label>"
      ],
      "text/plain": [
       "State\n",
       "Gulf of Mexico    55\n",
       "Name: count, dtype: int64"
      ]
     },
     "execution_count": 20,
     "metadata": {},
     "output_type": "execute_result"
    }
   ],
   "source": [
    "df[df['State'] == 'Gulf of Mexico']['State'].value_counts()"
   ]
  },
  {
   "cell_type": "code",
   "execution_count": 21,
   "metadata": {
    "colab": {
     "base_uri": "https://localhost:8080/"
    },
    "id": "TFRBlMNW7f6S",
    "outputId": "9322423a-0e3b-4d1e-f9ea-06cf5d71bd8a"
   },
   "outputs": [
    {
     "name": "stdout",
     "output_type": "stream",
     "text": [
      "<class 'pandas.core.frame.DataFrame'>\n",
      "RangeIndex: 81355 entries, 0 to 81354\n",
      "Data columns (total 28 columns):\n",
      " #   Column                  Non-Null Count  Dtype  \n",
      "---  ------                  --------------  -----  \n",
      " 0   Event_Id                81355 non-null  object \n",
      " 1   Investigation_Type      81355 non-null  object \n",
      " 2   Accident_Number         81355 non-null  object \n",
      " 3   Event_Date              81355 non-null  object \n",
      " 4   Location                81355 non-null  object \n",
      " 5   Country                 81355 non-null  object \n",
      " 6   Airport_Code            48431 non-null  object \n",
      " 7   Airport_Name            50906 non-null  object \n",
      " 8   Injury_Severity         81250 non-null  object \n",
      " 9   Aircraft_damage         79453 non-null  object \n",
      " 10  Aircraft_Category       81355 non-null  object \n",
      " 11  Registration_Number     81253 non-null  object \n",
      " 12  Make                    81334 non-null  object \n",
      " 13  Model                   81317 non-null  object \n",
      " 14  Amateur_Built           81335 non-null  object \n",
      " 15  Number_of_Engines       79509 non-null  float64\n",
      " 16  Engine_Type             81355 non-null  object \n",
      " 17  FAR_Description         28132 non-null  object \n",
      " 18  Purpose_of_flight       81355 non-null  object \n",
      " 19  Total_Fatal_Injuries    81355 non-null  float64\n",
      " 20  Total_Serious_Injuries  81355 non-null  float64\n",
      " 21  Total_Minor_Injuries    81355 non-null  float64\n",
      " 22  Total_Uninjured         81355 non-null  float64\n",
      " 23  Weather_Condition       81355 non-null  object \n",
      " 24  Broad_phase_of_flight   81355 non-null  object \n",
      " 25  Report_Status           78756 non-null  object \n",
      " 26  Publication_Date        68835 non-null  object \n",
      " 27  State                   81355 non-null  object \n",
      "dtypes: float64(5), object(23)\n",
      "memory usage: 17.4+ MB\n"
     ]
    }
   ],
   "source": [
    "df.info()"
   ]
  },
  {
   "cell_type": "code",
   "execution_count": null,
   "metadata": {
    "id": "8Nwt5jUY716i"
   },
   "outputs": [],
   "source": []
  }
 ],
 "metadata": {
  "colab": {
   "provenance": []
  },
  "kernelspec": {
   "display_name": "Python 3 (ipykernel)",
   "language": "python",
   "name": "python3"
  },
  "language_info": {
   "codemirror_mode": {
    "name": "ipython",
    "version": 3
   },
   "file_extension": ".py",
   "mimetype": "text/x-python",
   "name": "python",
   "nbconvert_exporter": "python",
   "pygments_lexer": "ipython3",
   "version": "3.12.4"
  }
 },
 "nbformat": 4,
 "nbformat_minor": 4
}
