{
  "nbformat": 4,
  "nbformat_minor": 0,
  "metadata": {
    "colab": {
      "provenance": []
    },
    "kernelspec": {
      "name": "python3",
      "display_name": "Python 3"
    },
    "language_info": {
      "name": "python"
    }
  },
  "cells": [
    {
      "cell_type": "code",
      "execution_count": 1,
      "metadata": {
        "id": "SvlQzJJ9VTGK",
        "colab": {
          "base_uri": "https://localhost:8080/"
        },
        "outputId": "88271557-5dc4-4bac-a7f7-da03f48f4108"
      },
      "outputs": [
        {
          "output_type": "stream",
          "name": "stdout",
          "text": [
            "<class 'pandas.core.frame.DataFrame'>\n",
            "RangeIndex: 81355 entries, 0 to 81354\n",
            "Data columns (total 29 columns):\n",
            " #   Column                  Non-Null Count  Dtype  \n",
            "---  ------                  --------------  -----  \n",
            " 0   Event_Id                81355 non-null  object \n",
            " 1   Investigation_Type      81355 non-null  object \n",
            " 2   Accident_Number         81355 non-null  object \n",
            " 3   Event_Date              81355 non-null  object \n",
            " 4   Location                81355 non-null  object \n",
            " 5   Country                 81355 non-null  object \n",
            " 6   Airport_Code            48431 non-null  object \n",
            " 7   Airport_Name            50906 non-null  object \n",
            " 8   Injury_Severity         81250 non-null  object \n",
            " 9   Aircraft_damage         79453 non-null  object \n",
            " 10  Aircraft_Category       81355 non-null  object \n",
            " 11  Registration_Number     81253 non-null  object \n",
            " 12  Make                    81334 non-null  object \n",
            " 13  Model                   81317 non-null  object \n",
            " 14  Amateur_Built           81335 non-null  object \n",
            " 15  Number_of_Engines       79509 non-null  float64\n",
            " 16  Engine_Type             81355 non-null  object \n",
            " 17  FAR_Description         28132 non-null  object \n",
            " 18  Purpose_of_flight       81355 non-null  object \n",
            " 19  Total_Fatal_Injuries    81355 non-null  float64\n",
            " 20  Total_Serious_Injuries  81355 non-null  float64\n",
            " 21  Total_Minor_Injuries    81355 non-null  float64\n",
            " 22  Total_Uninjured         81355 non-null  float64\n",
            " 23  Weather_Condition       81355 non-null  object \n",
            " 24  Broad_phase_of_flight   81355 non-null  object \n",
            " 25  Report_Status           81355 non-null  object \n",
            " 26  Publication_Date        68835 non-null  object \n",
            " 27  State                   81355 non-null  object \n",
            " 28  Reason                  8514 non-null   object \n",
            "dtypes: float64(5), object(24)\n",
            "memory usage: 18.0+ MB\n"
          ]
        },
        {
          "output_type": "stream",
          "name": "stderr",
          "text": [
            "<ipython-input-1-469c60ca8532>:7: DtypeWarning: Columns (28) have mixed types. Specify dtype option on import or set low_memory=False.\n",
            "  df = pd.read_csv('working-df/cleaned_aviation_data_US_v3.csv')\n"
          ]
        }
      ],
      "source": [
        "import pandas as pd\n",
        "import numpy as np\n",
        "import matplotlib.pyplot as plt\n",
        "import seaborn as sns\n",
        "\n",
        "# Load cleaned_aviation_data_US.csv\n",
        "df = pd.read_csv('working-df/cleaned_aviation_data_US_v3.csv')\n",
        "\n",
        "df.info()"
      ]
    },
    {
      "cell_type": "code",
      "source": [
        "# Show Reason value_counts including NaN\n",
        "df['Reason'].value_counts(dropna=False)"
      ],
      "metadata": {
        "colab": {
          "base_uri": "https://localhost:8080/",
          "height": 178
        },
        "id": "xP7suGI_WIpK",
        "outputId": "4b760a1c-d63e-4a34-de30-bdd2101e34da"
      },
      "execution_count": 2,
      "outputs": [
        {
          "output_type": "execute_result",
          "data": {
            "text/plain": [
              "Reason\n",
              "NaN            72841\n",
              "pilot error     8514\n",
              "Name: count, dtype: int64"
            ],
            "text/html": [
              "<div>\n",
              "<style scoped>\n",
              "    .dataframe tbody tr th:only-of-type {\n",
              "        vertical-align: middle;\n",
              "    }\n",
              "\n",
              "    .dataframe tbody tr th {\n",
              "        vertical-align: top;\n",
              "    }\n",
              "\n",
              "    .dataframe thead th {\n",
              "        text-align: right;\n",
              "    }\n",
              "</style>\n",
              "<table border=\"1\" class=\"dataframe\">\n",
              "  <thead>\n",
              "    <tr style=\"text-align: right;\">\n",
              "      <th></th>\n",
              "      <th>count</th>\n",
              "    </tr>\n",
              "    <tr>\n",
              "      <th>Reason</th>\n",
              "      <th></th>\n",
              "    </tr>\n",
              "  </thead>\n",
              "  <tbody>\n",
              "    <tr>\n",
              "      <th>NaN</th>\n",
              "      <td>72841</td>\n",
              "    </tr>\n",
              "    <tr>\n",
              "      <th>pilot error</th>\n",
              "      <td>8514</td>\n",
              "    </tr>\n",
              "  </tbody>\n",
              "</table>\n",
              "</div><br><label><b>dtype:</b> int64</label>"
            ]
          },
          "metadata": {},
          "execution_count": 2
        }
      ]
    },
    {
      "cell_type": "code",
      "source": [
        "# Create a subset of records with 'pilot error' as Reason\n",
        "pilot_error_df = df[df['Reason'] == 'pilot error']\n",
        "pilot_error_df.info()"
      ],
      "metadata": {
        "colab": {
          "base_uri": "https://localhost:8080/"
        },
        "id": "oKb5hxBXWjO3",
        "outputId": "c58ebc27-f943-485b-e373-db4b2c34950e"
      },
      "execution_count": 4,
      "outputs": [
        {
          "output_type": "stream",
          "name": "stdout",
          "text": [
            "<class 'pandas.core.frame.DataFrame'>\n",
            "Index: 8514 entries, 60480 to 81117\n",
            "Data columns (total 29 columns):\n",
            " #   Column                  Non-Null Count  Dtype  \n",
            "---  ------                  --------------  -----  \n",
            " 0   Event_Id                8514 non-null   object \n",
            " 1   Investigation_Type      8514 non-null   object \n",
            " 2   Accident_Number         8514 non-null   object \n",
            " 3   Event_Date              8514 non-null   object \n",
            " 4   Location                8514 non-null   object \n",
            " 5   Country                 8514 non-null   object \n",
            " 6   Airport_Code            6124 non-null   object \n",
            " 7   Airport_Name            6264 non-null   object \n",
            " 8   Injury_Severity         8513 non-null   object \n",
            " 9   Aircraft_damage         8464 non-null   object \n",
            " 10  Aircraft_Category       8514 non-null   object \n",
            " 11  Registration_Number     8514 non-null   object \n",
            " 12  Make                    8514 non-null   object \n",
            " 13  Model                   8514 non-null   object \n",
            " 14  Amateur_Built           8514 non-null   object \n",
            " 15  Number_of_Engines       8260 non-null   float64\n",
            " 16  Engine_Type             8514 non-null   object \n",
            " 17  FAR_Description         8514 non-null   object \n",
            " 18  Purpose_of_flight       8514 non-null   object \n",
            " 19  Total_Fatal_Injuries    8514 non-null   float64\n",
            " 20  Total_Serious_Injuries  8514 non-null   float64\n",
            " 21  Total_Minor_Injuries    8514 non-null   float64\n",
            " 22  Total_Uninjured         8514 non-null   float64\n",
            " 23  Weather_Condition       8514 non-null   object \n",
            " 24  Broad_phase_of_flight   8514 non-null   object \n",
            " 25  Report_Status           8514 non-null   object \n",
            " 26  Publication_Date        8514 non-null   object \n",
            " 27  State                   8514 non-null   object \n",
            " 28  Reason                  8514 non-null   object \n",
            "dtypes: float64(5), object(24)\n",
            "memory usage: 1.9+ MB\n"
          ]
        }
      ]
    },
    {
      "cell_type": "code",
      "source": [
        "# Show me Report_Status value_counts that are not 'Probable Cause' or 'Factual'\n",
        "df_report_known = df[~df['Report_Status'].isin(['Probable Cause', 'Factual'])]"
      ],
      "metadata": {
        "id": "0OnYg49oW1us"
      },
      "execution_count": 20,
      "outputs": []
    },
    {
      "cell_type": "code",
      "source": [
        "# Show df_report_known Report_Status value_counts that are not 'pilot error' under Reason\n",
        "df_report_known[df_report_known['Reason'] != 'pilot error'].info()"
      ],
      "metadata": {
        "colab": {
          "base_uri": "https://localhost:8080/"
        },
        "id": "FXh9y6XSXpjb",
        "outputId": "73ad51eb-5e81-42be-979a-b5a88cb00ef0"
      },
      "execution_count": 21,
      "outputs": [
        {
          "output_type": "stream",
          "name": "stdout",
          "text": [
            "<class 'pandas.core.frame.DataFrame'>\n",
            "Index: 12387 entries, 21045 to 81354\n",
            "Data columns (total 29 columns):\n",
            " #   Column                  Non-Null Count  Dtype  \n",
            "---  ------                  --------------  -----  \n",
            " 0   Event_Id                12387 non-null  object \n",
            " 1   Investigation_Type      12387 non-null  object \n",
            " 2   Accident_Number         12387 non-null  object \n",
            " 3   Event_Date              12387 non-null  object \n",
            " 4   Location                12387 non-null  object \n",
            " 5   Country                 12387 non-null  object \n",
            " 6   Airport_Code            8319 non-null   object \n",
            " 7   Airport_Name            8289 non-null   object \n",
            " 8   Injury_Severity         12283 non-null  object \n",
            " 9   Aircraft_damage         11863 non-null  object \n",
            " 10  Aircraft_Category       12387 non-null  object \n",
            " 11  Registration_Number     12369 non-null  object \n",
            " 12  Make                    12377 non-null  object \n",
            " 13  Model                   12379 non-null  object \n",
            " 14  Amateur_Built           12385 non-null  object \n",
            " 15  Number_of_Engines       11708 non-null  float64\n",
            " 16  Engine_Type             12387 non-null  object \n",
            " 17  FAR_Description         12347 non-null  object \n",
            " 18  Purpose_of_flight       12387 non-null  object \n",
            " 19  Total_Fatal_Injuries    12387 non-null  float64\n",
            " 20  Total_Serious_Injuries  12387 non-null  float64\n",
            " 21  Total_Minor_Injuries    12387 non-null  float64\n",
            " 22  Total_Uninjured         12387 non-null  float64\n",
            " 23  Weather_Condition       12387 non-null  object \n",
            " 24  Broad_phase_of_flight   12387 non-null  object \n",
            " 25  Report_Status           12387 non-null  object \n",
            " 26  Publication_Date        12036 non-null  object \n",
            " 27  State                   12387 non-null  object \n",
            " 28  Reason                  0 non-null      object \n",
            "dtypes: float64(5), object(24)\n",
            "memory usage: 2.8+ MB\n"
          ]
        }
      ]
    },
    {
      "cell_type": "code",
      "source": [
        "df_report_known[df_report_known['Reason'] != 'pilot error']['Report_Status'].value_counts()"
      ],
      "metadata": {
        "colab": {
          "base_uri": "https://localhost:8080/",
          "height": 629
        },
        "id": "JL1pjsMvYO6w",
        "outputId": "e1d7c947-3e50-43ed-b405-f9d40a3c553d"
      },
      "execution_count": 22,
      "outputs": [
        {
          "output_type": "execute_result",
          "data": {
            "text/plain": [
              "Report_Status\n",
              "Unknown                                                                                                                                                                                                                                                                                                                                                                                                                                                                                                                                                                                                   2599\n",
              "A loss of engine power for undetermined reasons.                                                                                                                                                                                                                                                                                                                                                                                                                                                                                                                                                            52\n",
              "A total loss of engine power for undetermined reasons.                                                                                                                                                                                                                                                                                                                                                                                                                                                                                                                                                      39\n",
              "The loss of engine power for undetermined reasons.                                                                                                                                                                                                                                                                                                                                                                                                                                                                                                                                                          29\n",
              "The pilot's failure to maintain directional control during the landing roll.\\r\\n\\r                                                                                                                                                                                                                                                                                                                                                                                                                                                                                                                          21\n",
              "                                                                                                                                                                                                                                                                                                                                                                                                                                                                                                                                                                                                          ... \n",
              "The failure of the hopper gate mechanism and subsequent sulfur fire during a low-level maneuver.                                                                                                                                                                                                                                                                                                                                                                                                                                                                                                             1\n",
              "The undercharged and overcharged landing gear dampers, which allowed initiation of the ground resonance event from which the pilot was unable to recover due to his limited experience in helicopters. Contributing to the accident was the ineffective damper inspection conducted by the operators maintenance personnel and the improper overhaul procedure by the overhaul facility that resulted in overcharged dampers being provided to the operator. Also contributing was the lack of any final acceptance testing criteria for the dampers in the manufacturers overhaul procedure manual.       1\n",
              "The student pilot's loss of directional control during the landing roll. Contributing to the accident was the student pilot's diverted attention to retract the flaps.                                                                                                                                                                                                                                                                                                                                                                                                                                       1\n",
              "A partial loss of engine power for undetermined reasons during takeoff.                                                                                                                                                                                                                                                                                                                                                                                                                                                                                                                                      1\n",
              "The pilot's loss of control due to a wind gust during landing.                                                                                                                                                                                                                                                                                                                                                                                                                                                                                                                                               1\n",
              "Name: count, Length: 9152, dtype: int64"
            ],
            "text/html": [
              "<div>\n",
              "<style scoped>\n",
              "    .dataframe tbody tr th:only-of-type {\n",
              "        vertical-align: middle;\n",
              "    }\n",
              "\n",
              "    .dataframe tbody tr th {\n",
              "        vertical-align: top;\n",
              "    }\n",
              "\n",
              "    .dataframe thead th {\n",
              "        text-align: right;\n",
              "    }\n",
              "</style>\n",
              "<table border=\"1\" class=\"dataframe\">\n",
              "  <thead>\n",
              "    <tr style=\"text-align: right;\">\n",
              "      <th></th>\n",
              "      <th>count</th>\n",
              "    </tr>\n",
              "    <tr>\n",
              "      <th>Report_Status</th>\n",
              "      <th></th>\n",
              "    </tr>\n",
              "  </thead>\n",
              "  <tbody>\n",
              "    <tr>\n",
              "      <th>Unknown</th>\n",
              "      <td>2599</td>\n",
              "    </tr>\n",
              "    <tr>\n",
              "      <th>A loss of engine power for undetermined reasons.</th>\n",
              "      <td>52</td>\n",
              "    </tr>\n",
              "    <tr>\n",
              "      <th>A total loss of engine power for undetermined reasons.</th>\n",
              "      <td>39</td>\n",
              "    </tr>\n",
              "    <tr>\n",
              "      <th>The loss of engine power for undetermined reasons.</th>\n",
              "      <td>29</td>\n",
              "    </tr>\n",
              "    <tr>\n",
              "      <th>The pilot's failure to maintain directional control during the landing roll.\\r\\n\\r</th>\n",
              "      <td>21</td>\n",
              "    </tr>\n",
              "    <tr>\n",
              "      <th>...</th>\n",
              "      <td>...</td>\n",
              "    </tr>\n",
              "    <tr>\n",
              "      <th>The failure of the hopper gate mechanism and subsequent sulfur fire during a low-level maneuver.</th>\n",
              "      <td>1</td>\n",
              "    </tr>\n",
              "    <tr>\n",
              "      <th>The undercharged and overcharged landing gear dampers, which allowed initiation of the ground resonance event from which the pilot was unable to recover due to his limited experience in helicopters. Contributing to the accident was the ineffective damper inspection conducted by the operators maintenance personnel and the improper overhaul procedure by the overhaul facility that resulted in overcharged dampers being provided to the operator. Also contributing was the lack of any final acceptance testing criteria for the dampers in the manufacturers overhaul procedure manual.</th>\n",
              "      <td>1</td>\n",
              "    </tr>\n",
              "    <tr>\n",
              "      <th>The student pilot's loss of directional control during the landing roll. Contributing to the accident was the student pilot's diverted attention to retract the flaps.</th>\n",
              "      <td>1</td>\n",
              "    </tr>\n",
              "    <tr>\n",
              "      <th>A partial loss of engine power for undetermined reasons during takeoff.</th>\n",
              "      <td>1</td>\n",
              "    </tr>\n",
              "    <tr>\n",
              "      <th>The pilot's loss of control due to a wind gust during landing.</th>\n",
              "      <td>1</td>\n",
              "    </tr>\n",
              "  </tbody>\n",
              "</table>\n",
              "<p>9152 rows × 1 columns</p>\n",
              "</div><br><label><b>dtype:</b> int64</label>"
            ]
          },
          "metadata": {},
          "execution_count": 22
        }
      ]
    },
    {
      "cell_type": "code",
      "source": [
        "# replace 'pilots' with \"pilot's\" in Report_Status column\n",
        "df['Report_Status'] = df['Report_Status'].str.replace('pilots', 'pilot\\'s')"
      ],
      "metadata": {
        "id": "amboBdHgZEod"
      },
      "execution_count": 18,
      "outputs": []
    },
    {
      "cell_type": "code",
      "source": [
        "df[df['Reason'] != 'pilot error']['Report_Status'].value_counts()"
      ],
      "metadata": {
        "colab": {
          "base_uri": "https://localhost:8080/",
          "height": 629
        },
        "id": "NXC-GH3kZ_nh",
        "outputId": "c8e2ab30-7f62-4a65-e077-120c1bcb13bd"
      },
      "execution_count": 19,
      "outputs": [
        {
          "output_type": "execute_result",
          "data": {
            "text/plain": [
              "Report_Status\n",
              "Probable Cause                                                                                                                                                                                                                                                                                                                                                                                                                                                                                                                                                                                            60314\n",
              "Unknown                                                                                                                                                                                                                                                                                                                                                                                                                                                                                                                                                                                                    2599\n",
              "Factual                                                                                                                                                                                                                                                                                                                                                                                                                                                                                                                                                                                                     140\n",
              "A loss of engine power for undetermined reasons.                                                                                                                                                                                                                                                                                                                                                                                                                                                                                                                                                             52\n",
              "A total loss of engine power for undetermined reasons.                                                                                                                                                                                                                                                                                                                                                                                                                                                                                                                                                       39\n",
              "                                                                                                                                                                                                                                                                                                                                                                                                                                                                                                                                                                                                          ...  \n",
              "The failure of the hopper gate mechanism and subsequent sulfur fire during a low-level maneuver.                                                                                                                                                                                                                                                                                                                                                                                                                                                                                                              1\n",
              "The undercharged and overcharged landing gear dampers, which allowed initiation of the ground resonance event from which the pilot was unable to recover due to his limited experience in helicopters. Contributing to the accident was the ineffective damper inspection conducted by the operators maintenance personnel and the improper overhaul procedure by the overhaul facility that resulted in overcharged dampers being provided to the operator. Also contributing was the lack of any final acceptance testing criteria for the dampers in the manufacturers overhaul procedure manual.        1\n",
              "The student pilot's loss of directional control during the landing roll. Contributing to the accident was the student pilot's diverted attention to retract the flaps.                                                                                                                                                                                                                                                                                                                                                                                                                                        1\n",
              "A partial loss of engine power for undetermined reasons during takeoff.                                                                                                                                                                                                                                                                                                                                                                                                                                                                                                                                       1\n",
              "The pilot's loss of control due to a wind gust during landing.                                                                                                                                                                                                                                                                                                                                                                                                                                                                                                                                                1\n",
              "Name: count, Length: 9154, dtype: int64"
            ],
            "text/html": [
              "<div>\n",
              "<style scoped>\n",
              "    .dataframe tbody tr th:only-of-type {\n",
              "        vertical-align: middle;\n",
              "    }\n",
              "\n",
              "    .dataframe tbody tr th {\n",
              "        vertical-align: top;\n",
              "    }\n",
              "\n",
              "    .dataframe thead th {\n",
              "        text-align: right;\n",
              "    }\n",
              "</style>\n",
              "<table border=\"1\" class=\"dataframe\">\n",
              "  <thead>\n",
              "    <tr style=\"text-align: right;\">\n",
              "      <th></th>\n",
              "      <th>count</th>\n",
              "    </tr>\n",
              "    <tr>\n",
              "      <th>Report_Status</th>\n",
              "      <th></th>\n",
              "    </tr>\n",
              "  </thead>\n",
              "  <tbody>\n",
              "    <tr>\n",
              "      <th>Probable Cause</th>\n",
              "      <td>60314</td>\n",
              "    </tr>\n",
              "    <tr>\n",
              "      <th>Unknown</th>\n",
              "      <td>2599</td>\n",
              "    </tr>\n",
              "    <tr>\n",
              "      <th>Factual</th>\n",
              "      <td>140</td>\n",
              "    </tr>\n",
              "    <tr>\n",
              "      <th>A loss of engine power for undetermined reasons.</th>\n",
              "      <td>52</td>\n",
              "    </tr>\n",
              "    <tr>\n",
              "      <th>A total loss of engine power for undetermined reasons.</th>\n",
              "      <td>39</td>\n",
              "    </tr>\n",
              "    <tr>\n",
              "      <th>...</th>\n",
              "      <td>...</td>\n",
              "    </tr>\n",
              "    <tr>\n",
              "      <th>The failure of the hopper gate mechanism and subsequent sulfur fire during a low-level maneuver.</th>\n",
              "      <td>1</td>\n",
              "    </tr>\n",
              "    <tr>\n",
              "      <th>The undercharged and overcharged landing gear dampers, which allowed initiation of the ground resonance event from which the pilot was unable to recover due to his limited experience in helicopters. Contributing to the accident was the ineffective damper inspection conducted by the operators maintenance personnel and the improper overhaul procedure by the overhaul facility that resulted in overcharged dampers being provided to the operator. Also contributing was the lack of any final acceptance testing criteria for the dampers in the manufacturers overhaul procedure manual.</th>\n",
              "      <td>1</td>\n",
              "    </tr>\n",
              "    <tr>\n",
              "      <th>The student pilot's loss of directional control during the landing roll. Contributing to the accident was the student pilot's diverted attention to retract the flaps.</th>\n",
              "      <td>1</td>\n",
              "    </tr>\n",
              "    <tr>\n",
              "      <th>A partial loss of engine power for undetermined reasons during takeoff.</th>\n",
              "      <td>1</td>\n",
              "    </tr>\n",
              "    <tr>\n",
              "      <th>The pilot's loss of control due to a wind gust during landing.</th>\n",
              "      <td>1</td>\n",
              "    </tr>\n",
              "  </tbody>\n",
              "</table>\n",
              "<p>9154 rows × 1 columns</p>\n",
              "</div><br><label><b>dtype:</b> int64</label>"
            ]
          },
          "metadata": {},
          "execution_count": 19
        }
      ]
    },
    {
      "cell_type": "code",
      "source": [
        "# If Report_Status contains \"pilot's\", fill in Reason as 'pilot error'\n",
        "df.loc[df['Report_Status'].str.contains('pilot\\'s'), 'Reason'] = 'pilot error'"
      ],
      "metadata": {
        "id": "ThSdpPnMaE51"
      },
      "execution_count": 23,
      "outputs": []
    },
    {
      "cell_type": "code",
      "source": [
        "df[df['Reason'] != 'pilot error']['Report_Status'].value_counts()"
      ],
      "metadata": {
        "colab": {
          "base_uri": "https://localhost:8080/",
          "height": 542
        },
        "id": "nqou1sQJbbA1",
        "outputId": "85d43d92-5929-414b-c657-2c2331024018"
      },
      "execution_count": 24,
      "outputs": [
        {
          "output_type": "execute_result",
          "data": {
            "text/plain": [
              "Report_Status\n",
              "Probable Cause                                                                                                                                                                                                                 60314\n",
              "Unknown                                                                                                                                                                                                                         2599\n",
              "Factual                                                                                                                                                                                                                          140\n",
              "A loss of engine power for undetermined reasons.                                                                                                                                                                                  52\n",
              "A total loss of engine power for undetermined reasons.                                                                                                                                                                            39\n",
              "                                                                                                                                                                                                                               ...  \n",
              "The noncertificated pilot did not maintain adequate airspeed and aircraft control during initial climb.                                                                                                                            1\n",
              "The flight instructor's improper decision to attempt a visual descent into instrument meteorological conditions while approaching the destination airport, which resulted in an in-flight collision with trees and terrain.        1\n",
              "Operation of the airplane by a non-certificated pilot and his failure to maintain airplane control.                                                                                                                                1\n",
              "The passenger's accidental fall while turning the propeller by hand to start the engine.                                                                                                                                           1\n",
              "The pilot did not ensure adequate clearance from construction vehicles during taxi.                                                                                                                                                1\n",
              "Name: count, Length: 5518, dtype: int64"
            ],
            "text/html": [
              "<div>\n",
              "<style scoped>\n",
              "    .dataframe tbody tr th:only-of-type {\n",
              "        vertical-align: middle;\n",
              "    }\n",
              "\n",
              "    .dataframe tbody tr th {\n",
              "        vertical-align: top;\n",
              "    }\n",
              "\n",
              "    .dataframe thead th {\n",
              "        text-align: right;\n",
              "    }\n",
              "</style>\n",
              "<table border=\"1\" class=\"dataframe\">\n",
              "  <thead>\n",
              "    <tr style=\"text-align: right;\">\n",
              "      <th></th>\n",
              "      <th>count</th>\n",
              "    </tr>\n",
              "    <tr>\n",
              "      <th>Report_Status</th>\n",
              "      <th></th>\n",
              "    </tr>\n",
              "  </thead>\n",
              "  <tbody>\n",
              "    <tr>\n",
              "      <th>Probable Cause</th>\n",
              "      <td>60314</td>\n",
              "    </tr>\n",
              "    <tr>\n",
              "      <th>Unknown</th>\n",
              "      <td>2599</td>\n",
              "    </tr>\n",
              "    <tr>\n",
              "      <th>Factual</th>\n",
              "      <td>140</td>\n",
              "    </tr>\n",
              "    <tr>\n",
              "      <th>A loss of engine power for undetermined reasons.</th>\n",
              "      <td>52</td>\n",
              "    </tr>\n",
              "    <tr>\n",
              "      <th>A total loss of engine power for undetermined reasons.</th>\n",
              "      <td>39</td>\n",
              "    </tr>\n",
              "    <tr>\n",
              "      <th>...</th>\n",
              "      <td>...</td>\n",
              "    </tr>\n",
              "    <tr>\n",
              "      <th>The noncertificated pilot did not maintain adequate airspeed and aircraft control during initial climb.</th>\n",
              "      <td>1</td>\n",
              "    </tr>\n",
              "    <tr>\n",
              "      <th>The flight instructor's improper decision to attempt a visual descent into instrument meteorological conditions while approaching the destination airport, which resulted in an in-flight collision with trees and terrain.</th>\n",
              "      <td>1</td>\n",
              "    </tr>\n",
              "    <tr>\n",
              "      <th>Operation of the airplane by a non-certificated pilot and his failure to maintain airplane control.</th>\n",
              "      <td>1</td>\n",
              "    </tr>\n",
              "    <tr>\n",
              "      <th>The passenger's accidental fall while turning the propeller by hand to start the engine.</th>\n",
              "      <td>1</td>\n",
              "    </tr>\n",
              "    <tr>\n",
              "      <th>The pilot did not ensure adequate clearance from construction vehicles during taxi.</th>\n",
              "      <td>1</td>\n",
              "    </tr>\n",
              "  </tbody>\n",
              "</table>\n",
              "<p>5518 rows × 1 columns</p>\n",
              "</div><br><label><b>dtype:</b> int64</label>"
            ]
          },
          "metadata": {},
          "execution_count": 24
        }
      ]
    },
    {
      "cell_type": "code",
      "source": [],
      "metadata": {
        "id": "vp6aPFBXbfqg"
      },
      "execution_count": null,
      "outputs": []
    }
  ]
}