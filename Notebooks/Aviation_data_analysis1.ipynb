{
 "cells": [
  {
   "cell_type": "code",
   "execution_count": 123,
   "id": "d038e36e-e49c-4078-b72c-76038f786ecc",
   "metadata": {},
   "outputs": [
    {
     "name": "stdout",
     "output_type": "stream",
     "text": [
      "<class 'pandas.core.frame.DataFrame'>\n",
      "RangeIndex: 87951 entries, 0 to 87950\n",
      "Data columns (total 24 columns):\n",
      " #   Column                  Non-Null Count  Dtype  \n",
      "---  ------                  --------------  -----  \n",
      " 0   Event_Id                87951 non-null  object \n",
      " 1   Investigation_Type      87951 non-null  object \n",
      " 2   Accident_Number         87951 non-null  object \n",
      " 3   Event_Date              87951 non-null  object \n",
      " 4   Location                87951 non-null  object \n",
      " 5   Country                 87951 non-null  object \n",
      " 6   Injury_Severity         87951 non-null  object \n",
      " 7   Aircraft_damage         87951 non-null  object \n",
      " 8   Aircraft_Category       87951 non-null  object \n",
      " 9   Registration_Number     87951 non-null  object \n",
      " 10  Make                    87951 non-null  object \n",
      " 11  Model                   87951 non-null  object \n",
      " 12  Amateur_Built           87951 non-null  object \n",
      " 13  Number_of_Engines       87951 non-null  object \n",
      " 14  Engine_Type             87951 non-null  object \n",
      " 15  Purpose_of_flight       87951 non-null  object \n",
      " 16  Total_Fatal_Injuries    87951 non-null  float64\n",
      " 17  Total_Serious_Injuries  87951 non-null  float64\n",
      " 18  Total_Minor_Injuries    87951 non-null  float64\n",
      " 19  Total_Uninjured         87951 non-null  float64\n",
      " 20  Weather_Condition       87951 non-null  object \n",
      " 21  Broad_phase_of_flight   87951 non-null  object \n",
      " 22  Report_Status           87951 non-null  object \n",
      " 23  Publication_Date        87951 non-null  object \n",
      "dtypes: float64(4), object(20)\n",
      "memory usage: 16.1+ MB\n"
     ]
    }
   ],
   "source": [
    "import pandas as pd\n",
    "import numpy as np\n",
    "import matplotlib.pyplot as plt\n",
    "import seaborn as sns\n",
    "\n",
    "df = pd.read_csv('working-df/cleaned_aviation_data_complete.csv', encoding='latin-1')\n",
    "\n",
    "df.info()"
   ]
  },
  {
   "cell_type": "code",
   "execution_count": 124,
   "id": "46568124-d00e-467b-b0b9-3a393124b5d8",
   "metadata": {},
   "outputs": [
    {
     "data": {
      "text/html": [
       "<div>\n",
       "<style scoped>\n",
       "    .dataframe tbody tr th:only-of-type {\n",
       "        vertical-align: middle;\n",
       "    }\n",
       "\n",
       "    .dataframe tbody tr th {\n",
       "        vertical-align: top;\n",
       "    }\n",
       "\n",
       "    .dataframe thead th {\n",
       "        text-align: right;\n",
       "    }\n",
       "</style>\n",
       "<table border=\"1\" class=\"dataframe\">\n",
       "  <thead>\n",
       "    <tr style=\"text-align: right;\">\n",
       "      <th></th>\n",
       "      <th>Total_Fatal_Injuries</th>\n",
       "      <th>Total_Serious_Injuries</th>\n",
       "      <th>Total_Minor_Injuries</th>\n",
       "      <th>Total_Uninjured</th>\n",
       "    </tr>\n",
       "  </thead>\n",
       "  <tbody>\n",
       "    <tr>\n",
       "      <th>count</th>\n",
       "      <td>72650.000000</td>\n",
       "      <td>72650.000000</td>\n",
       "      <td>72650.000000</td>\n",
       "      <td>72650.000000</td>\n",
       "    </tr>\n",
       "    <tr>\n",
       "      <th>mean</th>\n",
       "      <td>0.569525</td>\n",
       "      <td>0.230764</td>\n",
       "      <td>0.301734</td>\n",
       "      <td>5.272939</td>\n",
       "    </tr>\n",
       "    <tr>\n",
       "      <th>std</th>\n",
       "      <td>5.051352</td>\n",
       "      <td>1.535354</td>\n",
       "      <td>2.241029</td>\n",
       "      <td>27.465560</td>\n",
       "    </tr>\n",
       "    <tr>\n",
       "      <th>min</th>\n",
       "      <td>0.000000</td>\n",
       "      <td>0.000000</td>\n",
       "      <td>0.000000</td>\n",
       "      <td>0.000000</td>\n",
       "    </tr>\n",
       "    <tr>\n",
       "      <th>25%</th>\n",
       "      <td>0.000000</td>\n",
       "      <td>0.000000</td>\n",
       "      <td>0.000000</td>\n",
       "      <td>0.000000</td>\n",
       "    </tr>\n",
       "    <tr>\n",
       "      <th>50%</th>\n",
       "      <td>0.000000</td>\n",
       "      <td>0.000000</td>\n",
       "      <td>0.000000</td>\n",
       "      <td>1.000000</td>\n",
       "    </tr>\n",
       "    <tr>\n",
       "      <th>75%</th>\n",
       "      <td>0.000000</td>\n",
       "      <td>0.000000</td>\n",
       "      <td>0.000000</td>\n",
       "      <td>2.000000</td>\n",
       "    </tr>\n",
       "    <tr>\n",
       "      <th>max</th>\n",
       "      <td>295.000000</td>\n",
       "      <td>161.000000</td>\n",
       "      <td>380.000000</td>\n",
       "      <td>699.000000</td>\n",
       "    </tr>\n",
       "  </tbody>\n",
       "</table>\n",
       "</div>"
      ],
      "text/plain": [
       "       Total_Fatal_Injuries  Total_Serious_Injuries  Total_Minor_Injuries  \\\n",
       "count          72650.000000            72650.000000          72650.000000   \n",
       "mean               0.569525                0.230764              0.301734   \n",
       "std                5.051352                1.535354              2.241029   \n",
       "min                0.000000                0.000000              0.000000   \n",
       "25%                0.000000                0.000000              0.000000   \n",
       "50%                0.000000                0.000000              0.000000   \n",
       "75%                0.000000                0.000000              0.000000   \n",
       "max              295.000000              161.000000            380.000000   \n",
       "\n",
       "       Total_Uninjured  \n",
       "count     72650.000000  \n",
       "mean          5.272939  \n",
       "std          27.465560  \n",
       "min           0.000000  \n",
       "25%           0.000000  \n",
       "50%           1.000000  \n",
       "75%           2.000000  \n",
       "max         699.000000  "
      ]
     },
     "execution_count": 124,
     "metadata": {},
     "output_type": "execute_result"
    }
   ],
   "source": [
    "# in Aircraft_Category for Airplane, what are Total_Fatal_Injuries, and average\n",
    "df[df['Aircraft_Category'] == 'Airplane'].describe()"
   ]
  },
  {
   "cell_type": "code",
   "execution_count": 125,
   "id": "18046047-ab83-415e-9a85-f3455e56aa97",
   "metadata": {},
   "outputs": [
    {
     "data": {
      "text/html": [
       "<div>\n",
       "<style scoped>\n",
       "    .dataframe tbody tr th:only-of-type {\n",
       "        vertical-align: middle;\n",
       "    }\n",
       "\n",
       "    .dataframe tbody tr th {\n",
       "        vertical-align: top;\n",
       "    }\n",
       "\n",
       "    .dataframe thead th {\n",
       "        text-align: right;\n",
       "    }\n",
       "</style>\n",
       "<table border=\"1\" class=\"dataframe\">\n",
       "  <thead>\n",
       "    <tr style=\"text-align: right;\">\n",
       "      <th></th>\n",
       "      <th>Event_Id</th>\n",
       "      <th>Investigation_Type</th>\n",
       "      <th>Accident_Number</th>\n",
       "      <th>Event_Date</th>\n",
       "      <th>Location</th>\n",
       "      <th>Country</th>\n",
       "      <th>Injury_Severity</th>\n",
       "      <th>Aircraft_damage</th>\n",
       "      <th>Aircraft_Category</th>\n",
       "      <th>Registration_Number</th>\n",
       "      <th>...</th>\n",
       "      <th>Engine_Type</th>\n",
       "      <th>Purpose_of_flight</th>\n",
       "      <th>Total_Fatal_Injuries</th>\n",
       "      <th>Total_Serious_Injuries</th>\n",
       "      <th>Total_Minor_Injuries</th>\n",
       "      <th>Total_Uninjured</th>\n",
       "      <th>Weather_Condition</th>\n",
       "      <th>Broad_phase_of_flight</th>\n",
       "      <th>Report_Status</th>\n",
       "      <th>Publication_Date</th>\n",
       "    </tr>\n",
       "  </thead>\n",
       "  <tbody>\n",
       "    <tr>\n",
       "      <th>40281</th>\n",
       "      <td>20020124X00116</td>\n",
       "      <td>Accident</td>\n",
       "      <td>DCA97WA007B</td>\n",
       "      <td>1996-11-12</td>\n",
       "      <td>New Delhi, India</td>\n",
       "      <td>India</td>\n",
       "      <td>Fatal</td>\n",
       "      <td>Unknown</td>\n",
       "      <td>Unknown</td>\n",
       "      <td>Unknown</td>\n",
       "      <td>...</td>\n",
       "      <td>Unknown</td>\n",
       "      <td>Unknown</td>\n",
       "      <td>349.0</td>\n",
       "      <td>0.0</td>\n",
       "      <td>0.0</td>\n",
       "      <td>0.0</td>\n",
       "      <td>Unknown</td>\n",
       "      <td>Unknown</td>\n",
       "      <td>Foreign</td>\n",
       "      <td>24-01-2002</td>\n",
       "    </tr>\n",
       "    <tr>\n",
       "      <th>52174</th>\n",
       "      <td>20020801X01281</td>\n",
       "      <td>Accident</td>\n",
       "      <td>DCA02RA047B</td>\n",
       "      <td>2002-07-01</td>\n",
       "      <td>Uberlingen, Germany</td>\n",
       "      <td>Germany</td>\n",
       "      <td>Fatal</td>\n",
       "      <td>Destroyed</td>\n",
       "      <td>Unknown</td>\n",
       "      <td>Unknown</td>\n",
       "      <td>...</td>\n",
       "      <td>Unknown</td>\n",
       "      <td>Unknown</td>\n",
       "      <td>71.0</td>\n",
       "      <td>0.0</td>\n",
       "      <td>0.0</td>\n",
       "      <td>0.0</td>\n",
       "      <td>Unknown</td>\n",
       "      <td>Unknown</td>\n",
       "      <td>Foreign</td>\n",
       "      <td>01-08-2002</td>\n",
       "    </tr>\n",
       "    <tr>\n",
       "      <th>67070</th>\n",
       "      <td>20100429X00503</td>\n",
       "      <td>Accident</td>\n",
       "      <td>ENG10RA025</td>\n",
       "      <td>2010-04-10</td>\n",
       "      <td>Smolensk, Russia</td>\n",
       "      <td>Russia</td>\n",
       "      <td>Fatal</td>\n",
       "      <td>Destroyed</td>\n",
       "      <td>Airplane</td>\n",
       "      <td>101</td>\n",
       "      <td>...</td>\n",
       "      <td>Unknown</td>\n",
       "      <td>Unknown</td>\n",
       "      <td>89.0</td>\n",
       "      <td>0.0</td>\n",
       "      <td>0.0</td>\n",
       "      <td>0.0</td>\n",
       "      <td>IMC</td>\n",
       "      <td>Unknown</td>\n",
       "      <td>Unknown</td>\n",
       "      <td>03-11-2020</td>\n",
       "    </tr>\n",
       "    <tr>\n",
       "      <th>67981</th>\n",
       "      <td>20101004X40949</td>\n",
       "      <td>Accident</td>\n",
       "      <td>ENG10WA057</td>\n",
       "      <td>2010-09-07</td>\n",
       "      <td>Izhma, Russia</td>\n",
       "      <td>Russia</td>\n",
       "      <td>Unknown</td>\n",
       "      <td>Destroyed</td>\n",
       "      <td>Unknown</td>\n",
       "      <td>RA-85684</td>\n",
       "      <td>...</td>\n",
       "      <td>Unknown</td>\n",
       "      <td>Unknown</td>\n",
       "      <td>0.0</td>\n",
       "      <td>0.0</td>\n",
       "      <td>0.0</td>\n",
       "      <td>0.0</td>\n",
       "      <td>Unknown</td>\n",
       "      <td>Unknown</td>\n",
       "      <td>Unknown</td>\n",
       "      <td>03-11-2020</td>\n",
       "    </tr>\n",
       "  </tbody>\n",
       "</table>\n",
       "<p>4 rows × 24 columns</p>\n",
       "</div>"
      ],
      "text/plain": [
       "             Event_Id Investigation_Type Accident_Number  Event_Date  \\\n",
       "40281  20020124X00116           Accident     DCA97WA007B  1996-11-12   \n",
       "52174  20020801X01281           Accident     DCA02RA047B  2002-07-01   \n",
       "67070  20100429X00503           Accident      ENG10RA025  2010-04-10   \n",
       "67981  20101004X40949           Accident      ENG10WA057  2010-09-07   \n",
       "\n",
       "                  Location  Country Injury_Severity Aircraft_damage  \\\n",
       "40281     New Delhi, India    India           Fatal         Unknown   \n",
       "52174  Uberlingen, Germany  Germany           Fatal       Destroyed   \n",
       "67070     Smolensk, Russia   Russia           Fatal       Destroyed   \n",
       "67981        Izhma, Russia   Russia         Unknown       Destroyed   \n",
       "\n",
       "      Aircraft_Category Registration_Number  ... Engine_Type  \\\n",
       "40281           Unknown             Unknown  ...     Unknown   \n",
       "52174           Unknown             Unknown  ...     Unknown   \n",
       "67070          Airplane                 101  ...     Unknown   \n",
       "67981           Unknown            RA-85684  ...     Unknown   \n",
       "\n",
       "      Purpose_of_flight Total_Fatal_Injuries Total_Serious_Injuries  \\\n",
       "40281           Unknown                349.0                    0.0   \n",
       "52174           Unknown                 71.0                    0.0   \n",
       "67070           Unknown                 89.0                    0.0   \n",
       "67981           Unknown                  0.0                    0.0   \n",
       "\n",
       "      Total_Minor_Injuries Total_Uninjured  Weather_Condition  \\\n",
       "40281                  0.0             0.0            Unknown   \n",
       "52174                  0.0             0.0            Unknown   \n",
       "67070                  0.0             0.0                IMC   \n",
       "67981                  0.0             0.0            Unknown   \n",
       "\n",
       "       Broad_phase_of_flight  Report_Status  Publication_Date  \n",
       "40281                Unknown        Foreign        24-01-2002  \n",
       "52174                Unknown        Foreign        01-08-2002  \n",
       "67070                Unknown        Unknown        03-11-2020  \n",
       "67981                Unknown        Unknown        03-11-2020  \n",
       "\n",
       "[4 rows x 24 columns]"
      ]
     },
     "execution_count": 125,
     "metadata": {},
     "output_type": "execute_result"
    }
   ],
   "source": [
    "# Show Aircraft_Category for Make Tupolev\n",
    "df[df['Make'] == 'Tupolev']"
   ]
  },
  {
   "cell_type": "code",
   "execution_count": 126,
   "id": "fdcf3fa1-6512-4ff2-8045-10a331f2a9b8",
   "metadata": {},
   "outputs": [],
   "source": [
    "# For Tupolev make, change Aircraft_Category 'Airplane'\n",
    "df.loc[df['Make'] == 'Tupolev', 'Aircraft_Category'] = 'Airplane'"
   ]
  },
  {
   "cell_type": "code",
   "execution_count": 127,
   "id": "a93dd885-1f27-45e8-8340-eee7ff727fbd",
   "metadata": {},
   "outputs": [
    {
     "data": {
      "text/html": [
       "<div>\n",
       "<style scoped>\n",
       "    .dataframe tbody tr th:only-of-type {\n",
       "        vertical-align: middle;\n",
       "    }\n",
       "\n",
       "    .dataframe tbody tr th {\n",
       "        vertical-align: top;\n",
       "    }\n",
       "\n",
       "    .dataframe thead th {\n",
       "        text-align: right;\n",
       "    }\n",
       "</style>\n",
       "<table border=\"1\" class=\"dataframe\">\n",
       "  <thead>\n",
       "    <tr style=\"text-align: right;\">\n",
       "      <th></th>\n",
       "      <th>Total_Fatal_Injuries</th>\n",
       "      <th>Total_Serious_Injuries</th>\n",
       "      <th>Total_Minor_Injuries</th>\n",
       "      <th>Total_Uninjured</th>\n",
       "    </tr>\n",
       "  </thead>\n",
       "  <tbody>\n",
       "    <tr>\n",
       "      <th>count</th>\n",
       "      <td>72653.000000</td>\n",
       "      <td>72653.000000</td>\n",
       "      <td>72653.000000</td>\n",
       "      <td>72653.000000</td>\n",
       "    </tr>\n",
       "    <tr>\n",
       "      <th>mean</th>\n",
       "      <td>0.575283</td>\n",
       "      <td>0.230754</td>\n",
       "      <td>0.301722</td>\n",
       "      <td>5.272721</td>\n",
       "    </tr>\n",
       "    <tr>\n",
       "      <th>std</th>\n",
       "      <td>5.220573</td>\n",
       "      <td>1.535323</td>\n",
       "      <td>2.240984</td>\n",
       "      <td>27.465014</td>\n",
       "    </tr>\n",
       "    <tr>\n",
       "      <th>min</th>\n",
       "      <td>0.000000</td>\n",
       "      <td>0.000000</td>\n",
       "      <td>0.000000</td>\n",
       "      <td>0.000000</td>\n",
       "    </tr>\n",
       "    <tr>\n",
       "      <th>25%</th>\n",
       "      <td>0.000000</td>\n",
       "      <td>0.000000</td>\n",
       "      <td>0.000000</td>\n",
       "      <td>0.000000</td>\n",
       "    </tr>\n",
       "    <tr>\n",
       "      <th>50%</th>\n",
       "      <td>0.000000</td>\n",
       "      <td>0.000000</td>\n",
       "      <td>0.000000</td>\n",
       "      <td>1.000000</td>\n",
       "    </tr>\n",
       "    <tr>\n",
       "      <th>75%</th>\n",
       "      <td>0.000000</td>\n",
       "      <td>0.000000</td>\n",
       "      <td>0.000000</td>\n",
       "      <td>2.000000</td>\n",
       "    </tr>\n",
       "    <tr>\n",
       "      <th>max</th>\n",
       "      <td>349.000000</td>\n",
       "      <td>161.000000</td>\n",
       "      <td>380.000000</td>\n",
       "      <td>699.000000</td>\n",
       "    </tr>\n",
       "  </tbody>\n",
       "</table>\n",
       "</div>"
      ],
      "text/plain": [
       "       Total_Fatal_Injuries  Total_Serious_Injuries  Total_Minor_Injuries  \\\n",
       "count          72653.000000            72653.000000          72653.000000   \n",
       "mean               0.575283                0.230754              0.301722   \n",
       "std                5.220573                1.535323              2.240984   \n",
       "min                0.000000                0.000000              0.000000   \n",
       "25%                0.000000                0.000000              0.000000   \n",
       "50%                0.000000                0.000000              0.000000   \n",
       "75%                0.000000                0.000000              0.000000   \n",
       "max              349.000000              161.000000            380.000000   \n",
       "\n",
       "       Total_Uninjured  \n",
       "count     72653.000000  \n",
       "mean          5.272721  \n",
       "std          27.465014  \n",
       "min           0.000000  \n",
       "25%           0.000000  \n",
       "50%           1.000000  \n",
       "75%           2.000000  \n",
       "max         699.000000  "
      ]
     },
     "execution_count": 127,
     "metadata": {},
     "output_type": "execute_result"
    }
   ],
   "source": [
    "# in Aircraft_Category for Airplane, describe the injuries columns\n",
    "df[df['Aircraft_Category'] == 'Airplane'].describe()"
   ]
  },
  {
   "cell_type": "code",
   "execution_count": 128,
   "id": "843801b9-3c95-4b16-9253-6bffda812bf6",
   "metadata": {},
   "outputs": [],
   "source": [
    "incidents_airplane = df[df['Aircraft_Category'] == 'Airplane']"
   ]
  },
  {
   "cell_type": "code",
   "execution_count": 129,
   "id": "1cd896eb-1021-4b47-93d1-21b0c19e1c77",
   "metadata": {},
   "outputs": [
    {
     "data": {
      "text/plain": [
       "Aircraft_damage\n",
       "Substantial    52986\n",
       "Destroyed      14749\n",
       "Unknown         2597\n",
       "Minor           2321\n",
       "Name: count, dtype: int64"
      ]
     },
     "execution_count": 129,
     "metadata": {},
     "output_type": "execute_result"
    }
   ],
   "source": [
    "# For airplane incidents, how many were destroyed, had minor damage or substantial damage\n",
    "incidents_airplane['Aircraft_damage'].value_counts()"
   ]
  },
  {
   "cell_type": "code",
   "execution_count": 133,
   "id": "caef48f2-d633-47db-92ab-e1a52f79d3ab",
   "metadata": {},
   "outputs": [
    {
     "data": {
      "text/plain": [
       "463561.0"
      ]
     },
     "execution_count": 133,
     "metadata": {},
     "output_type": "execute_result"
    }
   ],
   "source": [
    "# Sums of different injury categories for airplanes\n",
    "fatalities_airplane = incidents_airplane['Total_Fatal_Injuries'].sum()\n",
    "serious_injury_airplane = incidents_airplane['Total_Serious_Injuries'].sum()\n",
    "minor_injury_airplane = incidents_airplane['Total_Minor_Injuries'].sum()\n",
    "no_injury_airplane = incidents_airplane['Total_Uninjured'].sum()\n",
    "airplane_people_total = fatalities_airplane + serious_injury_airplane + minor_injury_airplane + no_injury_airplane\n",
    "\n",
    "airplane_people_total"
   ]
  },
  {
   "cell_type": "code",
   "execution_count": 88,
   "id": "11ca67a1-371b-4d7a-9b46-7ba508e101e2",
   "metadata": {},
   "outputs": [],
   "source": [
    "substantial_damage_airplane = incidents_airplane[incidents_airplane['Aircraft_damage'] == 'Substantial'].shape[0]\n",
    "minor_damage_airplane = incidents_airplane[incidents_airplane['Aircraft_damage'] == 'Minor'].shape[0]\n",
    "destroyed_airplane = incidents_airplane[incidents_airplane['Aircraft_damage'] == 'Destroyed'].shape[0]"
   ]
  },
  {
   "cell_type": "code",
   "execution_count": 89,
   "id": "5803ad19-8d4f-43ae-9436-1498a8aa2ac4",
   "metadata": {},
   "outputs": [],
   "source": [
    "#fatalities in the damage subsets\n",
    "fatalities_substantial_damage_airplane = incidents_airplane[incidents_airplane['Aircraft_damage'] == 'Substantial']['Total_Fatal_Injuries'].sum()\n",
    "fatalities_minor_damage_airplane = incidents_airplane[incidents_airplane['Aircraft_damage'] == 'Minor']['Total_Fatal_Injuries'].sum()\n",
    "fatalities_destroyed_airplane = incidents_airplane[incidents_airplane['Aircraft_damage'] == 'Destroyed']['Total_Fatal_Injuries'].sum()"
   ]
  },
  {
   "cell_type": "code",
   "execution_count": 90,
   "id": "993aacdb-2367-46d5-b294-f4a6b090316e",
   "metadata": {},
   "outputs": [],
   "source": [
    "# what percentage of incidents_airplane is no_injury_airplane\n",
    "no_injury_airplane_percent = no_injury_airplane / airplane_people_total * 100\n",
    "fatalities_airplane_percent = fatalities_airplane / airplane_people_total * 100\n",
    "serious_injury_airplane_percent = serious_injury_airplane / airplane_people_total * 100\n",
    "minor_injury_airplane_percent = minor_injury_airplane / airplane_people_total * 100"
   ]
  },
  {
   "cell_type": "code",
   "execution_count": 135,
   "id": "168ff032-77fc-40aa-8e20-64e010e6fa37",
   "metadata": {},
   "outputs": [
    {
     "data": {
      "image/png": "[encoded data removed]",
      "text/plain": [
       "<Figure size 600x600 with 1 Axes>"
      ]
     },
     "metadata": {},
     "output_type": "display_data"
    }
   ],
   "source": [
    "# Create pie chart with injury percentages\n",
    "labels = ['No Injuries', 'Fatalities', 'Serious Injuries', 'Minor Injuries']\n",
    "sizes = [no_injury_airplane_percent, fatalities_airplane_percent, serious_injury_airplane_percent, minor_injury_airplane_percent]\n",
    "colors = ['#66b3ff', '#ff9999', '#99ff99', '#ffcc99']\n",
    "sns.set_style(\"whitegrid\")\n",
    "plt.figure(figsize=(6,6))\n",
    "plt.pie(sizes, labels=labels, colors=colors, autopct='%1.1f%%', shadow=False, startangle=45)\n",
    "plt.axis('equal')\n",
    "plt.title('Percentages of injuries, no injuries, and fatalities in Airplane Incidents')\n",
    "plt.show()"
   ]
  },
  {
   "cell_type": "code",
   "execution_count": 141,
   "id": "84b37c5d-8e5e-47d7-8f6b-f58bbbd173b2",
   "metadata": {},
   "outputs": [
    {
     "data": {
      "image/png": "[encoded data removed]",
      "text/plain": [
       "<Figure size 600x600 with 1 Axes>"
      ]
     },
     "metadata": {},
     "output_type": "display_data"
    }
   ],
   "source": [
    "incidents_helicopter = df[df['Aircraft_Category'] == 'Helicopter']\n",
    "# Sums of different injury categories for airplanes\n",
    "fatalities_helicopter = incidents_helicopter['Total_Fatal_Injuries'].sum()\n",
    "serious_injury_helicopter = incidents_helicopter['Total_Serious_Injuries'].sum()\n",
    "minor_injury_helicopter = incidents_helicopter['Total_Minor_Injuries'].sum()\n",
    "no_injury_helicopter = incidents_helicopter['Total_Uninjured'].sum()\n",
    "helicopter_people_total = fatalities_helicopter + serious_injury_helicopter + minor_injury_helicopter + no_injury_helicopter\n",
    "\n",
    "substantial_damage_helicopter = incidents_helicopter[incidents_helicopter['Aircraft_damage'] == 'Substantial'].shape[0]\n",
    "minor_damage_helicopter = incidents_helicopter[incidents_helicopter['Aircraft_damage'] == 'Minor'].shape[0]\n",
    "destroyed_helicopter = incidents_helicopter[incidents_helicopter['Aircraft_damage'] == 'Destroyed'].shape[0]\n",
    "\n",
    "#fatalities in the damage subsets\n",
    "fatalities_substantial_damage_helicopter = incidents_helicopter[incidents_helicopter['Aircraft_damage'] == 'Substantial']['Total_Fatal_Injuries'].sum()\n",
    "fatalities_minor_damage_helicopter = incidents_helicopter[incidents_helicopter['Aircraft_damage'] == 'Minor']['Total_Fatal_Injuries'].sum()\n",
    "fatalities_destroyed_helicopter = incidents_helicopter[incidents_helicopter['Aircraft_damage'] == 'Destroyed']['Total_Fatal_Injuries'].sum()\n",
    "\n",
    "# percentages of incidents_helicopter in the injury column\n",
    "no_injury_helicopter_percent = no_injury_helicopter / helicopter_people_total * 100\n",
    "fatalities_helicopter_percent = fatalities_helicopter / helicopter_people_total * 100\n",
    "serious_injury_helicopter_percent = serious_injury_helicopter / helicopter_people_total * 100\n",
    "minor_injury_helicopter_percent = minor_injury_helicopter / helicopter_people_total * 100\n",
    "\n",
    "# Create pie chart with injury percentages\n",
    "labels = ['No Injuries', 'Fatalities', 'Serious Injuries', 'Minor Injuries']\n",
    "sizes = [no_injury_helicopter_percent, fatalities_helicopter_percent, serious_injury_helicopter_percent, minor_injury_helicopter_percent]\n",
    "colors = ['#66b3ff', '#ff9999', '#99ff99', '#ffcc99']\n",
    "sns.set_style(\"whitegrid\")\n",
    "plt.figure(figsize=(6,6))\n",
    "plt.pie(sizes, labels=labels, colors=colors, autopct='%1.1f%%', shadow=False, startangle=45)\n",
    "plt.axis('equal')\n",
    "plt.title('Percentages of injuries, no injuries, and fatalities in Helicopter Incidents')\n",
    "plt.show()"
   ]
  },
  {
   "cell_type": "code",
   "execution_count": 140,
   "id": "64643d57-0f8a-4eff-8eb4-f4ced62bb10e",
   "metadata": {},
   "outputs": [
    {
     "data": {
      "text/plain": [
       "19012.0"
      ]
     },
     "execution_count": 140,
     "metadata": {},
     "output_type": "execute_result"
    }
   ],
   "source": [
    "helicopter_people_total"
   ]
  },
  {
   "cell_type": "code",
   "execution_count": 107,
   "id": "e9dc1030-fa9e-4963-9381-bed04e2c7b05",
   "metadata": {},
   "outputs": [
    {
     "data": {
      "text/plain": [
       "Report_Status\n",
       "Probable Cause                                                                                                                                                       60867\n",
       "Unknown                                                                                                                                                               6364\n",
       "Foreign                                                                                                                                                               1974\n",
       "<br /><br />                                                                                                                                                           167\n",
       "Factual                                                                                                                                                                145\n",
       "                                                                                                                                                                     ...  \n",
       "The pilot's incapacitation due to a ruptured berry aneurysm during takeoff.                                                                                              1\n",
       "The unauthorized operation of the helicopter by a non-certificated and unqualified individual who failed to maintain helicopter control.                                 1\n",
       "A loss of engine power due to the pilot's failure to utilize carburetor heat while maneuvering.\\r\\n.                                                                     1\n",
       "The pilot's failure to maintain adequate separation behind a corporate jet, which resulted in an encounter with wake turbulence and a subsequent loss of control.        1\n",
       "The pilotÃÂÃÂÃÂÃÂs loss of control due to a wind gust during landing.                                                                                            1\n",
       "Name: count, Length: 17075, dtype: int64"
      ]
     },
     "execution_count": 107,
     "metadata": {},
     "output_type": "execute_result"
    }
   ],
   "source": [
    "df['Report_Status'].value_counts()"
   ]
  },
  {
   "cell_type": "code",
   "execution_count": 106,
   "id": "a9eed416-ecc1-41c5-82a9-8d5a6fb4fc16",
   "metadata": {},
   "outputs": [
    {
     "name": "stdout",
     "output_type": "stream",
     "text": [
      "<class 'pandas.core.series.Series'>\n",
      "Index: 18380 entries, 63001 to 87833\n",
      "Series name: Report_Status\n",
      "Non-Null Count  Dtype \n",
      "--------------  ----- \n",
      "18380 non-null  object\n",
      "dtypes: object(1)\n",
      "memory usage: 287.2+ KB\n"
     ]
    }
   ],
   "source": [
    "# create a subset of rows that is called informative_report that removes probable cause, unknown, foreign, factual, and any other non-useful values\n",
    "\n",
    "informative_report = df[df['Report_Status'] != 'Probable Cause']\n",
    "informative_report = informative_report[informative_report['Report_Status'] != 'Unknown']\n",
    "informative_report = informative_report[informative_report['Report_Status'] != 'Foreign']\n",
    "informative_report = informative_report[informative_report['Report_Status'] != '<br /><br />']\n",
    "informative_report = informative_report[informative_report['Report_Status'] != 'Factual']\n",
    "informative_report = informative_report[informative_report['Report_Status'] != 'None.']\n",
    "informative_report = informative_report[informative_report['Report_Status'] != '.']\n",
    "informative_report = informative_report[informative_report['Report_Status'] != 'Preliminary']\n",
    "informative_report = informative_report[informative_report['Report_Status'] != 'Undetermined.']\n",
    "\n",
    "informative_report['Report_Status'].info()"
   ]
  },
  {
   "cell_type": "code",
   "execution_count": 110,
   "id": "1667babc-6690-4a38-b661-b8c225f1b55b",
   "metadata": {},
   "outputs": [
    {
     "data": {
      "text/plain": [
       "Report_Status\n",
       "The pilot's failure to maintain directional control during the landing roll.                                                                                                                                                                                                                               75\n",
       "The pilot's failure to maintain directional control during landing.                                                                                                                                                                                                                                        60\n",
       "A loss of engine power for undetermined reasons.                                                                                                                                                                                                                                                           52\n",
       "A total loss of engine power for undetermined reasons.                                                                                                                                                                                                                                                     39\n",
       "The loss of engine power for undetermined reasons.                                                                                                                                                                                                                                                         29\n",
       "                                                                                                                                                                                                                                                                                                           ..\n",
       "The pilot's inadvertent encounter with severe weather, which resulted in the airplaneÃÂÃÂÃÂÃÂs left wing failing in positive overload. Contributing to the accident was the pilot's reliance on outdated weather information that he received on his in-cockpit Next-Generation Radar (NEXRAD).     1\n",
       "The pilot's controlled flight into terrain while maneuvering at a low altitude in instrument meteorological conditions. Contributing to the accident was the pilot's decision to perform a circling maneuver in weather below circling minimums instead of flying the missed approach instructions.         1\n",
       "The airplaneÃÂÃÂÃÂÃÂs encounter with unforecasted severe icing conditions that were characterized by high ice accretion rates and the pilot's failure to use his command authority to depart the icing conditions in an expeditious manner, which resulted in a loss of airplane control.           1\n",
       "The pilot's improper decision to continue a visual flight into instrument meteorological conditions, which resulted in a wire strike.                                                                                                                                                                       1\n",
       "The pilot's loss of control due to a wind gust during landing.                                                                                                                                                                                                                                              1\n",
       "Name: count, Length: 16939, dtype: int64"
      ]
     },
     "execution_count": 110,
     "metadata": {},
     "output_type": "execute_result"
    }
   ],
   "source": [
    "# In informative_report, replace \"pilotÃÂÃÂÃÂÃÂs\" with \"pilot's\"\n",
    "informative_report['Report_Status'] = informative_report['Report_Status'].str.replace('pilotÃÂÃÂÃÂÃÂs', \"pilot's\")\n",
    "\n",
    "informative_report['Report_Status'].value_counts()"
   ]
  },
  {
   "cell_type": "code",
   "execution_count": 109,
   "id": "93f0b3ab-c3b1-4ed9-943b-f02fd31faf9a",
   "metadata": {},
   "outputs": [
    {
     "name": "stdout",
     "output_type": "stream",
     "text": [
      "<class 'pandas.core.series.Series'>\n",
      "Index: 12414 entries, 63001 to 87833\n",
      "Series name: Report_Status\n",
      "Non-Null Count  Dtype \n",
      "--------------  ----- \n",
      "12414 non-null  object\n",
      "dtypes: object(1)\n",
      "memory usage: 194.0+ KB\n"
     ]
    }
   ],
   "source": [
    "# create subset of rows named pilot_error that contain the word \"pilot's\" in the Report_Status column\n",
    "pilot_error = informative_report[informative_report['Report_Status'].str.contains(\"pilot's\")]\n",
    "\n",
    "pilot_error['Report_Status'].info()"
   ]
  },
  {
   "cell_type": "code",
   "execution_count": 111,
   "id": "c766faf8-12a1-4374-95b8-a158be81aa97",
   "metadata": {},
   "outputs": [
    {
     "data": {
      "text/plain": [
       "14.114677490875602"
      ]
     },
     "execution_count": 111,
     "metadata": {},
     "output_type": "execute_result"
    }
   ],
   "source": [
    "# What percentage of all the records are pilot_error\n",
    "pilot_error.shape[0] / df.shape[0] * 100"
   ]
  },
  {
   "cell_type": "code",
   "execution_count": 112,
   "id": "fb8e749e-546c-40cd-ac01-04083a899d12",
   "metadata": {},
   "outputs": [
    {
     "name": "stdout",
     "output_type": "stream",
     "text": [
      "<class 'pandas.core.series.Series'>\n",
      "Index: 5966 entries, 63005 to 87727\n",
      "Series name: Report_Status\n",
      "Non-Null Count  Dtype \n",
      "--------------  ----- \n",
      "5966 non-null   object\n",
      "dtypes: object(1)\n",
      "memory usage: 93.2+ KB\n"
     ]
    }
   ],
   "source": [
    "# non_pilot_report is informative_report without the pilot_error results\n",
    "non_pilot_report = informative_report[~informative_report.index.isin(pilot_error.index)]\n",
    "\n",
    "non_pilot_report['Report_Status'].info()"
   ]
  },
  {
   "cell_type": "code",
   "execution_count": 113,
   "id": "25585232-fcce-4a2f-a376-f37c8f099546",
   "metadata": {},
   "outputs": [
    {
     "data": {
      "text/plain": [
       "6.783322531864333"
      ]
     },
     "execution_count": 113,
     "metadata": {},
     "output_type": "execute_result"
    }
   ],
   "source": [
    "# What percentage of all the records are non_pilot_error\n",
    "non_pilot_report.shape[0] / df.shape[0] * 100"
   ]
  },
  {
   "cell_type": "code",
   "execution_count": 114,
   "id": "125afc37-2686-4d0f-93cc-2bfd8d37765a",
   "metadata": {},
   "outputs": [
    {
     "name": "stdout",
     "output_type": "stream",
     "text": [
      "32.45919477693145\n",
      "67.54080522306856\n"
     ]
    }
   ],
   "source": [
    "# What percentage of the informative records are non_pilot_error and pilot_error\n",
    "print(non_pilot_report.shape[0] / informative_report.shape[0] * 100)\n",
    "print(pilot_error.shape[0] / informative_report.shape[0] * 100)"
   ]
  },
  {
   "cell_type": "markdown",
   "id": "1a57c018-4347-4669-b155-b9dc0c5cede4",
   "metadata": {},
   "source": [
    "Report Status\n",
    "This previous section demonstrates that the vast majority of the report status column is not informative, having values such as \"Probable Cause\", \"Foreign\", and \"Unknown\". About 14% of the records (12,414) indicate pilot error as the main cause of the incident. Another 6.8% (5,966) contain a variety of causes for the incident, most of which point to mechanical or equipment issues. \n",
    "\n",
    "So of these 18,380 informative values for Report Status, almost 68% are attributed to pilot error and about 32.5% attributed to various mechanical or equipment failures, many due to undetermined causes and some caused by human error in maintenance of equipment.\n",
    "\n",
    "My takeaway from this section highlights the requirement of an airplane to insure the proper training and continueing oversight and education of its pilots and maintenance staff in order to reduce the frequency of human error in the operation and maintenance of its aviation equipment."
   ]
  },
  {
   "cell_type": "code",
   "execution_count": 142,
   "id": "bbabdd04-0912-4ca0-9d20-8c8a50ae1e05",
   "metadata": {},
   "outputs": [
    {
     "data": {
      "image/png": "[encoded data removed]",
      "text/plain": [
       "<Figure size 1000x600 with 1 Axes>"
      ]
     },
     "metadata": {},
     "output_type": "display_data"
    }
   ],
   "source": [
    "# create bar chart for pilot_error.shape and non_pilot_error.shape\n",
    "plt.figure(figsize=(10, 6))\n",
    "plt.bar(['Pilot Error', 'Non-Pilot Error'], [pilot_error.shape[0], non_pilot_report.shape[0]])\n",
    "plt.title('Pilot Error vs Non-Pilot Error')\n",
    "plt.xlabel('Error Type')\n",
    "plt.ylabel('Number of Incidents')\n",
    "plt.show()"
   ]
  },
  {
   "cell_type": "code",
   "execution_count": 116,
   "id": "e6726be6-ebcd-41da-afd2-896fd7e761c6",
   "metadata": {},
   "outputs": [
    {
     "data": {
      "image/png": "[encoded data removed]",
      "text/plain": [
       "<Figure size 600x600 with 1 Axes>"
      ]
     },
     "metadata": {},
     "output_type": "display_data"
    }
   ],
   "source": [
    "# create a pie chart showing airplane and damage percentage and numbers\n",
    "airplane_damage = incidents_airplane['Aircraft_damage'].value_counts()\n",
    "labels = airplane_damage.index\n",
    "sizes = airplane_damage\n",
    "colors = ['#66b3ff', '#ff9999', '#99ff99', '#ffcc99']\n",
    "explode = (0, 0, 0)\n",
    "sns.set_style(\"whitegrid\")\n",
    "plt.figure(figsize=(6,6))\n",
    "plt.pie(sizes, labels=labels, colors=colors, autopct='%1.1f%%', shadow=False, startangle=45)\n",
    "plt.axis('equal')\n",
    "plt.title('Airplane Damage')\n",
    "plt.show()"
   ]
  },
  {
   "cell_type": "code",
   "execution_count": 117,
   "id": "fe4ba381-0c0f-425a-aafe-66a85410782b",
   "metadata": {},
   "outputs": [
    {
     "data": {
      "image/png": "[encoded data removed]",
      "text/plain": [
       "<Figure size 600x600 with 1 Axes>"
      ]
     },
     "metadata": {},
     "output_type": "display_data"
    }
   ],
   "source": [
    "# create a pie chart showing helicopters and damage percentage and numbers\n",
    "helicopter_damage = incidents_helicopter['Aircraft_damage'].value_counts()\n",
    "labels = helicopter_damage.index\n",
    "sizes = helicopter_damage\n",
    "colors = ['#66b3ff', '#ff9999', '#99ff99', '#ffcc99']\n",
    "explode = (0, 0, 0)\n",
    "sns.set_style(\"whitegrid\")\n",
    "plt.figure(figsize=(6,6))\n",
    "plt.pie(sizes, labels=labels, colors=colors, autopct='%1.1f%%', shadow=False, startangle=45)\n",
    "plt.axis('equal')\n",
    "plt.title('Helicopter Damage')\n",
    "plt.show()"
   ]
  },
  {
   "cell_type": "code",
   "execution_count": 118,
   "id": "e120ab91-2341-4ce2-be37-483ad51f7602",
   "metadata": {},
   "outputs": [
    {
     "data": {
      "text/plain": [
       "Aircraft_damage\n",
       "Substantial    5836\n",
       "Destroyed      1781\n",
       "Unknown         206\n",
       "Minor           141\n",
       "Name: count, dtype: int64"
      ]
     },
     "execution_count": 118,
     "metadata": {},
     "output_type": "execute_result"
    }
   ],
   "source": [
    "helicopter_damage"
   ]
  },
  {
   "cell_type": "code",
   "execution_count": 120,
   "id": "2bb2bd9f-7e4a-4310-b315-604d0b7d7202",
   "metadata": {},
   "outputs": [
    {
     "name": "stdout",
     "output_type": "stream",
     "text": [
      "<class 'pandas.core.frame.DataFrame'>\n",
      "Index: 7964 entries, 16 to 87936\n",
      "Data columns (total 24 columns):\n",
      " #   Column                  Non-Null Count  Dtype  \n",
      "---  ------                  --------------  -----  \n",
      " 0   Event_Id                7964 non-null   object \n",
      " 1   Investigation_Type      7964 non-null   object \n",
      " 2   Accident_Number         7964 non-null   object \n",
      " 3   Event_Date              7964 non-null   object \n",
      " 4   Location                7964 non-null   object \n",
      " 5   Country                 7964 non-null   object \n",
      " 6   Injury_Severity         7964 non-null   object \n",
      " 7   Aircraft_damage         7964 non-null   object \n",
      " 8   Aircraft_Category       7964 non-null   object \n",
      " 9   Registration_Number     7964 non-null   object \n",
      " 10  Make                    7964 non-null   object \n",
      " 11  Model                   7964 non-null   object \n",
      " 12  Amateur_Built           7964 non-null   object \n",
      " 13  Number_of_Engines       7964 non-null   object \n",
      " 14  Engine_Type             7964 non-null   object \n",
      " 15  Purpose_of_flight       7964 non-null   object \n",
      " 16  Total_Fatal_Injuries    7964 non-null   float64\n",
      " 17  Total_Serious_Injuries  7964 non-null   float64\n",
      " 18  Total_Minor_Injuries    7964 non-null   float64\n",
      " 19  Total_Uninjured         7964 non-null   float64\n",
      " 20  Weather_Condition       7964 non-null   object \n",
      " 21  Broad_phase_of_flight   7964 non-null   object \n",
      " 22  Report_Status           7964 non-null   object \n",
      " 23  Publication_Date        7964 non-null   object \n",
      "dtypes: float64(4), object(20)\n",
      "memory usage: 1.5+ MB\n"
     ]
    }
   ],
   "source": [
    "incidents_helicopter.info()"
   ]
  },
  {
   "cell_type": "code",
   "execution_count": 148,
   "id": "2787563e-8fe9-4adc-9fe8-c4fcb281f633",
   "metadata": {},
   "outputs": [
    {
     "data": {
      "text/plain": [
       "Model\n",
       "152           2313\n",
       "172           1743\n",
       "172N          1144\n",
       "PA-28-140      925\n",
       "150            820\n",
       "              ... \n",
       "LL-8-A           1\n",
       "SGS 135          1\n",
       "T-210-N          1\n",
       "VMAX PROBE       1\n",
       "M-8 EAGLE        1\n",
       "Name: count, Length: 12233, dtype: int64"
      ]
     },
     "execution_count": 148,
     "metadata": {},
     "output_type": "execute_result"
    }
   ],
   "source": [
    "df['Model'].value_counts()"
   ]
  },
  {
   "cell_type": "code",
   "execution_count": null,
   "id": "96b6ea6e-802b-46db-bcca-be7e3dfb7323",
   "metadata": {},
   "outputs": [],
   "source": []
  }
 ],
 "metadata": {
  "kernelspec": {
   "display_name": "Python 3 (ipykernel)",
   "language": "python",
   "name": "python3"
  },
  "language_info": {
   "codemirror_mode": {
    "name": "ipython",
    "version": 3
   },
   "file_extension": ".py",
   "mimetype": "text/x-python",
   "name": "python",
   "nbconvert_exporter": "python",
   "pygments_lexer": "ipython3",
   "version": "3.12.4"
  }
 },
 "nbformat": 4,
 "nbformat_minor": 5
}
