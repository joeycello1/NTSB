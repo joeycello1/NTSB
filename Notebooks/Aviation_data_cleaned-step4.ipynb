{
 "cells": [
  {
   "cell_type": "code",
   "execution_count": 1,
   "metadata": {
    "colab": {
     "base_uri": "https://localhost:8080/"
    },
    "id": "-9p7dPQGd44c",
    "outputId": "576339a8-42a7-471e-9328-4354a19abeda"
   },
   "outputs": [
    {
     "name": "stdout",
     "output_type": "stream",
     "text": [
      "<class 'pandas.core.frame.DataFrame'>\n",
      "RangeIndex: 87951 entries, 0 to 87950\n",
      "Data columns (total 27 columns):\n",
      " #   Column                  Non-Null Count  Dtype  \n",
      "---  ------                  --------------  -----  \n",
      " 0   Event_Id                87951 non-null  object \n",
      " 1   Investigation_Type      87951 non-null  object \n",
      " 2   Accident_Number         87951 non-null  object \n",
      " 3   Event_Date              87951 non-null  object \n",
      " 4   Location                87899 non-null  object \n",
      " 5   Country                 87729 non-null  object \n",
      " 6   Airport_Code            49484 non-null  object \n",
      " 7   Airport_Name            52031 non-null  object \n",
      " 8   Injury_Severity         86961 non-null  object \n",
      " 9   Aircraft_damage         84848 non-null  object \n",
      " 10  Aircraft_Category       82614 non-null  object \n",
      " 11  Registration_Number     86601 non-null  object \n",
      " 12  Make                    87888 non-null  object \n",
      " 13  Model                   87859 non-null  object \n",
      " 14  Amateur_Built           87851 non-null  object \n",
      " 15  Number_of_Engines       81924 non-null  float64\n",
      " 16  Engine_Type             80908 non-null  object \n",
      " 17  FAR_Description         31915 non-null  object \n",
      " 18  Purpose_of_flight       81829 non-null  object \n",
      " 19  Total_Fatal_Injuries    76684 non-null  float64\n",
      " 20  Total_Serious_Injuries  75629 non-null  float64\n",
      " 21  Total_Minor_Injuries    76191 non-null  float64\n",
      " 22  Total_Uninjured         82088 non-null  float64\n",
      " 23  Weather_Condition       83478 non-null  object \n",
      " 24  Broad_phase_of_flight   87951 non-null  object \n",
      " 25  Report_Status           81587 non-null  object \n",
      " 26  Publication_Date        74352 non-null  object \n",
      "dtypes: float64(5), object(22)\n",
      "memory usage: 18.1+ MB\n"
     ]
    }
   ],
   "source": [
    "import pandas as pd\n",
    "import numpy as np\n",
    "import matplotlib.pyplot as plt\n",
    "import seaborn as sns\n",
    "\n",
    "df = pd.read_csv('working-df/cleaned_aviation_data_category3.csv', encoding='latin-1')\n",
    "\n",
    "df.info()"
   ]
  },
  {
   "cell_type": "code",
   "execution_count": 2,
   "metadata": {},
   "outputs": [
    {
     "name": "stdout",
     "output_type": "stream",
     "text": [
      "<class 'pandas.core.frame.DataFrame'>\n",
      "RangeIndex: 87951 entries, 0 to 87950\n",
      "Data columns (total 24 columns):\n",
      " #   Column                  Non-Null Count  Dtype  \n",
      "---  ------                  --------------  -----  \n",
      " 0   Event_Id                87951 non-null  object \n",
      " 1   Investigation_Type      87951 non-null  object \n",
      " 2   Accident_Number         87951 non-null  object \n",
      " 3   Event_Date              87951 non-null  object \n",
      " 4   Location                87899 non-null  object \n",
      " 5   Country                 87729 non-null  object \n",
      " 6   Injury_Severity         86961 non-null  object \n",
      " 7   Aircraft_damage         84848 non-null  object \n",
      " 8   Aircraft_Category       82614 non-null  object \n",
      " 9   Registration_Number     86601 non-null  object \n",
      " 10  Make                    87888 non-null  object \n",
      " 11  Model                   87859 non-null  object \n",
      " 12  Amateur_Built           87851 non-null  object \n",
      " 13  Number_of_Engines       81924 non-null  float64\n",
      " 14  Engine_Type             80908 non-null  object \n",
      " 15  Purpose_of_flight       81829 non-null  object \n",
      " 16  Total_Fatal_Injuries    76684 non-null  float64\n",
      " 17  Total_Serious_Injuries  75629 non-null  float64\n",
      " 18  Total_Minor_Injuries    76191 non-null  float64\n",
      " 19  Total_Uninjured         82088 non-null  float64\n",
      " 20  Weather_Condition       83478 non-null  object \n",
      " 21  Broad_phase_of_flight   87951 non-null  object \n",
      " 22  Report_Status           81587 non-null  object \n",
      " 23  Publication_Date        74352 non-null  object \n",
      "dtypes: float64(5), object(19)\n",
      "memory usage: 16.1+ MB\n"
     ]
    }
   ],
   "source": [
    "# Remove Columns labelled Airport_Code, Airport_Name, FAR_Description\n",
    "df = df.drop(['Airport_Code', 'Airport_Name', 'FAR_Description'], axis=1)\n",
    "\n",
    "df.info()"
   ]
  },
  {
   "cell_type": "code",
   "execution_count": 3,
   "metadata": {},
   "outputs": [
    {
     "data": {
      "text/plain": [
       "Total_Fatal_Injuries\n",
       "0.0      59157\n",
       "NaN      11267\n",
       "1.0       8801\n",
       "2.0       5094\n",
       "3.0       1544\n",
       "         ...  \n",
       "83.0         1\n",
       "143.0        1\n",
       "144.0        1\n",
       "60.0         1\n",
       "176.0        1\n",
       "Name: count, Length: 126, dtype: int64"
      ]
     },
     "execution_count": 3,
     "metadata": {},
     "output_type": "execute_result"
    }
   ],
   "source": [
    "# Show Total_Fatal_Injuries value-counts including NaN\n",
    "df['Total_Fatal_Injuries'].value_counts(dropna=False)"
   ]
  },
  {
   "cell_type": "code",
   "execution_count": 4,
   "metadata": {},
   "outputs": [
    {
     "data": {
      "text/plain": [
       "Total_Fatal_Injuries\n",
       "0.0      70424\n",
       "1.0       8801\n",
       "2.0       5094\n",
       "3.0       1544\n",
       "4.0       1064\n",
       "         ...  \n",
       "83.0         1\n",
       "143.0        1\n",
       "144.0        1\n",
       "60.0         1\n",
       "176.0        1\n",
       "Name: count, Length: 125, dtype: int64"
      ]
     },
     "execution_count": 4,
     "metadata": {},
     "output_type": "execute_result"
    }
   ],
   "source": [
    "# Fill in NaN values in Total_Fatal_Injuries with 0\n",
    "df['Total_Fatal_Injuries'] = df['Total_Fatal_Injuries'].fillna(0)\n",
    "\n",
    "df['Total_Fatal_Injuries'].value_counts(dropna=False)"
   ]
  },
  {
   "cell_type": "code",
   "execution_count": 5,
   "metadata": {},
   "outputs": [],
   "source": [
    "# Fill in NaN values in Total Injuries columns with 0\n",
    "df['Total_Serious_Injuries'] = df['Total_Serious_Injuries'].fillna(0)\n",
    "df['Total_Minor_Injuries'] = df['Total_Minor_Injuries'].fillna(0)"
   ]
  },
  {
   "cell_type": "code",
   "execution_count": 6,
   "metadata": {},
   "outputs": [
    {
     "name": "stdout",
     "output_type": "stream",
     "text": [
      "<class 'pandas.core.frame.DataFrame'>\n",
      "RangeIndex: 87951 entries, 0 to 87950\n",
      "Data columns (total 24 columns):\n",
      " #   Column                  Non-Null Count  Dtype  \n",
      "---  ------                  --------------  -----  \n",
      " 0   Event_Id                87951 non-null  object \n",
      " 1   Investigation_Type      87951 non-null  object \n",
      " 2   Accident_Number         87951 non-null  object \n",
      " 3   Event_Date              87951 non-null  object \n",
      " 4   Location                87899 non-null  object \n",
      " 5   Country                 87729 non-null  object \n",
      " 6   Injury_Severity         86961 non-null  object \n",
      " 7   Aircraft_damage         84848 non-null  object \n",
      " 8   Aircraft_Category       82614 non-null  object \n",
      " 9   Registration_Number     86601 non-null  object \n",
      " 10  Make                    87888 non-null  object \n",
      " 11  Model                   87859 non-null  object \n",
      " 12  Amateur_Built           87851 non-null  object \n",
      " 13  Number_of_Engines       81924 non-null  float64\n",
      " 14  Engine_Type             80908 non-null  object \n",
      " 15  Purpose_of_flight       81829 non-null  object \n",
      " 16  Total_Fatal_Injuries    87951 non-null  float64\n",
      " 17  Total_Serious_Injuries  87951 non-null  float64\n",
      " 18  Total_Minor_Injuries    87951 non-null  float64\n",
      " 19  Total_Uninjured         82088 non-null  float64\n",
      " 20  Weather_Condition       83478 non-null  object \n",
      " 21  Broad_phase_of_flight   87951 non-null  object \n",
      " 22  Report_Status           81587 non-null  object \n",
      " 23  Publication_Date        74352 non-null  object \n",
      "dtypes: float64(5), object(19)\n",
      "memory usage: 16.1+ MB\n"
     ]
    }
   ],
   "source": [
    "df.info()"
   ]
  },
  {
   "cell_type": "code",
   "execution_count": 7,
   "metadata": {},
   "outputs": [],
   "source": [
    "df['Total_Uninjured'] = df['Total_Uninjured'].fillna(0)"
   ]
  },
  {
   "cell_type": "code",
   "execution_count": 8,
   "metadata": {},
   "outputs": [
    {
     "name": "stdout",
     "output_type": "stream",
     "text": [
      "<class 'pandas.core.frame.DataFrame'>\n",
      "RangeIndex: 87951 entries, 0 to 87950\n",
      "Data columns (total 24 columns):\n",
      " #   Column                  Non-Null Count  Dtype  \n",
      "---  ------                  --------------  -----  \n",
      " 0   Event_Id                87951 non-null  object \n",
      " 1   Investigation_Type      87951 non-null  object \n",
      " 2   Accident_Number         87951 non-null  object \n",
      " 3   Event_Date              87951 non-null  object \n",
      " 4   Location                87899 non-null  object \n",
      " 5   Country                 87729 non-null  object \n",
      " 6   Injury_Severity         86961 non-null  object \n",
      " 7   Aircraft_damage         84848 non-null  object \n",
      " 8   Aircraft_Category       82614 non-null  object \n",
      " 9   Registration_Number     86601 non-null  object \n",
      " 10  Make                    87888 non-null  object \n",
      " 11  Model                   87859 non-null  object \n",
      " 12  Amateur_Built           87851 non-null  object \n",
      " 13  Number_of_Engines       81924 non-null  float64\n",
      " 14  Engine_Type             80908 non-null  object \n",
      " 15  Purpose_of_flight       81829 non-null  object \n",
      " 16  Total_Fatal_Injuries    87951 non-null  float64\n",
      " 17  Total_Serious_Injuries  87951 non-null  float64\n",
      " 18  Total_Minor_Injuries    87951 non-null  float64\n",
      " 19  Total_Uninjured         87951 non-null  float64\n",
      " 20  Weather_Condition       83478 non-null  object \n",
      " 21  Broad_phase_of_flight   87951 non-null  object \n",
      " 22  Report_Status           81587 non-null  object \n",
      " 23  Publication_Date        74352 non-null  object \n",
      "dtypes: float64(5), object(19)\n",
      "memory usage: 16.1+ MB\n"
     ]
    }
   ],
   "source": [
    "df.info()"
   ]
  },
  {
   "cell_type": "code",
   "execution_count": 9,
   "metadata": {},
   "outputs": [
    {
     "data": {
      "text/plain": [
       "Aircraft_damage\n",
       "Substantial    63641\n",
       "Destroyed      18402\n",
       "NaN             3103\n",
       "Minor           2686\n",
       "Unknown          119\n",
       "Name: count, dtype: int64"
      ]
     },
     "execution_count": 9,
     "metadata": {},
     "output_type": "execute_result"
    }
   ],
   "source": [
    "# Aircraft_damage value_counts\n",
    "df['Aircraft_damage'].value_counts(dropna=False)"
   ]
  },
  {
   "cell_type": "code",
   "execution_count": 10,
   "metadata": {},
   "outputs": [
    {
     "data": {
      "text/plain": [
       "Aircraft_damage\n",
       "Substantial    63641\n",
       "Destroyed      18402\n",
       "Unknown         3222\n",
       "Minor           2686\n",
       "Name: count, dtype: int64"
      ]
     },
     "execution_count": 10,
     "metadata": {},
     "output_type": "execute_result"
    }
   ],
   "source": [
    "# Fill in NaN values in Aircraft_damage with Unknown\n",
    "df['Aircraft_damage'] = df['Aircraft_damage'].fillna('Unknown')\n",
    "\n",
    "df['Aircraft_damage'].value_counts(dropna=False)"
   ]
  },
  {
   "cell_type": "code",
   "execution_count": 11,
   "metadata": {},
   "outputs": [],
   "source": [
    "# Fill in NaN values in Make with Unknown\n",
    "df['Make'] = df['Make'].fillna('Unknown')"
   ]
  },
  {
   "cell_type": "code",
   "execution_count": 12,
   "metadata": {},
   "outputs": [
    {
     "data": {
      "text/plain": [
       "Aircraft_Category\n",
       "Airplane             72650\n",
       "Helicopter            7964\n",
       "NaN                   5337\n",
       "Glider                 962\n",
       "Balloon                491\n",
       "Gyrocraft              218\n",
       "Weight-Shift           185\n",
       "Powered Parachute       98\n",
       "Ultralight              28\n",
       "WSFT                     5\n",
       "Blimp                    4\n",
       "Unknown                  4\n",
       "UNK                      2\n",
       "Powered-Lift             1\n",
       "Rocket                   1\n",
       "ULTR                     1\n",
       "Name: count, dtype: int64"
      ]
     },
     "execution_count": 12,
     "metadata": {},
     "output_type": "execute_result"
    }
   ],
   "source": [
    "df['Aircraft_Category'].value_counts(dropna=False)"
   ]
  },
  {
   "cell_type": "code",
   "execution_count": 13,
   "metadata": {},
   "outputs": [],
   "source": [
    "# Fill in NaN values in Aircraft_Category with Unknown\n",
    "df['Aircraft_Category'] = df['Aircraft_Category'].fillna('Unknown')"
   ]
  },
  {
   "cell_type": "code",
   "execution_count": 14,
   "metadata": {},
   "outputs": [],
   "source": [
    "# Fill UNK with Unknown in Category column\n",
    "df['Aircraft_Category'] = df['Aircraft_Category'].replace('UNK', 'Unknown')"
   ]
  },
  {
   "cell_type": "code",
   "execution_count": 15,
   "metadata": {},
   "outputs": [],
   "source": [
    "# Fill WSFT with Weight-Shift in Category column\n",
    "df['Aircraft_Category'] = df['Aircraft_Category'].replace('WSFT', 'Weight-Shift')"
   ]
  },
  {
   "cell_type": "code",
   "execution_count": 16,
   "metadata": {},
   "outputs": [],
   "source": [
    "# Fill ULTR with Ultralight in Category column\n",
    "df['Aircraft_Category'] = df['Aircraft_Category'].replace('ULTR', 'Ultralight')"
   ]
  },
  {
   "cell_type": "code",
   "execution_count": 17,
   "metadata": {},
   "outputs": [
    {
     "data": {
      "text/plain": [
       "Aircraft_Category\n",
       "Airplane             72650\n",
       "Helicopter            7964\n",
       "Unknown               5343\n",
       "Glider                 962\n",
       "Balloon                491\n",
       "Gyrocraft              218\n",
       "Weight-Shift           190\n",
       "Powered Parachute       98\n",
       "Ultralight              29\n",
       "Blimp                    4\n",
       "Powered-Lift             1\n",
       "Rocket                   1\n",
       "Name: count, dtype: int64"
      ]
     },
     "execution_count": 17,
     "metadata": {},
     "output_type": "execute_result"
    }
   ],
   "source": [
    "df['Aircraft_Category'].value_counts(dropna=False)"
   ]
  },
  {
   "cell_type": "code",
   "execution_count": 18,
   "metadata": {},
   "outputs": [
    {
     "data": {
      "text/plain": [
       "Weather_Condition\n",
       "VMC    76417\n",
       "IMC     5949\n",
       "NaN     4473\n",
       "UNK      850\n",
       "Unk      262\n",
       "Name: count, dtype: int64"
      ]
     },
     "execution_count": 18,
     "metadata": {},
     "output_type": "execute_result"
    }
   ],
   "source": [
    "df['Weather_Condition'].value_counts(dropna=False)"
   ]
  },
  {
   "cell_type": "code",
   "execution_count": 19,
   "metadata": {},
   "outputs": [],
   "source": [
    "# Fill UNK with Unknown in Weather column\n",
    "df['Weather_Condition'] = df['Weather_Condition'].replace('UNK', 'Unknown')"
   ]
  },
  {
   "cell_type": "code",
   "execution_count": 20,
   "metadata": {},
   "outputs": [],
   "source": [
    "# Fill UNK with Unknown in Weather column\n",
    "df['Weather_Condition'] = df['Weather_Condition'].replace('Unk', 'Unknown')"
   ]
  },
  {
   "cell_type": "code",
   "execution_count": 21,
   "metadata": {},
   "outputs": [],
   "source": [
    "# Fill in NaN values in Weather_Condition with Unknown\n",
    "df['Weather_Condition'] = df['Weather_Condition'].fillna('Unknown')"
   ]
  },
  {
   "cell_type": "code",
   "execution_count": 22,
   "metadata": {},
   "outputs": [
    {
     "data": {
      "text/plain": [
       "Weather_Condition\n",
       "VMC        76417\n",
       "IMC         5949\n",
       "Unknown     5585\n",
       "Name: count, dtype: int64"
      ]
     },
     "execution_count": 22,
     "metadata": {},
     "output_type": "execute_result"
    }
   ],
   "source": [
    "df['Weather_Condition'].value_counts(dropna=False)"
   ]
  },
  {
   "cell_type": "code",
   "execution_count": 23,
   "metadata": {},
   "outputs": [
    {
     "data": {
      "text/plain": [
       "Injury_Severity\n",
       "Non-Fatal     66822\n",
       "Fatal(1)       6086\n",
       "Fatal          5257\n",
       "Fatal(2)       3632\n",
       "Incident       2113\n",
       "              ...  \n",
       "Fatal(33)         1\n",
       "Fatal(123)        1\n",
       "Fatal(72)         1\n",
       "Fatal(54)         1\n",
       "Fatal(189)        1\n",
       "Name: count, Length: 110, dtype: int64"
      ]
     },
     "execution_count": 23,
     "metadata": {},
     "output_type": "execute_result"
    }
   ],
   "source": [
    "df['Injury_Severity'].value_counts(dropna=False)"
   ]
  },
  {
   "cell_type": "code",
   "execution_count": 24,
   "metadata": {},
   "outputs": [
    {
     "data": {
      "text/plain": [
       "990"
      ]
     },
     "execution_count": 24,
     "metadata": {},
     "output_type": "execute_result"
    }
   ],
   "source": [
    "# Show NaN count in Injury_Severity column\n",
    "df['Injury_Severity'].isna().sum()"
   ]
  },
  {
   "cell_type": "code",
   "execution_count": 25,
   "metadata": {},
   "outputs": [],
   "source": [
    "# Fill in NaN values in Injury_Severity with Unknown\n",
    "df['Injury_Severity'] = df['Injury_Severity'].fillna('Unknown')"
   ]
  },
  {
   "cell_type": "code",
   "execution_count": 27,
   "metadata": {},
   "outputs": [],
   "source": [
    "# replace values starting with 'Fata' with 'Fatal' since the number of fatalities is already recorded in another column\n",
    "df.loc[df['Injury_Severity'].str.startswith('Fata'), 'Injury_Severity'] = 'Fatal'"
   ]
  },
  {
   "cell_type": "code",
   "execution_count": 28,
   "metadata": {},
   "outputs": [
    {
     "data": {
      "text/plain": [
       "Injury_Severity\n",
       "Non-Fatal      66822\n",
       "Fatal          17540\n",
       "Incident        2113\n",
       "Unknown          990\n",
       "Minor            217\n",
       "Serious          173\n",
       "Unavailable       96\n",
       "Name: count, dtype: int64"
      ]
     },
     "execution_count": 28,
     "metadata": {},
     "output_type": "execute_result"
    }
   ],
   "source": [
    "df['Injury_Severity'].value_counts(dropna=False)"
   ]
  },
  {
   "cell_type": "code",
   "execution_count": 29,
   "metadata": {},
   "outputs": [],
   "source": [
    "# Fill Unavailable with Unknown in Injury_Severity column\n",
    "df['Injury_Severity'] = df['Injury_Severity'].replace('Unavailable', 'Unknown')"
   ]
  },
  {
   "cell_type": "code",
   "execution_count": 30,
   "metadata": {},
   "outputs": [
    {
     "data": {
      "text/plain": [
       "Injury_Severity\n",
       "Non-Fatal    66822\n",
       "Fatal        17540\n",
       "Incident      2113\n",
       "Unknown       1086\n",
       "Minor          217\n",
       "Serious        173\n",
       "Name: count, dtype: int64"
      ]
     },
     "execution_count": 30,
     "metadata": {},
     "output_type": "execute_result"
    }
   ],
   "source": [
    "df['Injury_Severity'].value_counts(dropna=False)"
   ]
  },
  {
   "cell_type": "code",
   "execution_count": 31,
   "metadata": {},
   "outputs": [
    {
     "data": {
      "text/plain": [
       "Amateur_Built\n",
       "No     79431\n",
       "Yes     8420\n",
       "NaN      100\n",
       "Name: count, dtype: int64"
      ]
     },
     "execution_count": 31,
     "metadata": {},
     "output_type": "execute_result"
    }
   ],
   "source": [
    "df['Amateur_Built'].value_counts(dropna=False)"
   ]
  },
  {
   "cell_type": "code",
   "execution_count": 32,
   "metadata": {},
   "outputs": [],
   "source": [
    "# Fill in NaN values in Amateur_Built with Unknown\n",
    "df['Amateur_Built'] = df['Amateur_Built'].fillna('Unknown')"
   ]
  },
  {
   "cell_type": "code",
   "execution_count": 34,
   "metadata": {},
   "outputs": [
    {
     "data": {
      "text/plain": [
       "6364"
      ]
     },
     "execution_count": 34,
     "metadata": {},
     "output_type": "execute_result"
    }
   ],
   "source": [
    "# Show NaN count in Report_Status column\n",
    "df['Report_Status'].isna().sum()"
   ]
  },
  {
   "cell_type": "code",
   "execution_count": 35,
   "metadata": {},
   "outputs": [],
   "source": [
    "# Fill in NaN values in Amateur_Built with Unknown\n",
    "df['Report_Status'] = df['Report_Status'].fillna('Unknown')"
   ]
  },
  {
   "cell_type": "code",
   "execution_count": 36,
   "metadata": {},
   "outputs": [
    {
     "name": "stdout",
     "output_type": "stream",
     "text": [
      "<class 'pandas.core.frame.DataFrame'>\n",
      "RangeIndex: 87951 entries, 0 to 87950\n",
      "Data columns (total 24 columns):\n",
      " #   Column                  Non-Null Count  Dtype  \n",
      "---  ------                  --------------  -----  \n",
      " 0   Event_Id                87951 non-null  object \n",
      " 1   Investigation_Type      87951 non-null  object \n",
      " 2   Accident_Number         87951 non-null  object \n",
      " 3   Event_Date              87951 non-null  object \n",
      " 4   Location                87899 non-null  object \n",
      " 5   Country                 87729 non-null  object \n",
      " 6   Injury_Severity         87951 non-null  object \n",
      " 7   Aircraft_damage         87951 non-null  object \n",
      " 8   Aircraft_Category       87951 non-null  object \n",
      " 9   Registration_Number     86601 non-null  object \n",
      " 10  Make                    87951 non-null  object \n",
      " 11  Model                   87859 non-null  object \n",
      " 12  Amateur_Built           87951 non-null  object \n",
      " 13  Number_of_Engines       81924 non-null  float64\n",
      " 14  Engine_Type             80908 non-null  object \n",
      " 15  Purpose_of_flight       81829 non-null  object \n",
      " 16  Total_Fatal_Injuries    87951 non-null  float64\n",
      " 17  Total_Serious_Injuries  87951 non-null  float64\n",
      " 18  Total_Minor_Injuries    87951 non-null  float64\n",
      " 19  Total_Uninjured         87951 non-null  float64\n",
      " 20  Weather_Condition       87951 non-null  object \n",
      " 21  Broad_phase_of_flight   87951 non-null  object \n",
      " 22  Report_Status           87951 non-null  object \n",
      " 23  Publication_Date        74352 non-null  object \n",
      "dtypes: float64(5), object(19)\n",
      "memory usage: 16.1+ MB\n"
     ]
    }
   ],
   "source": [
    "df.info()"
   ]
  },
  {
   "cell_type": "code",
   "execution_count": 37,
   "metadata": {},
   "outputs": [
    {
     "data": {
      "text/plain": [
       "52"
      ]
     },
     "execution_count": 37,
     "metadata": {},
     "output_type": "execute_result"
    }
   ],
   "source": [
    "# Show NaN count in Report_Status column\n",
    "df['Location'].isna().sum()"
   ]
  },
  {
   "cell_type": "code",
   "execution_count": 38,
   "metadata": {},
   "outputs": [],
   "source": [
    "# Fill in NaN values in Location with Unknown\n",
    "df['Location'] = df['Location'].fillna('Unknown')"
   ]
  },
  {
   "cell_type": "code",
   "execution_count": 39,
   "metadata": {},
   "outputs": [
    {
     "data": {
      "text/plain": [
       "222"
      ]
     },
     "execution_count": 39,
     "metadata": {},
     "output_type": "execute_result"
    }
   ],
   "source": [
    "# Show NaN count in Report_Status column\n",
    "df['Country'].isna().sum()"
   ]
  },
  {
   "cell_type": "code",
   "execution_count": 40,
   "metadata": {},
   "outputs": [],
   "source": [
    "# Fill in NaN values in Country with Unknown\n",
    "df['Country'] = df['Country'].fillna('Unknown')"
   ]
  },
  {
   "cell_type": "code",
   "execution_count": 41,
   "metadata": {},
   "outputs": [],
   "source": [
    "# Fill in NaN values in Registration_Number with Unknown\n",
    "df['Registration_Number'] = df['Registration_Number'].fillna('Unknown')"
   ]
  },
  {
   "cell_type": "code",
   "execution_count": 42,
   "metadata": {},
   "outputs": [],
   "source": [
    "# Fill in NaN values in Model with Unknown\n",
    "df['Model'] = df['Model'].fillna('Unknown')"
   ]
  },
  {
   "cell_type": "code",
   "execution_count": 43,
   "metadata": {},
   "outputs": [],
   "source": [
    "# Fill in NaN values in Number_of_Engines with Unknown\n",
    "df['Number_of_Engines'] = df['Number_of_Engines'].fillna('Unknown')"
   ]
  },
  {
   "cell_type": "code",
   "execution_count": 44,
   "metadata": {},
   "outputs": [
    {
     "data": {
      "text/plain": [
       "Engine_Type\n",
       "Reciprocating      68885\n",
       "NaN                 7043\n",
       "Turbo Shaft         3583\n",
       "Turbo Prop          3324\n",
       "Turbo Fan           2387\n",
       "Unknown             2017\n",
       "Turbo Jet            684\n",
       "Geared Turbofan       12\n",
       "Electric              10\n",
       "LR                     2\n",
       "NONE                   2\n",
       "Hybrid Rocket          1\n",
       "UNK                    1\n",
       "Name: count, dtype: int64"
      ]
     },
     "execution_count": 44,
     "metadata": {},
     "output_type": "execute_result"
    }
   ],
   "source": [
    "df['Engine_Type'].value_counts(dropna=False)"
   ]
  },
  {
   "cell_type": "code",
   "execution_count": 45,
   "metadata": {},
   "outputs": [],
   "source": [
    "# Fill in NaN values in Engine_Type with Unknown\n",
    "df['Engine_Type'] = df['Engine_Type'].fillna('Unknown')"
   ]
  },
  {
   "cell_type": "code",
   "execution_count": 46,
   "metadata": {},
   "outputs": [],
   "source": [
    "# Fill UNK with Unknown in Engine_Type column\n",
    "df['Engine_Type'] = df['Engine_Type'].replace('UNK', 'Unknown')"
   ]
  },
  {
   "cell_type": "code",
   "execution_count": 47,
   "metadata": {},
   "outputs": [
    {
     "data": {
      "text/plain": [
       "Engine_Type\n",
       "Reciprocating      68885\n",
       "Unknown             9061\n",
       "Turbo Shaft         3583\n",
       "Turbo Prop          3324\n",
       "Turbo Fan           2387\n",
       "Turbo Jet            684\n",
       "Geared Turbofan       12\n",
       "Electric              10\n",
       "LR                     2\n",
       "NONE                   2\n",
       "Hybrid Rocket          1\n",
       "Name: count, dtype: int64"
      ]
     },
     "execution_count": 47,
     "metadata": {},
     "output_type": "execute_result"
    }
   ],
   "source": [
    "df['Engine_Type'].value_counts(dropna=False)"
   ]
  },
  {
   "cell_type": "code",
   "execution_count": 48,
   "metadata": {},
   "outputs": [
    {
     "data": {
      "text/plain": [
       "Purpose_of_flight\n",
       "Personal                     49076\n",
       "Instructional                10442\n",
       "Unknown                       6609\n",
       "NaN                           6122\n",
       "Aerial Application            4686\n",
       "Business                      3971\n",
       "Positioning                   1632\n",
       "Other Work Use                1250\n",
       "Ferry                          806\n",
       "Aerial Observation             787\n",
       "Public Aircraft                710\n",
       "Executive/corporate            542\n",
       "Flight Test                    405\n",
       "Skydiving                      181\n",
       "External Load                  123\n",
       "Public Aircraft - Federal      104\n",
       "Banner Tow                     101\n",
       "Air Race show                   99\n",
       "Public Aircraft - Local         74\n",
       "Public Aircraft - State         64\n",
       "Air Race/show                   53\n",
       "Glider Tow                      53\n",
       "Firefighting                    40\n",
       "Air Drop                        11\n",
       "ASHO                             5\n",
       "PUBS                             4\n",
       "PUBL                             1\n",
       "Name: count, dtype: int64"
      ]
     },
     "execution_count": 48,
     "metadata": {},
     "output_type": "execute_result"
    }
   ],
   "source": [
    "df['Purpose_of_flight'].value_counts(dropna=False)"
   ]
  },
  {
   "cell_type": "code",
   "execution_count": 49,
   "metadata": {},
   "outputs": [],
   "source": [
    "# Fill in NaN values in Purpose_of_flight with Unknown\n",
    "df['Purpose_of_flight'] = df['Purpose_of_flight'].fillna('Unknown')"
   ]
  },
  {
   "cell_type": "code",
   "execution_count": 50,
   "metadata": {},
   "outputs": [],
   "source": [
    "# Fill in NaN values in Publication_Date with Unknown\n",
    "df['Publication_Date'] = df['Publication_Date'].fillna('Unknown')"
   ]
  },
  {
   "cell_type": "code",
   "execution_count": 51,
   "metadata": {},
   "outputs": [
    {
     "name": "stdout",
     "output_type": "stream",
     "text": [
      "<class 'pandas.core.frame.DataFrame'>\n",
      "RangeIndex: 87951 entries, 0 to 87950\n",
      "Data columns (total 24 columns):\n",
      " #   Column                  Non-Null Count  Dtype  \n",
      "---  ------                  --------------  -----  \n",
      " 0   Event_Id                87951 non-null  object \n",
      " 1   Investigation_Type      87951 non-null  object \n",
      " 2   Accident_Number         87951 non-null  object \n",
      " 3   Event_Date              87951 non-null  object \n",
      " 4   Location                87951 non-null  object \n",
      " 5   Country                 87951 non-null  object \n",
      " 6   Injury_Severity         87951 non-null  object \n",
      " 7   Aircraft_damage         87951 non-null  object \n",
      " 8   Aircraft_Category       87951 non-null  object \n",
      " 9   Registration_Number     87951 non-null  object \n",
      " 10  Make                    87951 non-null  object \n",
      " 11  Model                   87951 non-null  object \n",
      " 12  Amateur_Built           87951 non-null  object \n",
      " 13  Number_of_Engines       87951 non-null  object \n",
      " 14  Engine_Type             87951 non-null  object \n",
      " 15  Purpose_of_flight       87951 non-null  object \n",
      " 16  Total_Fatal_Injuries    87951 non-null  float64\n",
      " 17  Total_Serious_Injuries  87951 non-null  float64\n",
      " 18  Total_Minor_Injuries    87951 non-null  float64\n",
      " 19  Total_Uninjured         87951 non-null  float64\n",
      " 20  Weather_Condition       87951 non-null  object \n",
      " 21  Broad_phase_of_flight   87951 non-null  object \n",
      " 22  Report_Status           87951 non-null  object \n",
      " 23  Publication_Date        87951 non-null  object \n",
      "dtypes: float64(4), object(20)\n",
      "memory usage: 16.1+ MB\n"
     ]
    }
   ],
   "source": [
    "df.info()"
   ]
  },
  {
   "cell_type": "code",
   "execution_count": 52,
   "metadata": {},
   "outputs": [],
   "source": [
    "# Export df as a separate file\n",
    "df.to_csv('working-df/cleaned_aviation_data_complete.csv', index=False)"
   ]
  },
  {
   "cell_type": "code",
   "execution_count": null,
   "metadata": {},
   "outputs": [],
   "source": []
  }
 ],
 "metadata": {
  "colab": {
   "provenance": []
  },
  "kernelspec": {
   "display_name": "Python 3 (ipykernel)",
   "language": "python",
   "name": "python3"
  },
  "language_info": {
   "codemirror_mode": {
    "name": "ipython",
    "version": 3
   },
   "file_extension": ".py",
   "mimetype": "text/x-python",
   "name": "python",
   "nbconvert_exporter": "python",
   "pygments_lexer": "ipython3",
   "version": "3.12.4"
  }
 },
 "nbformat": 4,
 "nbformat_minor": 4
}
