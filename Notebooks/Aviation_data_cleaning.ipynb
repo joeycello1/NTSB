{
 "cells": [
  {
   "cell_type": "code",
   "execution_count": 51,
   "metadata": {
    "colab": {
     "base_uri": "https://localhost:8080/"
    },
    "id": "-9p7dPQGd44c",
    "outputId": "576339a8-42a7-471e-9328-4354a19abeda"
   },
   "outputs": [
    {
     "name": "stderr",
     "output_type": "stream",
     "text": [
      "C:\\Users\\Joseph Harvey\\AppData\\Local\\Temp\\ipykernel_14668\\1037979182.py:6: DtypeWarning: Columns (6,7,28) have mixed types. Specify dtype option on import or set low_memory=False.\n",
      "  df = pd.read_csv('working-df/AviationData.csv', encoding='latin-1')\n"
     ]
    },
    {
     "name": "stdout",
     "output_type": "stream",
     "text": [
      "<class 'pandas.core.frame.DataFrame'>\n",
      "RangeIndex: 88889 entries, 0 to 88888\n",
      "Data columns (total 31 columns):\n",
      " #   Column                  Non-Null Count  Dtype  \n",
      "---  ------                  --------------  -----  \n",
      " 0   Event.Id                88889 non-null  object \n",
      " 1   Investigation.Type      88889 non-null  object \n",
      " 2   Accident.Number         88889 non-null  object \n",
      " 3   Event.Date              88889 non-null  object \n",
      " 4   Location                88837 non-null  object \n",
      " 5   Country                 88663 non-null  object \n",
      " 6   Latitude                34382 non-null  object \n",
      " 7   Longitude               34373 non-null  object \n",
      " 8   Airport.Code            50132 non-null  object \n",
      " 9   Airport.Name            52704 non-null  object \n",
      " 10  Injury.Severity         87889 non-null  object \n",
      " 11  Aircraft.damage         85695 non-null  object \n",
      " 12  Aircraft.Category       32287 non-null  object \n",
      " 13  Registration.Number     87507 non-null  object \n",
      " 14  Make                    88826 non-null  object \n",
      " 15  Model                   88797 non-null  object \n",
      " 16  Amateur.Built           88787 non-null  object \n",
      " 17  Number.of.Engines       82805 non-null  float64\n",
      " 18  Engine.Type             81793 non-null  object \n",
      " 19  FAR.Description         32023 non-null  object \n",
      " 20  Schedule                12582 non-null  object \n",
      " 21  Purpose.of.flight       82697 non-null  object \n",
      " 22  Air.carrier             16648 non-null  object \n",
      " 23  Total.Fatal.Injuries    77488 non-null  float64\n",
      " 24  Total.Serious.Injuries  76379 non-null  float64\n",
      " 25  Total.Minor.Injuries    76956 non-null  float64\n",
      " 26  Total.Uninjured         82977 non-null  float64\n",
      " 27  Weather.Condition       84397 non-null  object \n",
      " 28  Broad.phase.of.flight   61724 non-null  object \n",
      " 29  Report.Status           82505 non-null  object \n",
      " 30  Publication.Date        75118 non-null  object \n",
      "dtypes: float64(5), object(26)\n",
      "memory usage: 21.0+ MB\n"
     ]
    }
   ],
   "source": [
    "import pandas as pd\n",
    "import numpy as np\n",
    "import matplotlib.pyplot as plt\n",
    "import seaborn as sns\n",
    "\n",
    "df = pd.read_csv('working-df/AviationData.csv', encoding='latin-1')\n",
    "\n",
    "df.info()"
   ]
  },
  {
   "cell_type": "markdown",
   "metadata": {},
   "source": [
    "I notice the warning about mixed datatypes in columns 6, 7, & 28. I will work on cleaning that up later."
   ]
  },
  {
   "cell_type": "code",
   "execution_count": 52,
   "metadata": {
    "colab": {
     "base_uri": "https://localhost:8080/",
     "height": 342
    },
    "id": "j_QWZv90emXJ",
    "outputId": "c36818d5-3991-41bb-ad18-2e708316d46d"
   },
   "outputs": [
    {
     "data": {
      "text/html": [
       "<div>\n",
       "<style scoped>\n",
       "    .dataframe tbody tr th:only-of-type {\n",
       "        vertical-align: middle;\n",
       "    }\n",
       "\n",
       "    .dataframe tbody tr th {\n",
       "        vertical-align: top;\n",
       "    }\n",
       "\n",
       "    .dataframe thead th {\n",
       "        text-align: right;\n",
       "    }\n",
       "</style>\n",
       "<table border=\"1\" class=\"dataframe\">\n",
       "  <thead>\n",
       "    <tr style=\"text-align: right;\">\n",
       "      <th></th>\n",
       "      <th>Event.Id</th>\n",
       "      <th>Investigation.Type</th>\n",
       "      <th>Accident.Number</th>\n",
       "      <th>Event.Date</th>\n",
       "      <th>Location</th>\n",
       "      <th>Country</th>\n",
       "      <th>Latitude</th>\n",
       "      <th>Longitude</th>\n",
       "      <th>Airport.Code</th>\n",
       "      <th>Airport.Name</th>\n",
       "      <th>...</th>\n",
       "      <th>Purpose.of.flight</th>\n",
       "      <th>Air.carrier</th>\n",
       "      <th>Total.Fatal.Injuries</th>\n",
       "      <th>Total.Serious.Injuries</th>\n",
       "      <th>Total.Minor.Injuries</th>\n",
       "      <th>Total.Uninjured</th>\n",
       "      <th>Weather.Condition</th>\n",
       "      <th>Broad.phase.of.flight</th>\n",
       "      <th>Report.Status</th>\n",
       "      <th>Publication.Date</th>\n",
       "    </tr>\n",
       "  </thead>\n",
       "  <tbody>\n",
       "    <tr>\n",
       "      <th>0</th>\n",
       "      <td>20001218X45444</td>\n",
       "      <td>Accident</td>\n",
       "      <td>SEA87LA080</td>\n",
       "      <td>1948-10-24</td>\n",
       "      <td>MOOSE CREEK, ID</td>\n",
       "      <td>United States</td>\n",
       "      <td>NaN</td>\n",
       "      <td>NaN</td>\n",
       "      <td>NaN</td>\n",
       "      <td>NaN</td>\n",
       "      <td>...</td>\n",
       "      <td>Personal</td>\n",
       "      <td>NaN</td>\n",
       "      <td>2.0</td>\n",
       "      <td>0.0</td>\n",
       "      <td>0.0</td>\n",
       "      <td>0.0</td>\n",
       "      <td>UNK</td>\n",
       "      <td>Cruise</td>\n",
       "      <td>Probable Cause</td>\n",
       "      <td>NaN</td>\n",
       "    </tr>\n",
       "    <tr>\n",
       "      <th>1</th>\n",
       "      <td>20001218X45447</td>\n",
       "      <td>Accident</td>\n",
       "      <td>LAX94LA336</td>\n",
       "      <td>1962-07-19</td>\n",
       "      <td>BRIDGEPORT, CA</td>\n",
       "      <td>United States</td>\n",
       "      <td>NaN</td>\n",
       "      <td>NaN</td>\n",
       "      <td>NaN</td>\n",
       "      <td>NaN</td>\n",
       "      <td>...</td>\n",
       "      <td>Personal</td>\n",
       "      <td>NaN</td>\n",
       "      <td>4.0</td>\n",
       "      <td>0.0</td>\n",
       "      <td>0.0</td>\n",
       "      <td>0.0</td>\n",
       "      <td>UNK</td>\n",
       "      <td>Unknown</td>\n",
       "      <td>Probable Cause</td>\n",
       "      <td>19-09-1996</td>\n",
       "    </tr>\n",
       "    <tr>\n",
       "      <th>2</th>\n",
       "      <td>20061025X01555</td>\n",
       "      <td>Accident</td>\n",
       "      <td>NYC07LA005</td>\n",
       "      <td>1974-08-30</td>\n",
       "      <td>Saltville, VA</td>\n",
       "      <td>United States</td>\n",
       "      <td>36.922223</td>\n",
       "      <td>-81.878056</td>\n",
       "      <td>NaN</td>\n",
       "      <td>NaN</td>\n",
       "      <td>...</td>\n",
       "      <td>Personal</td>\n",
       "      <td>NaN</td>\n",
       "      <td>3.0</td>\n",
       "      <td>NaN</td>\n",
       "      <td>NaN</td>\n",
       "      <td>NaN</td>\n",
       "      <td>IMC</td>\n",
       "      <td>Cruise</td>\n",
       "      <td>Probable Cause</td>\n",
       "      <td>26-02-2007</td>\n",
       "    </tr>\n",
       "    <tr>\n",
       "      <th>3</th>\n",
       "      <td>20001218X45448</td>\n",
       "      <td>Accident</td>\n",
       "      <td>LAX96LA321</td>\n",
       "      <td>1977-06-19</td>\n",
       "      <td>EUREKA, CA</td>\n",
       "      <td>United States</td>\n",
       "      <td>NaN</td>\n",
       "      <td>NaN</td>\n",
       "      <td>NaN</td>\n",
       "      <td>NaN</td>\n",
       "      <td>...</td>\n",
       "      <td>Personal</td>\n",
       "      <td>NaN</td>\n",
       "      <td>2.0</td>\n",
       "      <td>0.0</td>\n",
       "      <td>0.0</td>\n",
       "      <td>0.0</td>\n",
       "      <td>IMC</td>\n",
       "      <td>Cruise</td>\n",
       "      <td>Probable Cause</td>\n",
       "      <td>12-09-2000</td>\n",
       "    </tr>\n",
       "    <tr>\n",
       "      <th>4</th>\n",
       "      <td>20041105X01764</td>\n",
       "      <td>Accident</td>\n",
       "      <td>CHI79FA064</td>\n",
       "      <td>1979-08-02</td>\n",
       "      <td>Canton, OH</td>\n",
       "      <td>United States</td>\n",
       "      <td>NaN</td>\n",
       "      <td>NaN</td>\n",
       "      <td>NaN</td>\n",
       "      <td>NaN</td>\n",
       "      <td>...</td>\n",
       "      <td>Personal</td>\n",
       "      <td>NaN</td>\n",
       "      <td>1.0</td>\n",
       "      <td>2.0</td>\n",
       "      <td>NaN</td>\n",
       "      <td>0.0</td>\n",
       "      <td>VMC</td>\n",
       "      <td>Approach</td>\n",
       "      <td>Probable Cause</td>\n",
       "      <td>16-04-1980</td>\n",
       "    </tr>\n",
       "  </tbody>\n",
       "</table>\n",
       "<p>5 rows × 31 columns</p>\n",
       "</div>"
      ],
      "text/plain": [
       "         Event.Id Investigation.Type Accident.Number  Event.Date  \\\n",
       "0  20001218X45444           Accident      SEA87LA080  1948-10-24   \n",
       "1  20001218X45447           Accident      LAX94LA336  1962-07-19   \n",
       "2  20061025X01555           Accident      NYC07LA005  1974-08-30   \n",
       "3  20001218X45448           Accident      LAX96LA321  1977-06-19   \n",
       "4  20041105X01764           Accident      CHI79FA064  1979-08-02   \n",
       "\n",
       "          Location        Country   Latitude  Longitude Airport.Code  \\\n",
       "0  MOOSE CREEK, ID  United States        NaN        NaN          NaN   \n",
       "1   BRIDGEPORT, CA  United States        NaN        NaN          NaN   \n",
       "2    Saltville, VA  United States  36.922223 -81.878056          NaN   \n",
       "3       EUREKA, CA  United States        NaN        NaN          NaN   \n",
       "4       Canton, OH  United States        NaN        NaN          NaN   \n",
       "\n",
       "  Airport.Name  ... Purpose.of.flight Air.carrier Total.Fatal.Injuries  \\\n",
       "0          NaN  ...          Personal         NaN                  2.0   \n",
       "1          NaN  ...          Personal         NaN                  4.0   \n",
       "2          NaN  ...          Personal         NaN                  3.0   \n",
       "3          NaN  ...          Personal         NaN                  2.0   \n",
       "4          NaN  ...          Personal         NaN                  1.0   \n",
       "\n",
       "  Total.Serious.Injuries Total.Minor.Injuries Total.Uninjured  \\\n",
       "0                    0.0                  0.0             0.0   \n",
       "1                    0.0                  0.0             0.0   \n",
       "2                    NaN                  NaN             NaN   \n",
       "3                    0.0                  0.0             0.0   \n",
       "4                    2.0                  NaN             0.0   \n",
       "\n",
       "  Weather.Condition  Broad.phase.of.flight   Report.Status Publication.Date  \n",
       "0               UNK                 Cruise  Probable Cause              NaN  \n",
       "1               UNK                Unknown  Probable Cause       19-09-1996  \n",
       "2               IMC                 Cruise  Probable Cause       26-02-2007  \n",
       "3               IMC                 Cruise  Probable Cause       12-09-2000  \n",
       "4               VMC               Approach  Probable Cause       16-04-1980  \n",
       "\n",
       "[5 rows x 31 columns]"
      ]
     },
     "execution_count": 52,
     "metadata": {},
     "output_type": "execute_result"
    }
   ],
   "source": [
    "df.head()"
   ]
  },
  {
   "cell_type": "markdown",
   "metadata": {
    "id": "mZROb7ZM4Tjq"
   },
   "source": [
    "# Cleaning the Data\n",
    "rename columns to remove dots as they may cause errors in Python (replace dots with dashes or underscores)"
   ]
  },
  {
   "cell_type": "code",
   "execution_count": 53,
   "metadata": {
    "id": "OyV9fv_55BvD"
   },
   "outputs": [],
   "source": [
    "# replace dots in column names with underscores\n",
    "df.columns = df.columns.str.replace('.', '_')"
   ]
  },
  {
   "cell_type": "code",
   "execution_count": 54,
   "metadata": {
    "colab": {
     "base_uri": "https://localhost:8080/",
     "height": 342
    },
    "id": "7o5Xr_iP5I4u",
    "outputId": "09c6db19-cd93-459d-b0f2-fb294f01272a"
   },
   "outputs": [
    {
     "data": {
      "text/html": [
       "<div>\n",
       "<style scoped>\n",
       "    .dataframe tbody tr th:only-of-type {\n",
       "        vertical-align: middle;\n",
       "    }\n",
       "\n",
       "    .dataframe tbody tr th {\n",
       "        vertical-align: top;\n",
       "    }\n",
       "\n",
       "    .dataframe thead th {\n",
       "        text-align: right;\n",
       "    }\n",
       "</style>\n",
       "<table border=\"1\" class=\"dataframe\">\n",
       "  <thead>\n",
       "    <tr style=\"text-align: right;\">\n",
       "      <th></th>\n",
       "      <th>Event_Id</th>\n",
       "      <th>Investigation_Type</th>\n",
       "      <th>Accident_Number</th>\n",
       "      <th>Event_Date</th>\n",
       "      <th>Location</th>\n",
       "      <th>Country</th>\n",
       "      <th>Latitude</th>\n",
       "      <th>Longitude</th>\n",
       "      <th>Airport_Code</th>\n",
       "      <th>Airport_Name</th>\n",
       "      <th>...</th>\n",
       "      <th>Purpose_of_flight</th>\n",
       "      <th>Air_carrier</th>\n",
       "      <th>Total_Fatal_Injuries</th>\n",
       "      <th>Total_Serious_Injuries</th>\n",
       "      <th>Total_Minor_Injuries</th>\n",
       "      <th>Total_Uninjured</th>\n",
       "      <th>Weather_Condition</th>\n",
       "      <th>Broad_phase_of_flight</th>\n",
       "      <th>Report_Status</th>\n",
       "      <th>Publication_Date</th>\n",
       "    </tr>\n",
       "  </thead>\n",
       "  <tbody>\n",
       "    <tr>\n",
       "      <th>0</th>\n",
       "      <td>20001218X45444</td>\n",
       "      <td>Accident</td>\n",
       "      <td>SEA87LA080</td>\n",
       "      <td>1948-10-24</td>\n",
       "      <td>MOOSE CREEK, ID</td>\n",
       "      <td>United States</td>\n",
       "      <td>NaN</td>\n",
       "      <td>NaN</td>\n",
       "      <td>NaN</td>\n",
       "      <td>NaN</td>\n",
       "      <td>...</td>\n",
       "      <td>Personal</td>\n",
       "      <td>NaN</td>\n",
       "      <td>2.0</td>\n",
       "      <td>0.0</td>\n",
       "      <td>0.0</td>\n",
       "      <td>0.0</td>\n",
       "      <td>UNK</td>\n",
       "      <td>Cruise</td>\n",
       "      <td>Probable Cause</td>\n",
       "      <td>NaN</td>\n",
       "    </tr>\n",
       "    <tr>\n",
       "      <th>1</th>\n",
       "      <td>20001218X45447</td>\n",
       "      <td>Accident</td>\n",
       "      <td>LAX94LA336</td>\n",
       "      <td>1962-07-19</td>\n",
       "      <td>BRIDGEPORT, CA</td>\n",
       "      <td>United States</td>\n",
       "      <td>NaN</td>\n",
       "      <td>NaN</td>\n",
       "      <td>NaN</td>\n",
       "      <td>NaN</td>\n",
       "      <td>...</td>\n",
       "      <td>Personal</td>\n",
       "      <td>NaN</td>\n",
       "      <td>4.0</td>\n",
       "      <td>0.0</td>\n",
       "      <td>0.0</td>\n",
       "      <td>0.0</td>\n",
       "      <td>UNK</td>\n",
       "      <td>Unknown</td>\n",
       "      <td>Probable Cause</td>\n",
       "      <td>19-09-1996</td>\n",
       "    </tr>\n",
       "    <tr>\n",
       "      <th>2</th>\n",
       "      <td>20061025X01555</td>\n",
       "      <td>Accident</td>\n",
       "      <td>NYC07LA005</td>\n",
       "      <td>1974-08-30</td>\n",
       "      <td>Saltville, VA</td>\n",
       "      <td>United States</td>\n",
       "      <td>36.922223</td>\n",
       "      <td>-81.878056</td>\n",
       "      <td>NaN</td>\n",
       "      <td>NaN</td>\n",
       "      <td>...</td>\n",
       "      <td>Personal</td>\n",
       "      <td>NaN</td>\n",
       "      <td>3.0</td>\n",
       "      <td>NaN</td>\n",
       "      <td>NaN</td>\n",
       "      <td>NaN</td>\n",
       "      <td>IMC</td>\n",
       "      <td>Cruise</td>\n",
       "      <td>Probable Cause</td>\n",
       "      <td>26-02-2007</td>\n",
       "    </tr>\n",
       "    <tr>\n",
       "      <th>3</th>\n",
       "      <td>20001218X45448</td>\n",
       "      <td>Accident</td>\n",
       "      <td>LAX96LA321</td>\n",
       "      <td>1977-06-19</td>\n",
       "      <td>EUREKA, CA</td>\n",
       "      <td>United States</td>\n",
       "      <td>NaN</td>\n",
       "      <td>NaN</td>\n",
       "      <td>NaN</td>\n",
       "      <td>NaN</td>\n",
       "      <td>...</td>\n",
       "      <td>Personal</td>\n",
       "      <td>NaN</td>\n",
       "      <td>2.0</td>\n",
       "      <td>0.0</td>\n",
       "      <td>0.0</td>\n",
       "      <td>0.0</td>\n",
       "      <td>IMC</td>\n",
       "      <td>Cruise</td>\n",
       "      <td>Probable Cause</td>\n",
       "      <td>12-09-2000</td>\n",
       "    </tr>\n",
       "    <tr>\n",
       "      <th>4</th>\n",
       "      <td>20041105X01764</td>\n",
       "      <td>Accident</td>\n",
       "      <td>CHI79FA064</td>\n",
       "      <td>1979-08-02</td>\n",
       "      <td>Canton, OH</td>\n",
       "      <td>United States</td>\n",
       "      <td>NaN</td>\n",
       "      <td>NaN</td>\n",
       "      <td>NaN</td>\n",
       "      <td>NaN</td>\n",
       "      <td>...</td>\n",
       "      <td>Personal</td>\n",
       "      <td>NaN</td>\n",
       "      <td>1.0</td>\n",
       "      <td>2.0</td>\n",
       "      <td>NaN</td>\n",
       "      <td>0.0</td>\n",
       "      <td>VMC</td>\n",
       "      <td>Approach</td>\n",
       "      <td>Probable Cause</td>\n",
       "      <td>16-04-1980</td>\n",
       "    </tr>\n",
       "  </tbody>\n",
       "</table>\n",
       "<p>5 rows × 31 columns</p>\n",
       "</div>"
      ],
      "text/plain": [
       "         Event_Id Investigation_Type Accident_Number  Event_Date  \\\n",
       "0  20001218X45444           Accident      SEA87LA080  1948-10-24   \n",
       "1  20001218X45447           Accident      LAX94LA336  1962-07-19   \n",
       "2  20061025X01555           Accident      NYC07LA005  1974-08-30   \n",
       "3  20001218X45448           Accident      LAX96LA321  1977-06-19   \n",
       "4  20041105X01764           Accident      CHI79FA064  1979-08-02   \n",
       "\n",
       "          Location        Country   Latitude  Longitude Airport_Code  \\\n",
       "0  MOOSE CREEK, ID  United States        NaN        NaN          NaN   \n",
       "1   BRIDGEPORT, CA  United States        NaN        NaN          NaN   \n",
       "2    Saltville, VA  United States  36.922223 -81.878056          NaN   \n",
       "3       EUREKA, CA  United States        NaN        NaN          NaN   \n",
       "4       Canton, OH  United States        NaN        NaN          NaN   \n",
       "\n",
       "  Airport_Name  ... Purpose_of_flight Air_carrier Total_Fatal_Injuries  \\\n",
       "0          NaN  ...          Personal         NaN                  2.0   \n",
       "1          NaN  ...          Personal         NaN                  4.0   \n",
       "2          NaN  ...          Personal         NaN                  3.0   \n",
       "3          NaN  ...          Personal         NaN                  2.0   \n",
       "4          NaN  ...          Personal         NaN                  1.0   \n",
       "\n",
       "  Total_Serious_Injuries Total_Minor_Injuries Total_Uninjured  \\\n",
       "0                    0.0                  0.0             0.0   \n",
       "1                    0.0                  0.0             0.0   \n",
       "2                    NaN                  NaN             NaN   \n",
       "3                    0.0                  0.0             0.0   \n",
       "4                    2.0                  NaN             0.0   \n",
       "\n",
       "  Weather_Condition  Broad_phase_of_flight   Report_Status Publication_Date  \n",
       "0               UNK                 Cruise  Probable Cause              NaN  \n",
       "1               UNK                Unknown  Probable Cause       19-09-1996  \n",
       "2               IMC                 Cruise  Probable Cause       26-02-2007  \n",
       "3               IMC                 Cruise  Probable Cause       12-09-2000  \n",
       "4               VMC               Approach  Probable Cause       16-04-1980  \n",
       "\n",
       "[5 rows x 31 columns]"
      ]
     },
     "execution_count": 54,
     "metadata": {},
     "output_type": "execute_result"
    }
   ],
   "source": [
    "df.head()"
   ]
  },
  {
   "cell_type": "markdown",
   "metadata": {
    "id": "0KniKLBO6x4a"
   },
   "source": [
    "Check for duplicate rows\n"
   ]
  },
  {
   "cell_type": "code",
   "execution_count": 55,
   "metadata": {
    "colab": {
     "base_uri": "https://localhost:8080/",
     "height": 655
    },
    "id": "6mTVmC2g5Kwz",
    "outputId": "a1ec7058-c516-405f-a170-043289c36627"
   },
   "outputs": [
    {
     "data": {
      "text/html": [
       "<div>\n",
       "<style scoped>\n",
       "    .dataframe tbody tr th:only-of-type {\n",
       "        vertical-align: middle;\n",
       "    }\n",
       "\n",
       "    .dataframe tbody tr th {\n",
       "        vertical-align: top;\n",
       "    }\n",
       "\n",
       "    .dataframe thead th {\n",
       "        text-align: right;\n",
       "    }\n",
       "</style>\n",
       "<table border=\"1\" class=\"dataframe\">\n",
       "  <thead>\n",
       "    <tr style=\"text-align: right;\">\n",
       "      <th></th>\n",
       "      <th>Event_Id</th>\n",
       "      <th>Investigation_Type</th>\n",
       "      <th>Accident_Number</th>\n",
       "      <th>Event_Date</th>\n",
       "      <th>Location</th>\n",
       "      <th>Country</th>\n",
       "      <th>Latitude</th>\n",
       "      <th>Longitude</th>\n",
       "      <th>Airport_Code</th>\n",
       "      <th>Airport_Name</th>\n",
       "      <th>...</th>\n",
       "      <th>Purpose_of_flight</th>\n",
       "      <th>Air_carrier</th>\n",
       "      <th>Total_Fatal_Injuries</th>\n",
       "      <th>Total_Serious_Injuries</th>\n",
       "      <th>Total_Minor_Injuries</th>\n",
       "      <th>Total_Uninjured</th>\n",
       "      <th>Weather_Condition</th>\n",
       "      <th>Broad_phase_of_flight</th>\n",
       "      <th>Report_Status</th>\n",
       "      <th>Publication_Date</th>\n",
       "    </tr>\n",
       "  </thead>\n",
       "  <tbody>\n",
       "    <tr>\n",
       "      <th>117</th>\n",
       "      <td>20020917X01908</td>\n",
       "      <td>Accident</td>\n",
       "      <td>DCA82AA012B</td>\n",
       "      <td>1982-01-19</td>\n",
       "      <td>ROCKPORT, TX</td>\n",
       "      <td>United States</td>\n",
       "      <td>NaN</td>\n",
       "      <td>NaN</td>\n",
       "      <td>RKP</td>\n",
       "      <td>ARANSAS COUNTY AIRPORT</td>\n",
       "      <td>...</td>\n",
       "      <td>Personal</td>\n",
       "      <td>NaN</td>\n",
       "      <td>3.0</td>\n",
       "      <td>0.0</td>\n",
       "      <td>0.0</td>\n",
       "      <td>0.0</td>\n",
       "      <td>IMC</td>\n",
       "      <td>Approach</td>\n",
       "      <td>Probable Cause</td>\n",
       "      <td>19-01-1983</td>\n",
       "    </tr>\n",
       "    <tr>\n",
       "      <th>118</th>\n",
       "      <td>20020917X01908</td>\n",
       "      <td>Accident</td>\n",
       "      <td>DCA82AA012A</td>\n",
       "      <td>1982-01-19</td>\n",
       "      <td>ROCKPORT, TX</td>\n",
       "      <td>United States</td>\n",
       "      <td>NaN</td>\n",
       "      <td>NaN</td>\n",
       "      <td>RKP</td>\n",
       "      <td>ARANSAS COUNTY AIRPORT</td>\n",
       "      <td>...</td>\n",
       "      <td>Executive/corporate</td>\n",
       "      <td>NaN</td>\n",
       "      <td>3.0</td>\n",
       "      <td>0.0</td>\n",
       "      <td>0.0</td>\n",
       "      <td>0.0</td>\n",
       "      <td>IMC</td>\n",
       "      <td>Approach</td>\n",
       "      <td>Probable Cause</td>\n",
       "      <td>19-01-1983</td>\n",
       "    </tr>\n",
       "    <tr>\n",
       "      <th>153</th>\n",
       "      <td>20020917X02259</td>\n",
       "      <td>Accident</td>\n",
       "      <td>LAX82FA049A</td>\n",
       "      <td>1982-01-23</td>\n",
       "      <td>VICTORVILLE, CA</td>\n",
       "      <td>United States</td>\n",
       "      <td>NaN</td>\n",
       "      <td>NaN</td>\n",
       "      <td>NaN</td>\n",
       "      <td>NaN</td>\n",
       "      <td>...</td>\n",
       "      <td>Personal</td>\n",
       "      <td>NaN</td>\n",
       "      <td>2.0</td>\n",
       "      <td>0.0</td>\n",
       "      <td>4.0</td>\n",
       "      <td>0.0</td>\n",
       "      <td>VMC</td>\n",
       "      <td>Unknown</td>\n",
       "      <td>Probable Cause</td>\n",
       "      <td>23-01-1983</td>\n",
       "    </tr>\n",
       "    <tr>\n",
       "      <th>158</th>\n",
       "      <td>20020917X02400</td>\n",
       "      <td>Accident</td>\n",
       "      <td>MIA82FA038B</td>\n",
       "      <td>1982-01-23</td>\n",
       "      <td>NEWPORT RICHEY, FL</td>\n",
       "      <td>United States</td>\n",
       "      <td>NaN</td>\n",
       "      <td>NaN</td>\n",
       "      <td>NaN</td>\n",
       "      <td>NaN</td>\n",
       "      <td>...</td>\n",
       "      <td>Personal</td>\n",
       "      <td>NaN</td>\n",
       "      <td>0.0</td>\n",
       "      <td>0.0</td>\n",
       "      <td>0.0</td>\n",
       "      <td>3.0</td>\n",
       "      <td>VMC</td>\n",
       "      <td>Cruise</td>\n",
       "      <td>Probable Cause</td>\n",
       "      <td>23-01-1983</td>\n",
       "    </tr>\n",
       "    <tr>\n",
       "      <th>159</th>\n",
       "      <td>20020917X02400</td>\n",
       "      <td>Accident</td>\n",
       "      <td>MIA82FA038A</td>\n",
       "      <td>1982-01-23</td>\n",
       "      <td>NEWPORT RICHEY, FL</td>\n",
       "      <td>United States</td>\n",
       "      <td>NaN</td>\n",
       "      <td>NaN</td>\n",
       "      <td>NaN</td>\n",
       "      <td>NaN</td>\n",
       "      <td>...</td>\n",
       "      <td>Personal</td>\n",
       "      <td>NaN</td>\n",
       "      <td>0.0</td>\n",
       "      <td>0.0</td>\n",
       "      <td>0.0</td>\n",
       "      <td>3.0</td>\n",
       "      <td>VMC</td>\n",
       "      <td>Approach</td>\n",
       "      <td>Probable Cause</td>\n",
       "      <td>23-01-1983</td>\n",
       "    </tr>\n",
       "    <tr>\n",
       "      <th>160</th>\n",
       "      <td>20020917X02259</td>\n",
       "      <td>Accident</td>\n",
       "      <td>LAX82FA049B</td>\n",
       "      <td>1982-01-23</td>\n",
       "      <td>VICTORVILLE, CA</td>\n",
       "      <td>United States</td>\n",
       "      <td>NaN</td>\n",
       "      <td>NaN</td>\n",
       "      <td>NaN</td>\n",
       "      <td>NaN</td>\n",
       "      <td>...</td>\n",
       "      <td>Personal</td>\n",
       "      <td>NaN</td>\n",
       "      <td>2.0</td>\n",
       "      <td>0.0</td>\n",
       "      <td>4.0</td>\n",
       "      <td>0.0</td>\n",
       "      <td>VMC</td>\n",
       "      <td>Cruise</td>\n",
       "      <td>Probable Cause</td>\n",
       "      <td>23-01-1983</td>\n",
       "    </tr>\n",
       "    <tr>\n",
       "      <th>242</th>\n",
       "      <td>20020917X02585</td>\n",
       "      <td>Accident</td>\n",
       "      <td>SEA82DA028A</td>\n",
       "      <td>1982-02-06</td>\n",
       "      <td>MEDFORD, OR</td>\n",
       "      <td>United States</td>\n",
       "      <td>NaN</td>\n",
       "      <td>NaN</td>\n",
       "      <td>MFR</td>\n",
       "      <td>MEDFORD-JACKSON COUNTY</td>\n",
       "      <td>...</td>\n",
       "      <td>Aerial Application</td>\n",
       "      <td>NaN</td>\n",
       "      <td>0.0</td>\n",
       "      <td>0.0</td>\n",
       "      <td>0.0</td>\n",
       "      <td>3.0</td>\n",
       "      <td>VMC</td>\n",
       "      <td>Taxi</td>\n",
       "      <td>Probable Cause</td>\n",
       "      <td>06-02-1983</td>\n",
       "    </tr>\n",
       "    <tr>\n",
       "      <th>244</th>\n",
       "      <td>20020917X02173</td>\n",
       "      <td>Accident</td>\n",
       "      <td>LAX82DA065B</td>\n",
       "      <td>1982-02-06</td>\n",
       "      <td>SAN JOSE, CA</td>\n",
       "      <td>United States</td>\n",
       "      <td>NaN</td>\n",
       "      <td>NaN</td>\n",
       "      <td>RHV</td>\n",
       "      <td>RIED HILLVIEW</td>\n",
       "      <td>...</td>\n",
       "      <td>Personal</td>\n",
       "      <td>NaN</td>\n",
       "      <td>0.0</td>\n",
       "      <td>0.0</td>\n",
       "      <td>0.0</td>\n",
       "      <td>3.0</td>\n",
       "      <td>VMC</td>\n",
       "      <td>Standing</td>\n",
       "      <td>Probable Cause</td>\n",
       "      <td>06-02-1983</td>\n",
       "    </tr>\n",
       "    <tr>\n",
       "      <th>245</th>\n",
       "      <td>20020917X02585</td>\n",
       "      <td>Accident</td>\n",
       "      <td>SEA82DA028B</td>\n",
       "      <td>1982-02-06</td>\n",
       "      <td>MEDFORD, OR</td>\n",
       "      <td>United States</td>\n",
       "      <td>NaN</td>\n",
       "      <td>NaN</td>\n",
       "      <td>MFR</td>\n",
       "      <td>MEDFORD-JACKSON COUNTY</td>\n",
       "      <td>...</td>\n",
       "      <td>Personal</td>\n",
       "      <td>NaN</td>\n",
       "      <td>0.0</td>\n",
       "      <td>0.0</td>\n",
       "      <td>0.0</td>\n",
       "      <td>3.0</td>\n",
       "      <td>VMC</td>\n",
       "      <td>Taxi</td>\n",
       "      <td>Probable Cause</td>\n",
       "      <td>06-02-1983</td>\n",
       "    </tr>\n",
       "    <tr>\n",
       "      <th>248</th>\n",
       "      <td>20020917X02173</td>\n",
       "      <td>Accident</td>\n",
       "      <td>LAX82DA065A</td>\n",
       "      <td>1982-02-06</td>\n",
       "      <td>SAN JOSE, CA</td>\n",
       "      <td>United States</td>\n",
       "      <td>NaN</td>\n",
       "      <td>NaN</td>\n",
       "      <td>RHV</td>\n",
       "      <td>RIED HILLVIEW</td>\n",
       "      <td>...</td>\n",
       "      <td>Personal</td>\n",
       "      <td>NaN</td>\n",
       "      <td>0.0</td>\n",
       "      <td>0.0</td>\n",
       "      <td>0.0</td>\n",
       "      <td>3.0</td>\n",
       "      <td>VMC</td>\n",
       "      <td>Taxi</td>\n",
       "      <td>Probable Cause</td>\n",
       "      <td>06-02-1983</td>\n",
       "    </tr>\n",
       "  </tbody>\n",
       "</table>\n",
       "<p>10 rows × 31 columns</p>\n",
       "</div>"
      ],
      "text/plain": [
       "           Event_Id Investigation_Type Accident_Number  Event_Date  \\\n",
       "117  20020917X01908           Accident     DCA82AA012B  1982-01-19   \n",
       "118  20020917X01908           Accident     DCA82AA012A  1982-01-19   \n",
       "153  20020917X02259           Accident     LAX82FA049A  1982-01-23   \n",
       "158  20020917X02400           Accident     MIA82FA038B  1982-01-23   \n",
       "159  20020917X02400           Accident     MIA82FA038A  1982-01-23   \n",
       "160  20020917X02259           Accident     LAX82FA049B  1982-01-23   \n",
       "242  20020917X02585           Accident     SEA82DA028A  1982-02-06   \n",
       "244  20020917X02173           Accident     LAX82DA065B  1982-02-06   \n",
       "245  20020917X02585           Accident     SEA82DA028B  1982-02-06   \n",
       "248  20020917X02173           Accident     LAX82DA065A  1982-02-06   \n",
       "\n",
       "               Location        Country Latitude Longitude Airport_Code  \\\n",
       "117        ROCKPORT, TX  United States      NaN       NaN          RKP   \n",
       "118        ROCKPORT, TX  United States      NaN       NaN          RKP   \n",
       "153     VICTORVILLE, CA  United States      NaN       NaN          NaN   \n",
       "158  NEWPORT RICHEY, FL  United States      NaN       NaN          NaN   \n",
       "159  NEWPORT RICHEY, FL  United States      NaN       NaN          NaN   \n",
       "160     VICTORVILLE, CA  United States      NaN       NaN          NaN   \n",
       "242         MEDFORD, OR  United States      NaN       NaN          MFR   \n",
       "244        SAN JOSE, CA  United States      NaN       NaN          RHV   \n",
       "245         MEDFORD, OR  United States      NaN       NaN          MFR   \n",
       "248        SAN JOSE, CA  United States      NaN       NaN          RHV   \n",
       "\n",
       "               Airport_Name  ...    Purpose_of_flight Air_carrier  \\\n",
       "117  ARANSAS COUNTY AIRPORT  ...             Personal         NaN   \n",
       "118  ARANSAS COUNTY AIRPORT  ...  Executive/corporate         NaN   \n",
       "153                     NaN  ...             Personal         NaN   \n",
       "158                     NaN  ...             Personal         NaN   \n",
       "159                     NaN  ...             Personal         NaN   \n",
       "160                     NaN  ...             Personal         NaN   \n",
       "242  MEDFORD-JACKSON COUNTY  ...   Aerial Application         NaN   \n",
       "244           RIED HILLVIEW  ...             Personal         NaN   \n",
       "245  MEDFORD-JACKSON COUNTY  ...             Personal         NaN   \n",
       "248           RIED HILLVIEW  ...             Personal         NaN   \n",
       "\n",
       "    Total_Fatal_Injuries Total_Serious_Injuries Total_Minor_Injuries  \\\n",
       "117                  3.0                    0.0                  0.0   \n",
       "118                  3.0                    0.0                  0.0   \n",
       "153                  2.0                    0.0                  4.0   \n",
       "158                  0.0                    0.0                  0.0   \n",
       "159                  0.0                    0.0                  0.0   \n",
       "160                  2.0                    0.0                  4.0   \n",
       "242                  0.0                    0.0                  0.0   \n",
       "244                  0.0                    0.0                  0.0   \n",
       "245                  0.0                    0.0                  0.0   \n",
       "248                  0.0                    0.0                  0.0   \n",
       "\n",
       "    Total_Uninjured Weather_Condition  Broad_phase_of_flight   Report_Status  \\\n",
       "117             0.0               IMC               Approach  Probable Cause   \n",
       "118             0.0               IMC               Approach  Probable Cause   \n",
       "153             0.0               VMC                Unknown  Probable Cause   \n",
       "158             3.0               VMC                 Cruise  Probable Cause   \n",
       "159             3.0               VMC               Approach  Probable Cause   \n",
       "160             0.0               VMC                 Cruise  Probable Cause   \n",
       "242             3.0               VMC                   Taxi  Probable Cause   \n",
       "244             3.0               VMC               Standing  Probable Cause   \n",
       "245             3.0               VMC                   Taxi  Probable Cause   \n",
       "248             3.0               VMC                   Taxi  Probable Cause   \n",
       "\n",
       "    Publication_Date  \n",
       "117       19-01-1983  \n",
       "118       19-01-1983  \n",
       "153       23-01-1983  \n",
       "158       23-01-1983  \n",
       "159       23-01-1983  \n",
       "160       23-01-1983  \n",
       "242       06-02-1983  \n",
       "244       06-02-1983  \n",
       "245       06-02-1983  \n",
       "248       06-02-1983  \n",
       "\n",
       "[10 rows x 31 columns]"
      ]
     },
     "execution_count": 55,
     "metadata": {},
     "output_type": "execute_result"
    }
   ],
   "source": [
    "# check for duplicate rows in the Event_Id column\n",
    "duplicate_rows_events = df[df.duplicated(subset=['Event_Id'], keep=False)]\n",
    "\n",
    "duplicate_rows_events.head(10)"
   ]
  },
  {
   "cell_type": "markdown",
   "metadata": {
    "id": "cQo97TPd7hAc"
   },
   "source": [
    "I see here that though these duplicate rows do represent separate aircraft in multi-aircraft incidents, the injury and/or fatality numbers are combined. This would constitute duplicate numbers in certain columns that would render errors in the analysis.\n",
    "\n",
    "So let's remove the duplicates from this subset."
   ]
  },
  {
   "cell_type": "code",
   "execution_count": 56,
   "metadata": {
    "id": "qANpJ79b5p10"
   },
   "outputs": [],
   "source": [
    "# remove the duplicate rows using the Event_Id column\n",
    "df = df.drop_duplicates(subset=['Event_Id'], keep='first')"
   ]
  },
  {
   "cell_type": "code",
   "execution_count": 12,
   "metadata": {
    "colab": {
     "base_uri": "https://localhost:8080/"
    },
    "id": "LeqLtrYN-J8o",
    "outputId": "8bff9900-b96c-460d-c571-6cfa5ea2bbf7"
   },
   "outputs": [
    {
     "name": "stdout",
     "output_type": "stream",
     "text": [
      "<class 'pandas.core.frame.DataFrame'>\n",
      "Index: 0 entries\n",
      "Data columns (total 31 columns):\n",
      " #   Column                  Non-Null Count  Dtype  \n",
      "---  ------                  --------------  -----  \n",
      " 0   Event_Id                0 non-null      object \n",
      " 1   Investigation_Type      0 non-null      object \n",
      " 2   Accident_Number         0 non-null      object \n",
      " 3   Event_Date              0 non-null      object \n",
      " 4   Location                0 non-null      object \n",
      " 5   Country                 0 non-null      object \n",
      " 6   Latitude                0 non-null      object \n",
      " 7   Longitude               0 non-null      object \n",
      " 8   Airport_Code            0 non-null      object \n",
      " 9   Airport_Name            0 non-null      object \n",
      " 10  Injury_Severity         0 non-null      object \n",
      " 11  Aircraft_damage         0 non-null      object \n",
      " 12  Aircraft_Category       0 non-null      object \n",
      " 13  Registration_Number     0 non-null      object \n",
      " 14  Make                    0 non-null      object \n",
      " 15  Model                   0 non-null      object \n",
      " 16  Amateur_Built           0 non-null      object \n",
      " 17  Number_of_Engines       0 non-null      float64\n",
      " 18  Engine_Type             0 non-null      object \n",
      " 19  FAR_Description         0 non-null      object \n",
      " 20  Schedule                0 non-null      object \n",
      " 21  Purpose_of_flight       0 non-null      object \n",
      " 22  Air_carrier             0 non-null      object \n",
      " 23  Total_Fatal_Injuries    0 non-null      float64\n",
      " 24  Total_Serious_Injuries  0 non-null      float64\n",
      " 25  Total_Minor_Injuries    0 non-null      float64\n",
      " 26  Total_Uninjured         0 non-null      float64\n",
      " 27  Weather_Condition       0 non-null      object \n",
      " 28  Broad_phase_of_flight   0 non-null      object \n",
      " 29  Report_Status           0 non-null      object \n",
      " 30  Publication_Date        0 non-null      object \n",
      "dtypes: float64(5), object(26)\n",
      "memory usage: 0.0+ bytes\n"
     ]
    }
   ],
   "source": [
    "# check for duplicates again in Event_Id column\n",
    "duplicate_rows_events = df[df.duplicated(subset=['Event_Id'], keep=False)]\n",
    "\n",
    "duplicate_rows_events.info()"
   ]
  },
  {
   "cell_type": "code",
   "execution_count": 57,
   "metadata": {
    "colab": {
     "base_uri": "https://localhost:8080/"
    },
    "id": "k4yXESaErma2",
    "outputId": "625aba7a-d46b-4aec-9717-9cceef91fdd0"
   },
   "outputs": [
    {
     "name": "stdout",
     "output_type": "stream",
     "text": [
      "<class 'pandas.core.frame.DataFrame'>\n",
      "Index: 87951 entries, 0 to 88888\n",
      "Data columns (total 31 columns):\n",
      " #   Column                  Non-Null Count  Dtype  \n",
      "---  ------                  --------------  -----  \n",
      " 0   Event_Id                87951 non-null  object \n",
      " 1   Investigation_Type      87951 non-null  object \n",
      " 2   Accident_Number         87951 non-null  object \n",
      " 3   Event_Date              87951 non-null  object \n",
      " 4   Location                87899 non-null  object \n",
      " 5   Country                 87729 non-null  object \n",
      " 6   Latitude                34212 non-null  object \n",
      " 7   Longitude               34203 non-null  object \n",
      " 8   Airport_Code            49484 non-null  object \n",
      " 9   Airport_Name            52031 non-null  object \n",
      " 10  Injury_Severity         86961 non-null  object \n",
      " 11  Aircraft_damage         84848 non-null  object \n",
      " 12  Aircraft_Category       32181 non-null  object \n",
      " 13  Registration_Number     86601 non-null  object \n",
      " 14  Make                    87888 non-null  object \n",
      " 15  Model                   87859 non-null  object \n",
      " 16  Amateur_Built           87851 non-null  object \n",
      " 17  Number_of_Engines       81924 non-null  float64\n",
      " 18  Engine_Type             80908 non-null  object \n",
      " 19  FAR_Description         31915 non-null  object \n",
      " 20  Schedule                12360 non-null  object \n",
      " 21  Purpose_of_flight       81829 non-null  object \n",
      " 22  Air_carrier             16533 non-null  object \n",
      " 23  Total_Fatal_Injuries    76684 non-null  float64\n",
      " 24  Total_Serious_Injuries  75629 non-null  float64\n",
      " 25  Total_Minor_Injuries    76191 non-null  float64\n",
      " 26  Total_Uninjured         82088 non-null  float64\n",
      " 27  Weather_Condition       83478 non-null  object \n",
      " 28  Broad_phase_of_flight   60837 non-null  object \n",
      " 29  Report_Status           81587 non-null  object \n",
      " 30  Publication_Date        74352 non-null  object \n",
      "dtypes: float64(5), object(26)\n",
      "memory usage: 21.5+ MB\n"
     ]
    }
   ],
   "source": [
    "df.info()"
   ]
  },
  {
   "cell_type": "code",
   "execution_count": 58,
   "metadata": {
    "colab": {
     "base_uri": "https://localhost:8080/"
    },
    "id": "PzyAieP1pxyg",
    "outputId": "8142481d-d797-4a08-d5a8-cef636b23a14"
   },
   "outputs": [
    {
     "name": "stdout",
     "output_type": "stream",
     "text": [
      "No duplicate rows found.\n"
     ]
    }
   ],
   "source": [
    "# check for duplicate rows in the Accident_Number column to verify there are no more duplicates\n",
    "duplicate_rows_accidents = df[df.duplicated(subset=['Accident_Number'], keep=False)]\n",
    "\n",
    "if duplicate_rows_accidents.empty:\n",
    "  print(\"No duplicate rows found.\")\n",
    "else:\n",
    "  print(\"Duplicate rows found.\")"
   ]
  },
  {
   "cell_type": "markdown",
   "metadata": {
    "id": "SmrHvEE_1Ipl"
   },
   "source": [
    "## Columns that are not needed\n",
    "Remove certain columns that are mostly empty and would not contain data useful to the intended analysis.\n",
    "\n",
    "I propose removing Latitude, Longitude, Schedule, and Air_carrier as those columns are mostly empty and would not contribute to the analysis."
   ]
  },
  {
   "cell_type": "code",
   "execution_count": 36,
   "metadata": {
    "colab": {
     "base_uri": "https://localhost:8080/"
    },
    "id": "5WSfS24XxySh",
    "outputId": "8f52a461-6ffc-4dee-eaea-3028628d9702"
   },
   "outputs": [
    {
     "name": "stdout",
     "output_type": "stream",
     "text": [
      "<class 'pandas.core.frame.DataFrame'>\n",
      "Index: 87951 entries, 0 to 88888\n",
      "Data columns (total 27 columns):\n",
      " #   Column                  Non-Null Count  Dtype  \n",
      "---  ------                  --------------  -----  \n",
      " 0   Event_Id                87951 non-null  object \n",
      " 1   Investigation_Type      87951 non-null  object \n",
      " 2   Accident_Number         87951 non-null  object \n",
      " 3   Event_Date              87951 non-null  object \n",
      " 4   Location                87899 non-null  object \n",
      " 5   Country                 87729 non-null  object \n",
      " 6   Airport_Code            49484 non-null  object \n",
      " 7   Airport_Name            52031 non-null  object \n",
      " 8   Injury_Severity         86961 non-null  object \n",
      " 9   Aircraft_damage         84848 non-null  object \n",
      " 10  Aircraft_Category       32181 non-null  object \n",
      " 11  Registration_Number     86601 non-null  object \n",
      " 12  Make                    87888 non-null  object \n",
      " 13  Model                   87859 non-null  object \n",
      " 14  Amateur_Built           87851 non-null  object \n",
      " 15  Number_of_Engines       81924 non-null  float64\n",
      " 16  Engine_Type             80908 non-null  object \n",
      " 17  FAR_Description         31915 non-null  object \n",
      " 18  Purpose_of_flight       81829 non-null  object \n",
      " 19  Total_Fatal_Injuries    76684 non-null  float64\n",
      " 20  Total_Serious_Injuries  75629 non-null  float64\n",
      " 21  Total_Minor_Injuries    76191 non-null  float64\n",
      " 22  Total_Uninjured         82088 non-null  float64\n",
      " 23  Weather_Condition       83478 non-null  object \n",
      " 24  Broad_phase_of_flight   60837 non-null  object \n",
      " 25  Report_Status           81587 non-null  object \n",
      " 26  Publication_Date        74352 non-null  object \n",
      "dtypes: float64(5), object(22)\n",
      "memory usage: 18.8+ MB\n"
     ]
    }
   ],
   "source": [
    "# remove Latitude, Longitude, Schedule, and Air_carrier columns\n",
    "df = df.drop(['Latitude', 'Longitude', 'Schedule', 'Air_carrier'], axis=1)\n",
    "\n",
    "df.info()"
   ]
  },
  {
   "cell_type": "markdown",
   "metadata": {
    "id": "VoS_v9S32OXo"
   },
   "source": [
    "## Aircraft_Category\n",
    "The column for Aircraft_Category is also mostly empty, but that data could be useful. The business is after all seeking data related to types of aircraft and airplanes specifically, so removing the column entirely would not work well. Simply removing all rows that do not have a category entry would greatly reduce the number of total rows available for analysis, and most of those removed would likely be airplanes.\n",
    "\n",
    "I would like to explore the idea of filling in as many of the missing values as I can. This could be done to some extent by making use of the Make column. For example, for all Aircraft_Category entries that are present, if the Make entry is Cessna, then the Aircraft_Category is invariably Airplane. So the missing category entries for Cessnas could reasonably be filled in. The same is true for other Makes like Sikorsky (Helicopter).\n",
    "\n",
    "See below for an example:"
   ]
  },
  {
   "cell_type": "code",
   "execution_count": 37,
   "metadata": {
    "colab": {
     "base_uri": "https://localhost:8080/"
    },
    "id": "SB8AhEa84MZf",
    "outputId": "297f8aa0-6ec7-4034-ac2b-2323aec1c189"
   },
   "outputs": [
    {
     "data": {
      "text/plain": [
       "array([nan, 'Airplane'], dtype=object)"
      ]
     },
     "execution_count": 37,
     "metadata": {},
     "output_type": "execute_result"
    }
   ],
   "source": [
    "# Aircraft_Category values for Cessna in the Make column\n",
    "df[df['Make'] == 'Cessna']['Aircraft_Category'].unique()"
   ]
  },
  {
   "cell_type": "code",
   "execution_count": 38,
   "metadata": {
    "colab": {
     "base_uri": "https://localhost:8080/"
    },
    "id": "ZpfZAX-t4gZo",
    "outputId": "57f35d38-44c0-49cc-a85b-1838eaf9b126"
   },
   "outputs": [
    {
     "data": {
      "text/plain": [
       "18344"
      ]
     },
     "execution_count": 38,
     "metadata": {},
     "output_type": "execute_result"
    }
   ],
   "source": [
    "# Show how many nan Aircraft_Category values there are for Cessna\n",
    "df[df['Make'] == 'Cessna']['Aircraft_Category'].isna().sum()"
   ]
  },
  {
   "cell_type": "code",
   "execution_count": 39,
   "metadata": {
    "colab": {
     "base_uri": "https://localhost:8080/"
    },
    "id": "9E31-L45AbMP",
    "outputId": "7bf62f90-c346-4d7a-9fd1-4e0ecbcce220"
   },
   "outputs": [
    {
     "data": {
      "text/plain": [
       "3581"
      ]
     },
     "execution_count": 39,
     "metadata": {},
     "output_type": "execute_result"
    }
   ],
   "source": [
    "# Show how many 'Airplane' Aircraft_Category values there are for Cessna\n",
    "df[(df['Make'] == 'Cessna') & (df['Aircraft_Category'] == 'Airplane')]['Aircraft_Category'].count()"
   ]
  },
  {
   "cell_type": "markdown",
   "metadata": {
    "id": "dV6nfMx3-wPt"
   },
   "source": [
    "So we can add another 18344 airplane entries to our data by filling in the missing value for Cessna in the Aircraft_Category column"
   ]
  },
  {
   "cell_type": "code",
   "execution_count": 40,
   "metadata": {
    "colab": {
     "base_uri": "https://localhost:8080/"
    },
    "id": "JeXtBwAj9mtq",
    "outputId": "f048f0e5-8fb6-4896-d73c-f0b9ec34259d"
   },
   "outputs": [
    {
     "data": {
      "text/plain": [
       "array(['Helicopter', nan], dtype=object)"
      ]
     },
     "execution_count": 40,
     "metadata": {},
     "output_type": "execute_result"
    }
   ],
   "source": [
    "# Aircraft_Category values for Skiorsky in the Make column\n",
    "df[df['Make'] == 'Sikorsky']['Aircraft_Category'].unique()"
   ]
  },
  {
   "cell_type": "code",
   "execution_count": 41,
   "metadata": {
    "colab": {
     "base_uri": "https://localhost:8080/"
    },
    "id": "w9rddluE-O5C",
    "outputId": "46e2276c-bb98-4ab0-b2a0-67df7392125f"
   },
   "outputs": [
    {
     "data": {
      "text/plain": [
       "128"
      ]
     },
     "execution_count": 41,
     "metadata": {},
     "output_type": "execute_result"
    }
   ],
   "source": [
    "# Sikorsky nan values there are for \n",
    "df[df['Make'] == 'Sikorsky']['Aircraft_Category'].isna().sum()"
   ]
  },
  {
   "cell_type": "markdown",
   "metadata": {
    "id": "-eS440l7_N1t"
   },
   "source": [
    "And here we would be able to remove 128 additional rows for Sikorsky helicopters."
   ]
  },
  {
   "cell_type": "code",
   "execution_count": 42,
   "metadata": {
    "id": "NRT1Jhww-Wr0"
   },
   "outputs": [],
   "source": [
    "# Fill in Aircraft_Category as 'Airplane' for Cessna\n",
    "df.loc[df['Make'] == 'Cessna', 'Aircraft_Category'] = 'Airplane'"
   ]
  },
  {
   "cell_type": "code",
   "execution_count": 43,
   "metadata": {
    "colab": {
     "base_uri": "https://localhost:8080/"
    },
    "id": "Y4w6ZEZuA66E",
    "outputId": "8cdec6d3-0f41-4ed2-c0e8-a75b6469a2ad"
   },
   "outputs": [
    {
     "data": {
      "text/plain": [
       "array(['Airplane'], dtype=object)"
      ]
     },
     "execution_count": 43,
     "metadata": {},
     "output_type": "execute_result"
    }
   ],
   "source": [
    "# Show the Aircraft_Category values for Cessna in the Make column\n",
    "df[df['Make'] == 'Cessna']['Aircraft_Category'].unique()"
   ]
  },
  {
   "cell_type": "code",
   "execution_count": 44,
   "metadata": {
    "colab": {
     "base_uri": "https://localhost:8080/"
    },
    "id": "DHkGtjGJBAME",
    "outputId": "a57710f8-3a44-427f-c4c7-82e2a767202e"
   },
   "outputs": [
    {
     "data": {
      "text/plain": [
       "21925"
      ]
     },
     "execution_count": 44,
     "metadata": {},
     "output_type": "execute_result"
    }
   ],
   "source": [
    "# Show how many 'Airplane' Aircraft_Category values there are for Cessna\n",
    "df[(df['Make'] == 'Cessna') & (df['Aircraft_Category'] == 'Airplane')]['Aircraft_Category'].count()"
   ]
  },
  {
   "cell_type": "markdown",
   "metadata": {
    "id": "ymmzr6t-Gu4-"
   },
   "source": [
    "So now, instead of only 3500 Cessna airplanes, we have almost 22000 entries, greatly increasing the verified airplane subset.\n",
    "\n",
    "So here I will continue finding Makes that are airplanes only, and filling in the missing values."
   ]
  },
  {
   "cell_type": "code",
   "execution_count": 45,
   "metadata": {
    "colab": {
     "base_uri": "https://localhost:8080/",
     "height": 490
    },
    "id": "AsxNgWU3KxOv",
    "outputId": "a567484d-fa8e-453a-8101-b007445c2c13"
   },
   "outputs": [
    {
     "data": {
      "text/plain": [
       "Make\n",
       "Cessna           21925\n",
       "Piper            11903\n",
       "CESSNA            4914\n",
       "Beech             4290\n",
       "PIPER             2841\n",
       "                 ...  \n",
       "Geertz               1\n",
       "Conrad Menzel        1\n",
       "Blucher              1\n",
       "Gideon               1\n",
       "ROYSE RALPH L        1\n",
       "Name: count, Length: 8202, dtype: int64"
      ]
     },
     "execution_count": 45,
     "metadata": {},
     "output_type": "execute_result"
    }
   ],
   "source": [
    "# print a list of the unique values in the Make column\n",
    "df['Make'].value_counts()"
   ]
  },
  {
   "cell_type": "markdown",
   "metadata": {
    "id": "KrjfybXSLar3"
   },
   "source": [
    "I realize here that I need to do some further cleaning of the Make column so Cessna and CESSNA (and other similar issues) are not separate values."
   ]
  },
  {
   "cell_type": "code",
   "execution_count": 46,
   "metadata": {
    "id": "WDXYk17xKgDL"
   },
   "outputs": [],
   "source": [
    "# Clean the Make column for misspellings, all caps issues, etc\n",
    "make_column_name_replace = {'Ab Sportine Aviacija': 'Sportine Aviacija', 'AB SPORTINE AVIACIJA': 'Sportine Aviacija', 'SPORTINE AVIACIJA': 'Sportine Aviacija', 'Abrams/nuding': 'Abrams', 'ACRO': 'Acro Sport', 'Adams': 'Adams Balloon', 'ADAMS': 'Adams Balloon', 'ADAMS BALLOONS LLC': 'Adams Balloon', 'AERO COMMANDER': 'Aero Commander', 'AERO VODOCHODY': 'Aero Vodochody', 'AEROVODOCHODY': 'Aero Vodochody', 'Aero Vodochody Aero Works': 'Aero Vodochody', 'AEROFAB INC': 'Aerofab Inc.', 'AEROMOT': 'Aeromot', 'AERONCA': 'Aeronca', 'Aeronca Aircraft Corporation': 'Aeronca', 'AEROPRO CZ': 'Aeropro CZ', 'AEROS': 'Aeros', 'Aeros LTD': 'Aeros', 'AEROS LTD': 'Aeros', 'AEROSPATIALE': 'Aerospatiale', 'AEROSTAR': 'Aerostar', 'Aerostar International': 'Aerostar', 'AEROSTAR INTERNATIONAL': 'Aerostar', 'Aerostar International Inc': 'Aerostar', 'AEROSTAR INTERNATIONAL INC': 'Aerostar', 'Aerostar International Inc.': 'Aerostar', 'Aerostar International, Inc.': 'Aerostar', 'AEROTEK': 'Aerotek', 'Aerotek-pitts': 'Aerotek', 'AEROTEK INC': 'Aerotek', 'AGUSTA': 'Agusta', 'AGUSTA AEROSPACE CORP': 'Agusta', 'AGUSTA SPA': 'Agusta', 'Agusta Spa': 'Agusta', 'Agusta-bell': 'Agusta', 'Agusta/Westland': 'Agusta', 'AGUSTAWESTLAND': 'Agusta', 'AgustaWestland': 'Agusta', 'AgustadWestland': 'Agusta', 'AGUSTAWESTLAND PHILADELPHIA': 'Agusta', 'AGUSTAWESTLAND SPA': 'Agusta', 'AIR CREATION': 'Air Creation', 'Air Creations': 'Air Creation', 'AIR TRACTOR': 'Air Tractor', 'AIR TRACTOR INC': 'Air Tractor', 'Air Tractor Inc': 'Air Tractor', 'Air Tractor Inc.': 'Air Tractor', 'AIR TRACTOR INC.': 'Air Tractor', 'Air Tractor, Inc.': 'Air Tractor', 'Air Borne Windsports Pty. Ltd.': 'Airborne', 'AIRBORNE (AUSTRALIA)': 'Airborne', 'AIRBORNE AUSTRALIA': 'Airborne', 'AIRBORNE EXTREME LLC': 'Airborne', 'AirBorne WindSport': 'Airborne', 'Airborne Windsports': 'Airborne', 'AIRBORNE WINDSPORTS': 'Airborne', 'Airborne Windsports Ltd': 'Airborne', 'AIRBORNE WINDSPORTS PTY LTD': 'Airborne', 'Airborne Windsports PTY LTD': 'Airborne', 'AIRBORNE': 'Airborne', 'AIRBUS': 'Airbus', 'AIRBUS HELICOPTERS': 'Airbus Helicopters', 'AIRBUS HELICOPTER': 'Airbus Helicopters', 'Airbus Helicopters (Eurocopte': 'Airbus Helicopters', 'Airbus Helicopters Deutschland': 'Airbus Helicopters', 'AIRBUS HELICOPTERS INC': 'Airbus Helicopters', 'Airbus Industrie': 'Airbus', 'AIRBUS INDUSTRIE': 'Airbus', 'AIRCRAFT MFG & DEVELOPMENT CO': 'Aircraft Mfg & Dev. Co.', 'Aircraft Mfg & Dev. Co. (amd)': 'Aircraft Mfg & Dev. Co.', 'Aircraft Mfg & Dev. Co. (AMD)':'Aircraft Mfg & Dev. Co.', 'Aircraft Mfg & Development Co.': 'Aircraft Mfg & Dev. Co.', 'AIRCRAFT MFG & DVLPMT CO': 'Aircraft Mfg & Dev. Co.', 'ALON': 'Alon', 'AMERICAN': 'American Aviation', 'American': 'American Aviation', 'AMERICAN AVIATION': 'American Aviation', 'American Aviation Corp. (aac)': 'American Aviation', 'AMERICAN CHAMPION': 'American Champion', 'American Champion (acac)': 'American Champion', 'American Champion (ACAC)': 'American Champion', 'American Champion Aircraft': 'American Champion', 'AMERICAN CHAMPION AIRCRAFT': 'American Champion', 'American Champion Aircraft Cor': 'American Champion', 'AMERICAN EUROCOPTER CORP': 'American Eurocopter', 'AMERICAN GENERAL ACFT CORP': 'American General Aircraft', 'American Legand Aircraft': 'American Legend', 'AMERICAN LEGEND': 'American Legend', 'AMERICAN LEGEND AIRCRAFT CO': 'American Legend', 'American Legend Aircraft Co.': 'American Legend', 'Anderson': 'Anderson Aircraft Corp.', 'Atr': 'ATR', 'AVIAT': 'Aviat', 'AVIAT AIRCRAFT': 'Aviat', 'Aviat Aircraft Inc': 'Aviat', 'AVIAT AIRCRAFT INC': 'Aviat', 'Aviat Aircraft Inc.': 'Aviat', 'Aviat Aircraft, Inc.': 'Aviat', 'Aviat Inc': 'Aviat', 'AVIAT INC': 'Aviat', 'Avid': 'Avid Aircraft', 'AVID': 'Avid Aircraft', 'AYERS': 'Ayres', 'Ayers': 'Ayres', 'AYRES': 'Ayres', 'AYRES CORP': 'Ayres', 'Ayres Corporation': 'Ayres', 'AYRES CORPORATION': 'Ayres', 'Bede': 'Bede Aircraft', 'BEDE': 'Bede Aircraft', 'BEECH': 'Beech', 'BEECH AIRCRAFT': 'Beech', 'BEECH AIRCRAFT CO.': 'Beech', 'Beech Aircraft Corp': 'Beech', 'Beech Aircraft Corporation': 'Beech', 'BEECH AIRCRAFT CORPORATION': 'Beech', 'Beechcraft': 'Beech', 'BEECHCRAFT': 'Beech', 'Beechcraft Corporation': 'Beech', 'BOEING': 'Boeing', 'Boeing - Canada (de Havilland)': 'Boeing', 'Boeing (Stearman)': 'Boeing', 'BOEING 777-306ER': 'Boeing', 'Boeing Commercial Airplane Gro': 'Boeing', 'BOEING COMPANY': 'Boeing', 'Boeing Company': 'Boeing', 'BOEING OF CANADA/DEHAV DIV': 'Boeing', 'Boeing Stearman': 'Boeing', 'BOEING-STEARMAN': 'Boeing', 'Boeing-brown': 'Boeing', 'BOMBARDIER': 'Bombardier', 'Bombardier Aerospace, Inc.': 'Bombardier', 'Bombardier Canadair': 'Bombardier', 'BOMBARDIER INC': 'Bombardier', 'BOMBARDIER LEARJET CORP.': 'Bombardier', 'Bombardier, Inc.': 'Bombardier', 'BRITISH AEROSPACE': 'British Aerospace', 'British Aerospace Civil Aircr': 'British Aerospace', 'BRITTEN NORMAN': 'Britten Norman', 'Britten-norman': 'Britten Norman', 'BRITTEN-NORMAN': 'Britten Norman', 'CANADAIR': 'Canadair', 'CANADAIR LTD': 'Canadair', 'CASA': 'Casa', 'Cassult Racer': 'Cassuit', 'CASSUTT': 'Cassuit', 'Cesna': 'Cessna', 'CESSNA': 'Cessna', 'CESSNA AIRCRAFT': 'Cessna', 'CESSNA Aircraft': 'Cessna', 'CESSNA AIRCRAFT CO': 'Cessna', 'Cessna Aircraft Co.': 'Cessna', 'CESSNA AIRCRAFT COMPANY': 'Cessna', 'Cessna Aircraft Company': 'Cessna', 'Cessna Ector': 'Cessna', 'CESSNA ECTOR': 'Cessna', 'Cessna Reems': 'Cessna', 'CESSNA REIMS': 'Cessna', 'Cessna Robertson': 'Cessna', 'Cessna Skyhawk II': 'Cessna', 'Cessna Soloy': 'Cessna', 'Cessna Wren': 'Cessna', 'CESSNA/AIR REPAIR INC': 'Cessna', 'CESSNA/WEAVER': 'Cessna', 'CHALLENGER': 'Challenger', 'Challenger Ii': 'Challenger', 'CHAMBERLAIN GERALD': 'Chamberlain', 'CHAMBERLIN VICTOR WAYNE': 'Chamberlain', 'CHAMPION': 'Champion', 'CHANCE VOUGHT': 'Chance Vought', 'CHRISTEN INDUSTRIES INC': 'Christen Industries', 'Christen Industries, Inc.': 'Christen Industries', 'CIRRUS': 'Cirrus', 'Cirrus Design': 'Cirrus', 'CIRRUS DESIGN': 'Cirrus', 'Cirrus Design Corp': 'Cirrus', 'CIRRUS DESIGN CORP': 'Cirrus', 'Cirrus Design Corp.': 'Cirrus', 'CIRRUS DESIGN CORP.': 'Cirrus', 'Cirrus Design Corporation': 'Cirrus', 'CIRRUS DESIGN CORPORATION': 'Cirrus', 'CLASSIC AIRCRAFT CORP': 'Classic Aircraft Corp', 'Classic Aircraft Corp.': 'Classic Aircraft Corp', 'COLUMBIA': 'Columbia', 'Columbia Aircraft': 'Columbia', 'Columbia Aircraft Mfg': 'Columbia', 'COLUMBIA AIRCRAFT MFG': 'Columbia', 'Columbia Aircraft Mfg.': 'Columbia', 'COMMANDER': 'Commander', 'Commander Aircraft': 'Commander', 'COMMANDER AIRCRAFT CO': 'Commander', 'Commander Aircraft Company': 'Commander', 'CONSOLIDATED AERONAUTICS': 'Consolidated Aero', 'Consolidated Aeronautics Inc.': 'Consolidated Aero', 'CONSOLIDATED AERONAUTICS INC.': 'Consolidated Aero', 'Consolidated Aeronautics, Inc': 'Consolidated Aero', 'Consolidated Aeronautics, Inc.': 'Consolidated Aero', 'CONSOLIDATED VULTEE': 'Consolidated Aero', 'Consolidated-vultee': 'Consolidated Aero', 'CONVAIR': 'Convair', 'Convair Div. Of Gen. Dynamics': 'Convair', 'COSTRUZIONI AERONAUTICHE TECNA': 'Costruzioni', 'Costruzioni Aeronautiche': 'Costruzioni', 'Costruzioni AeronauticheTecnam': 'Costruzioni', 'CUB CRAFTER': 'Cub Crafters', 'CUB CRAFTERS': 'Cub Crafters', 'CUB CRAFTERS INC': 'Cub Crafters', 'Cub Crafters Inc': 'Cub Crafters', 'Cub Crafters Inc.': 'Cub Crafters', 'Cub Crafters, Inc.': 'Cub Crafters', 'Cubcrafter': 'Cub Crafters', 'Cubcrafters': 'Cub Crafters', 'CUBCRAFTERS': 'Cub Crafters', 'CubCrafters': 'Cub Crafters', 'CUBCRAFTERS INC': 'Cub Crafters', 'CubCrafters Inc': 'Cub Crafters', 'Cubcrafters, Inc': 'Cub Crafters', 'CubCrafters, Inc': 'Cub Crafters', 'CULVER': 'Culver', 'CULVER GLENN': 'Culver', 'Culver-revolution': 'Culver', 'Culver, Aurther L.': 'Culver', 'CURTIS JOHN P': 'Curtiss Wright', 'Curtis-travel Air': 'Curtiss Wright', 'Curtis-wright': 'Curtiss Wright', 'CURTISS': 'Curtiss Wright', 'CURTISS WRIGHT': 'Curtiss Wright', 'Curtiss-wright': 'Curtiss Wright', 'Curtiss-Wright': 'Curtiss Wright', 'CZECH': 'Czech Aircraft Works', 'CZECH AIRCRAFT WORKS': 'Czech Aircraft Works', 'CZECH AIRCRAFT WORKS SPOL SRO': 'Czech Aircraft Works', 'Czech Aircraft Works SPOL SRO': 'Czech Aircraft Works', 'Czech Aircraft Works Spol Sro': 'Czech Aircraft Works', 'Czech Sport Aircraft': 'Czech Sport', 'CZECH SPORT AIRCRAFT A S': 'Czech Sport', 'Czech Sport Aircraft a.s.': 'Czech Sport', 'Czech Sport Aircraft AS': 'Czech Sport', 'CZECH SPORT AIRCRAFT AS': 'Czech Sport', 'CZECH SPORTPLANES SRO': 'Czech Sport', 'DASSAULT': 'Dassault', 'Dassault Aviation': 'Dassault', 'DASSAULT AVIATION': 'Dassault', 'Dassault Falcon': 'Dassault', 'Dassault-breguet': 'Dassault', 'DASSAULT-BREGUET': 'Dassault', 'Dassault-Breguet': 'Dassault', 'Dassault/sud': 'Dassault', 'DASSAULT/SUD': 'Dassault', 'DE HAVILLAND': 'de Havilland', 'De Havilland': 'de Havilland', 'Dehavilland': 'de Havilland', 'DEHAVILLAND': 'de Havilland', 'DeHavilland': 'de Havilland', 'DEHAVILLAND CANADA': 'de Havilland', 'DIAMOND': 'Diamond', 'Diamond Aicraft Industries Inc': 'Diamond', 'Diamond Aircraft': 'Diamond', 'DIAMOND AIRCRAFT': 'Diamond', 'DIAMOND AIRCRAFT IND GMBH': 'Diamond', 'Diamond Aircraft Industries': 'Diamond', 'DIAMOND AIRCRAFT INDUSTRIES': 'Diamond', 'DIAMOND AIRCRAFT INDUSTRIES IN': 'Diamond', 'Diamond Aircraft Industry Inc': 'Diamond', 'DORNIER': 'Dornier', 'DORNIER GMBH': 'Dornier', 'DOUGLAS': 'Douglas', 'DOWNER': 'Downer', 'Downer Aircraft Industries': 'Downer', 'EAGLE': 'Eagle', 'Eagle (ultralight)': 'Eagle', 'EAGLE AIRCRAFT CO': 'Eagle', 'Eagle Aircraft Co.': 'Eagle', 'ECLIPSE AVIATION': 'Eclipse Aviation', 'ECLIPSE AVIATION CORP': 'Eclipse Aviation', 'Eclipse Aviation Corporation': 'Eclipse Aviation', 'EDGE': 'Edge', 'EIPPER': 'Eipper', 'Eipper Formance': 'Eipper', 'EIPPER FORMANCE INC': 'Eipper', 'Eipper Mx Ii Quicksilver': 'Eipper', 'Eipper Quicksilver': 'Eipper', 'Eipper Quicksiver E': 'Eipper', 'Eipper-formance': 'Eipper', 'EMBRAER': 'Embraer', 'Embraer Aircraft': 'Embraer', 'EMBRAER EXECUTIVE AIRCRAFT INC': 'Embraer', 'EMBRAER S A': 'Embraer', 'EMBRAER-EMPRESA BRASILEIRA DE': 'Embraer', 'ENGINEERING & RESEARCH': 'Engineering & Research', 'Engineering and Research': 'Engineering & Research', 'ENSTROM': 'Enstrom', 'ENSTROM HELICOPTER CORP': 'Enstrom', 'ERCOUPE': 'Ercoupe', 'Ercoupe (eng & Research Corp.)': 'Ercoupe', 'EUROCOPTER': 'Eurocopter', 'Eurocopter Deutsch': 'Eurocopter', 'Eurocopter Deutschland': 'Eurocopter', 'Eurocopter Deutschland Gmbh': 'Eurocopter', 'EUROCOPTER DEUTSCHLAND GMBH': 'Eurocopter', 'Eurocopter France': 'Eurocopter', 'EUROCOPTER FRANCE': 'Eurocopter', 'EUROPA': 'Europa', 'Europa Aviation Inc': 'Europa', 'EVEKTOR AEROTECHNIK': 'Evektor Aerotechnik', 'Evektor Aerotechnik': 'Evektor Aerotechnik', 'Evektor Aerotechnik AS': 'Evektor Aerotechnik', 'Evektor-aerotechnik': 'Evektor Aerotechnik', 'Evektor-aerotechnik A.s.': 'Evektor Aerotechnik', 'Evektor-aerotechnik As': 'Evektor Aerotechnik', 'EVEKTOR-AEROTECHNIK AS': 'Evektor Aerotechnik', 'Evektor-Aerotechnik AS': 'Evektor Aerotechnik', 'EXTRA': 'Extra', 'Extra Flugzeugbau': 'Extra', 'EXTRA FLUGZEUGBAU': 'Extra', 'Extra Flugzeugbau Gmbh': 'Extra', 'EXTRA FLUGZEUGBAU GMBH': 'Extra', 'EXTRA Flugzeugproduktions-GMBH': 'Extra', 'Extra Flugzeugproduktions-und': 'Extra', 'EXTRA FLUGZEUGPRODUKTIONS-UND': 'Extra', 'Extra Flugzeugrau Gmbh': 'Extra', 'FAIRCHILD': 'Fairchild', 'Fairchild Industries': 'Fairchild', 'Fairchild Swearingen': 'Fairchild', 'Fairchild/swearingen': 'Fairchild', 'FAIRCHILD(HOWARD)': 'Fairchild', 'Fairchild Heli-porter': 'Fairchild', 'FAIRCHILD HELI-PORTER': 'Fairchild', 'Fairchild-heliporter': 'Fairchild', 'FAIRCHILD HILLER': 'Fairchild Hiller', 'FANTASY AIR': 'Fantasy Air', 'FANTASY AIR SRO': 'Fantasy Air', 'Fantasy Sky Promotions': 'Fantasy Air', 'FIELDS': 'Fields', 'FISHER': 'Fisher', 'Fischer': 'Fisher', 'Fisher Aero': 'Fisher', 'Fisher Flying Products': 'Fisher', 'FISHER FLYING PRODUCTS': 'Fisher', 'FISHER HAROLD R': 'Fisher', 'FISHER MICHAEL E': 'Fisher', 'FISHER MICHAEL H': 'Fisher', 'FLEET': 'Fleet', 'FLIGHT DESIGN': 'Flight Design', 'FLIGHT DESIGN GENERAL AVN GMBH': 'Flight Design', 'Flight Design Gmbh': 'Flight Design', 'FLIGHT DESIGN GMBH': 'Flight Design', 'Flight Design GMBH': 'Flight Design', 'Flight Star': 'Flightstar', 'FLIGHTSTAR': 'Flightstar', 'FLIGHTstar': 'Flightstar', 'FLIGHTSTAR INC': 'Flightstar', 'FLIGHTSTAR SPORTPLANES': 'Flightstar', 'Flightstar Sportplanes': 'Flightstar', 'FOKKER': 'Fokker', 'FOUND ACFT CANADA INC': 'Found Aircraft Canada', 'Found Acft': 'Found Aircraft Canada', 'Found Aircraft Canada Inc': 'Found Aircraft Canada', 'GARLICK': 'Garlick', 'Garlick Helicipters Inc.': 'Garlick', 'GARLICK HELICOPTERS INC': 'Garlick', 'Garlick Helicopters Inc.': 'Garlick', 'Gates Lear Jet': 'Gates Learjet', 'GATES LEAR JET': 'Gates Learjet', 'GATES LEAR JET CORP.': 'Gates Learjet', 'GATES LEARJET': 'Gates Learjet', 'GATES LEARJET CORP': 'Gates Learjet', 'GATES LEARJET CORP.': 'Gates Learjet', 'Gates Learjet Corporation':'Gates Learjet', 'GENERAL ATOMICS': 'General Atomics', 'GLASAIR': 'Glasair', 'Glasair Aviation LLC': 'Glasair', 'GLASAIR AVIATION USA LLC': 'Glasair', 'Glasair Iii': 'Glasair', 'Glassair': 'Glasair', 'Glassair Iii': 'Glasair', 'GLOBE': 'Globe', 'Globe Swift': 'Globe', 'GREAT LAKES': 'Great Lakes', 'Great Lakes Adams': 'Great Lakes', 'Great Lakes Aircraft Company': 'Great Lakes', 'GRUMMAN': 'Grumman', 'Grumman Acft Eng': 'Grumman', 'GRUMMAN ACFT ENG COR': 'Grumman', 'GRUMMAN ACFT ENG COR-SCHWEIZER': 'Grumman', 'GRUMMAN AIRCRAFT': 'Grumman', 'GRUMMAN AIRCRAFT COR-SCHWEIZER': 'Grumman', 'GRUMMAN AIRCRAFT ENG CORP': 'Grumman', 'Grumman American': 'Grumman', 'GRUMMAN AMERICAN': 'Grumman', 'Grumman American Aviation': 'Grumman', 'GRUMMAN AMERICAN AVIATION CORP': 'Grumman', 'GRUMMAN AMERICAN AVN. CORP': 'Grumman', 'Grumman American Avn. Corp.': 'Grumman', 'GRUMMAN AMERICAN AVN. CORP.': 'Grumman', 'GRUMMAN American Corporation': 'Grumman', 'Grumman Schweizer': 'Grumman', 'GRUMMAN SCHWEIZER': 'Grumman', 'Grumman-schweizer': 'Grumman', 'Grumman-Schweizer': 'Grumman', 'GULFSTREAM': 'Gulfstream', 'Gulfstream Aerospace': 'Gulfstream', 'GULFSTREAM AEROSPACE': 'Gulfstream', 'Gulfstream Aerospace Corp': 'Gulfstream', 'Gulfstream Aerospace Corp.': 'Gulfstream', 'Gulfstream Aerospace LP': 'Gulfstream', 'GULFSTREAM AM CORP COMM DIV': 'Gulfstream', 'Gulfstream American': 'Gulfstream', 'Gulfstream American Corp': 'Gulfstream', 'GULFSTREAM AMERICAN CORP': 'Gulfstream', 'Gulfstream American Corp.': 'Gulfstream', 'GULFSTREAM AMERICAN CORP.': 'Gulfstream', 'GULFSTREAM SCHWEIZER A/C CORP': 'Gulfstream', 'Gulfstream-schweizer': 'Gulfstream', 'GULFSTREAM-SCHWEIZER': 'Gulfstream', 'HALL': 'Hall', 'Hall Christen Eagle': 'Hall', 'HALL DON H': 'Hall', 'HALL JEFFREY': 'Hall', 'HALL STEVEN C': 'Hall', 'HALL TERRENCE / HALL CATHIE': 'Hall', 'HALL THOMAS K': 'Hall', 'Hall-cavalier': 'Hall', 'HALL, WENDALL W': 'Hall', 'Hamilton Stoddard': 'Hamilton', 'HAWKER': 'Beech', 'HAWKER AIRCRAFT LTD': 'Beech', 'Hawker Aircraft Ltd': 'Beech', 'Hawker Aircraft Ltd.': 'Beech', 'Hawker Beech': 'Beech', 'HAWKER BEECH': 'Beech', 'Hawker Beechcraft': 'Beech', 'HAWKER BEECHCRAFT': 'Beech', 'HAWKER BEECHCRAFT CORP': 'Beech', 'Hawker Beechcraft Corp.': 'Beech', 'Hawker Beechcraft Corporation': 'Beech', 'HAWKER BEECHCRAFT CORPORATION': 'Beech', 'Hawker Siddeley': 'Hawker', 'HAWKER SIDDELEY': 'Hawker', 'Hawker Siddely': 'Hawker', 'Hawker-beechcraft': 'Beech', 'Hawker-Beechcraft': 'Beech', 'Hawker-Beechcraft Corporation': 'Beech', 'Helie': 'Helio', 'HELIO': 'Helio', 'Helio Aircraft Ltd': 'Helio', 'HILLER': 'Hiller', 'Hiller-osborn': 'Hiller', 'HILLER-ROGERSON HELICOPTER': 'Hiller', 'Hiller-soloy': 'Hiller', 'HILLER-TRI-PLEX IND.INC.': 'Hiller', 'HONDA AIRCRAFT': 'Honda Aircraft', 'HONDA AIRCRAFT CO LLC': 'Honda Aircraft', 'Honda Jet': 'Honda Aircraft', 'HOWARD AIRCRAFT': 'Howard Aircraft', 'Howard Aircraft Corp.': 'Howard Aircraft', 'HUGHES': 'Hughes', 'HUGHES HELICOPTERS INC': 'Hughes', 'HUGHES/HELICOPTER ASSOCS INC': 'Hughes', 'HUNTER': 'Hunter', 'HUNTER GEORGE': 'Hunter', 'ICON': 'Icon', 'ICON AIRCRAFT INC': 'Icon', 'INTERPLANE': 'Interplane', 'Interplane Llc': 'Interplane', 'INTERPLANE S R O': 'Interplane', 'Interplane Sro': 'Interplane', 'INTERSTATE': 'Interstate', 'ISRAEL AEROSPACE INDUSTRIESLTD': 'Israel Aircraft Industries', 'ISRAEL AIRCRAFT INDUSTRIES': 'Israel Aircraft Industries', 'JABIRU': 'Jabiru Aircraft', 'JABIRU AIRCRAFT PTY LTD': 'Jabiru Aircraft', 'JABIRU USA SPORT AIRCRAFT': 'Jabiru Aircraft', 'JABIRU USA SPORT AIRCRAFT LLC': 'Jabiru Aircraft', 'JABIRU USA SPORT AIRCRAFT, LLC': 'Jabiru Aircraft', 'JACKSON': 'Jackson', 'JACKSON DENNIS': 'Jackson', 'JACKSON FRED M': 'Jackson', 'JACKSON JEREMIAH D': 'Jackson', 'JONES': 'Jones', 'JONES KENT C': 'Jones', 'JONES PETER M': 'Jones', 'JONES RALPH D': 'Jones', 'JONES RODNEY V': 'Jones', 'JONES RONALD C': 'Jones', 'JUST': 'Just', 'JUST AIRCRAFT': 'Just', 'Just Aircraft Llc': 'Just', 'JUST AIRCRAFT LLC': 'Just', 'Just Aircraft LLC': 'Just', 'KAMAN': 'Kaman', 'KAMAN AEROSPACE CORP': 'Kaman', 'KITFOX': 'Kitfox', 'Kitfox IV': 'Kitfox', 'Kitfox Ten, Inc': 'Kitfox', 'KOLB': 'Kolb', 'KOLB AIRCRAFT CO': 'Kolb', 'KOLB AIRCRAFT INC': 'Kolb', 'Kolb Company': 'Kolb', 'Kolb Twin Star': 'Kolb', 'LAKE': 'Lake', 'Lake John K': 'Lake', 'LANCAIR': 'Lancair', 'Lancair Company': 'Lancair', 'LANCAIR COMPANY': 'Lancair', 'Lanceair': 'Lancair', 'LARSEN': 'Larsen', 'Larsen Charles Bennett': 'Larsen', 'Larson': 'Larsen', 'LARSON': 'Larsen', 'LARSON KEN W': 'Larsen', 'LARSON ROGER H': 'Larsen', 'Larson Smith Miniplane': 'Larsen', 'Larson, C.h.': 'Larsen', 'LEARJET': 'Learjet', 'LEARJET INC': 'Learjet', 'Learjet Inc': 'Learjet', 'LET': 'Let', 'LIBERTY AEROSPACE INCORPORATED': 'Liberty', 'LIBERTY AEROSPACE': 'Liberty', 'Liberty Aerospace': 'Liberty', 'Liberty Aerospace Inc.': 'Liberty', 'Liberty Aerospace Incorporate': 'Liberty', 'Liberty Aerospace, Inc.': 'Liberty', 'LINDSTRAND': 'Lindstrand', 'Lindstrand Balloons': 'Lindstrand', 'LINDSTRAND BALLOONS': 'Lindstrand', 'LINDSTRAND BALLOONS USA': 'Lindstrand', 'LINSTRAND': 'Lindstrand', 'LOCKHEED': 'Lockheed', 'Lockheed-martin': 'Lockheed', 'LOCKWOOD': 'Lockwood', 'LOCKWOOD AIRCRAFT CORP': 'Lockwood', 'LONG': 'Long', 'Long E-z-e': 'Long', 'Long Pitts': 'Long', 'Long-ez': 'Long', 'Longjev': 'Long', 'LUSCOMBE': 'Luscombe', 'Luscombe Silvaire Aircraft Co.': 'Luscombe', 'MARTIN CHARLES A': 'Martin', 'Martin Company': 'Martin', 'MARTIN CURTIS': 'Martin', 'MARTIN EDWARD H': 'Martin', 'Martin-pitts': 'Martin', 'Martin/harris': 'Martin', 'MAULE': 'Maule', 'Maule Air Inc.': 'Maule', 'MAULE AIRCRAFT CORP': 'Maule', 'MAXAIR': 'Maxair', 'Maxair Aircraft Corp.': 'Maxair', 'MAXAIR DRIFTER': 'Maxair', 'MCCLISH': 'McClish', 'Mcclish': 'McClish', 'Mcdonald': 'Mcdonnell Douglas', 'Mcdonald Douglas': 'Mcdonnell Douglas', 'MCDONNELL DOUGLAS': 'Mcdonnell Douglas', 'MCDONNELL DOUGLAS AIRCRAFT CO': 'Mcdonnell Douglas', 'MCDONNELL DOUGLAS CORPORATION': 'Mcdonnell Douglas', 'Mcdonnell-douglas': 'Mcdonnell Douglas', 'MCDONNELL DOUGLAS HELI CO': 'Mcdonnell Douglas Helicopter', 'MCDONNELL DOUGLAS HELICOPTER': 'Mcdonnell Douglas Helicopter', 'McDonnell Douglas Helicopter C': 'Mcdonnell Douglas Helicopter', 'Mcdonnell Douglas Helicopters': 'Mcdonnell Douglas Helicopter', 'McDonnell Douglas Helicopters': 'Mcdonnell Douglas Helicopter', 'MD HELICOPTER': 'Md Helicopter', 'MD Helicopter Inc': 'Md Helicopter', 'MD Helicopters Inc': 'Md Helicopter', 'MD HELICOPTER INC': 'Md Helicopter', 'Md Helicopter Inc.': 'Md Helicopter', 'Md Helicopters': 'Md Helicopter', 'MD HELICOPTERS': 'Md Helicopter', 'MD HELICOPTERS INC': 'Md Helicopter', 'Md Helicopters Inc.': 'Md Helicopter', 'Md Helicopters, Inc.': 'Md Helicopter', 'MD HELICOPTERS, INC.': 'Md Helicopter', 'Messerschmitt-boelkow-blohm': 'Messerschmitt', 'MESSERSCHMITT-BOELKOW-BLOHM': 'Messerschmitt', 'Messerschmitt-bolkow-blohm': 'Messerschmitt', 'MESSERSCHMITT-BOLKOW-BLOHM': 'Messerschmitt', 'MEYER': 'Meyer', 'MEYERS': 'Meyers', 'Meyers Aircraft Co.': 'Meyers', 'MEYERS INDUSTRIES INC': 'Meyers', 'MILLER': 'Miller', 'Miller Air Sports': 'Miller', 'Mitchell Aircraft Corp': 'Mitchell', 'MITSUBISHI': 'Mitsubishi', 'MONOCOUPE': 'Monocoupe', 'Monocoupe Aircraft': 'Monocoupe', 'MOONEY': 'Mooney', 'Mooney Aircraft': 'Mooney', 'Mooney Aircraft Corp': 'Mooney', 'MOONEY AIRCRAFT CORP.': 'Mooney', 'Mooney Aircraft Corporation': 'Mooney', 'MOONEY AIRPLANE CO INC': 'Mooney', 'MOONEY AIRPLANE COMPANY, INC.': 'Mooney', 'MOONEY INTERNATIONAL CORP': 'Mooney', 'MOORE': 'Moore', 'MORAVAN': 'Moravan', 'MORRISEY': 'Morrisey', 'MORRISON': 'Morrison', 'Murphy Aircraft': 'Murphy', 'Murphy Aircraft Mfg, Ltd.': 'Murphy', 'Murphy-charles': 'Murphy', 'Murphey': 'Murphy', 'MYERS': 'Myers', 'NANCHANG': 'Nanchang', 'Nanchang China': 'Nanchang', 'NANCHANG CHINA': 'Nanchang', 'NAVAL AIRCRAFT FACTORY': 'Naval Aircraft Factory', 'Navy': 'Naval Aircraft Factory', 'NAVION': 'Navion', 'NELSON': 'Nelson', 'Nelson/nelson': 'Nelson', 'New Glasair': 'Glasair', 'NEW KOLB AIRCRAFT CO': 'Kolb', 'NEW KOLB AIRCRAFT CO LLC': 'Kolb', 'New Piper': 'Piper', 'NEW PIPER': 'Piper', 'NEW PIPER AIRCRAFT INC': 'Piper', 'New Piper Aircraft, Inc.': 'Piper', 'NEW STANDARD': 'New Standard', 'NORD': 'Nord', 'Nord (sncan)': 'Nord', 'Nord Aviation': 'Nord', 'NORTH AMERICAN': 'North American', 'North American Aviation Div.': 'North American', 'North American Rockwell': 'North American', 'North American Rockwell Corp.': 'North American', 'NORTH AMERICAN-MEDORE': 'North American', 'North American/aero Classics': 'North American', 'North American-aero Classics': 'North American', 'North American-barene': 'North American', 'North American-kenney': 'North American', 'North American-maslon': 'North American', 'NORTH AMERICAN/AERO CLASSICS': 'North American', 'NORTH AMERICAN/SCHWAMM': 'North American', 'NORTH AMERICAN/VICTORIA MNT LT': 'North American', 'NORTH WING': 'North Wing', 'NORTH WING DESIGN': 'North Wing', 'NORTH WING UUM INC': 'North Wing', 'North Wing UUM INC': 'North Wing', 'NORTH WING UUM INC.': 'North Wing', 'NORTHROP': 'Northrop', 'NORTHWING': 'Northwing', 'Northwing Design': 'Northwing', 'NORTHWING DESIGN': 'Northwing', 'PACIFIC AEROSPACE CORP LTD': 'Pacific Aerospace', 'PIAGGIO': 'Piaggio', 'Piaggio Aero Industries S.p.a.': 'Piaggio', 'PIAGGIO AERO INDUSTRIES SPA': 'Piaggio', 'Piaggio Industrie': 'Piaggio', 'PIETENPOL': 'Pietenpol', 'Pietenpol-grega': 'Pietenpol', 'PILATUS': 'Pilatus', 'Pilatus Aircraft': 'Pilatus', 'PILATUS AIRCRAFT LTD': 'Pilatus', 'Pilatus Britten-norman': 'Pilatus', 'PILATUS BRITTEN-NORMAN': 'Pilatus', 'PIPER': 'Piper', 'PIPER / LAUDEMAN': 'Piper', 'Piper Aerostar': 'Piper', 'Piper Aircraft': 'Piper', 'PIPER AIRCRAFT': 'Piper', 'PIPER AIRCRAFT CORPORATION': 'Piper', 'Piper Aircraft Corporation': 'Piper', 'PIPER AIRCRAFT INC': 'Piper', 'PIPER AIRCRAFT, INC.': 'Piper', 'Piper Aircraft, Inc.': 'Piper', 'Piper Cub Crafters': 'Piper', 'Piper Pawnee': 'Piper', 'Piper-aerostar': 'Piper', 'PIPER-HARRIS': 'Piper', 'Piper/cub Crafters': 'Piper', 'PIPER/CUB CRAFTERS': 'Piper', 'Piper/Cub Crafters': 'Piper', 'Piper/stevens': 'Piper', 'PIPER/WALLY\\'S FLYERS INC': 'Piper', 'PIPISTREL': 'Pipistrel', 'PIPISTREL D O O': 'Pipistrel', 'PIPISTREL DOO AJDOVSCINA': 'Pipistrel', 'PIPISTREL ITALIA S R L': 'Pipistrel', 'Pipistrel Italia SRL': 'Pipistrel', 'PITCAIRN': 'Pitcairn', 'PITTS': 'Pitts', 'PITTS AEROBATICS': 'Pitts', 'Pitts Special': 'Pitts', 'PITTS SPECIAL': 'Pitts', 'Pitts Spl.': 'Pitts', 'PROGRESSIVE AERODYNE INC': 'Progressive Aerodyne', 'Progressive Aerodyne Inc.': 'Progressive Aerodyne', 'PZL BIELSKO': 'PZL', 'PZL MIELEC': 'PZL', 'PZL OKECIE': 'PZL', 'Pzl Okecie': 'PZL', 'Pzl Swidnik': 'PZL', 'PZL SWIDNIK': 'PZL', 'PZL Warszawa-Okecie': 'PZL', 'Pzl Warzawa-cnpsl': 'PZL', 'Pzl Warzawa-okecie': 'PZL', 'Pzl-bielsko': 'PZL', 'PZL-BIELSKO': 'PZL', 'Pzl-mielec': 'PZL', 'Pzl-okecie': 'PZL', 'Pzl-swidnik': 'PZL', 'PZL-Swidnik': 'PZL', 'PZL-SWIDNIK': 'PZL', 'QUAD CITY': 'Quad City', 'Quad City Aircraft': 'Quad City', 'Quad City Aircraft Corp': 'Quad City', 'Quad City Ultralight': 'Quad City', 'QUAD CITY ULTRALIGHT ACFT CORP': 'Quad City', 'Quad City Ultralight Aircraft': 'Quad City', 'QUAD CITY ULTRALIGHT CORP': 'Quad City', 'Quad City Ultralight, Llc': 'Quad City', 'QUAD CITY ULTRALIGHTS': 'Quad City', 'Quadcity': 'Quad City', 'QUEST': 'Quest', 'QUEST Aircraft Company': 'Quest', 'QUEST AIRCRAFT COMPANY LLC': 'Quest', 'QUESTAIR INC': 'Questair', 'Questair, Inc.': 'Questair', 'Questaire': 'Questair', 'QUICKIE': 'Quickie', 'Quickie Aircraft': 'Quickie', 'Quickie-myers': 'Quickie', 'Quick Silver': 'Quicksilver', 'QUICKSILVER': 'Quicksilver', 'Quicksilver Aircraft': 'Quicksilver', 'QUICKSILVER AIRCRAFT': 'Quicksilver', 'QUICKSILVER AIRCRAFT CO': 'Quicksilver', 'Quicksilver Aircraft Northeast': 'Quicksilver', 'QUICKSILVER EIPPER ACFT INC': 'Quicksilver', 'QUICKSILVER ENTERPRISES INC': 'Quicksilver', 'Quicksilver II': 'Quicksilver', 'Quicksilver Manufacturing': 'Quicksilver', 'QUICKSILVER MANUFACTURING INC': 'Quicksilver', 'QUICKSILVER MFG': 'Quicksilver', 'Quiksilver': 'Quicksilver', 'RANS': 'Rans', 'RANS AIRCRAFT': 'Rans', 'Rans Company': 'Rans', 'RANS DESIGNS INC': 'Rans', 'Rans Employee Flying Club': 'Rans', 'RANS EMPLOYEE FLYING CLUB': 'Rans', 'RANS INC': 'Rans', 'Rans Inc.': 'Rans', 'RANS S-12': 'Rans', 'Rans S-12 Airaile': 'Rans', 'Rans, Inc.': 'Rans', 'Rans/hine': 'Rans', 'Raven Industries': 'Raven', 'RAVEN INDUSTRIES INC': 'Raven', 'RAYTHEON': 'Raytheon', 'Raytheon Aircraft Company': 'Raytheon', 'RAYTHEON AIRCRAFT COMPANY': 'Raytheon', 'Raytheon Co': 'Raytheon', 'RAYTHEON COMPANY': 'Raytheon', 'Raytheon Corporate Jets': 'Raytheon', 'RAYTHEON CORPORATE JETS INC': 'Raytheon', 'REIMS': 'Reims', 'REims': 'Reims', 'Reims Aviation': 'Reims', 'Reims Aviation Cessna': 'Reims', 'REIMS AVIATION S.A.': 'Reims', 'REIMS AVIATION SA': 'Reims', 'Reims-Cessna': 'Reims', 'REIMS-CESSNA': 'Reims', 'REMOS ACFT GMBH FLUGZEUGBAU': 'Remos', 'Remos Aircraft GmbH': 'Remos', 'REMOS AIRCRAFT GMBH': 'Remos', 'Remos Aircraft GMBH': 'Remos', 'Remos Aircraft GMBH Flugzeugba': 'Remos', 'REMOS AIRCRAFT GMBH FLUGZEUGBA': 'Remos', 'REPUBLIC': 'Republic', 'ROBIN': 'Robin', 'ROBINSON': 'Robinson', 'Robinson Helicopter': 'Robinson', 'ROBINSON HELICOPTER': 'Robinson', 'ROBINSON HELICOPTER CO': 'Robinson', 'ROBINSON HELICOPTER CO INC': 'Robinson', 'Robinson Helicopter Co.': 'Robinson', 'Robinson Helicopter Company': 'Robinson', 'ROBINSON HELICOPTER COMPANY': 'Robinson', 'Robinson Helicopters': 'Robinson', 'ROCKWELL': 'Rockwell', 'Rockwell Comdr': 'Rockwell', 'Rockwell Commander': 'Rockwell', 'ROCKWELL COMMANDER': 'Rockwell', 'Rockwell Int\\'t': 'Rockwell', 'Rockwell International': 'Rockwell', 'ROCKWELL INTERNATIONAL': 'Rockwell', 'Rockwell Intl': 'Rockwell', 'ROGERS': 'Rogers', 'ROLLADEN-SCHNEIDER': 'Rolladen Schneider', 'ROLLADEN SCHNEIDER OHG': 'Rolladen Schneider', 'Rolladen-schneider': 'Rolladen Schneider', 'Rolladen-schneider Gmbh': 'Rolladen Schneider', 'ROLLADEN-SCHNEIDER GMBH': 'Rolladen Schneider', 'ROLLADEN-SCHNEIDER OHG': 'Rolladen Schneider', 'Roof': 'Root', 'Root, Arthur T.': 'Root', 'ROSE': 'Rose', 'ROSE HERBERT D': 'Rose', 'Rose Rhinehart': 'Rose', 'Rose Wesley': 'Rose', 'Rose-Rhinehart': 'Rose', 'ROSS ALFRED K/ONEILL TERRENCE': 'Ross', 'ROSS H/HERRIOTT M': 'Ross', 'ROSS JONATHAN': 'Ross', 'Ross/stonecipher': 'Ross', 'ROTORWAY': 'Rotorway', 'Rotorway Aircraft, Inc.': 'Rotorway', 'Rotorway Executive': 'Rotorway', 'Rotoway International': 'Rotorway', 'RUTAN': 'Rutan', 'Rutan Aircraft Factory': 'Rutan', 'RYAN': 'Ryan', 'Ryan Aeronautical': 'Ryan', 'RYAN AERONAUTICAL': 'Ryan', 'Ryan Aeronautics': 'Ryan', 'RYAN JOHN STEFFEY': 'Ryan', 'RYAN W Gross': 'Ryan', 'Ryan-navion': 'Ryan', 'SAAB': 'Saab', 'Saab-fairchild': 'Saab', 'Saab-scania': 'Saab', 'SAAB-SCANIA': 'Saab', 'SAAB-SCANIA AB': 'Saab', 'Saab-scania Ab (saab)': 'Saab', 'Saab-Scania AB (Saab)': 'Saab', 'SCHWEIZER': 'Schweizer', 'Schweizer 300CBi': 'Schweizer', 'Schweizer Aircraft Corp': 'Schweizer', 'SCHWEIZER AIRCRAFT CORP': 'Schweizer', 'Schweizer Aircraft Corp.': 'Schweizer', 'Schweizer Sgs': 'Schweizer', 'Schweizer, N36289': 'Schweizer', 'SCHWEIZER(HUGHES)': 'Schweizer', 'SCHWEIZER(HUGHES)AIRCRAFT CORP': 'Schweizer', 'Scottish': 'Scottish Aviation', 'SCOTTISH AVIATION': 'Scottish Aviation', 'SHORT': 'Short', 'SHORT BROS': 'Short', 'Short Bros.': 'Short', 'SHORT BROS. & HARLAND': 'Short', 'Short Brothers': 'Short', 'SHORT BROTHERS & HARLAND LTD.': 'Short', 'SHORT BROTHERS PLC': 'Short', 'SIAI MARCHETTI': 'Siai Marchetti', 'Siai-marchetti': 'Siai Marchetti', 'SIAI-MARCHETTI': 'Siai Marchetti', 'Siai-Marchetti': 'Siai Marchetti', 'SIKORSKY': 'Sikorsky', 'SIKORSKY AIRCRAFT CORP': 'Sikorsky', 'Sikorsky/orlando': 'Sikorsky', 'SILVAIRE': 'Silvaire', 'SKYKITS': 'Skykits', 'SKYKITS CORP': 'Skykits', 'Skykits Corporation': 'Skykits', 'SKYKITS USA CORP': 'Skykits', 'SMITH': 'Smith', 'Smith & R. Mathews': 'Smith', 'Smith Aerostar': 'Smith', 'SMITH ALBERT F': 'Smith', 'SMITH ALLEN': 'Smith', 'Smith Arthur Fox': 'Smith', 'SMITH BRET B': 'Smith', 'SMITH Capella': 'Smith', 'Smith Carter A': 'Smith', 'Smith Douglas J.': 'Smith', 'SMITH EDWARD I': 'Smith', 'Smith Mini': 'Smith', 'Smith Miniplane': 'Smith', 'SMITH MINIPLANE': 'Smith', 'SMITH VILAS': 'Smith', 'Smith Wylie Jay': 'Smith', 'Smith, Ted Aerostar': 'Smith', 'Smith/davis': 'Smith', 'SNOW': 'Snow', 'SOCATA': 'Socata', 'Socata-Groupe Aerospatiale': 'Socata', 'SONEX': 'Sonex', 'Sonex / John D. McCarter': 'Sonex', 'SONEX AIRCRAFT': 'Sonex', 'SONEX LIMITED': 'Sonex', 'SORENSEN': 'Sorensen', 'SORENSEN DANNY': 'Sorensen', 'SORENSEN DANNY S': 'Sorensen', 'SORENSON': 'Sorensen', 'Sorrel': 'Sorrell', 'Sorrell Aircraft': 'Sorrell', 'STANLEY': 'Stanley', 'STANLEY ARTHUR FREEMAN': 'Stanley', 'STANLEY B E': 'Stanley', 'STANLEY ERNIE SIGURD': 'Stanley', 'Stanley, Davey L': 'Stanley', 'STANTON': 'Stanton', 'Star Duster': 'Starduster', 'Star Duster Too': 'Starduster', 'Starduster Ii': 'Starduster', 'STARDUSTER II': 'Starduster', 'Starduster Too': 'Starduster', 'STAUDACHER AIRCRAFT INC': 'Staudacher', 'Staudacher Aircraft, Inc.': 'Staudacher', 'STAUDACHER HYDROPLANES': 'Staudacher', 'STAUDACHER JON': 'Staudacher', 'Staudaucher': 'Staudacher', 'STEARMAN': 'Stearman', 'STEARMAN AIRCRAFT': 'Stearman', 'STEELE': 'Steele', 'STEELE  JOHN J': 'Steele', 'STEELE RALPH BRUCE': 'Steele', 'STEELE SAMUEL D': 'Steele', 'STEEN': 'Steen', 'Steen Aero Lab': 'Steen', 'Steen Skybolt': 'Steen', 'STINSON': 'Stinson', 'Stits Aircraft': 'Stits', 'Stits Flut-r-bug': 'Stits', 'STITS FLUT-R-BUG': 'Stits', 'Stits Playboy': 'Stits', 'Stits-itrich': 'Stits', 'Stitts': 'Stits', 'STODDARD HAMILTON': 'Stoddard Hamilton', 'Stoddard-Hamilton': 'Stoddard Hamilton', 'STOL': 'Stol', 'Stol Aircraft': 'Stol', 'STOL Aircraft Corp': 'Stol', 'STOL LLC': 'Stol', 'STOLP STARDUSTER': 'Stolp Starduster', 'Stolp Starduster Corp.': 'Stolp Starduster', 'Stolp-adams': 'Stolp Starduster', 'Stolp-starduster Too': 'Stolp Starduster', 'SUKHOI': 'Sukhoi', 'SUTTON': 'Sutton', 'Sutton Tailwind': 'Sutton', 'SUTTON WILLIAM J': 'Sutton', 'SWANSON': 'Swanson', 'Swanson/bensen': 'Swanson', 'SWEARINGEN': 'Swearingen', 'Swearingen T R/masters W': 'Swearingen', 'TAYLOR': 'Taylor', 'Taylor Air Command': 'Taylor', 'Taylor Lonsdale': 'Taylor', 'Taylor Smith': 'Taylor', 'Taylor Titch': 'Taylor', 'TAYLORCRAFT': 'Taylorcraft', 'Taylorcraft Aviation': 'Taylorcraft', 'TAYLORCRAFT AVIATION CORP': 'Taylorcraft', 'TAYLORCRAFT CORP': 'Taylorcraft', 'Taylorcraft Corporation': 'Taylorcraft', 'TECNAM': 'Tecnam', 'TEMCO': 'Temco', 'Temco Luscombe': 'Temco', 'TERATORN': 'Teratorn', 'Teratorn Acft Inc.': 'Teratorn', 'Teratorn Aircraft, Inc.': 'Teratorn', 'Teratron': 'Teratorn', 'TEXAS HELICOPTER CORP': 'Texas Helicopter', 'Texas Helicopter Corp.':'Texas Helicopter', 'Texas Helicopter Corporation': 'Texas Helicopter', 'TEXTRON AVIATION INC': 'Textron Aviation', 'Textron Aviation Inc': 'Textron Aviation', 'THE BOEING COMPANY': 'Boeing', 'THOMPSON': 'Thompson', 'THORP': 'Thorp', 'Thorp Aero, Inc.': 'Thorp', 'Thorpe': 'Thorp', 'THRUSH': 'Thrush', 'THRUSH AIRCRAFT INC': 'Thrush', 'Thrush Aircraft Inc.': 'Thrush', 'THRUSH AIRCRAFT LLC': 'Thrush', 'Thrush Aircraft, Inc.': 'Thrush', 'TITAN': 'Titan', 'TITAN AEROSPACE HOLDINGS INC': 'Titan', 'Titan Aircraft': 'Titan', 'TRAVEL AIR': 'Travel Air', 'TUPOLEV': 'Tupolev', 'Univair Aircraft Corporation': 'Univair', 'UNIVAIR AIRCRAFT CORPORATION': 'Univair', 'Univar': 'Univair', 'UNIVERSAL': 'Universal', 'Universal Aircraft Industries': 'Universal', 'Universal Globe': 'Universal', 'Universal Moulded Pdts.': 'Universal', 'Universal Stinson': 'Universal', 'UNIVERSAL STINSON': 'Universal', 'VANS': 'Vans', 'Vans Aircraft': 'Vans', 'Vans Aircraft Inc': 'Vans', 'VANS AIRCRAFT INC': 'Vans', 'Vans Aircraft, Inc.': 'Vans', 'VARGA AIRCRAFT CORP.': 'Varga', 'VELOCITY INC': 'Velocity', 'VICKERS': 'Vickers', 'WACO': 'Waco', 'Waco Classic Aircraft': 'Waco', 'WACO CLASSIC AIRCRAFT': 'Waco', 'Waco Classic Aircraft Corp': 'Waco', 'WACO CLASSIC AIRCRAFT CORP': 'Waco', 'Waco Classic Aircraft Corp.': 'Waco', 'WEATHERLY': 'Weatherly', 'WEATHERLY AVIATION CO INC': 'Weatherly', 'Weatherly Aviation Company Inc': 'Weatherly', 'WEBER': 'Weber', 'WHEELER': 'Wheeler', 'Wheeler Acft. Co.': 'Wheeler', 'WHEELER C / WHEELER K': 'Wheeler', 'Wheeler Technology, Inc.': 'Wheeler', 'WHITTMAN': 'Whittman', 'Whittman Tailwind': 'Whittman', 'WILSON': 'Wilson', 'Wing Aircraft': 'Wing', 'Wing Aircraft Co.': 'Wing', 'WOOD': 'Wood', 'WSK PZL MIELEC': 'Wsk Pzl Mielec', 'Wsk Pzl Swidnik': 'Wsk Pzl Mielec', 'Wsk Pzl Warzawa-okecie': 'Wsk Pzl Mielec', 'Wsk Pzl-krosno': 'Wsk Pzl Mielec', 'WSK-MIELEC': 'Wsk Pzl Mielec', 'WSK-PZL MEILEC': 'Wsk Pzl Mielec', 'Wsk-pzl Mielec': 'Wsk Pzl Mielec', 'WSK-PZL WARZAWA-OKECIE': 'Wsk Pzl Mielec', 'Wsk-pzl Warzawaokecie': 'Wsk Pzl Mielec', 'WSL PZL': 'Wsk Pzl Mielec', 'XTREMEAIR GMBH': 'Xtremeair GMBH', 'YAKOVLEV': 'Yakovlev', 'YAKOVLEV/CHINNERY': 'Yakovlev', 'YAKOVLEV/DAY': 'Yakovlev', 'ZENAIR': 'Zenair', 'ZENAIR LTD': 'Zenair', 'Zenair Zodiac': 'Zenair', 'ZENITH': 'Zenith', 'ZENITH ACFT CO': 'Zenith', 'ZENITH AIRCRAFT CO': 'Zenith', 'ZIMMERMAN': 'Zimmerman', 'ZIVKO AERONAUTICS INC': 'Zivko', 'Zivko Aeronautics': 'Zivko', 'Zivko Aeronautics Inc.': 'Zivko', 'ZLIN': 'Zlin', 'Zlin Aviation': 'Zlin', 'Zlin Aviation S.r.o.': 'Zlin'}\n",
    "\n",
    "df['Make'] = df['Make'].replace(make_column_name_replace)"
   ]
  },
  {
   "cell_type": "code",
   "execution_count": 22,
   "metadata": {
    "colab": {
     "base_uri": "https://localhost:8080/",
     "height": 1000
    },
    "id": "YVK7fyB0Mk3f",
    "outputId": "d31baea8-7836-4e06-ef79-949369a8bef5"
   },
   "outputs": [
    {
     "data": {
      "text/html": [
       "<div>\n",
       "<style scoped>\n",
       "    .dataframe tbody tr th:only-of-type {\n",
       "        vertical-align: middle;\n",
       "    }\n",
       "\n",
       "    .dataframe tbody tr th {\n",
       "        vertical-align: top;\n",
       "    }\n",
       "\n",
       "    .dataframe thead th {\n",
       "        text-align: right;\n",
       "    }\n",
       "</style>\n",
       "<table border=\"1\" class=\"dataframe\">\n",
       "  <thead>\n",
       "    <tr style=\"text-align: right;\">\n",
       "      <th></th>\n",
       "      <th>count</th>\n",
       "    </tr>\n",
       "    <tr>\n",
       "      <th>Make</th>\n",
       "      <th></th>\n",
       "    </tr>\n",
       "  </thead>\n",
       "  <tbody>\n",
       "    <tr>\n",
       "      <th>Cessna</th>\n",
       "      <td>26839</td>\n",
       "    </tr>\n",
       "    <tr>\n",
       "      <th>Piper</th>\n",
       "      <td>14744</td>\n",
       "    </tr>\n",
       "    <tr>\n",
       "      <th>Beech</th>\n",
       "      <td>5332</td>\n",
       "    </tr>\n",
       "    <tr>\n",
       "      <th>Bell</th>\n",
       "      <td>2706</td>\n",
       "    </tr>\n",
       "    <tr>\n",
       "      <th>Boeing</th>\n",
       "      <td>2652</td>\n",
       "    </tr>\n",
       "    <tr>\n",
       "      <th>Robinson</th>\n",
       "      <td>1625</td>\n",
       "    </tr>\n",
       "    <tr>\n",
       "      <th>Mooney</th>\n",
       "      <td>1322</td>\n",
       "    </tr>\n",
       "    <tr>\n",
       "      <th>Grumman</th>\n",
       "      <td>1080</td>\n",
       "    </tr>\n",
       "    <tr>\n",
       "      <th>Bellanca</th>\n",
       "      <td>1033</td>\n",
       "    </tr>\n",
       "    <tr>\n",
       "      <th>Hughes</th>\n",
       "      <td>931</td>\n",
       "    </tr>\n",
       "    <tr>\n",
       "      <th>Air Tractor</th>\n",
       "      <td>805</td>\n",
       "    </tr>\n",
       "    <tr>\n",
       "      <th>Schweizer</th>\n",
       "      <td>772</td>\n",
       "    </tr>\n",
       "    <tr>\n",
       "      <th>Mcdonnell Douglas</th>\n",
       "      <td>499</td>\n",
       "    </tr>\n",
       "    <tr>\n",
       "      <th>Aeronca</th>\n",
       "      <td>479</td>\n",
       "    </tr>\n",
       "    <tr>\n",
       "      <th>Maule</th>\n",
       "      <td>443</td>\n",
       "    </tr>\n",
       "    <tr>\n",
       "      <th>Champion</th>\n",
       "      <td>426</td>\n",
       "    </tr>\n",
       "    <tr>\n",
       "      <th>De Havilland</th>\n",
       "      <td>370</td>\n",
       "    </tr>\n",
       "    <tr>\n",
       "      <th>Aero Commander</th>\n",
       "      <td>356</td>\n",
       "    </tr>\n",
       "    <tr>\n",
       "      <th>Stinson</th>\n",
       "      <td>342</td>\n",
       "    </tr>\n",
       "    <tr>\n",
       "      <th>Aerospatiale</th>\n",
       "      <td>334</td>\n",
       "    </tr>\n",
       "    <tr>\n",
       "      <th>Rockwell</th>\n",
       "      <td>328</td>\n",
       "    </tr>\n",
       "    <tr>\n",
       "      <th>Luscombe</th>\n",
       "      <td>316</td>\n",
       "    </tr>\n",
       "    <tr>\n",
       "      <th>Taylorcraft</th>\n",
       "      <td>316</td>\n",
       "    </tr>\n",
       "    <tr>\n",
       "      <th>Hiller</th>\n",
       "      <td>311</td>\n",
       "    </tr>\n",
       "    <tr>\n",
       "      <th>North American</th>\n",
       "      <td>294</td>\n",
       "    </tr>\n",
       "    <tr>\n",
       "      <th>AIRBUS</th>\n",
       "      <td>251</td>\n",
       "    </tr>\n",
       "    <tr>\n",
       "      <th>Douglas</th>\n",
       "      <td>250</td>\n",
       "    </tr>\n",
       "    <tr>\n",
       "      <th>Enstrom</th>\n",
       "      <td>247</td>\n",
       "    </tr>\n",
       "    <tr>\n",
       "      <th>Grumman American</th>\n",
       "      <td>222</td>\n",
       "    </tr>\n",
       "    <tr>\n",
       "      <th>CIRRUS DESIGN CORP</th>\n",
       "      <td>218</td>\n",
       "    </tr>\n",
       "    <tr>\n",
       "      <th>Ayres</th>\n",
       "      <td>213</td>\n",
       "    </tr>\n",
       "    <tr>\n",
       "      <th>Ercoupe (eng &amp; Research Corp.)</th>\n",
       "      <td>155</td>\n",
       "    </tr>\n",
       "    <tr>\n",
       "      <th>Sikorsky</th>\n",
       "      <td>153</td>\n",
       "    </tr>\n",
       "    <tr>\n",
       "      <th>AERONCA</th>\n",
       "      <td>149</td>\n",
       "    </tr>\n",
       "    <tr>\n",
       "      <th>MAULE</th>\n",
       "      <td>144</td>\n",
       "    </tr>\n",
       "    <tr>\n",
       "      <th>Swearingen</th>\n",
       "      <td>141</td>\n",
       "    </tr>\n",
       "    <tr>\n",
       "      <th>Lake</th>\n",
       "      <td>136</td>\n",
       "    </tr>\n",
       "    <tr>\n",
       "      <th>Balloon Works</th>\n",
       "      <td>135</td>\n",
       "    </tr>\n",
       "    <tr>\n",
       "      <th>Airbus Industrie</th>\n",
       "      <td>135</td>\n",
       "    </tr>\n",
       "    <tr>\n",
       "      <th>Fairchild</th>\n",
       "      <td>131</td>\n",
       "    </tr>\n",
       "    <tr>\n",
       "      <th>EMBRAER</th>\n",
       "      <td>130</td>\n",
       "    </tr>\n",
       "    <tr>\n",
       "      <th>EUROCOPTER</th>\n",
       "      <td>128</td>\n",
       "    </tr>\n",
       "    <tr>\n",
       "      <th>Pitts</th>\n",
       "      <td>128</td>\n",
       "    </tr>\n",
       "    <tr>\n",
       "      <th>Mitsubishi</th>\n",
       "      <td>126</td>\n",
       "    </tr>\n",
       "    <tr>\n",
       "      <th>Grumman-schweizer</th>\n",
       "      <td>121</td>\n",
       "    </tr>\n",
       "    <tr>\n",
       "      <th>Waco</th>\n",
       "      <td>114</td>\n",
       "    </tr>\n",
       "    <tr>\n",
       "      <th>Aviat</th>\n",
       "      <td>112</td>\n",
       "    </tr>\n",
       "    <tr>\n",
       "      <th>Let</th>\n",
       "      <td>111</td>\n",
       "    </tr>\n",
       "    <tr>\n",
       "      <th>Lockheed</th>\n",
       "      <td>111</td>\n",
       "    </tr>\n",
       "    <tr>\n",
       "      <th>Learjet</th>\n",
       "      <td>109</td>\n",
       "    </tr>\n",
       "    <tr>\n",
       "      <th>Burkhart Grob</th>\n",
       "      <td>109</td>\n",
       "    </tr>\n",
       "    <tr>\n",
       "      <th>Embraer</th>\n",
       "      <td>106</td>\n",
       "    </tr>\n",
       "  </tbody>\n",
       "</table>\n",
       "</div><br><label><b>dtype:</b> int64</label>"
      ],
      "text/plain": [
       "Make\n",
       "Cessna                            26839\n",
       "Piper                             14744\n",
       "Beech                              5332\n",
       "Bell                               2706\n",
       "Boeing                             2652\n",
       "Robinson                           1625\n",
       "Mooney                             1322\n",
       "Grumman                            1080\n",
       "Bellanca                           1033\n",
       "Hughes                              931\n",
       "Air Tractor                         805\n",
       "Schweizer                           772\n",
       "Mcdonnell Douglas                   499\n",
       "Aeronca                             479\n",
       "Maule                               443\n",
       "Champion                            426\n",
       "De Havilland                        370\n",
       "Aero Commander                      356\n",
       "Stinson                             342\n",
       "Aerospatiale                        334\n",
       "Rockwell                            328\n",
       "Luscombe                            316\n",
       "Taylorcraft                         316\n",
       "Hiller                              311\n",
       "North American                      294\n",
       "AIRBUS                              251\n",
       "Douglas                             250\n",
       "Enstrom                             247\n",
       "Grumman American                    222\n",
       "CIRRUS DESIGN CORP                  218\n",
       "Ayres                               213\n",
       "Ercoupe (eng & Research Corp.)      155\n",
       "Sikorsky                            153\n",
       "AERONCA                             149\n",
       "MAULE                               144\n",
       "Swearingen                          141\n",
       "Lake                                136\n",
       "Balloon Works                       135\n",
       "Airbus Industrie                    135\n",
       "Fairchild                           131\n",
       "EMBRAER                             130\n",
       "EUROCOPTER                          128\n",
       "Pitts                               128\n",
       "Mitsubishi                          126\n",
       "Grumman-schweizer                   121\n",
       "Waco                                114\n",
       "Aviat                               112\n",
       "Let                                 111\n",
       "Lockheed                            111\n",
       "Learjet                             109\n",
       "Burkhart Grob                       109\n",
       "Embraer                             106\n",
       "Name: count, dtype: int64"
      ]
     },
     "execution_count": 22,
     "metadata": {},
     "output_type": "execute_result"
    }
   ],
   "source": [
    "# List of unique values from Make column with valuecounts over 100\n",
    "df['Make'].value_counts()[df['Make'].value_counts() > 100]"
   ]
  },
  {
   "cell_type": "markdown",
   "metadata": {},
   "source": [
    "Let's take a look at a handful of Makes from the top of the list and see their categories"
   ]
  },
  {
   "cell_type": "code",
   "execution_count": 47,
   "metadata": {
    "colab": {
     "base_uri": "https://localhost:8080/"
    },
    "id": "SwYIS9wEMofO",
    "outputId": "56921a3e-b8c4-49ee-96ba-ce863aac10cf"
   },
   "outputs": [
    {
     "name": "stdout",
     "output_type": "stream",
     "text": [
      "Make\n",
      "Beech                               [nan, Airplane]\n",
      "Bell                    [Helicopter, nan, Airplane]\n",
      "Boeing    [Airplane, nan, Powered-Lift, Helicopter]\n",
      "Piper                               [nan, Airplane]\n",
      "Name: Aircraft_Category, dtype: object\n"
     ]
    }
   ],
   "source": [
    "makes_list = ['Piper', 'Beech', 'Bell', 'Boeing']\n",
    "unique_categories_per_make = df[df['Make'].isin(makes_list)].groupby('Make')['Aircraft_Category'].unique()\n",
    "\n",
    "print(unique_categories_per_make)"
   ]
  },
  {
   "cell_type": "markdown",
   "metadata": {},
   "source": [
    "So Beech and Piper are definitely all airplane. After going through all the aircraft category values and comparing with the Make column, I've compiled a list of Make values that can be filled in under category, replacing the NaN values."
   ]
  },
  {
   "cell_type": "code",
   "execution_count": 48,
   "metadata": {
    "id": "00g6Axx4NMtu"
   },
   "outputs": [],
   "source": [
    "# fill in all balloon NaNs under aircraft category for the Balloon only Makes\n",
    "df.loc[df['Make'].isin(['Balloon Works', 'Aerostar', 'Raven', 'Cameron', 'Adams Balloon', 'Thunder And Colt', 'Barnes']), 'Aircraft_Category'] = 'Balloon'\n",
    "\n",
    "# fill in all gyrocraft NaNs under aircraft category for the Gyrocraft only Makes\n",
    "df.loc[df['Make'].isin(['Bensen', 'Benson', 'Air & Space']), 'Aircraft_Category'] = 'Gyrocraft'\n",
    "\n",
    "# fill in all ultralight NaNs under aircraft category for the Ultralight only Makes\n",
    "df.loc[df['Make'].isin(['Pterodactyl', 'Weedhopper', 'American Aerolights']), 'Aircraft_Category'] = 'Ultralight'\n",
    "\n",
    "# fill in all glider NaNs under aircraft category for the Glider only Makes\n",
    "df.loc[df['Make'].isin(['Burkhart Grob', 'Let', 'Schleicher', 'Schempp-hirth', 'Rolladen Schneider', 'I.c.a. Brasov', 'Glasflugel', 'Glaser-dirks', 'Eiriavion Oy']), 'Aircraft_Category'] = 'Glider'\n",
    "\n",
    "# fill in all helicopter NaNs under aircraft category for the Helicopter only Makes\n",
    "df.loc[df['Make'].isin(['Robinson', 'Bell', 'Hughes', 'Eurocopter', 'Schweizer', 'Aerospatiale', 'Hiller', 'Enstrom', 'Sikorsky', 'Mbb', 'Rotorway', 'Brantly Helicopter', 'Kaman', 'Fairchild Hiller', 'Agusta', 'Continental Copters', 'Texas Helicopter', 'Garlick']), 'Aircraft_Category'] = 'Helicopter'\n",
    "\n",
    "# fill in all airplane NaNs under aircraft category for the Airplane only Makes\n",
    "df.loc[df['Make'].isin(['Cessna', 'Piper', 'Beech', 'Boeing', 'Mooney', 'Grumman', 'Bellanca', 'Air Tractor', 'Aeronca', 'Maule', 'Champion', 'de Havilland', 'Aero', 'Commander', 'Rockwell', 'Stinson', 'Mcdonnell Douglas', 'Taylorcraft', 'North American', 'Luscombe', 'Douglas', 'Ayres', 'Ercoupe', 'Gulfstream', 'Airbus', 'Fairchild', 'Pitts', 'Swearingen', 'Lake', 'Mitsubishi', 'Waco', 'Ryan', 'Lockheed', 'Learjet', 'Helio', 'Smith', 'Embraer', 'Wsk Pzl Mielec', 'British Aerospace', 'American Aviation', 'Aviat', 'Globe', 'Weatherly', 'Cirrus', 'Gates Learjet', 'Saab', 'Navion', 'Canadair', 'Dassault', 'Socata', 'Fokker', 'Bombardier', 'Christen Industries', 'Great Lakes', 'Eagle', 'Eipper', 'Convair', 'Consolidated Aero', 'Short', 'Aerotek', 'Britten Norman', 'Raytheon', 'Pilatus', 'Diamond', 'Alon', 'Hawker', 'American Champion', 'Republic', 'Homebuilt', 'Rans', 'Dornier', 'Siai Marchetti', 'Israel Aircraft Industries', 'Snow', 'Yakovlev', 'Quicksilver', 'Lancair', 'Callair', 'Varga', 'Quickie', 'Extra', 'Curtiss Wright', 'Kolb', 'Glasair', 'ATR', 'Casa', 'Temco', 'Johnson', 'Classic Aircraft Corp', 'Davis', 'Miller', 'Forney', 'Interstate', 'Sukhoi', 'Artic Aircraft Corp.', 'Vans', 'Rotec', 'Thorp', 'Anderson Aircraft Corp.', 'American General Aircraft', 'Culver', 'Mitchell', 'Stearman', 'Aerofab Inc.', 'Hall', 'Taylor', 'Nord', 'Jones', 'Hispano Aviacion', 'Young', 'Rutan', 'Naval Aircraft Factory', 'Howard Aircraft', 'Steen', 'Teratorn', 'Meyers', 'Partenavia', 'Starduster', 'Maxair', 'Bede Aircraft', 'Martin']), 'Aircraft_Category'] = 'Airplane'"
   ]
  },
  {
   "cell_type": "code",
   "execution_count": 49,
   "metadata": {},
   "outputs": [
    {
     "data": {
      "text/plain": [
       "Make\n",
       "Aero Commander       318\n",
       "PZL                   36\n",
       "Unknown               17\n",
       "Air Command           17\n",
       "BELL                  12\n",
       "                    ... \n",
       "Greth                  1\n",
       "Robert D. Waldron      1\n",
       "Alkire                 1\n",
       "Donald L. Betchan      1\n",
       "BELLANCA               1\n",
       "Name: count, Length: 3651, dtype: int64"
      ]
     },
     "execution_count": 49,
     "metadata": {},
     "output_type": "execute_result"
    }
   ],
   "source": [
    "# Make values whose Aircraft_Category value is NaN\n",
    "df[df['Aircraft_Category'].isna()]['Make'].value_counts()"
   ]
  },
  {
   "cell_type": "code",
   "execution_count": 50,
   "metadata": {},
   "outputs": [
    {
     "data": {
      "text/plain": [
       "Aircraft_Category\n",
       "NaN         318\n",
       "Airplane    107\n",
       "Name: count, dtype: int64"
      ]
     },
     "execution_count": 50,
     "metadata": {},
     "output_type": "execute_result"
    }
   ],
   "source": [
    "# check out Aero Commander values under category to see if it can be filled in\n",
    "df[df['Make'] == 'Aero Commander']['Aircraft_Category'].value_counts(dropna=False)"
   ]
  },
  {
   "cell_type": "code",
   "execution_count": null,
   "metadata": {},
   "outputs": [],
   "source": [
    "\n"
   ]
  }
 ],
 "metadata": {
  "colab": {
   "provenance": []
  },
  "kernelspec": {
   "display_name": "Python 3 (ipykernel)",
   "language": "python",
   "name": "python3"
  },
  "language_info": {
   "codemirror_mode": {
    "name": "ipython",
    "version": 3
   },
   "file_extension": ".py",
   "mimetype": "text/x-python",
   "name": "python",
   "nbconvert_exporter": "python",
   "pygments_lexer": "ipython3",
   "version": "3.12.4"
  }
 },
 "nbformat": 4,
 "nbformat_minor": 4
}
