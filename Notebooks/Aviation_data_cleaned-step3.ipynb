{
 "cells": [
  {
   "cell_type": "code",
   "execution_count": 1,
   "metadata": {
    "colab": {
     "base_uri": "https://localhost:8080/"
    },
    "id": "-9p7dPQGd44c",
    "outputId": "576339a8-42a7-471e-9328-4354a19abeda"
   },
   "outputs": [
    {
     "name": "stdout",
     "output_type": "stream",
     "text": [
      "<class 'pandas.core.frame.DataFrame'>\n",
      "RangeIndex: 87951 entries, 0 to 87950\n",
      "Data columns (total 27 columns):\n",
      " #   Column                  Non-Null Count  Dtype  \n",
      "---  ------                  --------------  -----  \n",
      " 0   Event_Id                87951 non-null  object \n",
      " 1   Investigation_Type      87951 non-null  object \n",
      " 2   Accident_Number         87951 non-null  object \n",
      " 3   Event_Date              87951 non-null  object \n",
      " 4   Location                87899 non-null  object \n",
      " 5   Country                 87729 non-null  object \n",
      " 6   Airport_Code            49484 non-null  object \n",
      " 7   Airport_Name            52031 non-null  object \n",
      " 8   Injury_Severity         86961 non-null  object \n",
      " 9   Aircraft_damage         84848 non-null  object \n",
      " 10  Aircraft_Category       82168 non-null  object \n",
      " 11  Registration_Number     86601 non-null  object \n",
      " 12  Make                    87888 non-null  object \n",
      " 13  Model                   87859 non-null  object \n",
      " 14  Amateur_Built           87851 non-null  object \n",
      " 15  Number_of_Engines       81924 non-null  float64\n",
      " 16  Engine_Type             80908 non-null  object \n",
      " 17  FAR_Description         31915 non-null  object \n",
      " 18  Purpose_of_flight       81829 non-null  object \n",
      " 19  Total_Fatal_Injuries    76684 non-null  float64\n",
      " 20  Total_Serious_Injuries  75629 non-null  float64\n",
      " 21  Total_Minor_Injuries    76191 non-null  float64\n",
      " 22  Total_Uninjured         82088 non-null  float64\n",
      " 23  Weather_Condition       83478 non-null  object \n",
      " 24  Broad_phase_of_flight   87951 non-null  object \n",
      " 25  Report_Status           81587 non-null  object \n",
      " 26  Publication_Date        74352 non-null  object \n",
      "dtypes: float64(5), object(22)\n",
      "memory usage: 18.1+ MB\n"
     ]
    }
   ],
   "source": [
    "import pandas as pd\n",
    "import numpy as np\n",
    "import matplotlib.pyplot as plt\n",
    "import seaborn as sns\n",
    "\n",
    "df = pd.read_csv('working-df/cleaned_aviation_data_category2.csv', encoding='latin-1')\n",
    "\n",
    "df.info()"
   ]
  },
  {
   "cell_type": "code",
   "execution_count": 173,
   "metadata": {},
   "outputs": [
    {
     "data": {
      "text/plain": [
       "Aircraft_Category\n",
       "Airplane    6\n",
       "NaN         1\n",
       "Name: count, dtype: int64"
      ]
     },
     "execution_count": 173,
     "metadata": {},
     "output_type": "execute_result"
    }
   ],
   "source": [
    "# Show category value_counts for particular make\n",
    "df[df['Make'] == 'Phillips'].value_counts('Aircraft_Category', dropna=False)"
   ]
  },
  {
   "cell_type": "code",
   "execution_count": 174,
   "metadata": {},
   "outputs": [],
   "source": [
    "# Fill in Aircraft_Category as Airplane for particular make\n",
    "df.loc[df['Make'] == 'Phillips', 'Aircraft_Category'] = 'Airplane'"
   ]
  },
  {
   "cell_type": "code",
   "execution_count": null,
   "metadata": {},
   "outputs": [],
   "source": [
    "# Fill in Aircraft_Category as Helicopter for particular make\n",
    "df.loc[df['Make'] == 'American Eurocopter', 'Aircraft_Category'] = 'Helicopter'"
   ]
  },
  {
   "cell_type": "code",
   "execution_count": 19,
   "metadata": {},
   "outputs": [],
   "source": [
    "# Fill in Aircraft_Category as Balloon for particular make\n",
    "df.loc[df['Make'] == 'Firefly', 'Aircraft_Category'] = 'Balloon'"
   ]
  },
  {
   "cell_type": "code",
   "execution_count": 129,
   "metadata": {},
   "outputs": [],
   "source": [
    "# Fill in Aircraft_Category as Glider for particular make\n",
    "df.loc[df['Make'] == 'Centrair', 'Aircraft_Category'] = 'Glider'"
   ]
  },
  {
   "cell_type": "code",
   "execution_count": 71,
   "metadata": {},
   "outputs": [],
   "source": [
    "# Fill in Aircraft_Category as Gyrocraft for particular make\n",
    "df.loc[df['Make'] == 'Mcculloch', 'Aircraft_Category'] = 'Gyrocraft'"
   ]
  },
  {
   "cell_type": "code",
   "execution_count": 144,
   "metadata": {},
   "outputs": [],
   "source": [
    "# Fill in Aircraft_Category as Weight-Shift for particular make\n",
    "df.loc[df['Make'] == 'Trick Trikes', 'Aircraft_Category'] = 'Weight-Shift'"
   ]
  },
  {
   "cell_type": "code",
   "execution_count": 122,
   "metadata": {},
   "outputs": [],
   "source": [
    "# Fill in Aircraft_Category as Powered Parachute for particular make\n",
    "df.loc[df['Make'] == 'Infinity', 'Aircraft_Category'] = 'Powered Parachute'"
   ]
  },
  {
   "cell_type": "code",
   "execution_count": 43,
   "metadata": {},
   "outputs": [],
   "source": [
    "# Fill in Aircraft_Category as Ultralight for particular make\n",
    "df.loc[df['Make'] == 'Pterodactyl', 'Aircraft_Category'] = 'Ultralight'"
   ]
  },
  {
   "cell_type": "code",
   "execution_count": 175,
   "metadata": {},
   "outputs": [
    {
     "name": "stdout",
     "output_type": "stream",
     "text": [
      "<class 'pandas.core.frame.DataFrame'>\n",
      "RangeIndex: 87951 entries, 0 to 87950\n",
      "Data columns (total 27 columns):\n",
      " #   Column                  Non-Null Count  Dtype  \n",
      "---  ------                  --------------  -----  \n",
      " 0   Event_Id                87951 non-null  object \n",
      " 1   Investigation_Type      87951 non-null  object \n",
      " 2   Accident_Number         87951 non-null  object \n",
      " 3   Event_Date              87951 non-null  object \n",
      " 4   Location                87899 non-null  object \n",
      " 5   Country                 87729 non-null  object \n",
      " 6   Airport_Code            49484 non-null  object \n",
      " 7   Airport_Name            52031 non-null  object \n",
      " 8   Injury_Severity         86961 non-null  object \n",
      " 9   Aircraft_damage         84848 non-null  object \n",
      " 10  Aircraft_Category       82614 non-null  object \n",
      " 11  Registration_Number     86601 non-null  object \n",
      " 12  Make                    87888 non-null  object \n",
      " 13  Model                   87859 non-null  object \n",
      " 14  Amateur_Built           87851 non-null  object \n",
      " 15  Number_of_Engines       81924 non-null  float64\n",
      " 16  Engine_Type             80908 non-null  object \n",
      " 17  FAR_Description         31915 non-null  object \n",
      " 18  Purpose_of_flight       81829 non-null  object \n",
      " 19  Total_Fatal_Injuries    76684 non-null  float64\n",
      " 20  Total_Serious_Injuries  75629 non-null  float64\n",
      " 21  Total_Minor_Injuries    76191 non-null  float64\n",
      " 22  Total_Uninjured         82088 non-null  float64\n",
      " 23  Weather_Condition       83478 non-null  object \n",
      " 24  Broad_phase_of_flight   87951 non-null  object \n",
      " 25  Report_Status           81587 non-null  object \n",
      " 26  Publication_Date        74352 non-null  object \n",
      "dtypes: float64(5), object(22)\n",
      "memory usage: 18.1+ MB\n"
     ]
    }
   ],
   "source": [
    "df.info()"
   ]
  },
  {
   "cell_type": "code",
   "execution_count": 176,
   "metadata": {},
   "outputs": [],
   "source": [
    "df.to_csv('working-df/cleaned_aviation_data_category3.csv', index=False)"
   ]
  },
  {
   "cell_type": "code",
   "execution_count": null,
   "metadata": {},
   "outputs": [],
   "source": []
  }
 ],
 "metadata": {
  "colab": {
   "provenance": []
  },
  "kernelspec": {
   "display_name": "Python 3 (ipykernel)",
   "language": "python",
   "name": "python3"
  },
  "language_info": {
   "codemirror_mode": {
    "name": "ipython",
    "version": 3
   },
   "file_extension": ".py",
   "mimetype": "text/x-python",
   "name": "python",
   "nbconvert_exporter": "python",
   "pygments_lexer": "ipython3",
   "version": "3.12.4"
  }
 },
 "nbformat": 4,
 "nbformat_minor": 4
}
