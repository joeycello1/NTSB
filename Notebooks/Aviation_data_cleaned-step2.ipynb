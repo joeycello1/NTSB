{
 "cells": [
  {
   "cell_type": "code",
   "execution_count": 308,
   "metadata": {
    "colab": {
     "base_uri": "https://localhost:8080/"
    },
    "id": "-9p7dPQGd44c",
    "outputId": "576339a8-42a7-471e-9328-4354a19abeda"
   },
   "outputs": [
    {
     "name": "stderr",
     "output_type": "stream",
     "text": [
      "C:\\Users\\Joseph Harvey\\AppData\\Local\\Temp\\ipykernel_17444\\2880470974.py:6: DtypeWarning: Columns (24) have mixed types. Specify dtype option on import or set low_memory=False.\n",
      "  df = pd.read_csv('working-df/av_data-dropped-col-duplicates.csv', encoding='latin-1')\n"
     ]
    },
    {
     "name": "stdout",
     "output_type": "stream",
     "text": [
      "<class 'pandas.core.frame.DataFrame'>\n",
      "RangeIndex: 87951 entries, 0 to 87950\n",
      "Data columns (total 27 columns):\n",
      " #   Column                  Non-Null Count  Dtype  \n",
      "---  ------                  --------------  -----  \n",
      " 0   Event_Id                87951 non-null  object \n",
      " 1   Investigation_Type      87951 non-null  object \n",
      " 2   Accident_Number         87951 non-null  object \n",
      " 3   Event_Date              87951 non-null  object \n",
      " 4   Location                87899 non-null  object \n",
      " 5   Country                 87729 non-null  object \n",
      " 6   Airport_Code            49484 non-null  object \n",
      " 7   Airport_Name            52031 non-null  object \n",
      " 8   Injury_Severity         86961 non-null  object \n",
      " 9   Aircraft_damage         84848 non-null  object \n",
      " 10  Aircraft_Category       32181 non-null  object \n",
      " 11  Registration_Number     86601 non-null  object \n",
      " 12  Make                    87888 non-null  object \n",
      " 13  Model                   87859 non-null  object \n",
      " 14  Amateur_Built           87851 non-null  object \n",
      " 15  Number_of_Engines       81924 non-null  float64\n",
      " 16  Engine_Type             80908 non-null  object \n",
      " 17  FAR_Description         31915 non-null  object \n",
      " 18  Purpose_of_flight       81829 non-null  object \n",
      " 19  Total_Fatal_Injuries    76684 non-null  float64\n",
      " 20  Total_Serious_Injuries  75629 non-null  float64\n",
      " 21  Total_Minor_Injuries    76191 non-null  float64\n",
      " 22  Total_Uninjured         82088 non-null  float64\n",
      " 23  Weather_Condition       83478 non-null  object \n",
      " 24  Broad_phase_of_flight   60837 non-null  object \n",
      " 25  Report_Status           81587 non-null  object \n",
      " 26  Publication_Date        74352 non-null  object \n",
      "dtypes: float64(5), object(22)\n",
      "memory usage: 18.1+ MB\n"
     ]
    }
   ],
   "source": [
    "import pandas as pd\n",
    "import numpy as np\n",
    "import matplotlib.pyplot as plt\n",
    "import seaborn as sns\n",
    "\n",
    "df = pd.read_csv('working-df/av_data-dropped-col-duplicates.csv', encoding='latin-1')\n",
    "\n",
    "df.info()"
   ]
  },
  {
   "cell_type": "markdown",
   "metadata": {},
   "source": [
    "Let's look at this warning about mixed types in column 24, Broad_phase_of_flight"
   ]
  },
  {
   "cell_type": "code",
   "execution_count": 309,
   "metadata": {},
   "outputs": [
    {
     "data": {
      "text/plain": [
       "0          <class 'str'>\n",
       "1          <class 'str'>\n",
       "2          <class 'str'>\n",
       "3          <class 'str'>\n",
       "4          <class 'str'>\n",
       "              ...       \n",
       "87946    <class 'float'>\n",
       "87947    <class 'float'>\n",
       "87948    <class 'float'>\n",
       "87949    <class 'float'>\n",
       "87950    <class 'float'>\n",
       "Name: Broad_phase_of_flight, Length: 87951, dtype: object"
      ]
     },
     "execution_count": 309,
     "metadata": {},
     "output_type": "execute_result"
    }
   ],
   "source": [
    "# Look at mixed types in Column 24 values including NaN\n",
    "df.iloc[:,24].apply(type)"
   ]
  },
  {
   "cell_type": "code",
   "execution_count": 310,
   "metadata": {},
   "outputs": [
    {
     "data": {
      "text/plain": [
       "Broad_phase_of_flight\n",
       "<class 'str'>      60837\n",
       "<class 'float'>    27114\n",
       "Name: count, dtype: int64"
      ]
     },
     "execution_count": 310,
     "metadata": {},
     "output_type": "execute_result"
    }
   ],
   "source": [
    "df.iloc[:,24].apply(type).value_counts()"
   ]
  },
  {
   "cell_type": "code",
   "execution_count": 311,
   "metadata": {},
   "outputs": [
    {
     "data": {
      "text/plain": [
       "2990     NaN\n",
       "3505     NaN\n",
       "3591     NaN\n",
       "3983     NaN\n",
       "5440     NaN\n",
       "        ... \n",
       "87946    NaN\n",
       "87947    NaN\n",
       "87948    NaN\n",
       "87949    NaN\n",
       "87950    NaN\n",
       "Name: Broad_phase_of_flight, Length: 27114, dtype: object"
      ]
     },
     "execution_count": 311,
     "metadata": {},
     "output_type": "execute_result"
    }
   ],
   "source": [
    "# Show the float values in Column 24\n",
    "df.iloc[:,24][df.iloc[:,24].apply(type) == float]"
   ]
  },
  {
   "cell_type": "markdown",
   "metadata": {},
   "source": [
    "So the float values are referring to NaN values in the column that otherwise consist of string values. Let's fill in the NaN values with the string \"Unknown\", since we would not be able to identify the true value"
   ]
  },
  {
   "cell_type": "code",
   "execution_count": 312,
   "metadata": {},
   "outputs": [
    {
     "data": {
      "text/plain": [
       "Broad_phase_of_flight\n",
       "<class 'str'>    87951\n",
       "Name: count, dtype: int64"
      ]
     },
     "execution_count": 312,
     "metadata": {},
     "output_type": "execute_result"
    }
   ],
   "source": [
    "# Fill in Broad_phase_of_flight NaN values with 'Unknown'\n",
    "df['Broad_phase_of_flight'] = df['Broad_phase_of_flight'].fillna('Unknown')\n",
    "\n",
    "df.iloc[:,24].apply(type).value_counts()"
   ]
  },
  {
   "cell_type": "code",
   "execution_count": 313,
   "metadata": {},
   "outputs": [
    {
     "name": "stdout",
     "output_type": "stream",
     "text": [
      "<class 'pandas.core.frame.DataFrame'>\n",
      "RangeIndex: 87951 entries, 0 to 87950\n",
      "Data columns (total 27 columns):\n",
      " #   Column                  Non-Null Count  Dtype  \n",
      "---  ------                  --------------  -----  \n",
      " 0   Event_Id                87951 non-null  object \n",
      " 1   Investigation_Type      87951 non-null  object \n",
      " 2   Accident_Number         87951 non-null  object \n",
      " 3   Event_Date              87951 non-null  object \n",
      " 4   Location                87899 non-null  object \n",
      " 5   Country                 87729 non-null  object \n",
      " 6   Airport_Code            49484 non-null  object \n",
      " 7   Airport_Name            52031 non-null  object \n",
      " 8   Injury_Severity         86961 non-null  object \n",
      " 9   Aircraft_damage         84848 non-null  object \n",
      " 10  Aircraft_Category       32181 non-null  object \n",
      " 11  Registration_Number     86601 non-null  object \n",
      " 12  Make                    87888 non-null  object \n",
      " 13  Model                   87859 non-null  object \n",
      " 14  Amateur_Built           87851 non-null  object \n",
      " 15  Number_of_Engines       81924 non-null  float64\n",
      " 16  Engine_Type             80908 non-null  object \n",
      " 17  FAR_Description         31915 non-null  object \n",
      " 18  Purpose_of_flight       81829 non-null  object \n",
      " 19  Total_Fatal_Injuries    76684 non-null  float64\n",
      " 20  Total_Serious_Injuries  75629 non-null  float64\n",
      " 21  Total_Minor_Injuries    76191 non-null  float64\n",
      " 22  Total_Uninjured         82088 non-null  float64\n",
      " 23  Weather_Condition       83478 non-null  object \n",
      " 24  Broad_phase_of_flight   87951 non-null  object \n",
      " 25  Report_Status           81587 non-null  object \n",
      " 26  Publication_Date        74352 non-null  object \n",
      "dtypes: float64(5), object(22)\n",
      "memory usage: 18.1+ MB\n"
     ]
    }
   ],
   "source": [
    "df.info()"
   ]
  },
  {
   "cell_type": "markdown",
   "metadata": {},
   "source": [
    "## Aircraft_Category\n",
    "The column for Aircraft_Category is also mostly empty, but that data could be useful. The business is after all seeking data related to types of aircraft and airplanes specifically, so removing the column entirely would not work well. Simply removing all rows that do not have a category entry would greatly reduce the number of total rows available for analysis, and most of those removed would likely be airplanes.\n",
    "\n",
    "I would like to explore the idea of filling in as many of the missing values as I can. This could be done to some extent by making use of the Make column. For example, for all Aircraft_Category entries that are present, if the Make entry is Cessna, then the Aircraft_Category is invariably Airplane. So the missing category entries for Cessnas could reasonably be filled in. The same is true for other Makes like Sikorsky (Helicopter).\n",
    "\n",
    "See below for an example:"
   ]
  },
  {
   "cell_type": "code",
   "execution_count": 314,
   "metadata": {},
   "outputs": [
    {
     "data": {
      "text/plain": [
       "array([nan, 'Airplane'], dtype=object)"
      ]
     },
     "execution_count": 314,
     "metadata": {},
     "output_type": "execute_result"
    }
   ],
   "source": [
    "# Aircraft_Category values for Cessna in the Make column\n",
    "df[df['Make'] == 'Cessna']['Aircraft_Category'].unique()"
   ]
  },
  {
   "cell_type": "code",
   "execution_count": 315,
   "metadata": {},
   "outputs": [
    {
     "data": {
      "text/plain": [
       "18344"
      ]
     },
     "execution_count": 315,
     "metadata": {},
     "output_type": "execute_result"
    }
   ],
   "source": [
    "# Show how many nan Aircraft_Category values there are for Cessna\n",
    "df[df['Make'] == 'Cessna']['Aircraft_Category'].isna().sum()"
   ]
  },
  {
   "cell_type": "code",
   "execution_count": 316,
   "metadata": {},
   "outputs": [
    {
     "data": {
      "text/plain": [
       "3581"
      ]
     },
     "execution_count": 316,
     "metadata": {},
     "output_type": "execute_result"
    }
   ],
   "source": [
    "# Show how many 'Airplane' Aircraft_Category values there are for Cessna\n",
    "df[(df['Make'] == 'Cessna') & (df['Aircraft_Category'] == 'Airplane')]['Aircraft_Category'].count()"
   ]
  },
  {
   "cell_type": "markdown",
   "metadata": {},
   "source": [
    "So we can add another 18344 airplane entries to our data by filling in the missing value for Cessna in the Aircraft_Category column"
   ]
  },
  {
   "cell_type": "code",
   "execution_count": 317,
   "metadata": {},
   "outputs": [],
   "source": [
    "# Fill in Aircraft_Category as 'Airplane' for Cessna\n",
    "df.loc[df['Make'] == 'Cessna', 'Aircraft_Category'] = 'Airplane'"
   ]
  },
  {
   "cell_type": "code",
   "execution_count": 318,
   "metadata": {},
   "outputs": [
    {
     "data": {
      "text/plain": [
       "21925"
      ]
     },
     "execution_count": 318,
     "metadata": {},
     "output_type": "execute_result"
    }
   ],
   "source": [
    "# Show how many 'Airplane' Aircraft_Category values there are for Cessna\n",
    "df[(df['Make'] == 'Cessna') & (df['Aircraft_Category'] == 'Airplane')]['Aircraft_Category'].count()"
   ]
  },
  {
   "cell_type": "code",
   "execution_count": 319,
   "metadata": {},
   "outputs": [
    {
     "data": {
      "text/plain": [
       "Make\n",
       "Cessna           21925\n",
       "Piper            11903\n",
       "CESSNA            4914\n",
       "Beech             4290\n",
       "PIPER             2841\n",
       "                 ...  \n",
       "Geertz               1\n",
       "Conrad Menzel        1\n",
       "Blucher              1\n",
       "Gideon               1\n",
       "ROYSE RALPH L        1\n",
       "Name: count, Length: 8202, dtype: int64"
      ]
     },
     "execution_count": 319,
     "metadata": {},
     "output_type": "execute_result"
    }
   ],
   "source": [
    "# print a list of the unique values in the Make column\n",
    "df['Make'].value_counts()"
   ]
  },
  {
   "cell_type": "markdown",
   "metadata": {},
   "source": [
    "I realize here that I need to do some further cleaning of the Make column so Cessna and CESSNA (and other similar issues) are not separate values.\n",
    "How many variants of Cessna are there in the Make column"
   ]
  },
  {
   "cell_type": "code",
   "execution_count": 320,
   "metadata": {},
   "outputs": [
    {
     "data": {
      "text/plain": [
       "Make\n",
       "Cessna                     21925\n",
       "CESSNA                      4914\n",
       "CESSNA AIRCRAFT CO            24\n",
       "CESSNA AIRCRAFT                9\n",
       "CESSNA AIRCRAFT COMPANY        9\n",
       "Cessna Ector                   3\n",
       "CESSNA ECTOR                   3\n",
       "Cessna Aircraft Company        3\n",
       "Cessna Wren                    2\n",
       "CESSNA/AIR REPAIR INC          2\n",
       "CESSNA/WEAVER                  1\n",
       "Cessna Aircraft Co.            1\n",
       "CESSNA REIMS                   1\n",
       "CESSNA Aircraft                1\n",
       "Cessna Reems                   1\n",
       "Cessna Robertson               1\n",
       "Cessna Skyhawk II              1\n",
       "Cessna Soloy                   1\n",
       "Cesna                          1\n",
       "Name: count, dtype: int64"
      ]
     },
     "execution_count": 320,
     "metadata": {},
     "output_type": "execute_result"
    }
   ],
   "source": [
    "# Show Make value beginning with Ces, ignoring NaN rows and case\n",
    "df[df['Make'].str.lower().str.startswith('ces', na=False)].value_counts('Make')"
   ]
  },
  {
   "cell_type": "code",
   "execution_count": 321,
   "metadata": {},
   "outputs": [],
   "source": [
    "# Convert all these cessna values to 'Cessna'\n",
    "df.loc[df['Make'].str.lower().str.startswith('ces', na=False), 'Make'] = 'Cessna'"
   ]
  },
  {
   "cell_type": "code",
   "execution_count": 322,
   "metadata": {},
   "outputs": [
    {
     "data": {
      "text/plain": [
       "Make\n",
       "Cessna    26903\n",
       "Name: count, dtype: int64"
      ]
     },
     "execution_count": 322,
     "metadata": {},
     "output_type": "execute_result"
    }
   ],
   "source": [
    "# Show Make value beginning with Ces, ignoring NaN rows and case\n",
    "df[df['Make'].str.lower().str.startswith('ces', na=False)].value_counts('Make')"
   ]
  },
  {
   "cell_type": "markdown",
   "metadata": {},
   "source": [
    "So now we have almost 27000 Cessna makes in the Make column. Let's look at the category again"
   ]
  },
  {
   "cell_type": "code",
   "execution_count": 323,
   "metadata": {},
   "outputs": [
    {
     "data": {
      "text/plain": [
       "Aircraft_Category\n",
       "Airplane    26840\n",
       "NaN            62\n",
       "Unknown         1\n",
       "Name: count, dtype: int64"
      ]
     },
     "execution_count": 323,
     "metadata": {},
     "output_type": "execute_result"
    }
   ],
   "source": [
    "# Aircraft_Category values for Cessna in the Make column, include NaN\n",
    "df[df['Make'] == 'Cessna'].value_counts('Aircraft_Category', dropna=False)"
   ]
  },
  {
   "cell_type": "code",
   "execution_count": 324,
   "metadata": {},
   "outputs": [],
   "source": [
    "# Fill in Aircraft_Category as 'Airplane' for Cessna\n",
    "df.loc[df['Make'] == 'Cessna', 'Aircraft_Category'] = 'Airplane'"
   ]
  },
  {
   "cell_type": "code",
   "execution_count": 325,
   "metadata": {},
   "outputs": [
    {
     "data": {
      "text/plain": [
       "26903"
      ]
     },
     "execution_count": 325,
     "metadata": {},
     "output_type": "execute_result"
    }
   ],
   "source": [
    "# Show how many 'Airplane' Aircraft_Category values there are for Cessna now\n",
    "df[(df['Make'] == 'Cessna') & (df['Aircraft_Category'] == 'Airplane')]['Aircraft_Category'].count()"
   ]
  },
  {
   "cell_type": "markdown",
   "metadata": {},
   "source": [
    "I need to do the same for other Makes."
   ]
  },
  {
   "cell_type": "code",
   "execution_count": 326,
   "metadata": {},
   "outputs": [
    {
     "data": {
      "text/plain": [
       "Make\n",
       "Air Tractor                   588\n",
       "Aeronca                       479\n",
       "Aero Commander                356\n",
       "Aerospatiale                  334\n",
       "AIRBUS                        251\n",
       "AIR TRACTOR INC               217\n",
       "Ayres                         213\n",
       "AERONCA                       149\n",
       "Airbus Industrie              135\n",
       "Aviat                         112\n",
       "AIR TRACTOR                    96\n",
       "Aerostar                       85\n",
       "AVIAT AIRCRAFT INC             72\n",
       "AERO COMMANDER                 69\n",
       "American                       58\n",
       "AEROSPATIALE                   46\n",
       "AMERICAN CHAMPION AIRCRAFT     46\n",
       "Agusta                         44\n",
       "AYRES CORPORATION              38\n",
       "Aerotek                        38\n",
       "Name: count, dtype: int64"
      ]
     },
     "execution_count": 326,
     "metadata": {},
     "output_type": "execute_result"
    }
   ],
   "source": [
    "# Show most popular makes beginning with 'A'\n",
    "df[df['Make'].str.lower().str.startswith('a', na=False)].value_counts('Make').head(20)"
   ]
  },
  {
   "cell_type": "markdown",
   "metadata": {},
   "source": [
    "I see some duplicates here through different cases, etc. These can be cleaned up by assigning a consistent spelling"
   ]
  },
  {
   "cell_type": "code",
   "execution_count": 327,
   "metadata": {},
   "outputs": [],
   "source": [
    "df.loc[df['Make'].str.lower().str.startswith('aero comm', na=False), 'Make'] = 'Aero Commander'"
   ]
  },
  {
   "cell_type": "code",
   "execution_count": 328,
   "metadata": {},
   "outputs": [],
   "source": [
    "df.loc[df['Make'].str.lower().str.startswith('air tra', na=False), 'Make'] = 'Air Tractor'"
   ]
  },
  {
   "cell_type": "code",
   "execution_count": 329,
   "metadata": {},
   "outputs": [],
   "source": [
    "df.loc[df['Make'].str.lower().str.startswith('aeron', na=False), 'Make'] = 'Aeronca'"
   ]
  },
  {
   "cell_type": "code",
   "execution_count": 330,
   "metadata": {},
   "outputs": [],
   "source": [
    "df.loc[df['Make'].str.lower().str.startswith('ayre', na=False), 'Make'] = 'Ayres'"
   ]
  },
  {
   "cell_type": "code",
   "execution_count": 331,
   "metadata": {},
   "outputs": [],
   "source": [
    "df.loc[df['Make'].str.lower().str.startswith('aerosp', na=False), 'Make'] = 'Aerospatiale'"
   ]
  },
  {
   "cell_type": "code",
   "execution_count": 332,
   "metadata": {},
   "outputs": [
    {
     "data": {
      "text/plain": [
       "Make\n",
       "Air Tractor                   911\n",
       "Aeronca                       633\n",
       "Aero Commander                425\n",
       "Aerospatiale                  395\n",
       "Ayres                         284\n",
       "AIRBUS                        251\n",
       "Airbus Industrie              135\n",
       "Aviat                         112\n",
       "Aerostar                       85\n",
       "AVIAT AIRCRAFT INC             72\n",
       "American                       58\n",
       "AMERICAN CHAMPION AIRCRAFT     46\n",
       "Agusta                         44\n",
       "Aerotek                        38\n",
       "Airbus                         37\n",
       "Alon                           30\n",
       "AVIAT                          28\n",
       "American Champion (acac)       28\n",
       "Adams                          23\n",
       "AIRBUS INDUSTRIE               22\n",
       "Name: count, dtype: int64"
      ]
     },
     "execution_count": 332,
     "metadata": {},
     "output_type": "execute_result"
    }
   ],
   "source": [
    "# Show most popular makes beginning with 'A'\n",
    "df[df['Make'].str.lower().str.startswith('a', na=False)].value_counts('Make').head(20)"
   ]
  },
  {
   "cell_type": "code",
   "execution_count": 333,
   "metadata": {},
   "outputs": [],
   "source": [
    "df.loc[df['Make'].str.lower().str.startswith('airb', na=False), 'Make'] = 'Airbus'"
   ]
  },
  {
   "cell_type": "code",
   "execution_count": 334,
   "metadata": {},
   "outputs": [],
   "source": [
    "df.loc[df['Make'].str.lower().str.startswith('avia', na=False), 'Make'] = 'Aviat'"
   ]
  },
  {
   "cell_type": "code",
   "execution_count": 335,
   "metadata": {},
   "outputs": [
    {
     "data": {
      "text/plain": [
       "Make\n",
       "Air Tractor                      911\n",
       "Aeronca                          633\n",
       "Airbus                           506\n",
       "Aero Commander                   425\n",
       "Aerospatiale                     395\n",
       "Ayres                            284\n",
       "Aviat                            259\n",
       "Aerostar                          85\n",
       "American                          58\n",
       "AMERICAN CHAMPION AIRCRAFT        46\n",
       "Agusta                            44\n",
       "Aerotek                           38\n",
       "Alon                              30\n",
       "American Champion (acac)          28\n",
       "Adams                             23\n",
       "AGUSTA                            21\n",
       "American Aviation Corp. (aac)     20\n",
       "ATR                               19\n",
       "Artic Aircraft Corp.              17\n",
       "Air Command                       17\n",
       "Name: count, dtype: int64"
      ]
     },
     "execution_count": 335,
     "metadata": {},
     "output_type": "execute_result"
    }
   ],
   "source": [
    "# Show most popular makes beginning with 'A'\n",
    "df[df['Make'].str.lower().str.startswith('a', na=False)].value_counts('Make').head(20)"
   ]
  },
  {
   "cell_type": "code",
   "execution_count": 336,
   "metadata": {},
   "outputs": [],
   "source": [
    "df.loc[df['Make'].str.lower().str.startswith('agus', na=False), 'Make'] = 'Agusta'"
   ]
  },
  {
   "cell_type": "code",
   "execution_count": 337,
   "metadata": {},
   "outputs": [
    {
     "data": {
      "text/plain": [
       "Make\n",
       "Air Tractor                      911\n",
       "Aeronca                          633\n",
       "Airbus                           506\n",
       "Aero Commander                   425\n",
       "Aerospatiale                     395\n",
       "Ayres                            284\n",
       "Aviat                            259\n",
       "Agusta                            92\n",
       "Aerostar                          85\n",
       "American                          58\n",
       "AMERICAN CHAMPION AIRCRAFT        46\n",
       "Aerotek                           38\n",
       "Alon                              30\n",
       "American Champion (acac)          28\n",
       "Adams                             23\n",
       "American Aviation Corp. (aac)     20\n",
       "ATR                               19\n",
       "Air Command                       17\n",
       "Artic Aircraft Corp.              17\n",
       "AMERICAN LEGEND AIRCRAFT CO       17\n",
       "Name: count, dtype: int64"
      ]
     },
     "execution_count": 337,
     "metadata": {},
     "output_type": "execute_result"
    }
   ],
   "source": [
    "# Show most popular makes beginning with 'A'\n",
    "df[df['Make'].str.lower().str.startswith('a', na=False)].value_counts('Make').head(20)"
   ]
  },
  {
   "cell_type": "code",
   "execution_count": 338,
   "metadata": {},
   "outputs": [],
   "source": [
    "df.loc[df['Make'].str.lower().str.startswith('american cha', na=False), 'Make'] = 'American Champion'"
   ]
  },
  {
   "cell_type": "code",
   "execution_count": 339,
   "metadata": {},
   "outputs": [],
   "source": [
    "df.loc[df['Make'].str.lower().str.startswith('american av', na=False), 'Make'] = 'American'"
   ]
  },
  {
   "cell_type": "code",
   "execution_count": 340,
   "metadata": {},
   "outputs": [
    {
     "data": {
      "text/plain": [
       "Make\n",
       "AMERICAN LEGEND AIRCRAFT CO       17\n",
       "American Legend                    7\n",
       "AMERICAN LEGEND                    2\n",
       "American Legend Aircraft Co.       2\n",
       "AMERICAN LONGEVITY CORP            1\n",
       "American Legand Aircraft           1\n",
       "American Legend Aircraft Compa     1\n",
       "Name: count, dtype: int64"
      ]
     },
     "execution_count": 340,
     "metadata": {},
     "output_type": "execute_result"
    }
   ],
   "source": [
    "# Show me most popular makes beginning with 'A'\n",
    "df[df['Make'].str.lower().str.startswith('american l', na=False)].value_counts('Make').head(20)"
   ]
  },
  {
   "cell_type": "code",
   "execution_count": 341,
   "metadata": {},
   "outputs": [],
   "source": [
    "df.loc[df['Make'].str.lower().str.startswith('american leg', na=False), 'Make'] = 'American Legend'"
   ]
  },
  {
   "cell_type": "code",
   "execution_count": 342,
   "metadata": {},
   "outputs": [
    {
     "data": {
      "text/plain": [
       "Make\n",
       "American General Aircraft     16\n",
       "AMERICAN GENERAL ACFT CORP     3\n",
       "Name: count, dtype: int64"
      ]
     },
     "execution_count": 342,
     "metadata": {},
     "output_type": "execute_result"
    }
   ],
   "source": [
    "# Show me most popular makes beginning with 'A'\n",
    "df[df['Make'].str.lower().str.startswith('american g', na=False)].value_counts('Make').head(20)"
   ]
  },
  {
   "cell_type": "code",
   "execution_count": 343,
   "metadata": {},
   "outputs": [],
   "source": [
    "df.loc[df['Make'].str.lower().str.startswith('american g', na=False), 'Make'] = 'American General Aircraft'"
   ]
  },
  {
   "cell_type": "code",
   "execution_count": 344,
   "metadata": {},
   "outputs": [
    {
     "data": {
      "text/plain": [
       "Make\n",
       "American                      107\n",
       "American Champion             102\n",
       "American Legend                30\n",
       "American General Aircraft      19\n",
       "AMERICAN                       14\n",
       "American Aerolights            10\n",
       "AMERICAN EUROCOPTER CORP        6\n",
       "American Eurocopter             6\n",
       "American Blimp Corp.            5\n",
       "AMERICAN EUROCOPTER LLC         4\n",
       "AMERICAN EUROCOPTER             2\n",
       "American Eagle                  2\n",
       "American Autogyro               2\n",
       "American Aircraft               1\n",
       "American Blimp Corporation      1\n",
       "AMERICAN AIR RACING LTD         1\n",
       "American Air Racing             1\n",
       "AMERICAN LONGEVITY CORP         1\n",
       "AMERICAN BLIMP                  1\n",
       "American Yankee                 1\n",
       "Name: count, dtype: int64"
      ]
     },
     "execution_count": 344,
     "metadata": {},
     "output_type": "execute_result"
    }
   ],
   "source": [
    "# Show me most popular makes beginning with 'A'\n",
    "df[df['Make'].str.lower().str.startswith('american', na=False)].value_counts('Make').head(20)"
   ]
  },
  {
   "cell_type": "code",
   "execution_count": 345,
   "metadata": {},
   "outputs": [],
   "source": [
    "# Change AMERICAN to American\n",
    "df.loc[(df['Make'] == 'American') | (df['Make'] == 'AMERICAN'), 'Make'] = 'American'"
   ]
  },
  {
   "cell_type": "code",
   "execution_count": 346,
   "metadata": {},
   "outputs": [
    {
     "data": {
      "text/plain": [
       "Make\n",
       "American                      121\n",
       "American Champion             102\n",
       "American Legend                30\n",
       "American General Aircraft      19\n",
       "American Aerolights            10\n",
       "AMERICAN EUROCOPTER CORP        6\n",
       "American Eurocopter             6\n",
       "American Blimp Corp.            5\n",
       "AMERICAN EUROCOPTER LLC         4\n",
       "AMERICAN EUROCOPTER             2\n",
       "American Autogyro               2\n",
       "American Eagle                  2\n",
       "AMERICAN AIR RACING LTD         1\n",
       "American Aircraft               1\n",
       "American Blimp Corporation      1\n",
       "AMERICAN BLIMP                  1\n",
       "American Air Racing             1\n",
       "AMERICAN LONGEVITY CORP         1\n",
       "American Yankee                 1\n",
       "Name: count, dtype: int64"
      ]
     },
     "execution_count": 346,
     "metadata": {},
     "output_type": "execute_result"
    }
   ],
   "source": [
    "# Show me most popular makes beginning with 'A'\n",
    "df[df['Make'].str.lower().str.startswith('american', na=False)].value_counts('Make').head(20)"
   ]
  },
  {
   "cell_type": "code",
   "execution_count": 347,
   "metadata": {},
   "outputs": [
    {
     "data": {
      "text/plain": [
       "Make\n",
       "American Blimp Corp.          5\n",
       "AMERICAN BLIMP                1\n",
       "American Blimp Corporation    1\n",
       "Name: count, dtype: int64"
      ]
     },
     "execution_count": 347,
     "metadata": {},
     "output_type": "execute_result"
    }
   ],
   "source": [
    "# Show me most popular makes beginning with 'A'\n",
    "df[df['Make'].str.lower().str.startswith('american b', na=False)].value_counts('Make').head(20)"
   ]
  },
  {
   "cell_type": "code",
   "execution_count": 348,
   "metadata": {},
   "outputs": [],
   "source": [
    "df.loc[df['Make'].str.lower().str.startswith('american b', na=False), 'Make'] = 'American Blimp'"
   ]
  },
  {
   "cell_type": "code",
   "execution_count": 349,
   "metadata": {},
   "outputs": [
    {
     "data": {
      "text/plain": [
       "Make\n",
       "American                     121\n",
       "American Champion            102\n",
       "American Legend               30\n",
       "American General Aircraft     19\n",
       "American Aerolights           10\n",
       "American Blimp                 7\n",
       "American Eurocopter            6\n",
       "AMERICAN EUROCOPTER CORP       6\n",
       "AMERICAN EUROCOPTER LLC        4\n",
       "AMERICAN EUROCOPTER            2\n",
       "American Autogyro              2\n",
       "American Eagle                 2\n",
       "AMERICAN AIR RACING LTD        1\n",
       "American Aircraft              1\n",
       "American Air Racing            1\n",
       "AMERICAN LONGEVITY CORP        1\n",
       "American Yankee                1\n",
       "Name: count, dtype: int64"
      ]
     },
     "execution_count": 349,
     "metadata": {},
     "output_type": "execute_result"
    }
   ],
   "source": [
    "# Show me most popular makes beginning with 'A'\n",
    "df[df['Make'].str.lower().str.startswith('american', na=False)].value_counts('Make').head(20)"
   ]
  },
  {
   "cell_type": "code",
   "execution_count": 350,
   "metadata": {},
   "outputs": [
    {
     "data": {
      "text/plain": [
       "Make\n",
       "AMERICAN EUROCOPTER CORP    6\n",
       "American Eurocopter         6\n",
       "AMERICAN EUROCOPTER LLC     4\n",
       "AMERICAN EUROCOPTER         2\n",
       "Name: count, dtype: int64"
      ]
     },
     "execution_count": 350,
     "metadata": {},
     "output_type": "execute_result"
    }
   ],
   "source": [
    "# Show me most popular makes beginning with 'A'\n",
    "df[df['Make'].str.lower().str.startswith('american eu', na=False)].value_counts('Make').head(20)"
   ]
  },
  {
   "cell_type": "code",
   "execution_count": 351,
   "metadata": {},
   "outputs": [],
   "source": [
    "df.loc[df['Make'].str.lower().str.startswith('american eu', na=False), 'Make'] = 'American Eurocopter'"
   ]
  },
  {
   "cell_type": "code",
   "execution_count": 352,
   "metadata": {},
   "outputs": [
    {
     "data": {
      "text/plain": [
       "Make\n",
       "Beech                             4290\n",
       "Bell                              2118\n",
       "Boeing                            1512\n",
       "BOEING                            1140\n",
       "BEECH                             1042\n",
       "Bellanca                           874\n",
       "BELL                               588\n",
       "BELLANCA                           159\n",
       "Balloon Works                      135\n",
       "Burkhart Grob                      109\n",
       "British Aerospace                   84\n",
       "BOMBARDIER INC                      68\n",
       "Boeing Stearman                     48\n",
       "BOMBARDIER                          46\n",
       "Brantly Helicopter                  39\n",
       "Britten-norman                      37\n",
       "Bombardier                          30\n",
       "Beechcraft                          24\n",
       "BELL HELICOPTER TEXTRON CANADA      23\n",
       "Barnes                              22\n",
       "Name: count, dtype: int64"
      ]
     },
     "execution_count": 352,
     "metadata": {},
     "output_type": "execute_result"
    }
   ],
   "source": [
    "# Show me most popular makes beginning with 'B'\n",
    "df[df['Make'].str.lower().str.startswith('b', na=False)].value_counts('Make').head(20)"
   ]
  },
  {
   "cell_type": "code",
   "execution_count": 353,
   "metadata": {},
   "outputs": [],
   "source": [
    "df.loc[df['Make'].str.lower().str.startswith('beec', na=False), 'Make'] = 'Beech'"
   ]
  },
  {
   "cell_type": "code",
   "execution_count": 354,
   "metadata": {},
   "outputs": [
    {
     "data": {
      "text/plain": [
       "Make\n",
       "Bell                              2118\n",
       "Bellanca                           874\n",
       "BELL                               588\n",
       "BELLANCA                           159\n",
       "BELL HELICOPTER TEXTRON CANADA      23\n",
       "BELL HELICOPTER TEXTRON             21\n",
       "BELL HELICOPTER                      4\n",
       "Bell-transworld                      3\n",
       "Bell Helicopter                      3\n",
       "Bell-k Copter                        2\n",
       "Bell Helicopter Textron              2\n",
       "Bell-carson                          2\n",
       "BELL TEXTRON CANADA LTD              2\n",
       "BELL HELICOPTER CO                   2\n",
       "Bell-olympic Helicopters, Inc.       1\n",
       "Bell-moore                           1\n",
       "Bell-world                           1\n",
       "Bell/soloy                           1\n",
       "Bell/garlick                         1\n",
       "Bell/mason                           1\n",
       "Name: count, dtype: int64"
      ]
     },
     "execution_count": 354,
     "metadata": {},
     "output_type": "execute_result"
    }
   ],
   "source": [
    "# Show me most popular makes beginning with 'B'\n",
    "df[df['Make'].str.lower().str.startswith('bell', na=False)].value_counts('Make').head(20)"
   ]
  },
  {
   "cell_type": "code",
   "execution_count": 355,
   "metadata": {},
   "outputs": [],
   "source": [
    "df.loc[df['Make'].str.lower().str.startswith('bell h', na=False), 'Make'] = 'Bell'"
   ]
  },
  {
   "cell_type": "code",
   "execution_count": 356,
   "metadata": {},
   "outputs": [
    {
     "data": {
      "text/plain": [
       "Make\n",
       "Bell                              2174\n",
       "Bellanca                           874\n",
       "BELL                               588\n",
       "BELLANCA                           159\n",
       "Bell-transworld                      3\n",
       "Bell-carson                          2\n",
       "Bell-k Copter                        2\n",
       "BELL TEXTRON CANADA LTD              2\n",
       "Bell/tsirah                          1\n",
       "Bell/textron                         1\n",
       "Bellah                               1\n",
       "Bell-kitz Kopters                    1\n",
       "Bell/mason                           1\n",
       "Bellanca Aircraft Corporation        1\n",
       "Bell/garlick                         1\n",
       "Bell-world                           1\n",
       "Bellanca Citabria                    1\n",
       "Bell-olympic Helicopters, Inc.       1\n",
       "Bell-moore                           1\n",
       "Bell/soloy                           1\n",
       "Name: count, dtype: int64"
      ]
     },
     "execution_count": 356,
     "metadata": {},
     "output_type": "execute_result"
    }
   ],
   "source": [
    "df[df['Make'].str.lower().str.startswith('bell', na=False)].value_counts('Make').head(20)"
   ]
  },
  {
   "cell_type": "code",
   "execution_count": 357,
   "metadata": {},
   "outputs": [],
   "source": [
    "df.loc[df['Make'].str.lower().str.startswith('bella', na=False), 'Make'] = 'Bellanca'"
   ]
  },
  {
   "cell_type": "code",
   "execution_count": 358,
   "metadata": {},
   "outputs": [
    {
     "data": {
      "text/plain": [
       "Make\n",
       "Bell                              2174\n",
       "Bellanca                          1037\n",
       "BELL                               588\n",
       "Bell-transworld                      3\n",
       "Bell-carson                          2\n",
       "BELL TEXTRON CANADA LTD              2\n",
       "Bell-k Copter                        2\n",
       "Bell-continental Copters             1\n",
       "Bell/tsirah                          1\n",
       "Bell/textron                         1\n",
       "Bell/soloy                           1\n",
       "Bell/mason                           1\n",
       "Bell/garlick                         1\n",
       "Bell-world                           1\n",
       "Bell-olympic Helicopters, Inc.       1\n",
       "Bell-moore                           1\n",
       "Bell-kitz Kopters                    1\n",
       "BELL-CARSON                          1\n",
       "BELL-TELLIJOHN                       1\n",
       "BELL BILL                            1\n",
       "Name: count, dtype: int64"
      ]
     },
     "execution_count": 358,
     "metadata": {},
     "output_type": "execute_result"
    }
   ],
   "source": [
    "df[df['Make'].str.lower().str.startswith('bell', na=False)].value_counts('Make').head(20)"
   ]
  },
  {
   "cell_type": "code",
   "execution_count": 359,
   "metadata": {},
   "outputs": [],
   "source": [
    "# Change BELL to Bell\n",
    "df.loc[(df['Make'] == 'Bell') | (df['Make'] == 'BELL'), 'Make'] = 'Bell'"
   ]
  },
  {
   "cell_type": "code",
   "execution_count": 360,
   "metadata": {},
   "outputs": [
    {
     "data": {
      "text/plain": [
       "Make\n",
       "Bell                              2762\n",
       "Bellanca                          1037\n",
       "Bell-transworld                      3\n",
       "Bell-k Copter                        2\n",
       "BELL TEXTRON CANADA LTD              2\n",
       "Bell-carson                          2\n",
       "BELL-WATSON                          1\n",
       "Bell-kitz Kopters                    1\n",
       "Bell/tsirah                          1\n",
       "Bell/textron                         1\n",
       "Bell/soloy                           1\n",
       "Bell/mason                           1\n",
       "Bell/garlick                         1\n",
       "Bell-world                           1\n",
       "BELL-CARSON                          1\n",
       "Bell-olympic Helicopters, Inc.       1\n",
       "Bell-moore                           1\n",
       "BELL-TELLIJOHN                       1\n",
       "BELL/GARLICK                         1\n",
       "Bell-continental Copters             1\n",
       "Name: count, dtype: int64"
      ]
     },
     "execution_count": 360,
     "metadata": {},
     "output_type": "execute_result"
    }
   ],
   "source": [
    "df[df['Make'].str.lower().str.startswith('bell', na=False)].value_counts('Make').head(20)"
   ]
  },
  {
   "cell_type": "code",
   "execution_count": 361,
   "metadata": {},
   "outputs": [],
   "source": [
    "df.loc[df['Make'].str.lower().str.startswith('bell-', na=False), 'Make'] = 'Bell'"
   ]
  },
  {
   "cell_type": "code",
   "execution_count": 362,
   "metadata": {},
   "outputs": [],
   "source": [
    "df.loc[df['Make'].str.lower().str.startswith('bell/', na=False), 'Make'] = 'Bell'"
   ]
  },
  {
   "cell_type": "code",
   "execution_count": 363,
   "metadata": {},
   "outputs": [
    {
     "data": {
      "text/plain": [
       "Make\n",
       "Bell                       2787\n",
       "Bellanca                   1037\n",
       "BELL TEXTRON CANADA LTD       2\n",
       "BELL BILL                     1\n",
       "BELLER                        1\n",
       "BELLET JAMES J                1\n",
       "Bell 47g-3b                   1\n",
       "Bell Shelby Aero              1\n",
       "Name: count, dtype: int64"
      ]
     },
     "execution_count": 363,
     "metadata": {},
     "output_type": "execute_result"
    }
   ],
   "source": [
    "df[df['Make'].str.lower().str.startswith('bell', na=False)].value_counts('Make').head(20)"
   ]
  },
  {
   "cell_type": "code",
   "execution_count": 364,
   "metadata": {},
   "outputs": [],
   "source": [
    "df.loc[df['Make'].str.lower().str.startswith('bell t', na=False), 'Make'] = 'Bell'"
   ]
  },
  {
   "cell_type": "code",
   "execution_count": 365,
   "metadata": {},
   "outputs": [],
   "source": [
    "df.loc[df['Make'].str.lower().str.startswith('bell b', na=False), 'Make'] = 'Bell'"
   ]
  },
  {
   "cell_type": "code",
   "execution_count": 366,
   "metadata": {},
   "outputs": [],
   "source": [
    "df.loc[df['Make'].str.lower().str.startswith('bell 4', na=False), 'Make'] = 'Bell'"
   ]
  },
  {
   "cell_type": "code",
   "execution_count": 367,
   "metadata": {},
   "outputs": [],
   "source": [
    "df.loc[df['Make'].str.lower().str.startswith('bell s', na=False), 'Make'] = 'Bell'"
   ]
  },
  {
   "cell_type": "code",
   "execution_count": 368,
   "metadata": {},
   "outputs": [
    {
     "data": {
      "text/plain": [
       "Make\n",
       "Bell              2792\n",
       "Bellanca          1037\n",
       "BELLER               1\n",
       "BELLET JAMES J       1\n",
       "Name: count, dtype: int64"
      ]
     },
     "execution_count": 368,
     "metadata": {},
     "output_type": "execute_result"
    }
   ],
   "source": [
    "df[df['Make'].str.lower().str.startswith('bell', na=False)].value_counts('Make').head(20)"
   ]
  },
  {
   "cell_type": "code",
   "execution_count": 369,
   "metadata": {},
   "outputs": [
    {
     "data": {
      "text/plain": [
       "Make\n",
       "Boeing                            1512\n",
       "BOEING                            1140\n",
       "Boeing Stearman                     48\n",
       "BOEING COMPANY                       8\n",
       "Boeing Vertol                        6\n",
       "Boeing Helicopters Div.              3\n",
       "Boeing - Canada (de Havilland)       2\n",
       "Boeing (Stearman)                    1\n",
       "Boeing Company                       1\n",
       "Boeing Commercial Airplane Gro       1\n",
       "BOEHLKE KEVIN P                      1\n",
       "BOEVE EARL                           1\n",
       "BOEING-VERTOL                        1\n",
       "BOEING-STEARMAN                      1\n",
       "BOEING OF CANADA/DEHAV DIV           1\n",
       "BOEING COMPANY, LONG BEACH DIV       1\n",
       "BOEING 777-306ER                     1\n",
       "Boeing-brown                         1\n",
       "Name: count, dtype: int64"
      ]
     },
     "execution_count": 369,
     "metadata": {},
     "output_type": "execute_result"
    }
   ],
   "source": [
    "# Show me most popular makes beginning with 'B'\n",
    "df[df['Make'].str.lower().str.startswith('boe', na=False)].value_counts('Make').head(20)"
   ]
  },
  {
   "cell_type": "code",
   "execution_count": 370,
   "metadata": {},
   "outputs": [],
   "source": [
    "df.loc[df['Make'].str.lower().str.startswith('boeing h', na=False), 'Make'] = 'Boeing Helicopters'"
   ]
  },
  {
   "cell_type": "code",
   "execution_count": 371,
   "metadata": {},
   "outputs": [],
   "source": [
    "df.loc[df['Make'].str.lower().str.startswith('boeing c', na=False), 'Make'] = 'Boeing'"
   ]
  },
  {
   "cell_type": "code",
   "execution_count": 372,
   "metadata": {},
   "outputs": [
    {
     "data": {
      "text/plain": [
       "Make\n",
       "Boeing                            1523\n",
       "BOEING                            1140\n",
       "Boeing Stearman                     48\n",
       "Boeing Vertol                        6\n",
       "Boeing Helicopters                   3\n",
       "Boeing - Canada (de Havilland)       2\n",
       "BOEHLKE KEVIN P                      1\n",
       "BOEING 777-306ER                     1\n",
       "BOEING OF CANADA/DEHAV DIV           1\n",
       "BOEING-STEARMAN                      1\n",
       "BOEING-VERTOL                        1\n",
       "BOEVE EARL                           1\n",
       "Boeing (Stearman)                    1\n",
       "Boeing-brown                         1\n",
       "Name: count, dtype: int64"
      ]
     },
     "execution_count": 372,
     "metadata": {},
     "output_type": "execute_result"
    }
   ],
   "source": [
    "df[df['Make'].str.lower().str.startswith('boe', na=False)].value_counts('Make').head(20)"
   ]
  },
  {
   "cell_type": "code",
   "execution_count": 373,
   "metadata": {},
   "outputs": [],
   "source": [
    "df.loc[df['Make'].str.lower().str.startswith('boeing s', na=False), 'Make'] = 'Boeing'"
   ]
  },
  {
   "cell_type": "code",
   "execution_count": 374,
   "metadata": {},
   "outputs": [],
   "source": [
    "df.loc[df['Make'].str.lower().str.startswith('boeing v', na=False), 'Make'] = 'Boeing'"
   ]
  },
  {
   "cell_type": "code",
   "execution_count": 375,
   "metadata": {},
   "outputs": [],
   "source": [
    "df.loc[df['Make'].str.lower().str.startswith('boeing - c', na=False), 'Make'] = 'Boeing'"
   ]
  },
  {
   "cell_type": "code",
   "execution_count": 376,
   "metadata": {},
   "outputs": [
    {
     "data": {
      "text/plain": [
       "Make\n",
       "Boeing                        1579\n",
       "BOEING                        1140\n",
       "Boeing Helicopters               3\n",
       "BOEHLKE KEVIN P                  1\n",
       "BOEING 777-306ER                 1\n",
       "BOEING OF CANADA/DEHAV DIV       1\n",
       "BOEING-STEARMAN                  1\n",
       "BOEING-VERTOL                    1\n",
       "BOEVE EARL                       1\n",
       "Boeing (Stearman)                1\n",
       "Boeing-brown                     1\n",
       "Name: count, dtype: int64"
      ]
     },
     "execution_count": 376,
     "metadata": {},
     "output_type": "execute_result"
    }
   ],
   "source": [
    "df[df['Make'].str.lower().str.startswith('boe', na=False)].value_counts('Make').head(20)"
   ]
  },
  {
   "cell_type": "code",
   "execution_count": 377,
   "metadata": {},
   "outputs": [],
   "source": [
    "# Change BOEING to Boeing\n",
    "df.loc[(df['Make'] == 'Boeing') | (df['Make'] == 'BOEING'), 'Make'] = 'Boeing'"
   ]
  },
  {
   "cell_type": "code",
   "execution_count": 378,
   "metadata": {},
   "outputs": [
    {
     "data": {
      "text/plain": [
       "Make\n",
       "Beech                 5372\n",
       "Bell                  2792\n",
       "Boeing                2719\n",
       "Bellanca              1037\n",
       "Balloon Works          135\n",
       "Burkhart Grob          109\n",
       "British Aerospace       84\n",
       "BOMBARDIER INC          68\n",
       "BOMBARDIER              46\n",
       "Brantly Helicopter      39\n",
       "Britten-norman          37\n",
       "Bombardier              30\n",
       "Barnes                  22\n",
       "Bombardier, Inc.        22\n",
       "BAE                     21\n",
       "Benson                  18\n",
       "Bensen                  17\n",
       "BRANTLY                 13\n",
       "Bede Aircraft           12\n",
       "BRITTEN NORMAN          11\n",
       "Name: count, dtype: int64"
      ]
     },
     "execution_count": 378,
     "metadata": {},
     "output_type": "execute_result"
    }
   ],
   "source": [
    "df[df['Make'].str.lower().str.startswith('b', na=False)].value_counts('Make').head(20)"
   ]
  },
  {
   "cell_type": "code",
   "execution_count": 379,
   "metadata": {},
   "outputs": [],
   "source": [
    "df.loc[df['Make'].str.lower().str.startswith('bombard', na=False), 'Make'] = 'Bombardier'"
   ]
  },
  {
   "cell_type": "code",
   "execution_count": 380,
   "metadata": {},
   "outputs": [],
   "source": [
    "df.loc[df['Make'].str.lower().str.startswith('bens', na=False), 'Make'] = 'Benson'"
   ]
  },
  {
   "cell_type": "code",
   "execution_count": 381,
   "metadata": {},
   "outputs": [
    {
     "data": {
      "text/plain": [
       "Make\n",
       "Beech                 5372\n",
       "Bell                  2792\n",
       "Boeing                2719\n",
       "Bellanca              1037\n",
       "Bombardier             169\n",
       "Balloon Works          135\n",
       "Burkhart Grob          109\n",
       "British Aerospace       84\n",
       "Benson                  39\n",
       "Brantly Helicopter      39\n",
       "Britten-norman          37\n",
       "Barnes                  22\n",
       "BAE                     21\n",
       "BRANTLY                 13\n",
       "Bede Aircraft           12\n",
       "BURKHART GROB           11\n",
       "Blanik                  11\n",
       "BRITTEN NORMAN          11\n",
       "Bushby                  11\n",
       "Buckeye                 10\n",
       "Name: count, dtype: int64"
      ]
     },
     "execution_count": 381,
     "metadata": {},
     "output_type": "execute_result"
    }
   ],
   "source": [
    "df[df['Make'].str.lower().str.startswith('b', na=False)].value_counts('Make').head(20)"
   ]
  },
  {
   "cell_type": "code",
   "execution_count": 382,
   "metadata": {},
   "outputs": [
    {
     "data": {
      "text/plain": [
       "Make\n",
       "Cessna                            26903\n",
       "Champion                            426\n",
       "CIRRUS DESIGN CORP                  218\n",
       "CHAMPION                             91\n",
       "CIRRUS                               80\n",
       "Cirrus Design Corp.                  71\n",
       "Cirrus                               70\n",
       "Canadair                             62\n",
       "Cameron                              54\n",
       "Christen Industries                  53\n",
       "Convair                              39\n",
       "COSTRUZIONI AERONAUTICHE TECNA       31\n",
       "Continental Copters                  28\n",
       "Callair                              26\n",
       "Consolidated Aeronautics Inc.        25\n",
       "Cameron Balloons                     21\n",
       "Casa                                 20\n",
       "CUBCRAFTERS INC                      19\n",
       "CUB CRAFTERS INC                     19\n",
       "Classic Aircraft Corp.               17\n",
       "Name: count, dtype: int64"
      ]
     },
     "execution_count": 382,
     "metadata": {},
     "output_type": "execute_result"
    }
   ],
   "source": [
    "df[df['Make'].str.lower().str.startswith('c', na=False)].value_counts('Make').head(20)"
   ]
  },
  {
   "cell_type": "code",
   "execution_count": 383,
   "metadata": {},
   "outputs": [],
   "source": [
    "df.loc[df['Make'].str.lower().str.startswith('champ', na=False), 'Make'] = 'Champion'"
   ]
  },
  {
   "cell_type": "code",
   "execution_count": 384,
   "metadata": {},
   "outputs": [],
   "source": [
    "df.loc[df['Make'].str.lower().str.startswith('cirrus', na=False), 'Make'] = 'Cirrus Design'"
   ]
  },
  {
   "cell_type": "code",
   "execution_count": 385,
   "metadata": {},
   "outputs": [],
   "source": [
    "df.loc[df['Make'].str.lower().str.startswith('cub', na=False), 'Make'] = 'Cubcrafters'"
   ]
  },
  {
   "cell_type": "code",
   "execution_count": 386,
   "metadata": {},
   "outputs": [
    {
     "data": {
      "text/plain": [
       "Make\n",
       "Cessna                            26903\n",
       "Champion                            517\n",
       "Cirrus Design                       467\n",
       "Cubcrafters                          81\n",
       "Canadair                             62\n",
       "Cameron                              54\n",
       "Christen Industries                  53\n",
       "Convair                              39\n",
       "COSTRUZIONI AERONAUTICHE TECNA       31\n",
       "Continental Copters                  28\n",
       "Callair                              26\n",
       "Consolidated Aeronautics Inc.        25\n",
       "Cameron Balloons                     21\n",
       "Casa                                 20\n",
       "Curtiss-wright                       17\n",
       "Classic Aircraft Corp.               17\n",
       "CHRISTEN INDUSTRIES INC              16\n",
       "Consolidated-vultee                  15\n",
       "Culver                               15\n",
       "COLUMBIA AIRCRAFT MFG                13\n",
       "Name: count, dtype: int64"
      ]
     },
     "execution_count": 386,
     "metadata": {},
     "output_type": "execute_result"
    }
   ],
   "source": [
    "df[df['Make'].str.lower().str.startswith('c', na=False)].value_counts('Make').head(20)"
   ]
  },
  {
   "cell_type": "code",
   "execution_count": 387,
   "metadata": {},
   "outputs": [],
   "source": [
    "df.loc[df['Make'].str.lower().str.startswith('christ', na=False), 'Make'] = 'Christen Industries'"
   ]
  },
  {
   "cell_type": "code",
   "execution_count": 388,
   "metadata": {},
   "outputs": [
    {
     "data": {
      "text/plain": [
       "Make\n",
       "Cessna                            26903\n",
       "Champion                            517\n",
       "Cirrus Design                       467\n",
       "Christen Industries                  93\n",
       "Cubcrafters                          81\n",
       "Canadair                             62\n",
       "Cameron                              54\n",
       "Convair                              39\n",
       "COSTRUZIONI AERONAUTICHE TECNA       31\n",
       "Continental Copters                  28\n",
       "Callair                              26\n",
       "Consolidated Aeronautics Inc.        25\n",
       "Cameron Balloons                     21\n",
       "Casa                                 20\n",
       "Curtiss-wright                       17\n",
       "Classic Aircraft Corp.               17\n",
       "Culver                               15\n",
       "Consolidated-vultee                  15\n",
       "CONSOLIDATED AERONAUTICS INC.        13\n",
       "COLUMBIA AIRCRAFT MFG                13\n",
       "Name: count, dtype: int64"
      ]
     },
     "execution_count": 388,
     "metadata": {},
     "output_type": "execute_result"
    }
   ],
   "source": [
    "df[df['Make'].str.lower().str.startswith('c', na=False)].value_counts('Make').head(20)"
   ]
  },
  {
   "cell_type": "code",
   "execution_count": 389,
   "metadata": {},
   "outputs": [],
   "source": [
    "df.loc[df['Make'].str.lower().str.startswith('consol', na=False), 'Make'] = 'Consolidated Aeronautics'"
   ]
  },
  {
   "cell_type": "code",
   "execution_count": 390,
   "metadata": {},
   "outputs": [
    {
     "data": {
      "text/plain": [
       "Make\n",
       "Cessna                            26903\n",
       "Champion                            517\n",
       "Cirrus Design                       467\n",
       "Christen Industries                  93\n",
       "Cubcrafters                          81\n",
       "Consolidated Aeronautics             63\n",
       "Canadair                             62\n",
       "Cameron                              54\n",
       "Convair                              39\n",
       "COSTRUZIONI AERONAUTICHE TECNA       31\n",
       "Continental Copters                  28\n",
       "Callair                              26\n",
       "Cameron Balloons                     21\n",
       "Casa                                 20\n",
       "Classic Aircraft Corp.               17\n",
       "Curtiss-wright                       17\n",
       "Culver                               15\n",
       "COLUMBIA AIRCRAFT MFG                13\n",
       "CAMERON BALLOONS US                  12\n",
       "CZECH AIRCRAFT WORKS SPOL SRO        12\n",
       "Name: count, dtype: int64"
      ]
     },
     "execution_count": 390,
     "metadata": {},
     "output_type": "execute_result"
    }
   ],
   "source": [
    "df[df['Make'].str.lower().str.startswith('c', na=False)].value_counts('Make').head(20)"
   ]
  },
  {
   "cell_type": "code",
   "execution_count": 391,
   "metadata": {},
   "outputs": [
    {
     "data": {
      "text/plain": [
       "Aircraft_Category\n",
       "NaN        47\n",
       "Balloon     7\n",
       "Name: count, dtype: int64"
      ]
     },
     "execution_count": 391,
     "metadata": {},
     "output_type": "execute_result"
    }
   ],
   "source": [
    "# Show category value_counts for Cameron\n",
    "df[df['Make'] == 'Cameron'].value_counts('Aircraft_Category', dropna=False)"
   ]
  },
  {
   "cell_type": "code",
   "execution_count": 392,
   "metadata": {},
   "outputs": [],
   "source": [
    "df.loc[df['Make'].str.lower().str.startswith('camer', na=False), 'Make'] = 'Cameron Balloons'"
   ]
  },
  {
   "cell_type": "code",
   "execution_count": 393,
   "metadata": {},
   "outputs": [
    {
     "data": {
      "text/plain": [
       "Make\n",
       "Cessna                            26903\n",
       "Champion                            517\n",
       "Cirrus Design                       467\n",
       "Cameron Balloons                    105\n",
       "Christen Industries                  93\n",
       "Cubcrafters                          81\n",
       "Consolidated Aeronautics             63\n",
       "Canadair                             62\n",
       "Convair                              39\n",
       "COSTRUZIONI AERONAUTICHE TECNA       31\n",
       "Continental Copters                  28\n",
       "Callair                              26\n",
       "Casa                                 20\n",
       "Classic Aircraft Corp.               17\n",
       "Curtiss-wright                       17\n",
       "Culver                               15\n",
       "COLUMBIA AIRCRAFT MFG                13\n",
       "CZECH AIRCRAFT WORKS SPOL SRO        12\n",
       "Commander                            12\n",
       "CZECH SPORT AIRCRAFT AS              11\n",
       "Name: count, dtype: int64"
      ]
     },
     "execution_count": 393,
     "metadata": {},
     "output_type": "execute_result"
    }
   ],
   "source": [
    "df[df['Make'].str.lower().str.startswith('c', na=False)].value_counts('Make').head(20)"
   ]
  },
  {
   "cell_type": "code",
   "execution_count": 394,
   "metadata": {},
   "outputs": [
    {
     "data": {
      "text/plain": [
       "Make\n",
       "De Havilland                   370\n",
       "Douglas                        250\n",
       "DEHAVILLAND                     91\n",
       "DIAMOND AIRCRAFT IND INC        74\n",
       "Diamond Aircraft Industries     42\n",
       "DE HAVILLAND                    31\n",
       "DIAMOND                         30\n",
       "DOUGLAS                         26\n",
       "Dornier                         25\n",
       "Dassault                        22\n",
       "Diamond                         19\n",
       "Davis                           19\n",
       "Dassault-breguet                16\n",
       "Dassault Aviation               11\n",
       "de Havilland                     9\n",
       "Dehavilland                      8\n",
       "DIAMOND AIRCRAFT IND GMBH        8\n",
       "DORNIER                          7\n",
       "DASSAULT                         7\n",
       "Denney                           6\n",
       "Name: count, dtype: int64"
      ]
     },
     "execution_count": 394,
     "metadata": {},
     "output_type": "execute_result"
    }
   ],
   "source": [
    "df[df['Make'].str.lower().str.startswith('d', na=False)].value_counts('Make').head(20)"
   ]
  },
  {
   "cell_type": "code",
   "execution_count": 395,
   "metadata": {},
   "outputs": [],
   "source": [
    "df.loc[df['Make'].str.lower().str.startswith('de h', na=False), 'Make'] = 'De Havilland'"
   ]
  },
  {
   "cell_type": "code",
   "execution_count": 396,
   "metadata": {},
   "outputs": [],
   "source": [
    "df.loc[df['Make'].str.lower().str.startswith('dehav', na=False), 'Make'] = 'De Havilland'"
   ]
  },
  {
   "cell_type": "code",
   "execution_count": 397,
   "metadata": {},
   "outputs": [],
   "source": [
    "df.loc[df['Make'].str.lower().str.startswith('dassault', na=False), 'Make'] = 'Dassault'"
   ]
  },
  {
   "cell_type": "code",
   "execution_count": 398,
   "metadata": {},
   "outputs": [
    {
     "data": {
      "text/plain": [
       "Make\n",
       "De Havilland                   512\n",
       "Douglas                        250\n",
       "DIAMOND AIRCRAFT IND INC        74\n",
       "Dassault                        72\n",
       "Diamond Aircraft Industries     42\n",
       "DIAMOND                         30\n",
       "DOUGLAS                         26\n",
       "Dornier                         25\n",
       "Davis                           19\n",
       "Diamond                         19\n",
       "DIAMOND AIRCRAFT IND GMBH        8\n",
       "DORNIER                          7\n",
       "Denney                           6\n",
       "DESTINY                          5\n",
       "Downer Aircraft Industries       4\n",
       "Diamond Aircraft                 4\n",
       "DG FLUGZEUGBAU GMBH              4\n",
       "Downer                           3\n",
       "Day                              3\n",
       "Drake                            3\n",
       "Name: count, dtype: int64"
      ]
     },
     "execution_count": 398,
     "metadata": {},
     "output_type": "execute_result"
    }
   ],
   "source": [
    "df[df['Make'].str.lower().str.startswith('d', na=False)].value_counts('Make').head(20)"
   ]
  },
  {
   "cell_type": "code",
   "execution_count": 399,
   "metadata": {},
   "outputs": [],
   "source": [
    "df.loc[df['Make'].str.lower().str.startswith('diam', na=False), 'Make'] = 'Diamond'"
   ]
  },
  {
   "cell_type": "code",
   "execution_count": 400,
   "metadata": {},
   "outputs": [
    {
     "data": {
      "text/plain": [
       "Make\n",
       "De Havilland                  512\n",
       "Douglas                       250\n",
       "Diamond                       182\n",
       "Dassault                       72\n",
       "DOUGLAS                        26\n",
       "Dornier                        25\n",
       "Davis                          19\n",
       "DORNIER                         7\n",
       "Denney                          6\n",
       "DESTINY                         5\n",
       "Downer Aircraft Industries      4\n",
       "DG FLUGZEUGBAU GMBH             4\n",
       "Davenport                       3\n",
       "Downer                          3\n",
       "DJI                             3\n",
       "Day                             3\n",
       "Drake                           3\n",
       "DAVIS MICHAEL J                 2\n",
       "DAY WILLIAM L                   2\n",
       "DAYTON A BABCOCK                2\n",
       "Name: count, dtype: int64"
      ]
     },
     "execution_count": 400,
     "metadata": {},
     "output_type": "execute_result"
    }
   ],
   "source": [
    "df[df['Make'].str.lower().str.startswith('d', na=False)].value_counts('Make').head(20)"
   ]
  },
  {
   "cell_type": "code",
   "execution_count": 401,
   "metadata": {},
   "outputs": [],
   "source": [
    "df.loc[df['Make'].str.lower().str.startswith('doug', na=False), 'Make'] = 'Douglas'"
   ]
  },
  {
   "cell_type": "code",
   "execution_count": 402,
   "metadata": {},
   "outputs": [],
   "source": [
    "df.loc[df['Make'].str.lower().str.startswith('dorn', na=False), 'Make'] = 'Dornier'"
   ]
  },
  {
   "cell_type": "code",
   "execution_count": 403,
   "metadata": {},
   "outputs": [
    {
     "data": {
      "text/plain": [
       "Make\n",
       "Enstrom                           247\n",
       "Ercoupe (eng & Research Corp.)    155\n",
       "EMBRAER                           130\n",
       "EUROCOPTER                        128\n",
       "Embraer                           106\n",
       "Eurocopter                         90\n",
       "Ercoupe                            54\n",
       "ENSTROM                            49\n",
       "Eipper                             43\n",
       "Eagle Aircraft Co.                 42\n",
       "Eurocopter France                  40\n",
       "ERCOUPE                            34\n",
       "EVEKTOR-AEROTECHNIK AS             26\n",
       "EUROCOPTER DEUTSCHLAND GMBH        20\n",
       "Extra Flugzeugbau                  19\n",
       "Eiriavion Oy                       17\n",
       "ENGINEERING & RESEARCH             15\n",
       "Erco                               11\n",
       "EXTRA FLUGZEUGBAU GMBH             10\n",
       "Evans Aircraft                     10\n",
       "Eagle                              10\n",
       "Eurocopter Deutschland             10\n",
       "EMBRAER S A                         9\n",
       "Experimental                        9\n",
       "EVOLUTION AIRCRAFT INC              9\n",
       "Extra                               7\n",
       "ENSTROM HELICOPTER CORP             7\n",
       "Evektor Aerotechnik                 6\n",
       "EMBRAER-EMPRESA BRASILEIRA DE       6\n",
       "EXTRA                               6\n",
       "Name: count, dtype: int64"
      ]
     },
     "execution_count": 403,
     "metadata": {},
     "output_type": "execute_result"
    }
   ],
   "source": [
    "df[df['Make'].str.lower().str.startswith('e', na=False)].value_counts('Make').head(30)"
   ]
  },
  {
   "cell_type": "code",
   "execution_count": 404,
   "metadata": {},
   "outputs": [],
   "source": [
    "df.loc[df['Make'].str.lower().str.startswith('eagl', na=False), 'Make'] = 'Eagle Aircraft'"
   ]
  },
  {
   "cell_type": "code",
   "execution_count": 405,
   "metadata": {},
   "outputs": [],
   "source": [
    "df.loc[df['Make'].str.lower().str.startswith('embr', na=False), 'Make'] = 'Embraer'"
   ]
  },
  {
   "cell_type": "code",
   "execution_count": 406,
   "metadata": {},
   "outputs": [],
   "source": [
    "df.loc[df['Make'].str.lower().str.startswith('enstrom', na=False), 'Make'] = 'Enstrom'"
   ]
  },
  {
   "cell_type": "code",
   "execution_count": 407,
   "metadata": {},
   "outputs": [],
   "source": [
    "df.loc[df['Make'].str.lower().str.startswith('ercou', na=False), 'Make'] = 'Ercoupe'"
   ]
  },
  {
   "cell_type": "code",
   "execution_count": 408,
   "metadata": {},
   "outputs": [],
   "source": [
    "df.loc[df['Make'].str.lower().str.startswith('euroc', na=False), 'Make'] = 'Eurocopter'"
   ]
  },
  {
   "cell_type": "code",
   "execution_count": 409,
   "metadata": {},
   "outputs": [],
   "source": [
    "df.loc[df['Make'].str.lower().str.startswith('evek', na=False), 'Make'] = 'Evektor Aerotechnik'"
   ]
  },
  {
   "cell_type": "code",
   "execution_count": 410,
   "metadata": {},
   "outputs": [],
   "source": [
    "df.loc[df['Make'].str.lower().str.startswith('extra', na=False), 'Make'] = 'Extra'"
   ]
  },
  {
   "cell_type": "code",
   "execution_count": 411,
   "metadata": {},
   "outputs": [
    {
     "data": {
      "text/plain": [
       "Make\n",
       "Enstrom                         303\n",
       "Eurocopter                      295\n",
       "Embraer                         257\n",
       "Ercoupe                         247\n",
       "Eagle Aircraft                   65\n",
       "Extra                            52\n",
       "Evektor Aerotechnik              44\n",
       "Eipper                           43\n",
       "Eiriavion Oy                     17\n",
       "ENGINEERING & RESEARCH           15\n",
       "Erco                             11\n",
       "Evans Aircraft                   10\n",
       "EVOLUTION AIRCRAFT INC            9\n",
       "Experimental                      9\n",
       "ECLIPSE AVIATION CORP             5\n",
       "EVOLUTION TRIKES                  5\n",
       "Emair                             5\n",
       "Engineering & Research            5\n",
       "Evolution                         4\n",
       "Erickson                          4\n",
       "Elliott                           4\n",
       "Eaa Biplane                       4\n",
       "Ellis                             3\n",
       "Eaa                               3\n",
       "EIPPER                            3\n",
       "Emroth Emair                      3\n",
       "Eclipse Aviation Corporation      3\n",
       "EIRIAVION OY                      3\n",
       "EADS SOCATA                       2\n",
       "Elmwood                           2\n",
       "Name: count, dtype: int64"
      ]
     },
     "execution_count": 411,
     "metadata": {},
     "output_type": "execute_result"
    }
   ],
   "source": [
    "df[df['Make'].str.lower().str.startswith('e', na=False)].value_counts('Make').head(30)"
   ]
  },
  {
   "cell_type": "code",
   "execution_count": 412,
   "metadata": {},
   "outputs": [],
   "source": [
    "df.loc[df['Make'].str.lower().str.startswith('eaa', na=False), 'Make'] = 'Eaa'"
   ]
  },
  {
   "cell_type": "code",
   "execution_count": 413,
   "metadata": {},
   "outputs": [],
   "source": [
    "df.loc[df['Make'].str.lower().str.startswith('ecli', na=False), 'Make'] = 'Eclipse Aviation'"
   ]
  },
  {
   "cell_type": "code",
   "execution_count": 414,
   "metadata": {},
   "outputs": [],
   "source": [
    "df.loc[df['Make'].str.lower().str.startswith('eip', na=False), 'Make'] = 'Eipper'"
   ]
  },
  {
   "cell_type": "code",
   "execution_count": 415,
   "metadata": {},
   "outputs": [],
   "source": [
    "df.loc[df['Make'].str.lower().str.startswith('eiri', na=False), 'Make'] = 'Eiriavion Oy'"
   ]
  },
  {
   "cell_type": "code",
   "execution_count": 416,
   "metadata": {},
   "outputs": [],
   "source": [
    "df.loc[df['Make'].str.lower().str.startswith('eng', na=False), 'Make'] = 'Engineering & Research'"
   ]
  },
  {
   "cell_type": "code",
   "execution_count": 417,
   "metadata": {},
   "outputs": [],
   "source": [
    "df.loc[df['Make'].str.lower().str.startswith('evol', na=False), 'Make'] = 'Evolution'"
   ]
  },
  {
   "cell_type": "code",
   "execution_count": 418,
   "metadata": {},
   "outputs": [
    {
     "data": {
      "text/plain": [
       "Make\n",
       "Fairchild                  131\n",
       "Fokker                      56\n",
       "FLIGHT DESIGN GMBH          42\n",
       "Fairchild Hiller            35\n",
       "FAIRCHILD                   27\n",
       "Flight Design               20\n",
       "Forney                      17\n",
       "Fairchild Swearingen        11\n",
       "Fleet                       11\n",
       "FLIGHT DESIGN                9\n",
       "FOKKER                       8\n",
       "Fisher                       7\n",
       "FLEET                        6\n",
       "FANTASY AIR SRO              5\n",
       "Firefly                      5\n",
       "Fantasy Sky Promotions       4\n",
       "FISHER                       4\n",
       "Flight Design Gmbh           4\n",
       "FOUND ACFT CANADA INC        4\n",
       "Flagg                        4\n",
       "Funk, D.d. Aviation Co.      4\n",
       "Firefly Balloons             4\n",
       "FAIRCHILD HILLER             4\n",
       "Flight Design GMBH           3\n",
       "FLIGHTSTAR                   3\n",
       "Fouga                        3\n",
       "Fetherolf                    3\n",
       "FLIGHTSTAR INC               3\n",
       "Fairchild Dornier            3\n",
       "Fischer                      3\n",
       "Name: count, dtype: int64"
      ]
     },
     "execution_count": 418,
     "metadata": {},
     "output_type": "execute_result"
    }
   ],
   "source": [
    "df[df['Make'].str.lower().str.startswith('f', na=False)].value_counts('Make').head(30)"
   ]
  },
  {
   "cell_type": "code",
   "execution_count": 419,
   "metadata": {},
   "outputs": [],
   "source": [
    "df.loc[df['Make'].str.lower().str.startswith('fairch', na=False), 'Make'] = 'Fairchild'"
   ]
  },
  {
   "cell_type": "code",
   "execution_count": 420,
   "metadata": {},
   "outputs": [],
   "source": [
    "df.loc[df['Make'].str.lower().str.startswith('firef', na=False), 'Make'] = 'Firefly'"
   ]
  },
  {
   "cell_type": "code",
   "execution_count": 421,
   "metadata": {},
   "outputs": [],
   "source": [
    "df.loc[df['Make'].str.lower().str.startswith('fish', na=False), 'Make'] = 'Fisher'"
   ]
  },
  {
   "cell_type": "code",
   "execution_count": 422,
   "metadata": {},
   "outputs": [],
   "source": [
    "df.loc[df['Make'].str.lower().str.startswith('fleet', na=False), 'Make'] = 'Fleet'"
   ]
  },
  {
   "cell_type": "code",
   "execution_count": 423,
   "metadata": {},
   "outputs": [],
   "source": [
    "df.loc[df['Make'].str.lower().str.startswith('flight d', na=False), 'Make'] = 'Flight Design'"
   ]
  },
  {
   "cell_type": "code",
   "execution_count": 424,
   "metadata": {},
   "outputs": [],
   "source": [
    "df.loc[df['Make'].str.lower().str.startswith('flights', na=False), 'Make'] = 'Flightstar'"
   ]
  },
  {
   "cell_type": "code",
   "execution_count": 425,
   "metadata": {},
   "outputs": [],
   "source": [
    "df.loc[df['Make'].str.lower().str.startswith('fokk', na=False), 'Make'] = 'Fokker'"
   ]
  },
  {
   "cell_type": "code",
   "execution_count": 426,
   "metadata": {},
   "outputs": [
    {
     "data": {
      "text/plain": [
       "Make\n",
       "Fairchild                    221\n",
       "Flight Design                 81\n",
       "Fokker                        64\n",
       "Fisher                        21\n",
       "Fleet                         18\n",
       "Forney                        17\n",
       "Firefly                       15\n",
       "Flightstar                    10\n",
       "FANTASY AIR SRO                5\n",
       "Funk, D.d. Aviation Co.        4\n",
       "Fantasy Sky Promotions         4\n",
       "FOUND ACFT CANADA INC          4\n",
       "Flagg                          4\n",
       "Fetherolf                      3\n",
       "FPNA LLC                       3\n",
       "Ferguson                       3\n",
       "Fouga                          3\n",
       "Fischer                        3\n",
       "Franklin                       3\n",
       "Farrington                     2\n",
       "FOUGA                          2\n",
       "Focke-wulf                     2\n",
       "Fagan                          2\n",
       "Fantasy Air                    2\n",
       "Freeman                        2\n",
       "Folland                        2\n",
       "Fowler                         2\n",
       "Found Aircraft Canada Inc      2\n",
       "Flugzeugbau                    2\n",
       "FUNK                           2\n",
       "Name: count, dtype: int64"
      ]
     },
     "execution_count": 426,
     "metadata": {},
     "output_type": "execute_result"
    }
   ],
   "source": [
    "df[df['Make'].str.lower().str.startswith('f', na=False)].value_counts('Make').head(30)"
   ]
  },
  {
   "cell_type": "code",
   "execution_count": 427,
   "metadata": {},
   "outputs": [],
   "source": [
    "df.loc[df['Make'].str.lower().str.startswith('foug', na=False), 'Make'] = 'Fouga'"
   ]
  },
  {
   "cell_type": "code",
   "execution_count": 428,
   "metadata": {},
   "outputs": [],
   "source": [
    "df.loc[df['Make'].str.lower().str.startswith('found', na=False), 'Make'] = 'Found Aircraft'"
   ]
  },
  {
   "cell_type": "code",
   "execution_count": 429,
   "metadata": {},
   "outputs": [],
   "source": [
    "df.loc[df['Make'].str.lower().str.startswith('funk', na=False), 'Make'] = 'Funk'"
   ]
  },
  {
   "cell_type": "code",
   "execution_count": 430,
   "metadata": {},
   "outputs": [
    {
     "data": {
      "text/plain": [
       "Make\n",
       "Fairchild                       221\n",
       "Flight Design                    81\n",
       "Fokker                           64\n",
       "Fisher                           21\n",
       "Fleet                            18\n",
       "Forney                           17\n",
       "Firefly                          15\n",
       "Flightstar                       10\n",
       "Funk                              9\n",
       "Found Aircraft                    8\n",
       "Fouga                             5\n",
       "FANTASY AIR SRO                   5\n",
       "Fantasy Sky Promotions            4\n",
       "Flagg                             4\n",
       "Ferguson                          3\n",
       "FPNA LLC                          3\n",
       "Franklin                          3\n",
       "Fischer                           3\n",
       "Fetherolf                         3\n",
       "Flugzeugbau                       2\n",
       "Flug-und Fahrzeugwerke (ffa)      2\n",
       "Fantasy Air                       2\n",
       "FANTASY AIR                       2\n",
       "Farrington                        2\n",
       "Fuji                              2\n",
       "Folland                           2\n",
       "Fowler                            2\n",
       "Fields                            2\n",
       "Focke-wulf                        2\n",
       "Freeman                           2\n",
       "Name: count, dtype: int64"
      ]
     },
     "execution_count": 430,
     "metadata": {},
     "output_type": "execute_result"
    }
   ],
   "source": [
    "df[df['Make'].str.lower().str.startswith('f', na=False)].value_counts('Make').head(30)"
   ]
  },
  {
   "cell_type": "code",
   "execution_count": 431,
   "metadata": {},
   "outputs": [],
   "source": [
    "df.loc[df['Make'].str.lower().str.startswith('fant', na=False), 'Make'] = 'Fantasy'"
   ]
  },
  {
   "cell_type": "code",
   "execution_count": 432,
   "metadata": {},
   "outputs": [
    {
     "data": {
      "text/plain": [
       "Make\n",
       "Grumman                           1080\n",
       "Grumman American                   222\n",
       "Grumman-schweizer                  121\n",
       "Globe                               79\n",
       "GRUMMAN                             78\n",
       "Gates Learjet                       63\n",
       "Gulfstream                          62\n",
       "GRUMMAN ACFT ENG COR-SCHWEIZER      58\n",
       "Gulfstream American                 55\n",
       "Great Lakes                         51\n",
       "GRUMMAN AMERICAN AVN. CORP.         49\n",
       "Glasflugel                          25\n",
       "GULFSTREAM                          24\n",
       "Garlick                             22\n",
       "Gulfstream-schweizer                22\n",
       "Glasair                             20\n",
       "Gulfstream Aerospace                17\n",
       "GLOBE                               17\n",
       "Glaser-dirks                        17\n",
       "GREAT LAKES                         14\n",
       "GULFSTREAM AEROSPACE                12\n",
       "GARLICK                             10\n",
       "Grob                                 9\n",
       "Gardner                              9\n",
       "GULFSTREAM AMERICAN CORP             9\n",
       "GULFSTREAM-SCHWEIZER A/C CORP        9\n",
       "GATES LEARJET CORP.                  8\n",
       "GARLICK HELICOPTERS INC              8\n",
       "Gray                                 7\n",
       "Grumman-Schweizer                    6\n",
       "Name: count, dtype: int64"
      ]
     },
     "execution_count": 432,
     "metadata": {},
     "output_type": "execute_result"
    }
   ],
   "source": [
    "df[df['Make'].str.lower().str.startswith('g', na=False)].value_counts('Make').head(30)"
   ]
  },
  {
   "cell_type": "code",
   "execution_count": 433,
   "metadata": {},
   "outputs": [],
   "source": [
    "df.loc[df['Make'].str.lower().str.startswith('garl', na=False), 'Make'] = 'Garlick'"
   ]
  },
  {
   "cell_type": "code",
   "execution_count": 434,
   "metadata": {},
   "outputs": [
    {
     "data": {
      "text/plain": [
       "Make\n",
       "Grumman                           1080\n",
       "Grumman American                   222\n",
       "Grumman-schweizer                  121\n",
       "Globe                               79\n",
       "GRUMMAN                             78\n",
       "Gates Learjet                       63\n",
       "Gulfstream                          62\n",
       "GRUMMAN ACFT ENG COR-SCHWEIZER      58\n",
       "Gulfstream American                 55\n",
       "Great Lakes                         51\n",
       "GRUMMAN AMERICAN AVN. CORP.         49\n",
       "Garlick                             45\n",
       "Glasflugel                          25\n",
       "GULFSTREAM                          24\n",
       "Gulfstream-schweizer                22\n",
       "Glasair                             20\n",
       "Gulfstream Aerospace                17\n",
       "GLOBE                               17\n",
       "Glaser-dirks                        17\n",
       "GREAT LAKES                         14\n",
       "GULFSTREAM AEROSPACE                12\n",
       "Grob                                 9\n",
       "GULFSTREAM-SCHWEIZER A/C CORP        9\n",
       "Gardner                              9\n",
       "GULFSTREAM AMERICAN CORP             9\n",
       "GATES LEARJET CORP.                  8\n",
       "Gray                                 7\n",
       "Grumman-Schweizer                    6\n",
       "General Balloon                      6\n",
       "Government Aircraft Fact (gaf)       6\n",
       "Guimbal                              6\n",
       "GENERAL ATOMICS                      5\n",
       "Glassair                             5\n",
       "GATES LEAR JET                       5\n",
       "GLASAIR                              5\n",
       "Goodyear                             4\n",
       "Gordon                               4\n",
       "GLASFLUGEL                           4\n",
       "Griffin                              4\n",
       "Green                                4\n",
       "General Atomics                      3\n",
       "Garrett                              3\n",
       "Giles                                3\n",
       "Graham                               3\n",
       "Glaser Dirks                         3\n",
       "Gulfstream-Schweizer                 3\n",
       "GROB                                 3\n",
       "Golden Circle Air                    2\n",
       "Gremminger                           2\n",
       "Golden Eagle                         2\n",
       "Name: count, dtype: int64"
      ]
     },
     "execution_count": 434,
     "metadata": {},
     "output_type": "execute_result"
    }
   ],
   "source": [
    "df[df['Make'].str.lower().str.startswith('g', na=False)].value_counts('Make').head(50)"
   ]
  },
  {
   "cell_type": "code",
   "execution_count": 435,
   "metadata": {},
   "outputs": [],
   "source": [
    "df.loc[df['Make'].str.lower().str.startswith('gates', na=False), 'Make'] = 'Gates Learjet'"
   ]
  },
  {
   "cell_type": "code",
   "execution_count": 436,
   "metadata": {},
   "outputs": [],
   "source": [
    "df.loc[df['Make'].str.lower().str.startswith('general atom', na=False), 'Make'] = 'General Atomics'"
   ]
  },
  {
   "cell_type": "code",
   "execution_count": 437,
   "metadata": {},
   "outputs": [],
   "source": [
    "df.loc[df['Make'].str.lower().str.startswith('glasa', na=False), 'Make'] = 'Glasair'"
   ]
  },
  {
   "cell_type": "code",
   "execution_count": 438,
   "metadata": {},
   "outputs": [],
   "source": [
    "df.loc[df['Make'].str.lower().str.startswith('glassa', na=False), 'Make'] = 'Glasair'"
   ]
  },
  {
   "cell_type": "code",
   "execution_count": 439,
   "metadata": {},
   "outputs": [],
   "source": [
    "df.loc[df['Make'].str.lower().str.startswith('glase', na=False), 'Make'] = 'Glaser Dirks'"
   ]
  },
  {
   "cell_type": "code",
   "execution_count": 440,
   "metadata": {},
   "outputs": [],
   "source": [
    "df.loc[df['Make'].str.lower().str.startswith('glasf', na=False), 'Make'] = 'Glasflugel'"
   ]
  },
  {
   "cell_type": "code",
   "execution_count": 441,
   "metadata": {},
   "outputs": [],
   "source": [
    "df.loc[df['Make'].str.lower().str.startswith('globe', na=False), 'Make'] = 'Globe'"
   ]
  },
  {
   "cell_type": "code",
   "execution_count": 442,
   "metadata": {},
   "outputs": [],
   "source": [
    "df.loc[df['Make'].str.lower().str.startswith('great l', na=False), 'Make'] = 'Great Lakes'"
   ]
  },
  {
   "cell_type": "code",
   "execution_count": 443,
   "metadata": {},
   "outputs": [],
   "source": [
    "df.loc[df['Make'].str.lower().str.startswith('grob', na=False), 'Make'] = 'Grob'"
   ]
  },
  {
   "cell_type": "code",
   "execution_count": 444,
   "metadata": {},
   "outputs": [],
   "source": [
    "df.loc[df['Make'].str.lower().str.startswith('grum', na=False), 'Make'] = 'Grumman'"
   ]
  },
  {
   "cell_type": "code",
   "execution_count": 445,
   "metadata": {},
   "outputs": [],
   "source": [
    "df.loc[df['Make'].str.lower().str.startswith('gulfstr', na=False), 'Make'] = 'Gulfstream'"
   ]
  },
  {
   "cell_type": "code",
   "execution_count": 446,
   "metadata": {},
   "outputs": [
    {
     "data": {
      "text/plain": [
       "Make\n",
       "Grumman                           1632\n",
       "Gulfstream                         226\n",
       "Globe                               97\n",
       "Gates Learjet                       82\n",
       "Great Lakes                         67\n",
       "Garlick                             45\n",
       "Glasair                             34\n",
       "Glasflugel                          29\n",
       "Glaser Dirks                        24\n",
       "Grob                                15\n",
       "Gardner                              9\n",
       "General Atomics                      8\n",
       "Gray                                 7\n",
       "Government Aircraft Fact (gaf)       6\n",
       "Guimbal                              6\n",
       "General Balloon                      6\n",
       "Green                                4\n",
       "Griffin                              4\n",
       "Gordon                               4\n",
       "Goodyear                             4\n",
       "Giles                                3\n",
       "Garrett                              3\n",
       "Graham                               3\n",
       "Garner                               2\n",
       "GOLDEN CIRCLE AIR                    2\n",
       "Glover                               2\n",
       "Gamble                               2\n",
       "Galloway                             2\n",
       "Galaxy                               2\n",
       "Good                                 2\n",
       "GRENIER RAYMOND                      2\n",
       "Goldwing                             2\n",
       "Golden Eagle                         2\n",
       "Gremminger                           2\n",
       "Golden Circle Air                    2\n",
       "Grenier                              2\n",
       "Goode                                2\n",
       "GROSCH                               2\n",
       "GALLAGHER                            2\n",
       "Gentry                               2\n",
       "Gunnoe                               2\n",
       "Gillespie                            2\n",
       "Gibbs                                2\n",
       "Grove                                2\n",
       "Gillmore                             2\n",
       "GADDIS MICHAEL                       2\n",
       "Grimm                                2\n",
       "Gemini Int'l.                        2\n",
       "Gilbert                              2\n",
       "G-DAWG LLC                           2\n",
       "Name: count, dtype: int64"
      ]
     },
     "execution_count": 446,
     "metadata": {},
     "output_type": "execute_result"
    }
   ],
   "source": [
    "df[df['Make'].str.lower().str.startswith('g', na=False)].value_counts('Make').head(50)"
   ]
  },
  {
   "cell_type": "code",
   "execution_count": 447,
   "metadata": {},
   "outputs": [],
   "source": [
    "df.loc[df['Make'].str.lower().str.startswith('golden c', na=False), 'Make'] = 'Golden Circle Air'"
   ]
  },
  {
   "cell_type": "code",
   "execution_count": 448,
   "metadata": {},
   "outputs": [],
   "source": [
    "df.loc[df['Make'].str.lower().str.startswith('gren', na=False), 'Make'] = 'Grenier'"
   ]
  },
  {
   "cell_type": "code",
   "execution_count": 449,
   "metadata": {},
   "outputs": [
    {
     "data": {
      "text/plain": [
       "Make\n",
       "Hughes                           794\n",
       "Hiller                           311\n",
       "HUGHES                           137\n",
       "Helio                             94\n",
       "HILLER                            37\n",
       "Homebuilt                         30\n",
       "Hawker Siddeley                   28\n",
       "HELIO                             19\n",
       "Howard Aircraft Corp.             14\n",
       "HAWKER BEECHCRAFT CORP            13\n",
       "Hispano Aviacion                  11\n",
       "Head Balloons, Inc.               10\n",
       "Hall                              10\n",
       "Hiller-soloy                       9\n",
       "Hawker Beechcraft                  8\n",
       "HAWKER BEECHCRAFT                  7\n",
       "Hawker Beechcraft Corp.            7\n",
       "HAWKER                             7\n",
       "Hunter                             7\n",
       "Harris                             6\n",
       "Hayes                              6\n",
       "HEAD BALLOONS INC                  5\n",
       "Huff                               5\n",
       "Holmes                             5\n",
       "HAWKER SIDDELEY                    4\n",
       "Hudson                             4\n",
       "Hardy                              4\n",
       "Hawker Beechcraft Corporation      4\n",
       "Hanson                             4\n",
       "Hill                               4\n",
       "HELICOPTERES GUIMBAL               4\n",
       "Hamilton                           4\n",
       "Harmon                             3\n",
       "Hammond                            3\n",
       "Head                               3\n",
       "Henderson                          3\n",
       "HAWKER BEECHCRAFT CORPORATION      3\n",
       "HEAD                               3\n",
       "Hackney                            3\n",
       "HONDA AIRCRAFT CO LLC              3\n",
       "Hawker                             3\n",
       "HOWARD AIRCRAFT                    3\n",
       "Higher Class Aviation              3\n",
       "Hatz                               3\n",
       "Highcraft                          3\n",
       "HUGHES HELICOPTERS INC             3\n",
       "HEMP TIMOTHY                       2\n",
       "Hoover                             2\n",
       "Hannah                             2\n",
       "Hammer                             2\n",
       "Name: count, dtype: int64"
      ]
     },
     "execution_count": 449,
     "metadata": {},
     "output_type": "execute_result"
    }
   ],
   "source": [
    "df[df['Make'].str.lower().str.startswith('h', na=False)].value_counts('Make').head(50)"
   ]
  },
  {
   "cell_type": "code",
   "execution_count": 450,
   "metadata": {},
   "outputs": [],
   "source": [
    "df.loc[df['Make'].str.lower().str.startswith('hawk', na=False), 'Make'] = 'Hawker'"
   ]
  },
  {
   "cell_type": "code",
   "execution_count": 451,
   "metadata": {},
   "outputs": [],
   "source": [
    "df.loc[df['Make'].str.lower().str.startswith('head', na=False), 'Make'] = 'Head Balloons'"
   ]
  },
  {
   "cell_type": "code",
   "execution_count": 452,
   "metadata": {},
   "outputs": [],
   "source": [
    "df.loc[df['Make'].str.lower().str.startswith('helio', na=False), 'Make'] = 'Helio'"
   ]
  },
  {
   "cell_type": "code",
   "execution_count": 453,
   "metadata": {},
   "outputs": [],
   "source": [
    "df.loc[df['Make'].str.lower().str.startswith('hiller', na=False), 'Make'] = 'Hiller'"
   ]
  },
  {
   "cell_type": "code",
   "execution_count": 454,
   "metadata": {},
   "outputs": [],
   "source": [
    "df.loc[df['Make'].str.lower().str.startswith('howard', na=False), 'Make'] = 'Howard Aircraft'"
   ]
  },
  {
   "cell_type": "code",
   "execution_count": 455,
   "metadata": {},
   "outputs": [],
   "source": [
    "df.loc[df['Make'].str.lower().str.startswith('hughes', na=False), 'Make'] = 'Hughes Helicopters'"
   ]
  },
  {
   "cell_type": "code",
   "execution_count": 456,
   "metadata": {},
   "outputs": [
    {
     "data": {
      "text/plain": [
       "Make\n",
       "Israel Aircraft Industries        28\n",
       "I.c.a. Brasov                     27\n",
       "Interstate                        17\n",
       "ISRAEL AIRCRAFT INDUSTRIES         8\n",
       "Intermountain Mfg. (imco)          6\n",
       "IAI                                4\n",
       "INFINITY                           4\n",
       "INIZIATIVE INDUSTRIALI ITALIAN     3\n",
       "Issoire-aviation                   3\n",
       "Interavia                          3\n",
       "Interplane                         3\n",
       "INTERSTATE                         3\n",
       "Infinity                           3\n",
       "ICON AIRCRAFT INC                  3\n",
       "I.C.A.-BRASOV (ROMANIA)            2\n",
       "Iniziative Industriali Italian     2\n",
       "Irwin                              2\n",
       "Icon                               2\n",
       "ICON                               2\n",
       "ICP                                2\n",
       "Inman                              1\n",
       "Interplane Sro                     1\n",
       "Ives                               1\n",
       "Iverslie                           1\n",
       "Ingraham                           1\n",
       "Iversen                            1\n",
       "Ivan Langston                      1\n",
       "Infinity Power Parachutes          1\n",
       "Interplane Llc                     1\n",
       "Insua                              1\n",
       "Istenes                            1\n",
       "Istvanick                          1\n",
       "Ireneusz                           1\n",
       "Irving Siewert                     1\n",
       "Isaacson                           1\n",
       "Iseman                             1\n",
       "Indus Aviation                     1\n",
       "Isgrigg                            1\n",
       "Ismari                             1\n",
       "Ison Aircraft                      1\n",
       "Iv Inc.                            1\n",
       "Issitt                             1\n",
       "Intl Ultralight                    1\n",
       "Illi                               1\n",
       "Indus                              1\n",
       "Indonesian Aerospace               1\n",
       "I.c.a. Brasov - Romania            1\n",
       "I.c.a.-brasov                      1\n",
       "IAR BRASOV                         1\n",
       "ICA BRASOV                         1\n",
       "Name: count, dtype: int64"
      ]
     },
     "execution_count": 456,
     "metadata": {},
     "output_type": "execute_result"
    }
   ],
   "source": [
    "df[df['Make'].str.lower().str.startswith('i', na=False)].value_counts('Make').head(50)"
   ]
  },
  {
   "cell_type": "code",
   "execution_count": 457,
   "metadata": {},
   "outputs": [],
   "source": [
    "df.loc[df['Make'].str.lower().str.startswith('i.c.a', na=False), 'Make'] = 'I.c.a. Brasov'"
   ]
  },
  {
   "cell_type": "code",
   "execution_count": 458,
   "metadata": {},
   "outputs": [],
   "source": [
    "df.loc[df['Make'].str.lower().str.startswith('ica', na=False), 'Make'] = 'I.c.a. Brasov'"
   ]
  },
  {
   "cell_type": "code",
   "execution_count": 459,
   "metadata": {},
   "outputs": [],
   "source": [
    "df.loc[df['Make'].str.lower().str.startswith('icon', na=False), 'Make'] = 'Icon'"
   ]
  },
  {
   "cell_type": "code",
   "execution_count": 460,
   "metadata": {},
   "outputs": [],
   "source": [
    "df.loc[df['Make'].str.lower().str.startswith('indu', na=False), 'Make'] = 'Indus'"
   ]
  },
  {
   "cell_type": "code",
   "execution_count": 461,
   "metadata": {},
   "outputs": [],
   "source": [
    "df.loc[df['Make'].str.lower().str.startswith('infini', na=False), 'Make'] = 'Infinity'"
   ]
  },
  {
   "cell_type": "code",
   "execution_count": 462,
   "metadata": {},
   "outputs": [],
   "source": [
    "df.loc[df['Make'].str.lower().str.startswith('iniz', na=False), 'Make'] = 'Iniziative Industriali Italian'"
   ]
  },
  {
   "cell_type": "code",
   "execution_count": 463,
   "metadata": {},
   "outputs": [],
   "source": [
    "df.loc[df['Make'].str.lower().str.startswith('interp', na=False), 'Make'] = 'Interplane'"
   ]
  },
  {
   "cell_type": "code",
   "execution_count": 464,
   "metadata": {},
   "outputs": [],
   "source": [
    "df.loc[df['Make'].str.lower().str.startswith('intersta', na=False), 'Make'] = 'Interstate'"
   ]
  },
  {
   "cell_type": "code",
   "execution_count": 465,
   "metadata": {},
   "outputs": [
    {
     "data": {
      "text/plain": [
       "Make\n",
       "I.c.a. Brasov                     34\n",
       "Israel Aircraft Industries        28\n",
       "Interstate                        20\n",
       "Infinity                           9\n",
       "ISRAEL AIRCRAFT INDUSTRIES         8\n",
       "Interplane                         7\n",
       "Icon                               7\n",
       "Iniziative Industriali Italian     6\n",
       "Intermountain Mfg. (imco)          6\n",
       "IAI                                4\n",
       "Indus                              4\n",
       "Interavia                          3\n",
       "Issoire-aviation                   3\n",
       "ICP                                2\n",
       "Irwin                              2\n",
       "Istenes                            1\n",
       "Ireneusz                           1\n",
       "Ives                               1\n",
       "Iverslie                           1\n",
       "Iversen                            1\n",
       "Intl Ultralight                    1\n",
       "Ivan Langston                      1\n",
       "Irving Siewert                     1\n",
       "Isaacson                           1\n",
       "Iseman                             1\n",
       "Iv Inc.                            1\n",
       "Ismari                             1\n",
       "Ison Aircraft                      1\n",
       "Istvanick                          1\n",
       "Issitt                             1\n",
       "Isgrigg                            1\n",
       "Ingraham                           1\n",
       "Insua                              1\n",
       "IRLBECK THOMAS H                   1\n",
       "IAR BRASOV                         1\n",
       "ICP SRL                            1\n",
       "ILYUSHIN                           1\n",
       "INDEPENDENT TECHNOLOGIES INC       1\n",
       "INDY AIRCRAFT LTD                  1\n",
       "INHOFE/ DAVIS                      1\n",
       "INMAN J D                          1\n",
       "INNOVATOR                          1\n",
       "INNOVATOR TECHNOLOGIES             1\n",
       "IRVIN STEPHEN D                    1\n",
       "Inman                              1\n",
       "ISAAK PAUL G                       1\n",
       "ISRAEL AEROSPACE INDUSTRIESLTD     1\n",
       "ISSOIRE SIREN                      1\n",
       "ITEC INC                           1\n",
       "Iar Sa Brasov                      1\n",
       "Name: count, dtype: int64"
      ]
     },
     "execution_count": 465,
     "metadata": {},
     "output_type": "execute_result"
    }
   ],
   "source": [
    "df[df['Make'].str.lower().str.startswith('i', na=False)].value_counts('Make').head(50)"
   ]
  },
  {
   "cell_type": "code",
   "execution_count": 466,
   "metadata": {},
   "outputs": [],
   "source": [
    "df.loc[df['Make'].str.lower().str.startswith('israel', na=False), 'Make'] = 'Israel Aircraft Industries'"
   ]
  },
  {
   "cell_type": "code",
   "execution_count": 467,
   "metadata": {},
   "outputs": [
    {
     "data": {
      "text/plain": [
       "Make\n",
       "Johnson                          20\n",
       "Jones                            14\n",
       "JABIRU USA SPORT AIRCRAFT LLC     9\n",
       "JABIRU                            8\n",
       "Just                              6\n",
       "Jackson                           5\n",
       "Jenkins                           5\n",
       "JOHNSON                           5\n",
       "Jodel                             4\n",
       "Jihlavan                          4\n",
       "Jonas                             4\n",
       "Jetstream                         3\n",
       "JONKER SAILPLANES (PTY) LTD       3\n",
       "Jordan                            3\n",
       "JUST AIRCRAFT LLC                 3\n",
       "JDT                               2\n",
       "JIHLAVAN AIRPLANES SRO            2\n",
       "JOE SALOMONE                      2\n",
       "Jahns                             2\n",
       "Jacobs                            2\n",
       "Jackman                           2\n",
       "JUST AIRCRAFT                     2\n",
       "Jauch                             2\n",
       "J&J Ultralights                   2\n",
       "Jurca                             2\n",
       "Jack Mcdaniel                     2\n",
       "JONES                             2\n",
       "Jett                              1\n",
       "Jewett                            1\n",
       "JetProp DLX Piper                 1\n",
       "J And J                           1\n",
       "Jim Weseman                       1\n",
       "Jilek-smith Miniplane             1\n",
       "Jim Elliott                       1\n",
       "Jim Garrison                      1\n",
       "Jim Mckinstry                     1\n",
       "Jimenez Reymundo                  1\n",
       "Jimi Youngblood                   1\n",
       "Jimmy Hill                        1\n",
       "Jiran                             1\n",
       "Joachim Hoehne                    1\n",
       "Job                               1\n",
       "Jobe's                            1\n",
       "Jodel-bernier                     1\n",
       "Jodell                            1\n",
       "Joe Almon                         1\n",
       "Jesse Knight                      1\n",
       "Jerrell                           1\n",
       "Jeska                             1\n",
       "Jerry Garrison                    1\n",
       "Name: count, dtype: int64"
      ]
     },
     "execution_count": 467,
     "metadata": {},
     "output_type": "execute_result"
    }
   ],
   "source": [
    "df[df['Make'].str.lower().str.startswith('j', na=False)].value_counts('Make').head(50)"
   ]
  },
  {
   "cell_type": "code",
   "execution_count": 468,
   "metadata": {},
   "outputs": [],
   "source": [
    "df.loc[df['Make'].str.lower().str.startswith('jabi', na=False), 'Make'] = 'Jabiru'"
   ]
  },
  {
   "cell_type": "code",
   "execution_count": 469,
   "metadata": {},
   "outputs": [],
   "source": [
    "df.loc[df['Make'].str.lower().str.startswith('jihl', na=False), 'Make'] = 'Jihlavan'"
   ]
  },
  {
   "cell_type": "code",
   "execution_count": 470,
   "metadata": {},
   "outputs": [],
   "source": [
    "df.loc[df['Make'].str.lower().str.startswith('jode', na=False), 'Make'] = 'Jodel'"
   ]
  },
  {
   "cell_type": "code",
   "execution_count": 471,
   "metadata": {},
   "outputs": [],
   "source": [
    "df.loc[df['Make'].str.lower().str.startswith('johns', na=False), 'Make'] = 'Johnson'"
   ]
  },
  {
   "cell_type": "code",
   "execution_count": 472,
   "metadata": {},
   "outputs": [],
   "source": [
    "df.loc[df['Make'].str.lower().str.startswith('jones', na=False), 'Make'] = 'Jones'"
   ]
  },
  {
   "cell_type": "code",
   "execution_count": 473,
   "metadata": {},
   "outputs": [],
   "source": [
    "df.loc[df['Make'].str.lower().str.startswith('just', na=False), 'Make'] = 'Just Aircraft'"
   ]
  },
  {
   "cell_type": "code",
   "execution_count": 474,
   "metadata": {},
   "outputs": [
    {
     "data": {
      "text/plain": [
       "Make\n",
       "Kaman                   35\n",
       "Kolb Company            17\n",
       "Kitfox                  15\n",
       "KOLB                     7\n",
       "Kolb                     7\n",
       "KUBICEK                  6\n",
       "King                     6\n",
       "Kelly                    4\n",
       "Keuthan                  3\n",
       "Kirkpatrick              3\n",
       "Keith                    3\n",
       "Keller                   3\n",
       "Kennedy                  3\n",
       "KAMAN                    3\n",
       "KAMAN AEROSPACE CORP     2\n",
       "Kelley                   2\n",
       "KITFOX                   2\n",
       "Kinner                   2\n",
       "Kucklick                 2\n",
       "Keesler                  2\n",
       "Kauffman                 2\n",
       "Kubicek                  2\n",
       "Kawasaki                 2\n",
       "KAWASAKI                 2\n",
       "Knapp                    2\n",
       "Krotje                   2\n",
       "Kenney                   1\n",
       "Kirner                   1\n",
       "Klasing                  1\n",
       "Kitty Hawk               1\n",
       "Kinnson                  1\n",
       "Kirby                    1\n",
       "Kircher                  1\n",
       "Kirchner                 1\n",
       "Kenoyer                  1\n",
       "Kirst Allen J            1\n",
       "Kite                     1\n",
       "Kittleson                1\n",
       "Kit Built (rotorway)     1\n",
       "Kenny Deward             1\n",
       "Kenny                    1\n",
       "Kitfox Ten, Inc          1\n",
       "Kitchen                  1\n",
       "Kitfox IV                1\n",
       "Kitchens                 1\n",
       "Kit Fox                  1\n",
       "Kerner                   1\n",
       "Kinkade E.5              1\n",
       "Kerr                     1\n",
       "Kertesz                  1\n",
       "Name: count, dtype: int64"
      ]
     },
     "execution_count": 474,
     "metadata": {},
     "output_type": "execute_result"
    }
   ],
   "source": [
    "df[df['Make'].str.lower().str.startswith('k', na=False)].value_counts('Make').head(50)"
   ]
  },
  {
   "cell_type": "code",
   "execution_count": 475,
   "metadata": {},
   "outputs": [],
   "source": [
    "df.loc[df['Make'].str.lower().str.startswith('kama', na=False), 'Make'] = 'Kaman'"
   ]
  },
  {
   "cell_type": "code",
   "execution_count": 476,
   "metadata": {},
   "outputs": [],
   "source": [
    "df.loc[df['Make'].str.lower().str.startswith('kawa', na=False), 'Make'] = 'Kawasaki'"
   ]
  },
  {
   "cell_type": "code",
   "execution_count": 477,
   "metadata": {},
   "outputs": [],
   "source": [
    "df.loc[df['Make'].str.lower().str.startswith('kitf', na=False), 'Make'] = 'Kitfox'"
   ]
  },
  {
   "cell_type": "code",
   "execution_count": 478,
   "metadata": {},
   "outputs": [],
   "source": [
    "df.loc[df['Make'].str.lower().str.startswith('kolb', na=False), 'Make'] = 'Kolb'"
   ]
  },
  {
   "cell_type": "code",
   "execution_count": 479,
   "metadata": {},
   "outputs": [],
   "source": [
    "df.loc[df['Make'].str.lower().str.startswith('kubic', na=False), 'Make'] = 'Kubicek'"
   ]
  },
  {
   "cell_type": "code",
   "execution_count": 480,
   "metadata": {},
   "outputs": [
    {
     "data": {
      "text/plain": [
       "Make\n",
       "Luscombe                          316\n",
       "Lake                              136\n",
       "Lockheed                          111\n",
       "Let                               111\n",
       "Learjet                           109\n",
       "LUSCOMBE                           95\n",
       "Lancair                            32\n",
       "LEARJET                            25\n",
       "LET                                24\n",
       "LANCAIR                            19\n",
       "LAKE                               14\n",
       "LOCKHEED                           11\n",
       "LEARJET INC                        10\n",
       "Lindstrand Balloons                 9\n",
       "LINDSTRAND BALLOONS                 9\n",
       "Lewis                               8\n",
       "LIBERTY AEROSPACE INCORPORATED      7\n",
       "LANCAIR COMPANY                     7\n",
       "Lindstrand                          6\n",
       "Laister                             5\n",
       "Liberty Aerospace Inc.              5\n",
       "Lee                                 4\n",
       "Larson                              4\n",
       "LINDSTRAND                          4\n",
       "Long                                3\n",
       "Logan                               3\n",
       "Lutz                                3\n",
       "Larsen                              2\n",
       "Leblanc                             2\n",
       "Leone                               2\n",
       "Lockwood                            2\n",
       "Lithuanian Factory Of Aviation      2\n",
       "L-BIRD LLC                          2\n",
       "Lamb                                2\n",
       "LONG                                2\n",
       "Lancair Company                     2\n",
       "Liberty                             2\n",
       "Lampert                             2\n",
       "Levick                              2\n",
       "Lanceair                            2\n",
       "Lawrence                            2\n",
       "Lowe                                2\n",
       "Lorello                             1\n",
       "Lerch                               1\n",
       "Lerille                             1\n",
       "Lerohl                              1\n",
       "Leroy Lakey                         1\n",
       "Lerstang                            1\n",
       "Lesemann                            1\n",
       "Leslie                              1\n",
       "Name: count, dtype: int64"
      ]
     },
     "execution_count": 480,
     "metadata": {},
     "output_type": "execute_result"
    }
   ],
   "source": [
    "df[df['Make'].str.lower().str.startswith('l', na=False)].value_counts('Make').head(50)"
   ]
  },
  {
   "cell_type": "code",
   "execution_count": 481,
   "metadata": {},
   "outputs": [],
   "source": [
    "df.loc[df['Make'].str.lower().str.startswith('lake', na=False), 'Make'] = 'Lake'"
   ]
  },
  {
   "cell_type": "code",
   "execution_count": 482,
   "metadata": {},
   "outputs": [],
   "source": [
    "df.loc[df['Make'].str.lower().str.startswith('lanc', na=False), 'Make'] = 'Lancair'"
   ]
  },
  {
   "cell_type": "code",
   "execution_count": 483,
   "metadata": {},
   "outputs": [],
   "source": [
    "df.loc[df['Make'].str.lower().str.startswith('lars', na=False), 'Make'] = 'Larson'"
   ]
  },
  {
   "cell_type": "code",
   "execution_count": 484,
   "metadata": {},
   "outputs": [],
   "source": [
    "df.loc[df['Make'].str.lower().str.startswith('lear', na=False), 'Make'] = 'Learjet'"
   ]
  },
  {
   "cell_type": "code",
   "execution_count": 485,
   "metadata": {},
   "outputs": [],
   "source": [
    "df.loc[df['Make'].str.lower().str.startswith('let', na=False), 'Make'] = 'Let'"
   ]
  },
  {
   "cell_type": "code",
   "execution_count": 486,
   "metadata": {},
   "outputs": [],
   "source": [
    "df.loc[df['Make'].str.lower().str.startswith('liberty', na=False), 'Make'] = 'Liberty'"
   ]
  },
  {
   "cell_type": "code",
   "execution_count": 487,
   "metadata": {},
   "outputs": [],
   "source": [
    "df.loc[df['Make'].str.lower().str.startswith('lindst', na=False), 'Make'] = 'Lindstrand Balloons'"
   ]
  },
  {
   "cell_type": "code",
   "execution_count": 488,
   "metadata": {},
   "outputs": [],
   "source": [
    "df.loc[df['Make'].str.lower().str.startswith('lockh', na=False), 'Make'] = 'Lockheed'"
   ]
  },
  {
   "cell_type": "code",
   "execution_count": 489,
   "metadata": {},
   "outputs": [],
   "source": [
    "df.loc[df['Make'].str.lower().str.startswith('long', na=False), 'Make'] = 'Long'"
   ]
  },
  {
   "cell_type": "code",
   "execution_count": 490,
   "metadata": {},
   "outputs": [],
   "source": [
    "df.loc[df['Make'].str.lower().str.startswith('lusc', na=False), 'Make'] = 'Luscombe'"
   ]
  },
  {
   "cell_type": "code",
   "execution_count": 491,
   "metadata": {},
   "outputs": [
    {
     "data": {
      "text/plain": [
       "Make\n",
       "Mooney                           1080\n",
       "Mcdonnell Douglas                 499\n",
       "Maule                             443\n",
       "MOONEY                            242\n",
       "MAULE                             144\n",
       "Mitsubishi                        126\n",
       "MCDONNELL DOUGLAS                  78\n",
       "Mbb                                70\n",
       "MD HELICOPTER                      35\n",
       "MOONEY AIRCRAFT CORP.              34\n",
       "MCDONNELL DOUGLAS HELICOPTER       31\n",
       "Miller                             17\n",
       "MITSUBISHI                         16\n",
       "Mitchell                           13\n",
       "Mcculloch                          11\n",
       "MCDONNELL DOUGLAS HELI CO          11\n",
       "MOONEY AIRPLANE CO INC             10\n",
       "Meyers Aircraft Co.                10\n",
       "Maxair                              9\n",
       "Monocoupe Aircraft                  9\n",
       "Monnett                             9\n",
       "Morrisey                            9\n",
       "Murphy                              8\n",
       "Martin                              8\n",
       "Molino Oy                           7\n",
       "Moore                               7\n",
       "MEYERS                              7\n",
       "MD HELICOPTER INC                   7\n",
       "Md Helicopter                       6\n",
       "MCDONNELL DOUGLAS AIRCRAFT CO       6\n",
       "Morrison                            6\n",
       "Myers                               6\n",
       "Morgan                              5\n",
       "MD HELICOPTERS INC                  5\n",
       "Monocoupe                           5\n",
       "Mason                               5\n",
       "MESSERSCHMITT-BOLKOW-BLOHM          5\n",
       "Meyer                               4\n",
       "Mattison                            4\n",
       "McDonnell Douglas                   4\n",
       "Morane-saulnier                     4\n",
       "Mccoy                               4\n",
       "Mikoyan Mig                         4\n",
       "Murphy Aircraft                     4\n",
       "Mcclung                             3\n",
       "Moravan                             3\n",
       "MILLER                              3\n",
       "Mcilraith                           3\n",
       "MEYERS INDUSTRIES INC               3\n",
       "Martin Company                      3\n",
       "Name: count, dtype: int64"
      ]
     },
     "execution_count": 491,
     "metadata": {},
     "output_type": "execute_result"
    }
   ],
   "source": [
    "df[df['Make'].str.lower().str.startswith('m', na=False)].value_counts('Make').head(50)"
   ]
  },
  {
   "cell_type": "code",
   "execution_count": 492,
   "metadata": {},
   "outputs": [],
   "source": [
    "df.loc[df['Make'].str.lower().str.startswith('martin', na=False), 'Make'] = 'Martin'"
   ]
  },
  {
   "cell_type": "code",
   "execution_count": 493,
   "metadata": {},
   "outputs": [],
   "source": [
    "df.loc[df['Make'].str.lower().str.startswith('maul', na=False), 'Make'] = 'Maule'"
   ]
  },
  {
   "cell_type": "code",
   "execution_count": 494,
   "metadata": {},
   "outputs": [],
   "source": [
    "df.loc[df['Make'].str.lower().str.startswith('MCDONNELL DOUGLAS H', na=False), 'Make'] = 'Mcdonnell Douglas Helicopters'"
   ]
  },
  {
   "cell_type": "code",
   "execution_count": 495,
   "metadata": {},
   "outputs": [],
   "source": [
    "df.loc[df['Make'].str.lower().str.startswith('MCDONNELL DOUGLAS A', na=False), 'Make'] = 'Mcdonnell Douglas'"
   ]
  },
  {
   "cell_type": "code",
   "execution_count": 496,
   "metadata": {},
   "outputs": [
    {
     "data": {
      "text/plain": [
       "Make\n",
       "Mcdonnell Douglas                 499\n",
       "MCDONNELL DOUGLAS                  78\n",
       "MCDONNELL DOUGLAS HELICOPTER       31\n",
       "MCDONNELL DOUGLAS HELI CO          11\n",
       "MCDONNELL DOUGLAS AIRCRAFT CO       6\n",
       "McDonnell Douglas                   4\n",
       "Mcdonnell-douglas                   2\n",
       "MCDONNELL DOUGLAS CORPORATION       1\n",
       "MCDONNELL-DOUGLAS                   1\n",
       "McDonnell Douglas Helicopter        1\n",
       "McDonnell Douglas Helicopter C      1\n",
       "McDonnell Douglas Helicopters       1\n",
       "Mcdonnell Douglas Helicopter        1\n",
       "Mcdonnell Douglas Helicopters       1\n",
       "Name: count, dtype: int64"
      ]
     },
     "execution_count": 496,
     "metadata": {},
     "output_type": "execute_result"
    }
   ],
   "source": [
    "df[df['Make'].str.lower().str.startswith('mcdonn', na=False)].value_counts('Make').head(50)"
   ]
  },
  {
   "cell_type": "code",
   "execution_count": 497,
   "metadata": {},
   "outputs": [],
   "source": [
    "df.loc[df['Make'].str.lower().str.startswith('mcdonnell douglas h', na=False), 'Make'] = 'Mcdonnell Douglas Helicopters'"
   ]
  },
  {
   "cell_type": "code",
   "execution_count": 498,
   "metadata": {},
   "outputs": [
    {
     "data": {
      "text/plain": [
       "Make\n",
       "Mcdonnell Douglas                499\n",
       "MCDONNELL DOUGLAS                 78\n",
       "Mcdonnell Douglas Helicopters     47\n",
       "MCDONNELL DOUGLAS AIRCRAFT CO      6\n",
       "McDonnell Douglas                  4\n",
       "Mcdonnell-douglas                  2\n",
       "MCDONNELL DOUGLAS CORPORATION      1\n",
       "MCDONNELL-DOUGLAS                  1\n",
       "Name: count, dtype: int64"
      ]
     },
     "execution_count": 498,
     "metadata": {},
     "output_type": "execute_result"
    }
   ],
   "source": [
    "df[df['Make'].str.lower().str.startswith('mcdonn', na=False)].value_counts('Make').head(50)"
   ]
  },
  {
   "cell_type": "code",
   "execution_count": 499,
   "metadata": {},
   "outputs": [],
   "source": [
    "df.loc[df['Make'].str.lower().str.startswith('mcdonnell-douglas', na=False), 'Make'] = 'Mcdonnell Douglas'"
   ]
  },
  {
   "cell_type": "code",
   "execution_count": 500,
   "metadata": {},
   "outputs": [],
   "source": [
    "df.loc[df['Make'].str.lower().str.startswith('mcdonnell douglas a', na=False), 'Make'] = 'Mcdonnell Douglas'"
   ]
  },
  {
   "cell_type": "code",
   "execution_count": 501,
   "metadata": {},
   "outputs": [],
   "source": [
    "df.loc[df['Make'].str.lower().str.startswith('mcdonnell douglas c', na=False), 'Make'] = 'Mcdonnell Douglas'"
   ]
  },
  {
   "cell_type": "code",
   "execution_count": 502,
   "metadata": {},
   "outputs": [
    {
     "data": {
      "text/plain": [
       "Make\n",
       "Mcdonnell Douglas                509\n",
       "MCDONNELL DOUGLAS                 78\n",
       "Mcdonnell Douglas Helicopters     47\n",
       "McDonnell Douglas                  4\n",
       "Name: count, dtype: int64"
      ]
     },
     "execution_count": 502,
     "metadata": {},
     "output_type": "execute_result"
    }
   ],
   "source": [
    "df[df['Make'].str.lower().str.startswith('mcdonn', na=False)].value_counts('Make').head(50)"
   ]
  },
  {
   "cell_type": "code",
   "execution_count": 503,
   "metadata": {},
   "outputs": [],
   "source": [
    "df.loc[(df['Make'] == 'MCDONNELL DOUGLAS') | (df['Make'] == 'McDonnell Douglas'), 'Make'] = 'Mcdonnell Douglas'"
   ]
  },
  {
   "cell_type": "code",
   "execution_count": 504,
   "metadata": {},
   "outputs": [
    {
     "data": {
      "text/plain": [
       "Make\n",
       "Mcdonnell Douglas                591\n",
       "Mcdonnell Douglas Helicopters     47\n",
       "Name: count, dtype: int64"
      ]
     },
     "execution_count": 504,
     "metadata": {},
     "output_type": "execute_result"
    }
   ],
   "source": [
    "df[df['Make'].str.lower().str.startswith('mcdonn', na=False)].value_counts('Make').head(50)"
   ]
  },
  {
   "cell_type": "code",
   "execution_count": 505,
   "metadata": {},
   "outputs": [
    {
     "data": {
      "text/plain": [
       "Make\n",
       "Mooney                           1080\n",
       "Mcdonnell Douglas                 591\n",
       "Maule                             589\n",
       "MOONEY                            242\n",
       "Mitsubishi                        126\n",
       "Mbb                                70\n",
       "Mcdonnell Douglas Helicopters      47\n",
       "MD HELICOPTER                      35\n",
       "MOONEY AIRCRAFT CORP.              34\n",
       "Miller                             17\n",
       "MITSUBISHI                         16\n",
       "Martin                             16\n",
       "Mitchell                           13\n",
       "Mcculloch                          11\n",
       "MOONEY AIRPLANE CO INC             10\n",
       "Meyers Aircraft Co.                10\n",
       "Monocoupe Aircraft                  9\n",
       "Monnett                             9\n",
       "Morrisey                            9\n",
       "Maxair                              9\n",
       "Murphy                              8\n",
       "Molino Oy                           7\n",
       "MEYERS                              7\n",
       "MD HELICOPTER INC                   7\n",
       "Moore                               7\n",
       "Md Helicopter                       6\n",
       "Morrison                            6\n",
       "Myers                               6\n",
       "MD HELICOPTERS INC                  5\n",
       "Morgan                              5\n",
       "MESSERSCHMITT-BOLKOW-BLOHM          5\n",
       "Mason                               5\n",
       "Monocoupe                           5\n",
       "Morane-saulnier                     4\n",
       "Murphy Aircraft                     4\n",
       "Mattison                            4\n",
       "Mikoyan Mig                         4\n",
       "Mccoy                               4\n",
       "Meyer                               4\n",
       "MBB                                 3\n",
       "MILLER                              3\n",
       "MORRISEY                            3\n",
       "Mcclung                             3\n",
       "MEYERS INDUSTRIES INC               3\n",
       "Murray                              3\n",
       "MAXAIR                              3\n",
       "Mcfarland                           3\n",
       "Mcilraith                           3\n",
       "Morton                              3\n",
       "Moravan                             3\n",
       "Name: count, dtype: int64"
      ]
     },
     "execution_count": 505,
     "metadata": {},
     "output_type": "execute_result"
    }
   ],
   "source": [
    "df[df['Make'].str.lower().str.startswith('m', na=False)].value_counts('Make').head(50)"
   ]
  },
  {
   "cell_type": "code",
   "execution_count": 506,
   "metadata": {},
   "outputs": [],
   "source": [
    "df.loc[df['Make'].str.lower().str.startswith('maxair', na=False), 'Make'] = 'Maxair'"
   ]
  },
  {
   "cell_type": "code",
   "execution_count": 507,
   "metadata": {},
   "outputs": [],
   "source": [
    "df.loc[df['Make'].str.lower().str.startswith('mbb', na=False), 'Make'] = 'MBB'"
   ]
  },
  {
   "cell_type": "code",
   "execution_count": 508,
   "metadata": {},
   "outputs": [],
   "source": [
    "df.loc[df['Make'].str.lower().str.startswith('md helicopter', na=False), 'Make'] = 'Md Helicopter'"
   ]
  },
  {
   "cell_type": "code",
   "execution_count": 509,
   "metadata": {},
   "outputs": [],
   "source": [
    "df.loc[df['Make'].str.lower().str.startswith('meyer', na=False), 'Make'] = 'Meyers'"
   ]
  },
  {
   "cell_type": "code",
   "execution_count": 510,
   "metadata": {},
   "outputs": [],
   "source": [
    "df.loc[df['Make'].str.lower().str.startswith('miller', na=False), 'Make'] = 'Miller'"
   ]
  },
  {
   "cell_type": "code",
   "execution_count": 511,
   "metadata": {},
   "outputs": [],
   "source": [
    "df.loc[df['Make'].str.lower().str.startswith('mitsub', na=False), 'Make'] = 'Mitsubishi'"
   ]
  },
  {
   "cell_type": "code",
   "execution_count": 512,
   "metadata": {},
   "outputs": [],
   "source": [
    "df.loc[df['Make'].str.lower().str.startswith('monoco', na=False), 'Make'] = 'Monocoupe'"
   ]
  },
  {
   "cell_type": "code",
   "execution_count": 513,
   "metadata": {},
   "outputs": [],
   "source": [
    "df.loc[df['Make'].str.lower().str.startswith('moone', na=False), 'Make'] = 'Mooney'"
   ]
  },
  {
   "cell_type": "code",
   "execution_count": 514,
   "metadata": {},
   "outputs": [],
   "source": [
    "df.loc[df['Make'].str.lower().str.startswith('morris', na=False), 'Make'] = 'Morrisey'"
   ]
  },
  {
   "cell_type": "code",
   "execution_count": 515,
   "metadata": {},
   "outputs": [],
   "source": [
    "df.loc[df['Make'].str.lower().str.startswith('murph', na=False), 'Make'] = 'Murphy'"
   ]
  },
  {
   "cell_type": "code",
   "execution_count": 516,
   "metadata": {},
   "outputs": [
    {
     "data": {
      "text/plain": [
       "Make\n",
       "Mooney                           1373\n",
       "Mcdonnell Douglas                 591\n",
       "Maule                             589\n",
       "Mitsubishi                        142\n",
       "MBB                                74\n",
       "Md Helicopter                      64\n",
       "Mcdonnell Douglas Helicopters      47\n",
       "Meyers                             33\n",
       "Miller                             33\n",
       "Morrisey                           28\n",
       "Monocoupe                          16\n",
       "Martin                             16\n",
       "Murphy                             15\n",
       "Maxair                             14\n",
       "Mitchell                           13\n",
       "Mcculloch                          11\n",
       "Monnett                             9\n",
       "Moore                               7\n",
       "Molino Oy                           7\n",
       "Myers                               6\n",
       "Mason                               5\n",
       "Morgan                              5\n",
       "MESSERSCHMITT-BOLKOW-BLOHM          5\n",
       "Mikoyan Mig                         4\n",
       "Morane-saulnier                     4\n",
       "Mattison                            4\n",
       "Mccoy                               4\n",
       "Murray                              3\n",
       "Moravan                             3\n",
       "Mcclung                             3\n",
       "Morton                              3\n",
       "MOSQUITO                            3\n",
       "Mccarty                             3\n",
       "MX AIRCRAFT LLC                     3\n",
       "Mccall                              3\n",
       "Mohr                                3\n",
       "Mueller                             3\n",
       "Mcilraith                           3\n",
       "Mcfarland                           3\n",
       "Mccan                               2\n",
       "Midget                              2\n",
       "Mirsepasy                           2\n",
       "MESSERSCHMITT-BOELKOW-BLOHM         2\n",
       "Massey                              2\n",
       "MEUER MARK                          2\n",
       "Monerai                             2\n",
       "Mayfield                            2\n",
       "Masak                               2\n",
       "Mong                                2\n",
       "MIKOYAN GUREVICH                    2\n",
       "Name: count, dtype: int64"
      ]
     },
     "execution_count": 516,
     "metadata": {},
     "output_type": "execute_result"
    }
   ],
   "source": [
    "df[df['Make'].str.lower().str.startswith('m', na=False)].value_counts('Make').head(50)"
   ]
  },
  {
   "cell_type": "code",
   "execution_count": 517,
   "metadata": {},
   "outputs": [],
   "source": [
    "df.loc[df['Make'].str.lower().str.startswith('messersch', na=False), 'Make'] = 'Messerschmitt'"
   ]
  },
  {
   "cell_type": "code",
   "execution_count": 518,
   "metadata": {},
   "outputs": [],
   "source": [
    "df.loc[df['Make'].str.lower().str.startswith('mikoya', na=False), 'Make'] = 'Mikoyan'"
   ]
  },
  {
   "cell_type": "code",
   "execution_count": 519,
   "metadata": {},
   "outputs": [
    {
     "data": {
      "text/plain": [
       "Make\n",
       "Mooney                           1373\n",
       "Mcdonnell Douglas                 591\n",
       "Maule                             589\n",
       "Mitsubishi                        142\n",
       "MBB                                74\n",
       "Md Helicopter                      64\n",
       "Mcdonnell Douglas Helicopters      47\n",
       "Meyers                             33\n",
       "Miller                             33\n",
       "Morrisey                           28\n",
       "Monocoupe                          16\n",
       "Martin                             16\n",
       "Murphy                             15\n",
       "Maxair                             14\n",
       "Mitchell                           13\n",
       "Messerschmitt                      11\n",
       "Mcculloch                          11\n",
       "Monnett                             9\n",
       "Mikoyan                             8\n",
       "Moore                               7\n",
       "Molino Oy                           7\n",
       "Myers                               6\n",
       "Morgan                              5\n",
       "Mason                               5\n",
       "Mccoy                               4\n",
       "Morane-saulnier                     4\n",
       "Mattison                            4\n",
       "MOSQUITO                            3\n",
       "Morton                              3\n",
       "Mohr                                3\n",
       "Mcfarland                           3\n",
       "Mccarty                             3\n",
       "Mcilraith                           3\n",
       "Moravan                             3\n",
       "Mcclung                             3\n",
       "Murray                              3\n",
       "Mueller                             3\n",
       "MX AIRCRAFT LLC                     3\n",
       "Mccall                              3\n",
       "Marino                              2\n",
       "Merritt                             2\n",
       "Mong                                2\n",
       "Mong Sport                          2\n",
       "Montgomery                          2\n",
       "Mcdonald                            2\n",
       "Micco Aircraft Company              2\n",
       "Monerai                             2\n",
       "MXR TECHNOLOGIES                    2\n",
       "MOORE                               2\n",
       "Mercer                              2\n",
       "Name: count, dtype: int64"
      ]
     },
     "execution_count": 519,
     "metadata": {},
     "output_type": "execute_result"
    }
   ],
   "source": [
    "df[df['Make'].str.lower().str.startswith('m', na=False)].value_counts('Make').head(50)"
   ]
  },
  {
   "cell_type": "code",
   "execution_count": 520,
   "metadata": {},
   "outputs": [],
   "source": [
    "df.loc[df['Make'].str.lower().str.startswith('moor', na=False), 'Make'] = 'Moore'"
   ]
  },
  {
   "cell_type": "code",
   "execution_count": 521,
   "metadata": {},
   "outputs": [],
   "source": [
    "df.loc[df['Make'].str.lower().str.startswith('mong', na=False), 'Make'] = 'Mong'"
   ]
  },
  {
   "cell_type": "code",
   "execution_count": 522,
   "metadata": {},
   "outputs": [
    {
     "data": {
      "text/plain": [
       "Make\n",
       "Mastopietro           1\n",
       "Master Donald C       1\n",
       "Masselink             1\n",
       "Massegee              1\n",
       "Mason, Jack A.        1\n",
       "                     ..\n",
       "MUDRY                 1\n",
       "MUDGE RAY             1\n",
       "MOYNIHAN RICHARD D    1\n",
       "MOYNAHAN              1\n",
       "Mathew M. Kerr        1\n",
       "Name: count, Length: 80, dtype: int64"
      ]
     },
     "execution_count": 522,
     "metadata": {},
     "output_type": "execute_result"
    }
   ],
   "source": [
    "# show make value_counts for make starting with 'm'. Value_counts less than 10\n",
    "df[df['Make'].str.lower().str.startswith('m', na=False)].value_counts('Make').loc[lambda x : x<2].tail(80)"
   ]
  },
  {
   "cell_type": "code",
   "execution_count": 523,
   "metadata": {},
   "outputs": [
    {
     "data": {
      "text/plain": [
       "Make\n",
       "North American                   294\n",
       "NORTH AMERICAN                    79\n",
       "Navion                            63\n",
       "NAVION                            16\n",
       "Naval Aircraft Factory            12\n",
       "Nanchang                          11\n",
       "Nord (sncan)                       9\n",
       "Nihon                              8\n",
       "NANCHANG CHINA                     6\n",
       "NEW PIPER AIRCRAFT INC             6\n",
       "Nicholson                          5\n",
       "North American Rockwell Corp.      5\n",
       "NORTH WING UUM INC                 5\n",
       "NORTH WING                         5\n",
       "North Wing                         5\n",
       "NORTHWING DESIGN                   4\n",
       "NORTHWING                          4\n",
       "Nelson                             4\n",
       "NANCHANG                           4\n",
       "Northrop                           4\n",
       "Noble                              3\n",
       "NELSON                             3\n",
       "NORTH AMERICAN/AERO CLASSICS       3\n",
       "New Standard                       3\n",
       "National Balloon                   3\n",
       "NORD                               2\n",
       "Nolan                              2\n",
       "Nolley                             2\n",
       "Nord                               2\n",
       "Nolen                              2\n",
       "NEW PIPER                          2\n",
       "Needham                            2\n",
       "NEIVA                              2\n",
       "North American Aviation Div.       2\n",
       "New                                2\n",
       "Northwing                          2\n",
       "Nichols Rans, Inc.                 1\n",
       "Nicely                             1\n",
       "Neyman-pietenpol                   1\n",
       "Newgard                            1\n",
       "Noteman                            1\n",
       "Nickel                             1\n",
       "Newell Thomas                      1\n",
       "Nickelson Martin                   1\n",
       "North American-maslon              1\n",
       "Newell                             1\n",
       "Newcomer                           1\n",
       "Nicolas Beasely                    1\n",
       "Newbold                            1\n",
       "Newberg                            1\n",
       "Name: count, dtype: int64"
      ]
     },
     "execution_count": 523,
     "metadata": {},
     "output_type": "execute_result"
    }
   ],
   "source": [
    "df[df['Make'].str.lower().str.startswith('n', na=False)].value_counts('Make').head(50)"
   ]
  },
  {
   "cell_type": "code",
   "execution_count": 524,
   "metadata": {},
   "outputs": [],
   "source": [
    "df.loc[df['Make'].str.lower().str.startswith('nanch', na=False), 'Make'] = 'Nanchang'"
   ]
  },
  {
   "cell_type": "code",
   "execution_count": 525,
   "metadata": {},
   "outputs": [],
   "source": [
    "df.loc[df['Make'].str.lower().str.startswith('navio', na=False), 'Make'] = 'Navion'"
   ]
  },
  {
   "cell_type": "code",
   "execution_count": 526,
   "metadata": {},
   "outputs": [],
   "source": [
    "df.loc[df['Make'].str.lower().str.startswith('nelso', na=False), 'Make'] = 'Nelson'"
   ]
  },
  {
   "cell_type": "code",
   "execution_count": 527,
   "metadata": {},
   "outputs": [],
   "source": [
    "df.loc[df['Make'].str.lower().str.startswith('new pip', na=False), 'Make'] = 'New Piper'"
   ]
  },
  {
   "cell_type": "code",
   "execution_count": 528,
   "metadata": {},
   "outputs": [],
   "source": [
    "df.loc[df['Make'].str.lower().str.startswith('newel', na=False), 'Make'] = 'Newell'"
   ]
  },
  {
   "cell_type": "code",
   "execution_count": 529,
   "metadata": {},
   "outputs": [],
   "source": [
    "df.loc[df['Make'].str.lower().str.startswith('nord', na=False), 'Make'] = 'Nord'"
   ]
  },
  {
   "cell_type": "code",
   "execution_count": 530,
   "metadata": {},
   "outputs": [],
   "source": [
    "df.loc[df['Make'].str.lower().str.startswith('north ame', na=False), 'Make'] = 'North American'"
   ]
  },
  {
   "cell_type": "code",
   "execution_count": 531,
   "metadata": {},
   "outputs": [],
   "source": [
    "df.loc[df['Make'].str.lower().str.startswith('north w', na=False), 'Make'] = 'North Wing'"
   ]
  },
  {
   "cell_type": "code",
   "execution_count": 532,
   "metadata": {},
   "outputs": [],
   "source": [
    "df.loc[df['Make'].str.lower().str.startswith('northw', na=False), 'Make'] = 'North Wing'"
   ]
  },
  {
   "cell_type": "code",
   "execution_count": 533,
   "metadata": {},
   "outputs": [
    {
     "data": {
      "text/plain": [
       "Make\n",
       "Olson                       4\n",
       "Omf                         3\n",
       "O'connor                    2\n",
       "Olsen                       2\n",
       "Osprey                      2\n",
       "O Loughlin                  1\n",
       "Omac                        1\n",
       "Oostdik                     1\n",
       "Oo-culley                   1\n",
       "Ontario Avia. Hist. Soc.    1\n",
       "Oneil                       1\n",
       "Olsen-gordon                1\n",
       "Opus Motorsports Llc        1\n",
       "Olree Robert                1\n",
       "Oldfield                    1\n",
       "Ohlemeier/stratton          1\n",
       "Ogden Aubrey D              1\n",
       "Ofria                       1\n",
       "Opperman                    1\n",
       "Orlando Heli Air Inc.       1\n",
       "Oregon Helicopters          1\n",
       "Otis                        1\n",
       "Owens/richburg              1\n",
       "Owen Robert R               1\n",
       "Overton                     1\n",
       "Oveross                     1\n",
       "Ouzts Rodney                1\n",
       "Otis G. Lyons               1\n",
       "Otero-pitts                 1\n",
       "Oestreich                   1\n",
       "Osprey 2                    1\n",
       "Osborne                     1\n",
       "Ortmayer/parson             1\n",
       "Ortiz G/saint J             1\n",
       "Orr                         1\n",
       "Orlican                     1\n",
       "Offord                      1\n",
       "Oehling                     1\n",
       "O'DELL                      1\n",
       "Obryon                      1\n",
       "OLIVER A BRUCE              1\n",
       "OLIVER                      1\n",
       "OHLGREN BRENT E             1\n",
       "OHLGREN                     1\n",
       "OGG RICHARD A               1\n",
       "OFFCHISS EDWARD R           1\n",
       "ODEN WELDON PAT             1\n",
       "OCONNOR PAUL A              1\n",
       "OAS                         1\n",
       "O'neil                      1\n",
       "Name: count, dtype: int64"
      ]
     },
     "execution_count": 533,
     "metadata": {},
     "output_type": "execute_result"
    }
   ],
   "source": [
    "df[df['Make'].str.lower().str.startswith('o', na=False)].value_counts('Make').head(50)"
   ]
  },
  {
   "cell_type": "code",
   "execution_count": 534,
   "metadata": {},
   "outputs": [
    {
     "data": {
      "text/plain": [
       "Make\n",
       "Piper                         11903\n",
       "PIPER                          2841\n",
       "Pitts                           128\n",
       "Pilatus                          36\n",
       "PIPER AIRCRAFT INC               27\n",
       "Pzl-mielec                       22\n",
       "PILATUS                          22\n",
       "Pitts Special                    15\n",
       "Pipistrel                        14\n",
       "PITTS                            13\n",
       "Pterodactyl                      13\n",
       "Partenavia                       12\n",
       "Pzl-bielsko                      11\n",
       "Piccard                          10\n",
       "PIAGGIO                           8\n",
       "Porterfield                       8\n",
       "Pietenpol                         8\n",
       "PILATUS AIRCRAFT LTD              8\n",
       "PIPER AIRCRAFT CORPORATION        8\n",
       "Pzl                               7\n",
       "Parsons                           7\n",
       "Pioneer                           7\n",
       "Pezetel                           7\n",
       "Progressive Aerodyne              6\n",
       "Powrachute                        5\n",
       "PROGRESSIVE AERODYNE INC          5\n",
       "Parker                            5\n",
       "PZL-SWIDNIK                       5\n",
       "PIETENPOL                         5\n",
       "PIPER AIRCRAFT                    4\n",
       "PZL MIELEC                        4\n",
       "POWRACHUTE                        4\n",
       "Palen                             4\n",
       "PIPISTREL DOO AJDOVSCINA          4\n",
       "PIPISTREL                         4\n",
       "Price                             4\n",
       "Pierce                            4\n",
       "Peterson                          4\n",
       "PARTENAVIA                        4\n",
       "PDPS PZL-BIELSKO                  4\n",
       "PITTS AEROBATICS                  3\n",
       "Pzl Warzawa-okecie                3\n",
       "Peck                              3\n",
       "Piper Aircraft Corporation        3\n",
       "P&M AVIATION LTD                  3\n",
       "Perkins                           3\n",
       "Porter                            3\n",
       "PACIFIC AEROSPACE CORP LTD        3\n",
       "Pratt                             3\n",
       "Piper Aircraft                    3\n",
       "Name: count, dtype: int64"
      ]
     },
     "execution_count": 534,
     "metadata": {},
     "output_type": "execute_result"
    }
   ],
   "source": [
    "df[df['Make'].str.lower().str.startswith('p', na=False)].value_counts('Make').head(50)"
   ]
  },
  {
   "cell_type": "code",
   "execution_count": 535,
   "metadata": {},
   "outputs": [
    {
     "data": {
      "text/plain": [
       "Make\n",
       "Piper/Cub Crafters                1\n",
       "Pincince                          1\n",
       "Piper-aerostar                    1\n",
       "Perrucci Randall J                1\n",
       "Pinick                            1\n",
       "Piper Pawnee                      1\n",
       "Pinkham                           1\n",
       "Piotrowski                        1\n",
       "Pergerson                         1\n",
       "Perlick                           1\n",
       "Piper Cub Crafters                1\n",
       "Pezold                            1\n",
       "Peter A Land                      1\n",
       "Pilatus Britten-norman            1\n",
       "Person                            1\n",
       "Pfeifler                          1\n",
       "Petz                              1\n",
       "Phaneuf                           1\n",
       "Phantom Sport Airplane            1\n",
       "Phelps                            1\n",
       "Phoenix Air                       1\n",
       "Piaggio Aero Industries S.p.a.    1\n",
       "Piasecki Acft. Corp.              1\n",
       "Pettigrew, Richard                1\n",
       "Petsche Kitfox                    1\n",
       "Pickel                            1\n",
       "Piel Emeraude                     1\n",
       "Petracca                          1\n",
       "Pierson                           1\n",
       "Pietenpal                         1\n",
       "Peterson Lancair                  1\n",
       "Peter Clark                       1\n",
       "Peter A. Yarger                   1\n",
       "Pietenpol-grega                   1\n",
       "Pieterse                          1\n",
       "Peter A. Geiser                   1\n",
       "Pietonpol-imrie                   1\n",
       "Pestes                            1\n",
       "Pietsch                           1\n",
       "Piggott                           1\n",
       "Pik                               1\n",
       "Pilatus Aircraft                  1\n",
       "P Z L -WARSZAWA-CNPSL             1\n",
       "Pohlman/pohlman                   1\n",
       "Piper/stevens                     1\n",
       "Pipistrel Italia SRL              1\n",
       "Progressive Aerodyne Inc.         1\n",
       "Progress Aero R&d                 1\n",
       "Probst                            1\n",
       "Pro-built Aviation                1\n",
       "Pro Star                          1\n",
       "Pringle                           1\n",
       "Prill                             1\n",
       "Prest                             1\n",
       "Presley                           1\n",
       "Prescott Aeronautical             1\n",
       "Prell                             1\n",
       "Preiss                            1\n",
       "Preece                            1\n",
       "Preceptor Aircraft                1\n",
       "Name: count, dtype: int64"
      ]
     },
     "execution_count": 535,
     "metadata": {},
     "output_type": "execute_result"
    }
   ],
   "source": [
    "df[df['Make'].str.lower().str.startswith('p', na=False)].value_counts('Make').loc[lambda x : x<2].head(60)"
   ]
  },
  {
   "cell_type": "code",
   "execution_count": 536,
   "metadata": {},
   "outputs": [
    {
     "data": {
      "text/plain": [
       "Make\n",
       "P Z L -WARSZAWA-CNPSL    1\n",
       "Name: count, dtype: int64"
      ]
     },
     "execution_count": 536,
     "metadata": {},
     "output_type": "execute_result"
    }
   ],
   "source": [
    "df[df['Make'].str.lower().str.startswith('p z', na=False)].value_counts('Make').head(50)"
   ]
  },
  {
   "cell_type": "code",
   "execution_count": 537,
   "metadata": {},
   "outputs": [],
   "source": [
    "df.loc[df['Make'].str.lower().str.startswith('p z', na=False), 'Make'] = 'PZL'"
   ]
  },
  {
   "cell_type": "code",
   "execution_count": 538,
   "metadata": {},
   "outputs": [],
   "source": [
    "df.loc[df['Make'].str.lower().str.startswith('pz', na=False), 'Make'] = 'PZL'"
   ]
  },
  {
   "cell_type": "code",
   "execution_count": 539,
   "metadata": {},
   "outputs": [],
   "source": [
    "df.loc[df['Make'].str.lower().str.startswith('parke', na=False), 'Make'] = 'Parker'"
   ]
  },
  {
   "cell_type": "code",
   "execution_count": 540,
   "metadata": {},
   "outputs": [],
   "source": [
    "df.loc[df['Make'].str.lower().str.startswith('partenav', na=False), 'Make'] = 'Partenavia'"
   ]
  },
  {
   "cell_type": "code",
   "execution_count": 541,
   "metadata": {},
   "outputs": [],
   "source": [
    "df.loc[df['Make'].str.lower().str.startswith('pdp', na=False), 'Make'] = 'PDPS'"
   ]
  },
  {
   "cell_type": "code",
   "execution_count": 542,
   "metadata": {},
   "outputs": [],
   "source": [
    "df.loc[df['Make'].str.lower().str.startswith('perth', na=False), 'Make'] = 'Perth Amboy'"
   ]
  },
  {
   "cell_type": "code",
   "execution_count": 543,
   "metadata": {},
   "outputs": [],
   "source": [
    "df.loc[df['Make'].str.lower().str.startswith('phanto', na=False), 'Make'] = 'Phantom'"
   ]
  },
  {
   "cell_type": "code",
   "execution_count": 544,
   "metadata": {},
   "outputs": [],
   "source": [
    "df.loc[df['Make'].str.lower().str.startswith('philli', na=False), 'Make'] = 'Phillips'"
   ]
  },
  {
   "cell_type": "code",
   "execution_count": 545,
   "metadata": {},
   "outputs": [],
   "source": [
    "df.loc[df['Make'].str.lower().str.startswith('piagg', na=False), 'Make'] = 'Piaggio'"
   ]
  },
  {
   "cell_type": "code",
   "execution_count": 546,
   "metadata": {},
   "outputs": [],
   "source": [
    "df.loc[df['Make'].str.lower().str.startswith('piel', na=False), 'Make'] = 'Piel'"
   ]
  },
  {
   "cell_type": "code",
   "execution_count": 547,
   "metadata": {},
   "outputs": [],
   "source": [
    "df.loc[df['Make'].str.lower().str.startswith('piet', na=False), 'Make'] = 'Pietenpol'"
   ]
  },
  {
   "cell_type": "code",
   "execution_count": 548,
   "metadata": {},
   "outputs": [],
   "source": [
    "df.loc[df['Make'].str.lower().str.startswith('pilat', na=False), 'Make'] = 'Pilatus'"
   ]
  },
  {
   "cell_type": "code",
   "execution_count": 549,
   "metadata": {},
   "outputs": [],
   "source": [
    "df.loc[df['Make'].str.lower().str.startswith('piper', na=False), 'Make'] = 'Piper'"
   ]
  },
  {
   "cell_type": "code",
   "execution_count": 550,
   "metadata": {},
   "outputs": [],
   "source": [
    "df.loc[df['Make'].str.lower().str.startswith('pipest', na=False), 'Make'] = 'Pipestrel'"
   ]
  },
  {
   "cell_type": "code",
   "execution_count": 551,
   "metadata": {},
   "outputs": [],
   "source": [
    "df.loc[df['Make'].str.lower().str.startswith('pitts', na=False), 'Make'] = 'Pitts'"
   ]
  },
  {
   "cell_type": "code",
   "execution_count": 552,
   "metadata": {},
   "outputs": [],
   "source": [
    "df.loc[df['Make'].str.lower().str.startswith('powr', na=False), 'Make'] = 'Powrachute'"
   ]
  },
  {
   "cell_type": "code",
   "execution_count": 553,
   "metadata": {},
   "outputs": [],
   "source": [
    "df.loc[df['Make'].str.lower().str.startswith('progress', na=False), 'Make'] = 'Progressive'"
   ]
  },
  {
   "cell_type": "code",
   "execution_count": 554,
   "metadata": {},
   "outputs": [
    {
     "data": {
      "text/plain": [
       "Make\n",
       "QUICKSILVER                       36\n",
       "Quickie                           32\n",
       "Quicksilver                       29\n",
       "QUAD CITY                         13\n",
       "Quad City                          7\n",
       "QUEST AIRCRAFT COMPANY LLC         6\n",
       "Quad City Ultralight Aircraft      5\n",
       "Quest                              4\n",
       "Questair                           4\n",
       "QUEST                              3\n",
       "Questaire                          2\n",
       "QUICKSILVER ENTERPRISES INC        2\n",
       "Quad City Aircraft Corp            2\n",
       "QUAD CITY ULTRALIGHT ACFT CORP     2\n",
       "QUICKSILVER MANUFACTURING INC      2\n",
       "Quick Silver                       1\n",
       "Questair, Inc.                     1\n",
       "Q-berry                            1\n",
       "Quickie Aircraft                   1\n",
       "Quickie-myers                      1\n",
       "Quicksilver Aircraft               1\n",
       "Quicksilver Aircraft Northeast     1\n",
       "Quicksilver II                     1\n",
       "Quicksilver Manufacturing          1\n",
       "Quiksilver                         1\n",
       "Quinn                              1\n",
       "Quinn Aviation                     1\n",
       "Quinn Aviation Inc.                1\n",
       "Quist                              1\n",
       "Quest Ii Walsh Ltd.                1\n",
       "Quad City Ultralight               1\n",
       "Qualline                           1\n",
       "QUESTAIR INC                       1\n",
       "QUAD CITY ULTRALIGHT CORP          1\n",
       "QUAD CITY ULTRALIGHTS              1\n",
       "QUARNOCCIO                         1\n",
       "QUARTZ MOUNTAIN AEROSPACE          1\n",
       "QUARTZ MOUNTAIN AEROSPACE INC      1\n",
       "QUASAR ACFT CO LLC                 1\n",
       "QUEST Aircraft Company             1\n",
       "QUICKIE                            1\n",
       "Quadcity                           1\n",
       "QUICKSILVER AIRCRAFT               1\n",
       "QUICKSILVER AIRCRAFT CO            1\n",
       "QUICKSILVER EIPPER ACFT INC        1\n",
       "QUICKSILVER MFG                    1\n",
       "Qac                                1\n",
       "Quad City Aircraft                 1\n",
       "Quad City Ultralight, Llc          1\n",
       "Quitzau, Carl                      1\n",
       "Name: count, dtype: int64"
      ]
     },
     "execution_count": 554,
     "metadata": {},
     "output_type": "execute_result"
    }
   ],
   "source": [
    "df[df['Make'].str.lower().str.startswith('q', na=False)].value_counts('Make').head(50)"
   ]
  },
  {
   "cell_type": "code",
   "execution_count": 555,
   "metadata": {},
   "outputs": [],
   "source": [
    "df.loc[df['Make'].str.lower().str.startswith('quad', na=False), 'Make'] = 'Quad City'"
   ]
  },
  {
   "cell_type": "code",
   "execution_count": 556,
   "metadata": {},
   "outputs": [],
   "source": [
    "df.loc[df['Make'].str.lower().str.startswith('quartz', na=False), 'Make'] = 'Quartz Mountain'"
   ]
  },
  {
   "cell_type": "code",
   "execution_count": 557,
   "metadata": {},
   "outputs": [],
   "source": [
    "df.loc[df['Make'].str.lower().str.startswith('quest a', na=False), 'Make'] = 'Quest Aircraft'"
   ]
  },
  {
   "cell_type": "code",
   "execution_count": 558,
   "metadata": {},
   "outputs": [],
   "source": [
    "df.loc[(df['Make'] == 'QUEST') | (df['Make'] == 'Quest'), 'Make'] = 'Quest Aircraft'"
   ]
  },
  {
   "cell_type": "code",
   "execution_count": 559,
   "metadata": {},
   "outputs": [
    {
     "data": {
      "text/plain": [
       "Make\n",
       "Quest Aircraft         14\n",
       "Questair                4\n",
       "Questaire               2\n",
       "QUESTAIR INC            1\n",
       "Quest Ii Walsh Ltd.     1\n",
       "Questair, Inc.          1\n",
       "Name: count, dtype: int64"
      ]
     },
     "execution_count": 559,
     "metadata": {},
     "output_type": "execute_result"
    }
   ],
   "source": [
    "df[df['Make'].str.lower().str.startswith('quest', na=False)].value_counts('Make').head(50)"
   ]
  },
  {
   "cell_type": "code",
   "execution_count": 561,
   "metadata": {},
   "outputs": [],
   "source": [
    "df.loc[df['Make'].str.lower().str.startswith('questa', na=False), 'Make'] = 'Questair'"
   ]
  },
  {
   "cell_type": "code",
   "execution_count": 560,
   "metadata": {},
   "outputs": [],
   "source": [
    "df.loc[df['Make'].str.lower().str.startswith('quickie', na=False), 'Make'] = 'Quickie'"
   ]
  },
  {
   "cell_type": "code",
   "execution_count": 562,
   "metadata": {},
   "outputs": [],
   "source": [
    "df.loc[df['Make'].str.lower().str.startswith('quick s', na=False), 'Make'] = 'Quicksilver'"
   ]
  },
  {
   "cell_type": "code",
   "execution_count": 563,
   "metadata": {},
   "outputs": [],
   "source": [
    "df.loc[df['Make'].str.lower().str.startswith('quicksil', na=False), 'Make'] = 'Quicksilver'"
   ]
  },
  {
   "cell_type": "code",
   "execution_count": 564,
   "metadata": {},
   "outputs": [],
   "source": [
    "df.loc[df['Make'].str.lower().str.startswith('quiks', na=False), 'Make'] = 'Quicksilver'"
   ]
  },
  {
   "cell_type": "code",
   "execution_count": 565,
   "metadata": {},
   "outputs": [],
   "source": [
    "df.loc[df['Make'].str.lower().str.startswith('quinn', na=False), 'Make'] = 'Quinn'"
   ]
  },
  {
   "cell_type": "code",
   "execution_count": 567,
   "metadata": {},
   "outputs": [
    {
     "data": {
      "text/plain": [
       "Make\n",
       "Robinson                       940\n",
       "Rockwell                       328\n",
       "ROBINSON                       283\n",
       "ROBINSON HELICOPTER            221\n",
       "ROBINSON HELICOPTER COMPANY    179\n",
       "Ryan                            92\n",
       "Raven                           84\n",
       "Rotorway                        56\n",
       "RAYTHEON AIRCRAFT COMPANY       53\n",
       "ROCKWELL INTERNATIONAL          53\n",
       "RANS                            50\n",
       "Rolladen-schneider              36\n",
       "Republic                        28\n",
       "Rans                            24\n",
       "ROCKWELL                        24\n",
       "Rockwell International          22\n",
       "ROBINSON HELICOPTER CO          22\n",
       "Raytheon Aircraft Company       17\n",
       "Raytheon Corporate Jets         16\n",
       "Raytheon                        16\n",
       "RYAN                            16\n",
       "Rutan                           16\n",
       "Rotec                           15\n",
       "Robinson Helicopter Company     15\n",
       "RAYTHEON                        15\n",
       "ROTORWAY                        12\n",
       "REMOS AIRCRAFT GMBH             11\n",
       "Rans, Inc.                      10\n",
       "Reims Aviation                   9\n",
       "Robinson Helicopter              9\n",
       "REPUBLIC                         8\n",
       "Rose                             8\n",
       "Rand                             7\n",
       "Rotec Engineering, Inc.          7\n",
       "RYAN AERONAUTICAL                7\n",
       "ROBIN                            6\n",
       "REMOS ACFT GMBH FLUGZEUGBAU      6\n",
       "Robertson                        6\n",
       "Russell                          5\n",
       "Rich                             5\n",
       "Rogers                           5\n",
       "ROLLADEN-SCHNEIDER               5\n",
       "Reims                            5\n",
       "RUTAN                            4\n",
       "Robbins                          4\n",
       "REIMS                            4\n",
       "Raven Industries                 3\n",
       "Ross                             3\n",
       "Rockwell Commander               3\n",
       "ROLLADEN-SCHNEIDER OHG           3\n",
       "Name: count, dtype: int64"
      ]
     },
     "execution_count": 567,
     "metadata": {},
     "output_type": "execute_result"
    }
   ],
   "source": [
    "df[df['Make'].str.lower().str.startswith('r', na=False)].value_counts('Make').head(50)"
   ]
  },
  {
   "cell_type": "code",
   "execution_count": 571,
   "metadata": {},
   "outputs": [
    {
     "data": {
      "text/plain": [
       "Make\n",
       "Robert H. Low            1\n",
       "Robert L. Rice           1\n",
       "Robert J. Goodyear       1\n",
       "Revolution Helicopter    1\n",
       "Robert L. Kennedy        1\n",
       "Robert J. Jackson        1\n",
       "Rey                      1\n",
       "Robert J. Labonte        1\n",
       "Reynolds                 1\n",
       "Rhea                     1\n",
       "Robert Mcdonnell         1\n",
       "Robert Judd              1\n",
       "Richard Riley            1\n",
       "Reviere                  1\n",
       "Robert N. Gilmore        1\n",
       "Render                   1\n",
       "Roberts                  1\n",
       "Renninger                1\n",
       "Roberto P. Garcia        1\n",
       "Robert Wood              1\n",
       "Renquist                 1\n",
       "Robert W. Ferrell        1\n",
       "Replica                  1\n",
       "Robert Van Scoyoc        1\n",
       "Repliea 78 Ral           1\n",
       "Resney                   1\n",
       "Robert Frisbey           1\n",
       "Rettberg                 1\n",
       "Robert Thibodeau         1\n",
       "Robert R. Reiland        1\n",
       "Robert R. Callahan       1\n",
       "Robert O. Ely            1\n",
       "Robert Griffiths         1\n",
       "Robert E. Bean           1\n",
       "Robert Eldon Idler       1\n",
       "Richard E. Rowland       1\n",
       "Riekkenen                1\n",
       "Rider-charles            1\n",
       "Rider                    1\n",
       "Riddell (lancair)        1\n",
       "Riddell                  1\n",
       "Rick Campbell            1\n",
       "Richard A. White         1\n",
       "Richard C. Ballow        1\n",
       "Richard Cheney           1\n",
       "Richmond                 1\n",
       "Rietman                  1\n",
       "Richard F. Sheldon       1\n",
       "Richard N. Burns         1\n",
       "Richard O. Middlen       1\n",
       "Riches                   1\n",
       "Richards Lancair         1\n",
       "Richard Rank             1\n",
       "Richards                 1\n",
       "Richard Young            1\n",
       "Richard Shaffer          1\n",
       "Riesland                 1\n",
       "Richard A. Denisar       1\n",
       "Robert Eggebrecht        1\n",
       "Rhoads                   1\n",
       "Name: count, dtype: int64"
      ]
     },
     "execution_count": 571,
     "metadata": {},
     "output_type": "execute_result"
    }
   ],
   "source": [
    "df[df['Make'].str.lower().str.startswith('r', na=False)].value_counts('Make').loc[lambda x : x<2].head(60)"
   ]
  },
  {
   "cell_type": "code",
   "execution_count": 572,
   "metadata": {},
   "outputs": [],
   "source": [
    "df.loc[df['Make'].str.lower().str.startswith('rans', na=False), 'Make'] = 'Rans'"
   ]
  },
  {
   "cell_type": "code",
   "execution_count": 573,
   "metadata": {},
   "outputs": [],
   "source": [
    "df.loc[df['Make'].str.lower().str.startswith('raven', na=False), 'Make'] = 'Raven'"
   ]
  },
  {
   "cell_type": "code",
   "execution_count": 574,
   "metadata": {},
   "outputs": [],
   "source": [
    "df.loc[df['Make'].str.lower().str.startswith('raythe', na=False), 'Make'] = 'Raytheon'"
   ]
  },
  {
   "cell_type": "code",
   "execution_count": 575,
   "metadata": {},
   "outputs": [],
   "source": [
    "df.loc[df['Make'].str.lower().str.startswith('reims', na=False), 'Make'] = 'Reims Aviation'"
   ]
  },
  {
   "cell_type": "code",
   "execution_count": 576,
   "metadata": {},
   "outputs": [],
   "source": [
    "df.loc[df['Make'].str.lower().str.startswith('remos', na=False), 'Make'] = 'Remos'"
   ]
  },
  {
   "cell_type": "code",
   "execution_count": 577,
   "metadata": {},
   "outputs": [],
   "source": [
    "df.loc[df['Make'].str.lower().str.startswith('republ', na=False), 'Make'] = 'Republic'"
   ]
  },
  {
   "cell_type": "code",
   "execution_count": 578,
   "metadata": {},
   "outputs": [],
   "source": [
    "df.loc[df['Make'].str.lower().str.startswith('revolut', na=False), 'Make'] = 'Revolution Helicopters'"
   ]
  },
  {
   "cell_type": "code",
   "execution_count": 579,
   "metadata": {},
   "outputs": [],
   "source": [
    "df.loc[df['Make'].str.lower().str.startswith('riddel', na=False), 'Make'] = 'Riddell'"
   ]
  },
  {
   "cell_type": "code",
   "execution_count": 580,
   "metadata": {},
   "outputs": [],
   "source": [
    "df.loc[df['Make'].str.lower().str.startswith('robinson', na=False), 'Make'] = 'Robinson Helicopter'"
   ]
  },
  {
   "cell_type": "code",
   "execution_count": 581,
   "metadata": {},
   "outputs": [],
   "source": [
    "df.loc[(df['Make'] == 'ROBIN') | (df['Make'] == 'Robin'), 'Make'] = 'Robin'"
   ]
  },
  {
   "cell_type": "code",
   "execution_count": 582,
   "metadata": {},
   "outputs": [
    {
     "data": {
      "text/plain": [
       "Make\n",
       "Robinson Helicopter     1675\n",
       "Robin                      8\n",
       "Robin, Avions Pierre       1\n",
       "Robinette                  1\n",
       "Name: count, dtype: int64"
      ]
     },
     "execution_count": 582,
     "metadata": {},
     "output_type": "execute_result"
    }
   ],
   "source": [
    "df[df['Make'].str.lower().str.startswith('robin', na=False)].value_counts('Make').head(50)"
   ]
  },
  {
   "cell_type": "code",
   "execution_count": 583,
   "metadata": {},
   "outputs": [],
   "source": [
    "df.loc[df['Make'].str.lower().str.startswith('rockwell', na=False), 'Make'] = 'Rockwell'"
   ]
  },
  {
   "cell_type": "code",
   "execution_count": 584,
   "metadata": {},
   "outputs": [],
   "source": [
    "df.loc[df['Make'].str.lower().str.startswith('rolladen', na=False), 'Make'] = 'Rolladen-Schneider'"
   ]
  },
  {
   "cell_type": "code",
   "execution_count": 585,
   "metadata": {},
   "outputs": [],
   "source": [
    "df.loc[df['Make'].str.lower().str.startswith('rose', na=False), 'Make'] = 'Rose'"
   ]
  },
  {
   "cell_type": "code",
   "execution_count": 586,
   "metadata": {},
   "outputs": [],
   "source": [
    "df.loc[df['Make'].str.lower().str.startswith('rotec', na=False), 'Make'] = 'Rotec'"
   ]
  },
  {
   "cell_type": "code",
   "execution_count": 587,
   "metadata": {},
   "outputs": [],
   "source": [
    "df.loc[df['Make'].str.lower().str.startswith('rotorw', na=False), 'Make'] = 'Rotorway'"
   ]
  },
  {
   "cell_type": "code",
   "execution_count": 588,
   "metadata": {},
   "outputs": [],
   "source": [
    "df.loc[df['Make'].str.lower().str.startswith('rutan', na=False), 'Make'] = 'Rutan'"
   ]
  },
  {
   "cell_type": "code",
   "execution_count": 589,
   "metadata": {},
   "outputs": [],
   "source": [
    "df.loc[df['Make'].str.lower().str.startswith('ryan', na=False), 'Make'] = 'Ryan'"
   ]
  },
  {
   "cell_type": "code",
   "execution_count": 593,
   "metadata": {},
   "outputs": [
    {
     "data": {
      "text/plain": [
       "Make\n",
       "STOL                              2\n",
       "STEPHENSON                        2\n",
       "STOLP STARDUSTER                  2\n",
       "Snobird                           2\n",
       "Snider                            2\n",
       "Steinke                           2\n",
       "Sorrel                            2\n",
       "Scheibe                           2\n",
       "Smyth Sidewinder                  2\n",
       "Sloan                             2\n",
       "Stampe                            2\n",
       "Sawyer                            2\n",
       "SWANSON                           2\n",
       "Sadler                            2\n",
       "Sinclair                          2\n",
       "SLINGSBY                          2\n",
       "Sproul                            2\n",
       "Simpson                           2\n",
       "Springer                          2\n",
       "SKYKITS USA CORP                  2\n",
       "Sprague                           2\n",
       "Sportavia-putzer                  2\n",
       "Sanders                           2\n",
       "Skov-papworth                     2\n",
       "Sport Flight                      2\n",
       "Saab-scania                       2\n",
       "SPORT PLANE DYNAMICS LLC          2\n",
       "SILVERLIGHT AVIATION LLC          2\n",
       "Skystar                           2\n",
       "Stafford                          2\n",
       "Sellors                           2\n",
       "Smyth                             2\n",
       "SCHEMPP-HIRTH FLUGZEUGBAU         2\n",
       "Stevenson                         2\n",
       "Short                             2\n",
       "Schweizer Aircraft Corp           2\n",
       "Shook                             2\n",
       "Storey                            2\n",
       "Schramm                           2\n",
       "SABRE                             2\n",
       "Schrack                           2\n",
       "Stump                             2\n",
       "Stitts                            2\n",
       "Shannon                           2\n",
       "SEA & SKY INC                     2\n",
       "Scorpion Too                      2\n",
       "Schweitzer                        2\n",
       "Stol                              2\n",
       "SCHUMACHER                        2\n",
       "Sturges                           2\n",
       "SCHWEIZER(HUGHES)AIRCRAFT CORP    2\n",
       "Stolp Starduster                  2\n",
       "Schweizer Aircraft Corp.          2\n",
       "Sheppard                          2\n",
       "Stolp Starduster Corp.            2\n",
       "Steven W. Jones                   2\n",
       "Stephenson                        2\n",
       "Senior Aero Sport                 2\n",
       "Stugart                           2\n",
       "S.C. Aerostar S.A.                2\n",
       "Name: count, dtype: int64"
      ]
     },
     "execution_count": 593,
     "metadata": {},
     "output_type": "execute_result"
    }
   ],
   "source": [
    "df[df['Make'].str.lower().str.startswith('s', na=False)].value_counts('Make').loc[lambda x : x<3].head(60)"
   ]
  },
  {
   "cell_type": "code",
   "execution_count": 594,
   "metadata": {},
   "outputs": [],
   "source": [
    "df.loc[df['Make'].str.lower().str.startswith('saab', na=False), 'Make'] = 'Saab'"
   ]
  },
  {
   "cell_type": "code",
   "execution_count": 595,
   "metadata": {},
   "outputs": [],
   "source": [
    "df.loc[df['Make'].str.lower().str.startswith('scheibe', na=False), 'Make'] = 'Scheibe'"
   ]
  },
  {
   "cell_type": "code",
   "execution_count": 596,
   "metadata": {},
   "outputs": [],
   "source": [
    "df.loc[df['Make'].str.lower().str.startswith('schempp', na=False), 'Make'] = 'Schempp Hirth'"
   ]
  },
  {
   "cell_type": "code",
   "execution_count": 597,
   "metadata": {},
   "outputs": [],
   "source": [
    "df.loc[df['Make'].str.lower().str.startswith('schleich', na=False), 'Make'] = 'Schleicher'"
   ]
  },
  {
   "cell_type": "code",
   "execution_count": 598,
   "metadata": {},
   "outputs": [],
   "source": [
    "df.loc[df['Make'].str.lower().str.startswith('schwei', na=False), 'Make'] = 'Schweizer'"
   ]
  },
  {
   "cell_type": "code",
   "execution_count": 599,
   "metadata": {},
   "outputs": [],
   "source": [
    "df.loc[df['Make'].str.lower().str.startswith('scottish', na=False), 'Make'] = 'Scottish Aviation'"
   ]
  },
  {
   "cell_type": "code",
   "execution_count": 600,
   "metadata": {},
   "outputs": [],
   "source": [
    "df.loc[df['Make'].str.lower().str.startswith('short bro', na=False), 'Make'] = 'Short Brothers'"
   ]
  },
  {
   "cell_type": "code",
   "execution_count": 601,
   "metadata": {},
   "outputs": [],
   "source": [
    "df.loc[df['Make'].str.lower().str.startswith('siai', na=False), 'Make'] = 'Siai Marchetti'"
   ]
  },
  {
   "cell_type": "code",
   "execution_count": 602,
   "metadata": {},
   "outputs": [],
   "source": [
    "df.loc[df['Make'].str.lower().str.startswith('sikors', na=False), 'Make'] = 'Sikorsky'"
   ]
  },
  {
   "cell_type": "code",
   "execution_count": 603,
   "metadata": {},
   "outputs": [],
   "source": [
    "df.loc[df['Make'].str.lower().str.startswith('silva', na=False), 'Make'] = 'Silvaire'"
   ]
  },
  {
   "cell_type": "code",
   "execution_count": 604,
   "metadata": {},
   "outputs": [],
   "source": [
    "df.loc[df['Make'].str.lower().str.startswith('six ch', na=False), 'Make'] = 'Six Chuter'"
   ]
  },
  {
   "cell_type": "code",
   "execution_count": 605,
   "metadata": {},
   "outputs": [],
   "source": [
    "df.loc[df['Make'].str.lower().str.startswith('skykit', na=False), 'Make'] = 'Skykits Corp'"
   ]
  },
  {
   "cell_type": "code",
   "execution_count": 606,
   "metadata": {},
   "outputs": [],
   "source": [
    "df.loc[df['Make'].str.lower().str.startswith('slings', na=False), 'Make'] = 'Slingsby'"
   ]
  },
  {
   "cell_type": "code",
   "execution_count": 607,
   "metadata": {},
   "outputs": [
    {
     "data": {
      "text/plain": [
       "Make\n",
       "Taylorcraft             316\n",
       "TAYLORCRAFT              62\n",
       "Texas Helicopter         30\n",
       "Thunder And Colt         23\n",
       "Temco                    21\n",
       "Thorp                    15\n",
       "TEXTRON AVIATION INC     12\n",
       "THRUSH AIRCRAFT INC      12\n",
       "TECNAM                   11\n",
       "Name: count, dtype: int64"
      ]
     },
     "execution_count": 607,
     "metadata": {},
     "output_type": "execute_result"
    }
   ],
   "source": [
    "df[df['Make'].str.lower().str.startswith('t', na=False)].value_counts('Make').loc[lambda x : x>10].head(60)"
   ]
  },
  {
   "cell_type": "code",
   "execution_count": 612,
   "metadata": {},
   "outputs": [
    {
     "data": {
      "text/plain": [
       "Make\n",
       "Tidd Wesley                     1\n",
       "Thunder & Colt Ltd              1\n",
       "Textron Aviation Inc            1\n",
       "Thunder Mustang                 1\n",
       "Thurmond                        1\n",
       "Tibert                          1\n",
       "Tichacek                        1\n",
       "Thomas Wild                     1\n",
       "Thacker                         1\n",
       "Texas Helicopter Corp.          1\n",
       "Tetrault Ronad                  1\n",
       "Tierra Ii                       1\n",
       "Test                            1\n",
       "Tessier                         1\n",
       "Tesori                          1\n",
       "Tesmer Glassair                 1\n",
       "Tifft-v                         1\n",
       "Tilbert                         1\n",
       "Texas Helicopter Corporation    1\n",
       "Thalman                         1\n",
       "Thomas Long                     1\n",
       "Tharp S Richard                 1\n",
       "Thompson Howard                 1\n",
       "Thomas J. Dorsey                1\n",
       "Thomsen, Horst                  1\n",
       "Timm                            1\n",
       "Thomas E. Georges               1\n",
       "Thomas D. Parkes                1\n",
       "Thomas C. Piper                 1\n",
       "Thornhill                       1\n",
       "Thornley                        1\n",
       "Thiessen                        1\n",
       "Thorp Aero, Inc.                1\n",
       "Therrien Roger                  1\n",
       "Theordore Jankowski             1\n",
       "Thrush                          1\n",
       "Theis                           1\n",
       "Thrush Aircraft Inc.            1\n",
       "The Old Hen Crow                1\n",
       "T BIRD                          1\n",
       "Tolle                           1\n",
       "Timothy J Brown                 1\n",
       "Tubbs S/Performance             1\n",
       "Triple S Aero Inc               1\n",
       "Trohoski                        1\n",
       "Troutman                        1\n",
       "Troy                            1\n",
       "Troy A. Woodland                1\n",
       "Troy Bellah                     1\n",
       "Truckee Meadows                 1\n",
       "Trudel                          1\n",
       "True Flight Holdings LLC        1\n",
       "Truitt Peter                    1\n",
       "Truthan                         1\n",
       "Tschida                         1\n",
       "Tubb                            1\n",
       "Tubbs                           1\n",
       "Tubbs S/Performance Air Inc     1\n",
       "Trikes                          1\n",
       "Tuk Gregory                     1\n",
       "Name: count, dtype: int64"
      ]
     },
     "execution_count": 612,
     "metadata": {},
     "output_type": "execute_result"
    }
   ],
   "source": [
    "df[df['Make'].str.lower().str.startswith('t', na=False)].value_counts('Make').loc[lambda x : x<2].head(60)"
   ]
  },
  {
   "cell_type": "code",
   "execution_count": 613,
   "metadata": {},
   "outputs": [],
   "source": [
    "df.loc[df['Make'].str.lower().str.startswith('taylorcr', na=False), 'Make'] = 'Taylorcraft'"
   ]
  },
  {
   "cell_type": "code",
   "execution_count": 614,
   "metadata": {},
   "outputs": [],
   "source": [
    "df.loc[df['Make'].str.lower().str.startswith('tecn', na=False), 'Make'] = 'Tecnam'"
   ]
  },
  {
   "cell_type": "code",
   "execution_count": 615,
   "metadata": {},
   "outputs": [],
   "source": [
    "df.loc[df['Make'].str.lower().str.startswith('temco', na=False), 'Make'] = 'Temco'"
   ]
  },
  {
   "cell_type": "code",
   "execution_count": 616,
   "metadata": {},
   "outputs": [],
   "source": [
    "df.loc[df['Make'].str.lower().str.startswith('terato', na=False), 'Make'] = 'Teratorn'"
   ]
  },
  {
   "cell_type": "code",
   "execution_count": 617,
   "metadata": {},
   "outputs": [],
   "source": [
    "df.loc[df['Make'].str.lower().str.startswith('texas h', na=False), 'Make'] = 'Texas Helicopter'"
   ]
  },
  {
   "cell_type": "code",
   "execution_count": 618,
   "metadata": {},
   "outputs": [],
   "source": [
    "df.loc[df['Make'].str.lower().str.startswith('textro', na=False), 'Make'] = 'Textron Aviation'"
   ]
  },
  {
   "cell_type": "code",
   "execution_count": 619,
   "metadata": {},
   "outputs": [],
   "source": [
    "df.loc[df['Make'].str.lower().str.startswith('thorp', na=False), 'Make'] = 'Thorp'"
   ]
  },
  {
   "cell_type": "code",
   "execution_count": 620,
   "metadata": {},
   "outputs": [],
   "source": [
    "df.loc[df['Make'].str.lower().str.startswith('thrush', na=False), 'Make'] = 'Thrush Aircraft'"
   ]
  },
  {
   "cell_type": "code",
   "execution_count": 621,
   "metadata": {},
   "outputs": [],
   "source": [
    "df.loc[df['Make'].str.lower().str.startswith('thunder', na=False), 'Make'] = 'Thunder And Colt'"
   ]
  },
  {
   "cell_type": "code",
   "execution_count": 622,
   "metadata": {},
   "outputs": [],
   "source": [
    "df.loc[df['Make'].str.lower().str.startswith('titan', na=False), 'Make'] = 'Titan'"
   ]
  },
  {
   "cell_type": "code",
   "execution_count": 623,
   "metadata": {},
   "outputs": [],
   "source": [
    "df.loc[df['Make'].str.lower().str.startswith('tl u', na=False), 'Make'] = 'TL Ultralight'"
   ]
  },
  {
   "cell_type": "code",
   "execution_count": 624,
   "metadata": {},
   "outputs": [],
   "source": [
    "df.loc[df['Make'].str.lower().str.startswith('travel', na=False), 'Make'] = 'Travel Air'"
   ]
  },
  {
   "cell_type": "code",
   "execution_count": 625,
   "metadata": {},
   "outputs": [],
   "source": [
    "df.loc[df['Make'].str.lower().str.startswith('trick', na=False), 'Make'] = 'Trick Trikes'"
   ]
  },
  {
   "cell_type": "code",
   "execution_count": 626,
   "metadata": {},
   "outputs": [],
   "source": [
    "df.loc[df['Make'].str.lower().str.startswith('tubb', na=False), 'Make'] = 'Tubbs'"
   ]
  },
  {
   "cell_type": "code",
   "execution_count": 627,
   "metadata": {},
   "outputs": [],
   "source": [
    "df.loc[df['Make'].str.lower().str.startswith('tupole', na=False), 'Make'] = 'Tupolev'"
   ]
  },
  {
   "cell_type": "code",
   "execution_count": 629,
   "metadata": {},
   "outputs": [],
   "source": [
    "df.loc[df['Make'].str.lower().str.startswith('the boei', na=False), 'Make'] = 'Boeing'"
   ]
  },
  {
   "cell_type": "code",
   "execution_count": 630,
   "metadata": {},
   "outputs": [
    {
     "data": {
      "text/plain": [
       "Make\n",
       "Unknown                         21\n",
       "ULTRAMAGIC                       9\n",
       "Univair                          7\n",
       "UNIVERSAL STINSON                7\n",
       "ULTRAMAGIC SA                    5\n",
       "Ultramagic                       5\n",
       "Universal Stinson                4\n",
       "Upton                            3\n",
       "ULTRALIGHT AMERICA               3\n",
       "UNKNOWN                          3\n",
       "Ultralight Flight, Inc.          2\n",
       "Ultralight Flight                2\n",
       "Univar                           2\n",
       "Universal                        2\n",
       "Unrein                           2\n",
       "Us/lta                           2\n",
       "Upright                          1\n",
       "Univair Aircraft Corporation     1\n",
       "Ultravia Aero Int'l              1\n",
       "Unander                          1\n",
       "Uvify                            1\n",
       "Underwood                        1\n",
       "Ungerecht                        1\n",
       "United Consultant Corp.          1\n",
       "Utva                             1\n",
       "Utterback                        1\n",
       "Upchurch                         1\n",
       "Uskoski                          1\n",
       "Universal Globe                  1\n",
       "Universal Moulded Pdts.          1\n",
       "University Of Alabama            1\n",
       "Urban Air SRO                    1\n",
       "Unregistered                     1\n",
       "Urban Air                        1\n",
       "Ultravia Aero Int', Inc.         1\n",
       "U-FLY-IT                         1\n",
       "Ultralight Ufm                   1\n",
       "Ultralight Soaring               1\n",
       "ULTRALITE SRO                    1\n",
       "ULTRAMAGIC S A                   1\n",
       "UNDERLAND/GROTHE/FINSTROM        1\n",
       "UNITED CONSULTANTS               1\n",
       "UNIVAIR AIRCRAFT CORPORATION     1\n",
       "UNIVERSAL                        1\n",
       "UNIVERSITY OF KANSAS             1\n",
       "UNknown                          1\n",
       "URBAN AIR SRO                    1\n",
       "URBANCZYK MIROSLAW               1\n",
       "US LIGHT AIRCRAFT CORP           1\n",
       "Uetz, Walter                     1\n",
       "Ufm                              1\n",
       "Uhley-mason                      1\n",
       "Ulfeldt                          1\n",
       "Ullman                           1\n",
       "Ullrich                          1\n",
       "Ulrich Christen                  1\n",
       "Ultimate                         1\n",
       "Ultra Magic                      1\n",
       "Ultraclassics                    1\n",
       "Ultraflight                      1\n",
       "Name: count, dtype: int64"
      ]
     },
     "execution_count": 630,
     "metadata": {},
     "output_type": "execute_result"
    }
   ],
   "source": [
    "df[df['Make'].str.lower().str.startswith('u', na=False)].value_counts('Make').loc[lambda x : x>0].head(60)"
   ]
  },
  {
   "cell_type": "code",
   "execution_count": 631,
   "metadata": {},
   "outputs": [],
   "source": [
    "df.loc[df['Make'].str.lower().str.startswith('ultrali', na=False), 'Make'] = 'Ultralight Flight'"
   ]
  },
  {
   "cell_type": "code",
   "execution_count": 632,
   "metadata": {},
   "outputs": [],
   "source": [
    "df.loc[df['Make'].str.lower().str.startswith('ultramag', na=False), 'Make'] = 'Ultramagic'"
   ]
  },
  {
   "cell_type": "code",
   "execution_count": 633,
   "metadata": {},
   "outputs": [],
   "source": [
    "df.loc[df['Make'].str.lower().str.startswith('ultravia', na=False), 'Make'] = 'Ultravia Aero'"
   ]
  },
  {
   "cell_type": "code",
   "execution_count": 634,
   "metadata": {},
   "outputs": [],
   "source": [
    "df.loc[df['Make'].str.lower().str.startswith('united cons', na=False), 'Make'] = 'United Consultant Corp.'"
   ]
  },
  {
   "cell_type": "code",
   "execution_count": 635,
   "metadata": {},
   "outputs": [],
   "source": [
    "df.loc[df['Make'].str.lower().str.startswith('univa', na=False), 'Make'] = 'Univair'"
   ]
  },
  {
   "cell_type": "code",
   "execution_count": 636,
   "metadata": {},
   "outputs": [],
   "source": [
    "df.loc[df['Make'].str.lower().str.startswith('universal s', na=False), 'Make'] = 'Universal'"
   ]
  },
  {
   "cell_type": "code",
   "execution_count": 637,
   "metadata": {},
   "outputs": [],
   "source": [
    "df.loc[df['Make'].str.lower().str.startswith('unknow', na=False), 'Make'] = 'Unknown'"
   ]
  },
  {
   "cell_type": "code",
   "execution_count": 638,
   "metadata": {},
   "outputs": [],
   "source": [
    "df.loc[df['Make'].str.lower().str.startswith('unregis', na=False), 'Make'] = 'Unknown'"
   ]
  },
  {
   "cell_type": "code",
   "execution_count": 639,
   "metadata": {},
   "outputs": [],
   "source": [
    "df.loc[df['Make'].str.lower().str.startswith('urban a', na=False), 'Make'] = 'Urban Air'"
   ]
  },
  {
   "cell_type": "code",
   "execution_count": 640,
   "metadata": {},
   "outputs": [
    {
     "data": {
      "text/plain": [
       "Make\n",
       "Vans                    72\n",
       "VANS                    57\n",
       "Varga                   24\n",
       "Vans Aircraft           24\n",
       "VANS AIRCRAFT INC       11\n",
       "Velocity                11\n",
       "Varieze                  8\n",
       "Vickers                  5\n",
       "Volksplane               5\n",
       "Valentin                 4\n",
       "Volmer Aircraft          3\n",
       "Vector                   2\n",
       "VAUGHN                   2\n",
       "VICKERS                  2\n",
       "Viking                   2\n",
       "Violet                   2\n",
       "Van's Aircraft           2\n",
       "Vangrunsven              2\n",
       "VASHON AIRCRAFT          2\n",
       "VARGA AIRCRAFT CORP.     2\n",
       "Vultee                   2\n",
       "Vari                     1\n",
       "Vehafric                 1\n",
       "Vanhoose/scorpio         1\n",
       "Venus                    1\n",
       "Ventura                  1\n",
       "Veltman, Robert          1\n",
       "Veltman                  1\n",
       "Vans Aircraft Inc        1\n",
       "Veith                    1\n",
       "Vans Aircraft, Inc.      1\n",
       "Vari-eze                 1\n",
       "Vans-rupert              1\n",
       "Veazie                   1\n",
       "Vanwinkle                1\n",
       "Vavra, Martin A.         1\n",
       "Vaughn                   1\n",
       "Vaughan                  1\n",
       "Vere Eze                 1\n",
       "Verbeek                  1\n",
       "VALENTIN                 1\n",
       "Vermeys                  1\n",
       "Vernon                   1\n",
       "Vuncannon                1\n",
       "Vought                   1\n",
       "Vortec                   1\n",
       "Von Claparede Clemen     1\n",
       "Von Berg                 1\n",
       "Volmer                   1\n",
       "Vollmers                 1\n",
       "Vogt                     1\n",
       "Vogel                    1\n",
       "Virginia Aviation        1\n",
       "Virgil Larson            1\n",
       "Virgil D. Hawks          1\n",
       "Villine's                1\n",
       "Villeneuve               1\n",
       "Villarubia               1\n",
       "Vigneau                  1\n",
       "Victor Marsh             1\n",
       "Name: count, dtype: int64"
      ]
     },
     "execution_count": 640,
     "metadata": {},
     "output_type": "execute_result"
    }
   ],
   "source": [
    "df[df['Make'].str.lower().str.startswith('v', na=False)].value_counts('Make').loc[lambda x : x>0].head(60)"
   ]
  },
  {
   "cell_type": "code",
   "execution_count": 641,
   "metadata": {},
   "outputs": [],
   "source": [
    "df.loc[df['Make'].str.lower().str.startswith('valent', na=False), 'Make'] = 'Valentin'"
   ]
  },
  {
   "cell_type": "code",
   "execution_count": 642,
   "metadata": {},
   "outputs": [
    {
     "data": {
      "text/plain": [
       "Make\n",
       "Vans                      72\n",
       "VANS                      57\n",
       "Vans Aircraft             24\n",
       "VANS AIRCRAFT INC         11\n",
       "Vangrunsven                2\n",
       "Van's Aircraft             2\n",
       "Vanek                      1\n",
       "Vanbenthuysen John         1\n",
       "Vance Renegade             1\n",
       "Vance-hamm                 1\n",
       "Vandenbos/thorp            1\n",
       "Vanderbeek                 1\n",
       "VAN B ANTHONY              1\n",
       "Vangilder                  1\n",
       "Vangorden                  1\n",
       "VanDenburg                 1\n",
       "Vanhoose/scorpio           1\n",
       "Vans Aircraft Inc          1\n",
       "Vans Aircraft, Inc.        1\n",
       "Vans-rupert                1\n",
       "Vanatta                    1\n",
       "Van's Aircraft, Inc.       1\n",
       "Van's/fish                 1\n",
       "VAN DUSEN JOHN M           1\n",
       "VAN HOOMISSEN GERALD J     1\n",
       "VAN KALKER JOHN E          1\n",
       "VAN LEHN RICHARD GLENN     1\n",
       "VANDERARK                  1\n",
       "VANDERHOOF STEVE           1\n",
       "VANEK JIM                  1\n",
       "Van                        1\n",
       "Van Arsdell/brent,m.       1\n",
       "Van Dyke                   1\n",
       "Van Grouw                  1\n",
       "Van Heeswyk                1\n",
       "Van Horn                   1\n",
       "Van Wormer                 1\n",
       "Van Zwoll                  1\n",
       "Van's Aircraft, Inc        1\n",
       "Vanwinkle                  1\n",
       "Name: count, dtype: int64"
      ]
     },
     "execution_count": 642,
     "metadata": {},
     "output_type": "execute_result"
    }
   ],
   "source": [
    "df[df['Make'].str.lower().str.startswith('van', na=False)].value_counts('Make').loc[lambda x : x>0].head(60)"
   ]
  },
  {
   "cell_type": "code",
   "execution_count": 644,
   "metadata": {},
   "outputs": [],
   "source": [
    "df.loc[df['Make'].str.lower().str.startswith('vans', na=False), 'Make'] = 'Vans'"
   ]
  },
  {
   "cell_type": "code",
   "execution_count": 647,
   "metadata": {},
   "outputs": [],
   "source": [
    "df.loc[df['Make'].str.lower().str.startswith(\"van's\", na=False), 'Make'] = 'Vans'"
   ]
  },
  {
   "cell_type": "code",
   "execution_count": 649,
   "metadata": {},
   "outputs": [],
   "source": [
    "df.loc[df['Make'].str.lower().str.startswith('varga', na=False), 'Make'] = 'Varga'"
   ]
  },
  {
   "cell_type": "code",
   "execution_count": 651,
   "metadata": {},
   "outputs": [],
   "source": [
    "df.loc[df['Make'].str.lower().str.startswith('vari', na=False), 'Make'] = 'Varieze'"
   ]
  },
  {
   "cell_type": "code",
   "execution_count": 652,
   "metadata": {},
   "outputs": [
    {
     "data": {
      "text/plain": [
       "Make\n",
       "VAUGHN              2\n",
       "VAUGHAN GERALD R    1\n",
       "Vaughan             1\n",
       "Vaughn              1\n",
       "Name: count, dtype: int64"
      ]
     },
     "execution_count": 652,
     "metadata": {},
     "output_type": "execute_result"
    }
   ],
   "source": [
    "df[df['Make'].str.lower().str.startswith('vaugh', na=False)].value_counts('Make').loc[lambda x : x>0].head(60)"
   ]
  },
  {
   "cell_type": "code",
   "execution_count": 653,
   "metadata": {},
   "outputs": [],
   "source": [
    "df.loc[df['Make'].str.lower().str.startswith('vaugh', na=False), 'Make'] = 'Vaughn'"
   ]
  },
  {
   "cell_type": "code",
   "execution_count": 656,
   "metadata": {},
   "outputs": [
    {
     "data": {
      "text/plain": [
       "Make\n",
       "Welles                            1\n",
       "Wente                             1\n",
       "Werner                            1\n",
       "William D. Weeks                  1\n",
       "Wilderoder                        1\n",
       "Wernega                           1\n",
       "Wiles                             1\n",
       "Wiley                             1\n",
       "Wilford J. Tolman                 1\n",
       "Wilhelm                           1\n",
       "Wilkinson Daniel V                1\n",
       "William Bovard                    1\n",
       "Welborn                           1\n",
       "Willbird                          1\n",
       "William C. Keiling                1\n",
       "Wesley                            1\n",
       "Willey                            1\n",
       "Willi/bensen                      1\n",
       "Wells/rand                        1\n",
       "William A. Waas                   1\n",
       "William Allen                     1\n",
       "Wilde Mickey                      1\n",
       "Wilbur D. Batman                  1\n",
       "Wessel                            1\n",
       "Wild Goose                        1\n",
       "Wheeler Acft. Co.                 1\n",
       "Weyerts                           1\n",
       "Weston                            1\n",
       "Whistle                           1\n",
       "White Lightning Aircraft Corp.    1\n",
       "Whitehead                         1\n",
       "Whithington                       1\n",
       "Whitlock                          1\n",
       "Westland                          1\n",
       "Whitman                           1\n",
       "Whittaker                         1\n",
       "Westholm                          1\n",
       "Western International             1\n",
       "Westerhout/Gagnier                1\n",
       "Whitty                            1\n",
       "Whitty, Philip J.                 1\n",
       "Weste                             1\n",
       "Westcott                          1\n",
       "Wichawk                           1\n",
       "West-heckman                      1\n",
       "West                              1\n",
       "Wiedemann                         1\n",
       "Wilburn                           1\n",
       "Wheeler Technology, Inc.          1\n",
       "W. E. Simmons Max Air             1\n",
       "William E. Furr                   1\n",
       "Wood-oldfield                     1\n",
       "Woolley John A                    1\n",
       "Woody                             1\n",
       "Woodstock                         1\n",
       "Woodruff Lancair                  1\n",
       "Woodrow Stolp-adams               1\n",
       "Woodrow S.a.                      1\n",
       "Woodley                           1\n",
       "Wood/thorpe                       1\n",
       "Name: count, dtype: int64"
      ]
     },
     "execution_count": 656,
     "metadata": {},
     "output_type": "execute_result"
    }
   ],
   "source": [
    "df[df['Make'].str.lower().str.startswith('w', na=False)].value_counts('Make').loc[lambda x : x<2].head(60)"
   ]
  },
  {
   "cell_type": "code",
   "execution_count": 657,
   "metadata": {},
   "outputs": [],
   "source": [
    "df.loc[df['Make'].str.lower().str.startswith('waco', na=False), 'Make'] = 'Waco'"
   ]
  },
  {
   "cell_type": "code",
   "execution_count": 658,
   "metadata": {},
   "outputs": [],
   "source": [
    "df.loc[df['Make'].str.lower().str.startswith('weatherl', na=False), 'Make'] = 'Weatherly'"
   ]
  },
  {
   "cell_type": "code",
   "execution_count": 659,
   "metadata": {},
   "outputs": [],
   "source": [
    "df.loc[df['Make'].str.lower().str.startswith('weber', na=False), 'Make'] = 'Weber'"
   ]
  },
  {
   "cell_type": "code",
   "execution_count": 660,
   "metadata": {},
   "outputs": [],
   "source": [
    "df.loc[df['Make'].str.lower().str.startswith('westland', na=False), 'Make'] = 'Westland Helicopters'"
   ]
  },
  {
   "cell_type": "code",
   "execution_count": 661,
   "metadata": {},
   "outputs": [],
   "source": [
    "df.loc[df['Make'].str.lower().str.startswith('wheele', na=False), 'Make'] = 'Wheeler'"
   ]
  },
  {
   "cell_type": "code",
   "execution_count": 662,
   "metadata": {},
   "outputs": [],
   "source": [
    "df.loc[df['Make'].str.lower().str.startswith('white', na=False), 'Make'] = 'White'"
   ]
  },
  {
   "cell_type": "code",
   "execution_count": 663,
   "metadata": {},
   "outputs": [],
   "source": [
    "df.loc[df['Make'].str.lower().str.startswith('whittman', na=False), 'Make'] = 'Whittman'"
   ]
  },
  {
   "cell_type": "code",
   "execution_count": 664,
   "metadata": {},
   "outputs": [],
   "source": [
    "df.loc[df['Make'].str.lower().str.startswith('williams hel', na=False), 'Make'] = 'Williams Helicopter'"
   ]
  },
  {
   "cell_type": "code",
   "execution_count": 665,
   "metadata": {},
   "outputs": [],
   "source": [
    "df.loc[df['Make'].str.lower().str.startswith('wsk', na=False), 'Make'] = 'WSK'"
   ]
  },
  {
   "cell_type": "code",
   "execution_count": 669,
   "metadata": {},
   "outputs": [
    {
     "data": {
      "text/plain": [
       "Make\n",
       "XTREMEAIR GMBH    3\n",
       "X-AIR LLC         1\n",
       "Xtremeair GMBH    1\n",
       "Name: count, dtype: int64"
      ]
     },
     "execution_count": 669,
     "metadata": {},
     "output_type": "execute_result"
    }
   ],
   "source": [
    "df[df['Make'].str.lower().str.startswith('x', na=False)].value_counts('Make').loc[lambda x : x<11].head(60)"
   ]
  },
  {
   "cell_type": "code",
   "execution_count": 670,
   "metadata": {},
   "outputs": [],
   "source": [
    "df.loc[df['Make'].str.lower().str.startswith('xtre', na=False), 'Make'] = 'Xtremeair'"
   ]
  },
  {
   "cell_type": "code",
   "execution_count": 675,
   "metadata": {},
   "outputs": [
    {
     "data": {
      "text/plain": [
       "Make\n",
       "Yakovlev               31\n",
       "YAKOVLEV               12\n",
       "Young                  12\n",
       "Yonchak                 1\n",
       "Yasecko                 1\n",
       "Yates                   1\n",
       "Yeager Inc.             1\n",
       "Yoakley                 1\n",
       "Yoder                   1\n",
       "York                    1\n",
       "Yaple, Robert G.        1\n",
       "Yothment                1\n",
       "Youkey                  1\n",
       "Young-losey             1\n",
       "Young-owens             1\n",
       "Younkin J R             1\n",
       "Yarnell                 1\n",
       "Yamokoski               1\n",
       "YAKOVLEV/CHINNERY       1\n",
       "Yadon                   1\n",
       "YUNEEC                  1\n",
       "YOUNGS WILLIAM D        1\n",
       "YOUNG ROBERT HERMAN     1\n",
       "YOUNG JOHN E            1\n",
       "YOUNG DEE C             1\n",
       "YOST EDWIN S            1\n",
       "YORK RONALD J           1\n",
       "YORK                    1\n",
       "YATES W/LAZAR M         1\n",
       "YATES MIKE E            1\n",
       "YAMOKOSKI WILLIAM       1\n",
       "YAKOVLEV/DAY            1\n",
       "Yowell                  1\n",
       "Name: count, dtype: int64"
      ]
     },
     "execution_count": 675,
     "metadata": {},
     "output_type": "execute_result"
    }
   ],
   "source": [
    "df[df['Make'].str.lower().str.startswith('y', na=False)].value_counts('Make').loc[lambda x : x>0].head(60)"
   ]
  },
  {
   "cell_type": "code",
   "execution_count": 676,
   "metadata": {},
   "outputs": [],
   "source": [
    "df.loc[df['Make'].str.lower().str.startswith('yakov', na=False), 'Make'] = 'Yakovlev'"
   ]
  },
  {
   "cell_type": "code",
   "execution_count": 677,
   "metadata": {},
   "outputs": [],
   "source": [
    "df.loc[df['Make'].str.lower().str.startswith('yamok', na=False), 'Make'] = 'Yamokoski'"
   ]
  },
  {
   "cell_type": "code",
   "execution_count": 678,
   "metadata": {},
   "outputs": [
    {
     "data": {
      "text/plain": [
       "Make\n",
       "ZENITH                      37\n",
       "Zenair                      27\n",
       "Zenith                       7\n",
       "Zimmerman                    4\n",
       "ZENAIR LTD                   4\n",
       "ZIVKO AERONAUTICS INC        4\n",
       "ZLIN                         4\n",
       "ZENAIR                       3\n",
       "Zengel                       2\n",
       "Zlin                         2\n",
       "Z-HI-MAX                     1\n",
       "Zhuhai Helicopter Co.        1\n",
       "Zidek                        1\n",
       "Zielke                       1\n",
       "Ziermann                     1\n",
       "Zilz                         1\n",
       "Zivko Aeronautics Inc.       1\n",
       "Zito                         1\n",
       "Zivko                        1\n",
       "Zivko Aeronautics            1\n",
       "Zlin Aviation                1\n",
       "Zlin Aviation S.r.o.         1\n",
       "Zodiac                       1\n",
       "Zorn                         1\n",
       "Zukowski                     1\n",
       "Zenair Zodiac                1\n",
       "Zeidman                      1\n",
       "Zemp                         1\n",
       "Zeigler                      1\n",
       "ZEILER                       1\n",
       "ZENITH ACFT CO               1\n",
       "ZENITH AIRCRAFT CO           1\n",
       "ZIMMERMAN                    1\n",
       "ZS DELTA-BIELSKO WROCLAW     1\n",
       "ZUBAIR S KHAN                1\n",
       "ZUBER THOMAS P               1\n",
       "ZWICKER MURRAY R             1\n",
       "Zacharius                    1\n",
       "Zank                         1\n",
       "Zappia Gabriel J             1\n",
       "Zaverton Elmer               1\n",
       "Zawada                       1\n",
       "Zbacnick                     1\n",
       "Zdybel                       1\n",
       "Zeidler                      1\n",
       "ZACH VANS                    1\n",
       "Zwart                        1\n",
       "Name: count, dtype: int64"
      ]
     },
     "execution_count": 678,
     "metadata": {},
     "output_type": "execute_result"
    }
   ],
   "source": [
    "df[df['Make'].str.lower().str.startswith('z', na=False)].value_counts('Make').loc[lambda x : x>0].head(60)"
   ]
  },
  {
   "cell_type": "code",
   "execution_count": 679,
   "metadata": {},
   "outputs": [],
   "source": [
    "df.loc[df['Make'].str.lower().str.startswith('zenai', na=False), 'Make'] = 'Zenair'"
   ]
  },
  {
   "cell_type": "code",
   "execution_count": 680,
   "metadata": {},
   "outputs": [],
   "source": [
    "df.loc[df['Make'].str.lower().str.startswith('zeni', na=False), 'Make'] = 'Zenith'"
   ]
  },
  {
   "cell_type": "code",
   "execution_count": 681,
   "metadata": {},
   "outputs": [],
   "source": [
    "df.loc[df['Make'].str.lower().str.startswith('zimmerm', na=False), 'Make'] = 'Zimmerman'"
   ]
  },
  {
   "cell_type": "code",
   "execution_count": 682,
   "metadata": {},
   "outputs": [],
   "source": [
    "df.loc[df['Make'].str.lower().str.startswith('zivk', na=False), 'Make'] = 'Zivko Aeronautics'"
   ]
  },
  {
   "cell_type": "code",
   "execution_count": 683,
   "metadata": {},
   "outputs": [],
   "source": [
    "df.loc[df['Make'].str.lower().str.startswith('zli', na=False), 'Make'] = 'Zlin'"
   ]
  },
  {
   "cell_type": "code",
   "execution_count": 722,
   "metadata": {},
   "outputs": [
    {
     "data": {
      "text/plain": [
       "Make\n",
       "S.O.C.A.T.A.                      3\n",
       "Keller                            3\n",
       "Mueller                           3\n",
       "Schlitter                         3\n",
       "Allied Ag Cat Productions, Inc    3\n",
       "MX AIRCRAFT LLC                   3\n",
       "Teague                            3\n",
       "National Balloon                  3\n",
       "Downer                            3\n",
       "Noble                             3\n",
       "Mcilraith                         3\n",
       "Root                              3\n",
       "Smith Aerostar                    3\n",
       "Acro Sport                        3\n",
       "Barr                              3\n",
       "Kennedy                           3\n",
       "Henderson                         3\n",
       "Spartan                           3\n",
       "Ferguson                          3\n",
       "Striplin                          3\n",
       "Stephens                          3\n",
       "Ted Smith                         3\n",
       "AEROPRO CZ S R O                  3\n",
       "Mcclung                           3\n",
       "SOLO WINGS                        3\n",
       "Wallace                           3\n",
       "Jordan                            3\n",
       "SONEX AIRCRAFT                    3\n",
       "Schwarz                           3\n",
       "Fischer                           3\n",
       "Keuthan                           3\n",
       "Bakeng                            3\n",
       "Thomson                           3\n",
       "MOSQUITO                          3\n",
       "As+ Ltd                           3\n",
       "AEROSTAR ACFT CORP OF TEXAS       3\n",
       "Upton                             3\n",
       "Lutz                              3\n",
       "Hatz                              3\n",
       "Bacon                             3\n",
       "Pratt                             3\n",
       "AVIONS ROBIN                      3\n",
       "Stemme                            3\n",
       "Waspair                           3\n",
       "Czech Sport                       3\n",
       "Tracy                             3\n",
       "Omf                               3\n",
       "Keith                             3\n",
       "Ross                              3\n",
       "Higher Class Aviation             3\n",
       "Giles                             3\n",
       "SONEX                             3\n",
       "Jetstream                         3\n",
       "Sonex                             3\n",
       "Terry                             3\n",
       "Mohr                              3\n",
       "HONDA AIRCRAFT CO LLC             3\n",
       "AB SPORTINE AVIACIJA              3\n",
       "Franklin                          3\n",
       "Morton                            3\n",
       "Name: count, dtype: int64"
      ]
     },
     "execution_count": 722,
     "metadata": {},
     "output_type": "execute_result"
    }
   ],
   "source": [
    "df['Make'].value_counts().loc[lambda x : x == 3].tail(60)"
   ]
  },
  {
   "cell_type": "code",
   "execution_count": 723,
   "metadata": {},
   "outputs": [],
   "source": [
    "df.loc[df['Make'].str.lower().str.startswith('aero vodo', na=False), 'Make'] = 'Aero Vodochody'"
   ]
  },
  {
   "cell_type": "code",
   "execution_count": 724,
   "metadata": {},
   "outputs": [],
   "source": [
    "df.loc[df['Make'].str.lower().str.startswith('aeromot', na=False), 'Make'] = 'Aeromot'"
   ]
  },
  {
   "cell_type": "code",
   "execution_count": 725,
   "metadata": {},
   "outputs": [],
   "source": [
    "df.loc[df['Make'].str.lower().str.startswith('aeropro', na=False), 'Make'] = 'Aeropro CZ'"
   ]
  },
  {
   "cell_type": "code",
   "execution_count": 726,
   "metadata": {},
   "outputs": [],
   "source": [
    "df.loc[df['Make'].str.lower().str.startswith('aerostar', na=False), 'Make'] = 'Aerostar'"
   ]
  },
  {
   "cell_type": "code",
   "execution_count": 727,
   "metadata": {},
   "outputs": [],
   "source": [
    "df.loc[df['Make'].str.lower().str.startswith('aerotek', na=False), 'Make'] = 'Aerotek'"
   ]
  },
  {
   "cell_type": "code",
   "execution_count": 728,
   "metadata": {},
   "outputs": [],
   "source": [
    "df.loc[df['Make'].str.lower().str.startswith('air cre', na=False), 'Make'] = 'Air Creation'"
   ]
  },
  {
   "cell_type": "code",
   "execution_count": 729,
   "metadata": {},
   "outputs": [],
   "source": [
    "df.loc[df['Make'].str.lower().str.startswith('aircraft mfg', na=False), 'Make'] = 'Aircraft Mfg and Dev'"
   ]
  },
  {
   "cell_type": "code",
   "execution_count": 730,
   "metadata": {},
   "outputs": [],
   "source": [
    "df.loc[df['Make'].str.lower().str.startswith('alon', na=False), 'Make'] = 'Alon'"
   ]
  },
  {
   "cell_type": "code",
   "execution_count": 731,
   "metadata": {},
   "outputs": [],
   "source": [
    "df.loc[df['Make'].str.lower().str.startswith('amateur b', na=False), 'Make'] = 'Amateur Built'"
   ]
  },
  {
   "cell_type": "code",
   "execution_count": 732,
   "metadata": {},
   "outputs": [],
   "source": [
    "df.loc[df['Make'].str.lower().str.startswith('atr', na=False), 'Make'] = 'ATR'"
   ]
  },
  {
   "cell_type": "code",
   "execution_count": 733,
   "metadata": {},
   "outputs": [],
   "source": [
    "df.loc[df['Make'].str.lower().str.startswith('autogyr', na=False), 'Make'] = 'AutoGyro'"
   ]
  },
  {
   "cell_type": "code",
   "execution_count": 734,
   "metadata": {},
   "outputs": [],
   "source": [
    "df.loc[df['Make'].str.lower().str.startswith('avid', na=False), 'Make'] = 'Avid'"
   ]
  },
  {
   "cell_type": "code",
   "execution_count": 735,
   "metadata": {},
   "outputs": [],
   "source": [
    "df.loc[df['Make'].str.lower().str.startswith('balloon w', na=False), 'Make'] = 'Balloon Works'"
   ]
  },
  {
   "cell_type": "code",
   "execution_count": 736,
   "metadata": {},
   "outputs": [],
   "source": [
    "df.loc[df['Make'].str.lower().str.startswith('brantl', na=False), 'Make'] = 'Brantly'"
   ]
  },
  {
   "cell_type": "code",
   "execution_count": 737,
   "metadata": {},
   "outputs": [],
   "source": [
    "df.loc[df['Make'].str.lower().str.startswith('british ae', na=False), 'Make'] = 'British Aerospace'"
   ]
  },
  {
   "cell_type": "code",
   "execution_count": 738,
   "metadata": {},
   "outputs": [],
   "source": [
    "df.loc[df['Make'].str.lower().str.startswith('britten', na=False), 'Make'] = 'Britten Norman'"
   ]
  },
  {
   "cell_type": "code",
   "execution_count": 739,
   "metadata": {},
   "outputs": [],
   "source": [
    "df.loc[df['Make'].str.lower().str.startswith('buckeye', na=False), 'Make'] = 'Buckeye'"
   ]
  },
  {
   "cell_type": "code",
   "execution_count": 740,
   "metadata": {},
   "outputs": [],
   "source": [
    "df.loc[df['Make'].str.lower().str.startswith('burkhart', na=False), 'Make'] = 'Burkhart Grob'"
   ]
  },
  {
   "cell_type": "code",
   "execution_count": 741,
   "metadata": {},
   "outputs": [],
   "source": [
    "df.loc[df['Make'].str.lower().str.startswith('canadair', na=False), 'Make'] = 'Canadair'"
   ]
  },
  {
   "cell_type": "code",
   "execution_count": 742,
   "metadata": {},
   "outputs": [],
   "source": [
    "df.loc[df['Make'].str.lower().str.startswith('cassutt', na=False), 'Make'] = 'Cassutt'"
   ]
  },
  {
   "cell_type": "code",
   "execution_count": 743,
   "metadata": {},
   "outputs": [],
   "source": [
    "df.loc[df['Make'].str.lower().str.startswith('cgs', na=False), 'Make'] = 'CGS Aviation'"
   ]
  },
  {
   "cell_type": "code",
   "execution_count": 744,
   "metadata": {},
   "outputs": [],
   "source": [
    "df.loc[df['Make'].str.lower().str.startswith('classic airc', na=False), 'Make'] = 'Classic Aircraft Corp'"
   ]
  },
  {
   "cell_type": "code",
   "execution_count": 745,
   "metadata": {},
   "outputs": [],
   "source": [
    "df.loc[df['Make'].str.lower().str.startswith('continental', na=False), 'Make'] = 'Continental Copters'"
   ]
  },
  {
   "cell_type": "code",
   "execution_count": 746,
   "metadata": {},
   "outputs": [],
   "source": [
    "df.loc[df['Make'].str.lower().str.startswith('convair', na=False), 'Make'] = 'Convair'"
   ]
  },
  {
   "cell_type": "code",
   "execution_count": 747,
   "metadata": {},
   "outputs": [],
   "source": [
    "df.loc[df['Make'].str.lower().str.startswith('cosmos', na=False), 'Make'] = 'Cosmos'"
   ]
  },
  {
   "cell_type": "code",
   "execution_count": 748,
   "metadata": {},
   "outputs": [],
   "source": [
    "df.loc[df['Make'].str.lower().str.startswith('costruzioni', na=False), 'Make'] = 'Costruzioni Aeronautiche Tecna'"
   ]
  },
  {
   "cell_type": "code",
   "execution_count": 749,
   "metadata": {},
   "outputs": [],
   "source": [
    "df.loc[df['Make'].str.lower().str.startswith('curtis', na=False), 'Make'] = 'Curtiss-Wright'"
   ]
  },
  {
   "cell_type": "code",
   "execution_count": 750,
   "metadata": {},
   "outputs": [],
   "source": [
    "df.loc[df['Make'].str.lower().str.startswith('czech a', na=False), 'Make'] = 'Czech Aircraft Works'"
   ]
  },
  {
   "cell_type": "code",
   "execution_count": 751,
   "metadata": {},
   "outputs": [],
   "source": [
    "df.loc[df['Make'].str.lower().str.startswith('czech s', na=False), 'Make'] = 'Czech Sport Aircraft'"
   ]
  },
  {
   "cell_type": "code",
   "execution_count": 752,
   "metadata": {},
   "outputs": [],
   "source": [
    "df.loc[df['Make'].str.lower().str.startswith('downer', na=False), 'Make'] = 'Downer Aircraft Industries'"
   ]
  },
  {
   "cell_type": "code",
   "execution_count": 753,
   "metadata": {},
   "outputs": [],
   "source": [
    "df.loc[df['Make'].str.lower().str.startswith('pipistrel', na=False), 'Make'] = 'Pipistrel'"
   ]
  },
  {
   "cell_type": "code",
   "execution_count": 754,
   "metadata": {},
   "outputs": [],
   "source": [
    "df.loc[df['Make'].str.lower().str.startswith('socata', na=False), 'Make'] = 'Socata'"
   ]
  },
  {
   "cell_type": "code",
   "execution_count": 755,
   "metadata": {},
   "outputs": [],
   "source": [
    "df.loc[df['Make'].str.lower().str.startswith('sonex', na=False), 'Make'] = 'Sonex'"
   ]
  },
  {
   "cell_type": "code",
   "execution_count": 756,
   "metadata": {},
   "outputs": [],
   "source": [
    "df.loc[df['Make'].str.lower().str.startswith('stearm', na=False), 'Make'] = 'Stearman Aircraft'"
   ]
  },
  {
   "cell_type": "code",
   "execution_count": 757,
   "metadata": {},
   "outputs": [],
   "source": [
    "df.loc[df['Make'].str.lower().str.startswith('steen', na=False), 'Make'] = 'Steen'"
   ]
  },
  {
   "cell_type": "code",
   "execution_count": 758,
   "metadata": {},
   "outputs": [],
   "source": [
    "df.loc[df['Make'].str.lower().str.startswith('stemme', na=False), 'Make'] = 'Stemme'"
   ]
  },
  {
   "cell_type": "code",
   "execution_count": 759,
   "metadata": {},
   "outputs": [],
   "source": [
    "df.loc[df['Make'].str.lower().str.startswith('stinson', na=False), 'Make'] = 'Stinson'"
   ]
  },
  {
   "cell_type": "code",
   "execution_count": 760,
   "metadata": {},
   "outputs": [],
   "source": [
    "df.loc[df['Make'].str.lower().str.startswith('sukh', na=False), 'Make'] = 'Sukhoi'"
   ]
  },
  {
   "cell_type": "code",
   "execution_count": 761,
   "metadata": {},
   "outputs": [],
   "source": [
    "df.loc[df['Make'].str.lower().str.startswith('swearing', na=False), 'Make'] = 'Swearingen'"
   ]
  },
  {
   "cell_type": "code",
   "execution_count": 763,
   "metadata": {},
   "outputs": [
    {
     "data": {
      "text/plain": [
       "Make\n",
       "Cessna                 26903\n",
       "Piper                  14808\n",
       "Beech                   5372\n",
       "Bell                    2792\n",
       "Boeing                  2728\n",
       "Robinson Helicopter     1675\n",
       "Grumman                 1632\n",
       "Mooney                  1373\n",
       "Bellanca                1037\n",
       "Hughes Helicopters       941\n",
       "Air Tractor              911\n",
       "Schweizer                802\n",
       "Aeronca                  633\n",
       "Mcdonnell Douglas        591\n",
       "Maule                    589\n",
       "Champion                 517\n",
       "De Havilland             512\n",
       "Airbus                   506\n",
       "Cirrus Design            467\n",
       "Rockwell                 437\n",
       "Stinson                  433\n",
       "Aero Commander           425\n",
       "Luscombe                 412\n",
       "Aerospatiale             395\n",
       "North American           392\n",
       "Taylorcraft              389\n",
       "Hiller                   361\n",
       "Enstrom                  303\n",
       "Eurocopter               295\n",
       "Douglas                  284\n",
       "Ayres                    284\n",
       "Aviat                    259\n",
       "Embraer                  257\n",
       "Ercoupe                  247\n",
       "Sikorsky                 232\n",
       "Gulfstream               226\n",
       "Fairchild                221\n",
       "Diamond                  182\n",
       "Vans                     172\n",
       "Swearingen               171\n",
       "Bombardier               169\n",
       "Pitts                    161\n",
       "Waco                     152\n",
       "Lake                     152\n",
       "Learjet                  145\n",
       "Balloon Works            144\n",
       "Schleicher               144\n",
       "Mitsubishi               142\n",
       "Let                      139\n",
       "Burkhart Grob            137\n",
       "Aerostar                 134\n",
       "Socata                   126\n",
       "Ryan                     125\n",
       "Lockheed                 122\n",
       "American                 121\n",
       "Raytheon                 120\n",
       "Helio                    115\n",
       "WSK                      112\n",
       "Cameron Balloons         105\n",
       "Weatherly                104\n",
       "Name: count, dtype: int64"
      ]
     },
     "execution_count": 763,
     "metadata": {},
     "output_type": "execute_result"
    }
   ],
   "source": [
    "df['Make'].value_counts().loc[lambda x : x>50].head(60)"
   ]
  },
  {
   "cell_type": "code",
   "execution_count": 1181,
   "metadata": {},
   "outputs": [
    {
     "name": "stderr",
     "output_type": "stream",
     "text": [
      "C:\\Users\\Joseph Harvey\\anaconda3\\Lib\\site-packages\\IPython\\core\\displayhook.py:281: UserWarning: Output cache limit (currently 1000 entries) hit.\n",
      "Flushing oldest 200 entries.\n",
      "  warn('Output cache limit (currently {sz} entries) hit.\\n'\n"
     ]
    },
    {
     "data": {
      "text/plain": [
       "Aircraft_Category\n",
       "Airplane    17\n",
       "Name: count, dtype: int64"
      ]
     },
     "execution_count": 1181,
     "metadata": {},
     "output_type": "execute_result"
    }
   ],
   "source": [
    "# Show category value_counts for particular make\n",
    "df[df['Make'] == 'Textron Aviation'].value_counts('Aircraft_Category', dropna=False)"
   ]
  },
  {
   "cell_type": "code",
   "execution_count": 1179,
   "metadata": {},
   "outputs": [],
   "source": [
    "# Fill in Aircraft_Category as Airplane for particular make\n",
    "df.loc[df['Make'] == 'Steen', 'Aircraft_Category'] = 'Airplane'"
   ]
  },
  {
   "cell_type": "code",
   "execution_count": 1164,
   "metadata": {},
   "outputs": [],
   "source": [
    "# Fill in Aircraft_Category as Helicopter for particular make\n",
    "df.loc[df['Make'] == 'American Eurocopter', 'Aircraft_Category'] = 'Helicopter'"
   ]
  },
  {
   "cell_type": "code",
   "execution_count": 1142,
   "metadata": {},
   "outputs": [],
   "source": [
    "# Fill in Aircraft_Category as Balloon for particular make\n",
    "df.loc[df['Make'] == 'Ultramagic', 'Aircraft_Category'] = 'Balloon'"
   ]
  },
  {
   "cell_type": "code",
   "execution_count": 1140,
   "metadata": {},
   "outputs": [],
   "source": [
    "# Fill in Aircraft_Category as Glider for particular make\n",
    "df.loc[df['Make'] == 'Eiriavion Oy', 'Aircraft_Category'] = 'Glider'"
   ]
  },
  {
   "cell_type": "code",
   "execution_count": 1014,
   "metadata": {},
   "outputs": [],
   "source": [
    "# Fill in Aircraft_Category as Gyrocraft for particular make\n",
    "df.loc[df['Make'] == 'Benson', 'Aircraft_Category'] = 'Gyrocraft'"
   ]
  },
  {
   "cell_type": "code",
   "execution_count": 1119,
   "metadata": {},
   "outputs": [],
   "source": [
    "# Fill in Aircraft_Category as Weight-Shift for particular make\n",
    "df.loc[df['Make'] == 'Evolution', 'Aircraft_Category'] = 'Weight-Shift'"
   ]
  },
  {
   "cell_type": "code",
   "execution_count": 1076,
   "metadata": {},
   "outputs": [],
   "source": [
    "# Fill in Aircraft_Category as Powered Parachute for particular make\n",
    "df.loc[df['Make'] == 'Buckeye', 'Aircraft_Category'] = 'Powered Parachute'"
   ]
  },
  {
   "cell_type": "code",
   "execution_count": 1182,
   "metadata": {},
   "outputs": [],
   "source": [
    "# Export df as a separate file\n",
    "df.to_csv('working-df/cleaned_aviation_data_category2.csv', index=False)"
   ]
  },
  {
   "cell_type": "code",
   "execution_count": null,
   "metadata": {},
   "outputs": [],
   "source": []
  }
 ],
 "metadata": {
  "colab": {
   "provenance": []
  },
  "kernelspec": {
   "display_name": "Python 3 (ipykernel)",
   "language": "python",
   "name": "python3"
  },
  "language_info": {
   "codemirror_mode": {
    "name": "ipython",
    "version": 3
   },
   "file_extension": ".py",
   "mimetype": "text/x-python",
   "name": "python",
   "nbconvert_exporter": "python",
   "pygments_lexer": "ipython3",
   "version": "3.12.4"
  }
 },
 "nbformat": 4,
 "nbformat_minor": 4
}
