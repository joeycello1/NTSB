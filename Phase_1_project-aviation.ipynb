{
 "cells": [
  {
   "cell_type": "markdown",
   "id": "e430d662-99f5-40ff-858b-8f470c768b0a",
   "metadata": {},
   "source": [
    "# NTSB Aviation Accident dataset\n",
    "The business is interested in becoming involved in commercial aviation.\n",
    "\n",
    "An initial overview of the risks in aviation is the purpose of this data analysis.\n",
    "\n",
    "The dataset for the overview is the National Transportation Safety Board (NTSB) dataset that covers the years 1948 through the end of 2022."
   ]
  },
  {
   "cell_type": "markdown",
   "id": "968220ed-072f-43e6-8fce-e9c2f30c9094",
   "metadata": {},
   "source": [
    "Open the dataset called AviationData.csv"
   ]
  },
  {
   "cell_type": "code",
   "execution_count": null,
   "id": "31c46a7e-bdc3-4863-869e-c2821a6d1190",
   "metadata": {},
   "outputs": [],
   "source": [
    "import pandas as pd\n",
    "\n",
    "df = pd.read_csv('Data/AviationData.csv', encoding='latin-1')\n",
    "\n",
    "df.info()"
   ]
  },
  {
   "cell_type": "markdown",
   "id": "b0e0fd8f-f462-477a-a06a-e49ec9957d49",
   "metadata": {},
   "source": [
    "# Cleaning the Data\n",
    "\n",
    "rename columns to remove dots as they may cause errors in Python (replace dots with dashes or underscores)"
   ]
  },
  {
   "cell_type": "code",
   "execution_count": null,
   "id": "01847aa0-cf37-48c3-b190-4ae8a52906ac",
   "metadata": {},
   "outputs": [],
   "source": [
    "df.columns = df.columns.str.replace('.', '_')\n",
    "\n",
    "df.head()"
   ]
  },
  {
   "cell_type": "code",
   "execution_count": null,
   "id": "dade97e0-2722-4c79-aae4-963c0eab038b",
   "metadata": {},
   "outputs": [],
   "source": [
    "# Check for duplicate rows\n",
    "duplicate_rows_events = df[df.duplicated(subset=['Event_Id'], keep=False)]\n",
    "\n",
    "duplicate_rows_events.head(10)"
   ]
  },
  {
   "cell_type": "markdown",
   "id": "e0498cfd-8562-47b9-abf7-3bbd708c6ec1",
   "metadata": {},
   "source": [
    "I see here that though these duplicate rows do represent separate aircraft in multi-aircraft incidents, the injury and/or fatality numbers are combined. This would constitute duplicate numbers in certain columns that would render errors in the analysis.\n",
    "\n",
    "So let's remove the duplicates from this subset."
   ]
  },
  {
   "cell_type": "code",
   "execution_count": null,
   "id": "27cc377e-ef8a-414c-967c-4d485ef9e3e7",
   "metadata": {},
   "outputs": [],
   "source": [
    "# remove the duplicate rows using the Event_Id column\n",
    "df = df.drop_duplicates(subset=['Event_Id'], keep='first')"
   ]
  },
  {
   "cell_type": "code",
   "execution_count": null,
   "id": "98fb77d5-22e2-4621-9d4e-2598872a73de",
   "metadata": {},
   "outputs": [],
   "source": [
    "# check for duplicates again in Event_Id column\n",
    "duplicate_rows_events = df[df.duplicated(subset=['Event_Id'], keep=False)]\n",
    "\n",
    "duplicate_rows_events.info()"
   ]
  },
  {
   "cell_type": "code",
   "execution_count": null,
   "id": "27e1e935-674b-4e91-99d4-d78de73437cf",
   "metadata": {},
   "outputs": [],
   "source": [
    "# check for duplicate rows in the Accident_Number column to verify there are no more duplicates\n",
    "duplicate_rows_accidents = df[df.duplicated(subset=['Accident_Number'], keep=False)]\n",
    "\n",
    "if duplicate_rows_accidents.empty:\n",
    "  print(\"No duplicate rows found.\")\n",
    "else:\n",
    "  print(\"Duplicate rows found.\")"
   ]
  },
  {
   "cell_type": "code",
   "execution_count": null,
   "id": "8723214e-d03e-4172-af3e-a45be49d6187",
   "metadata": {},
   "outputs": [],
   "source": [
    "df.info()"
   ]
  },
  {
   "cell_type": "markdown",
   "id": "e6a090b6-257a-47c6-9bec-234e87fa2403",
   "metadata": {},
   "source": [
    "So now we have 87,951 accident records to work with.\n",
    "\n",
    "# Columns that are not needed\n",
    "\n",
    "Remove certain columns that are mostly empty and would not contain data useful to the intended analysis.\n",
    "\n",
    "I propose removing Latitude, Longitude, Schedule, and Air_carrier as those columns are mostly empty and would not contribute to my analysis."
   ]
  },
  {
   "cell_type": "code",
   "execution_count": null,
   "id": "d7b1060e-1f75-4a33-93f5-3f3f58af2ab4",
   "metadata": {},
   "outputs": [],
   "source": [
    "df = df.drop(['Latitude', 'Longitude', 'Schedule', 'Air_carrier'], axis=1)\n",
    "\n",
    "df.info()"
   ]
  },
  {
   "cell_type": "markdown",
   "id": "50a18c6e-387e-4b07-929d-de43b60cdc2e",
   "metadata": {},
   "source": [
    "# Aircraft_Category\n",
    "\n",
    "The column for Aircraft_Category is also mostly empty, but that data could be useful. The business is after all seeking data related to types of aircraft and airplanes specifically, so removing the column entirely would not work well. Simply removing all rows that do not have a category entry would greatly reduce the number of total rows available for analysis, and most of those removed would likely be airplanes.\n",
    "\n",
    "I would like to explore the idea of filling in as many of the missing values as I can. This could be done to some extent by making use of the Make column."
   ]
  },
  {
   "cell_type": "code",
   "execution_count": null,
   "id": "a3348fb4-06c3-4ec6-9dcf-45d5d59b5783",
   "metadata": {},
   "outputs": [],
   "source": [
    "# Aircraft_Category values for Cessna in the Make column\n",
    "df[df['Make'] == 'Cessna']['Aircraft_Category'].unique()"
   ]
  },
  {
   "cell_type": "markdown",
   "id": "a2fe6994-1f76-4129-a0e9-edb2e4f04bdd",
   "metadata": {},
   "source": [
    "So here I see that Cessna categories are either empty or 'airplane'. Therefore, it's reasonable to fill in the empty category values for Cessnas as 'airplane'"
   ]
  },
  {
   "cell_type": "code",
   "execution_count": null,
   "id": "33a0b410-b370-415f-bbf4-be4a17120586",
   "metadata": {},
   "outputs": [],
   "source": [
    "# Show how many nan Aircraft_Category values there are for Cessna\n",
    "df[df['Make'] == 'Cessna']['Aircraft_Category'].isna().sum()"
   ]
  },
  {
   "cell_type": "code",
   "execution_count": null,
   "id": "451e99b4-e927-4624-94da-e776e6440489",
   "metadata": {},
   "outputs": [],
   "source": [
    "# Show how many 'Airplane' Aircraft_Category values there are for Cessna\n",
    "df[(df['Make'] == 'Cessna') & (df['Aircraft_Category'] == 'Airplane')]['Aircraft_Category'].count()"
   ]
  },
  {
   "cell_type": "markdown",
   "id": "b0a988c4-5ede-4ecd-91d3-d419f8a4f54f",
   "metadata": {},
   "source": [
    "So we can add another 18344 airplane entries to our data by filling in the missing value for Cessna in the Aircraft_Category column"
   ]
  },
  {
   "cell_type": "code",
   "execution_count": null,
   "id": "b802fe62-3c95-4d7d-805c-89b5fd8d20ed",
   "metadata": {},
   "outputs": [],
   "source": [
    "# Aircraft_Category values for Skiorsky in the Make column\n",
    "df[df['Make'] == 'Sikorsky']['Aircraft_Category'].unique()"
   ]
  },
  {
   "cell_type": "code",
   "execution_count": null,
   "id": "7b850061-2a1a-407c-9468-0537d58ec8e9",
   "metadata": {},
   "outputs": [],
   "source": [
    "# Sikorsky nan values there are for \n",
    "df[df['Make'] == 'Sikorsky']['Aircraft_Category'].isna().sum()"
   ]
  },
  {
   "cell_type": "markdown",
   "id": "18077d4a-b551-405a-9f09-eb15cbede05a",
   "metadata": {},
   "source": [
    "And here we would be able to add 128 additional helicopters for Sikorsky."
   ]
  },
  {
   "cell_type": "code",
   "execution_count": null,
   "id": "6413f02d-7ef4-4d65-81e2-40fd26d6c095",
   "metadata": {},
   "outputs": [],
   "source": [
    "# Fill in Aircraft_Category as 'Airplane' for Cessna\n",
    "df.loc[df['Make'] == 'Cessna', 'Aircraft_Category'] = 'Airplane'"
   ]
  },
  {
   "cell_type": "code",
   "execution_count": null,
   "id": "6cff2c47-1dd5-425e-926d-8f5f101dec8b",
   "metadata": {},
   "outputs": [],
   "source": [
    "# Show how many 'Airplane' Aircraft_Category values there are for Cessna now\n",
    "df[(df['Make'] == 'Cessna') & (df['Aircraft_Category'] == 'Airplane')]['Aircraft_Category'].count()"
   ]
  },
  {
   "cell_type": "markdown",
   "id": "f237428d-57d0-4b08-86dc-df6fdea95367",
   "metadata": {},
   "source": [
    "So now, instead of only 3500 Cessna airplanes, we have almost 22000 entries, greatly increasing the verified airplane subset.\n",
    "\n",
    "So here I will continue finding Makes that are airplanes only, and filling in the missing values."
   ]
  },
  {
   "cell_type": "code",
   "execution_count": null,
   "id": "aef0d0b0-fdec-4d59-bb42-d4a15b611c2f",
   "metadata": {},
   "outputs": [],
   "source": [
    "# list of the unique values in the Make column\n",
    "df['Make'].value_counts()"
   ]
  },
  {
   "cell_type": "markdown",
   "id": "4ca95057-b410-45a2-a186-d52d2463a89d",
   "metadata": {},
   "source": [
    "I realize here that I need to do some further cleaning of the Make column so Cessna and CESSNA (and other similar issues) are not separate values.\n",
    "\n",
    "# Clean up the Make column\n",
    "After going through the list of makes in a plain text document, I put together a list of make values to replace the alternative spellings, all caps, etc."
   ]
  },
  {
   "cell_type": "code",
   "execution_count": null,
   "id": "3c023043-3a49-4f22-a074-7be461664dbc",
   "metadata": {},
   "outputs": [],
   "source": [
    "#Fill Nan values in Make first\n",
    "df['Make'] = df['Make'].fillna('Unknown')\n",
    "\n",
    "# Clean the Make column for misspellings, all caps issues, etc\n",
    "make_column_name_replace = {'Ab Sportine Aviacija': 'Sportine Aviacija', 'AB SPORTINE AVIACIJA': 'Sportine Aviacija', 'SPORTINE AVIACIJA': 'Sportine Aviacija', 'Abrams/nuding': 'Abrams', 'ACRO': 'Acro Sport', 'Adams': 'Adams Balloon', 'ADAMS': 'Adams Balloon', 'ADAMS BALLOONS LLC': 'Adams Balloon', 'AERO COMMANDER': 'Aero Commander', 'AERO VODOCHODY': 'Aero Vodochody', 'AEROVODOCHODY': 'Aero Vodochody', 'Aero Vodochody Aero Works': 'Aero Vodochody', 'AEROFAB INC': 'Aerofab Inc.', 'AEROMOT': 'Aeromot', 'AERONCA': 'Aeronca', 'Aeronca Aircraft Corporation': 'Aeronca', 'AEROPRO CZ': 'Aeropro CZ', 'AEROS': 'Aeros', 'Aeros LTD': 'Aeros', 'AEROS LTD': 'Aeros', 'AEROSPATIALE': 'Aerospatiale', 'AEROSTAR': 'Aerostar', 'Aerostar International': 'Aerostar', 'AEROSTAR INTERNATIONAL': 'Aerostar', 'Aerostar International Inc': 'Aerostar', 'AEROSTAR INTERNATIONAL INC': 'Aerostar', 'Aerostar International Inc.': 'Aerostar', 'Aerostar International, Inc.': 'Aerostar', 'AEROTEK': 'Aerotek', 'Aerotek-pitts': 'Aerotek', 'AEROTEK INC': 'Aerotek', 'AGUSTA': 'Agusta', 'AGUSTA AEROSPACE CORP': 'Agusta', 'AGUSTA SPA': 'Agusta', 'Agusta Spa': 'Agusta', 'Agusta-bell': 'Agusta', 'Agusta/Westland': 'Agusta', 'AGUSTAWESTLAND': 'Agusta', 'AgustaWestland': 'Agusta', 'AgustadWestland': 'Agusta', 'AGUSTAWESTLAND PHILADELPHIA': 'Agusta', 'AGUSTAWESTLAND SPA': 'Agusta', 'AIR CREATION': 'Air Creation', 'Air Creations': 'Air Creation', 'AIR TRACTOR': 'Air Tractor', 'AIR TRACTOR INC': 'Air Tractor', 'Air Tractor Inc': 'Air Tractor', 'Air Tractor Inc.': 'Air Tractor', 'AIR TRACTOR INC.': 'Air Tractor', 'Air Tractor, Inc.': 'Air Tractor', 'Air Borne Windsports Pty. Ltd.': 'Airborne', 'AIRBORNE (AUSTRALIA)': 'Airborne', 'AIRBORNE AUSTRALIA': 'Airborne', 'AIRBORNE EXTREME LLC': 'Airborne', 'AirBorne WindSport': 'Airborne', 'Airborne Windsports': 'Airborne', 'AIRBORNE WINDSPORTS': 'Airborne', 'Airborne Windsports Ltd': 'Airborne', 'AIRBORNE WINDSPORTS PTY LTD': 'Airborne', 'Airborne Windsports PTY LTD': 'Airborne', 'AIRBORNE': 'Airborne', 'AIRBUS': 'Airbus', 'AIRBUS HELICOPTERS': 'Airbus Helicopters', 'AIRBUS HELICOPTER': 'Airbus Helicopters', 'Airbus Helicopters (Eurocopte': 'Airbus Helicopters', 'Airbus Helicopters Deutschland': 'Airbus Helicopters', 'AIRBUS HELICOPTERS INC': 'Airbus Helicopters', 'Airbus Industrie': 'Airbus', 'AIRBUS INDUSTRIE': 'Airbus', 'AIRCRAFT MFG & DEVELOPMENT CO': 'Aircraft Mfg & Dev. Co.', 'Aircraft Mfg & Dev. Co. (amd)': 'Aircraft Mfg & Dev. Co.', 'Aircraft Mfg & Dev. Co. (AMD)':'Aircraft Mfg & Dev. Co.', 'Aircraft Mfg & Development Co.': 'Aircraft Mfg & Dev. Co.', 'AIRCRAFT MFG & DVLPMT CO': 'Aircraft Mfg & Dev. Co.', 'ALON': 'Alon', 'AMERICAN': 'American Aviation', 'American': 'American Aviation', 'AMERICAN AVIATION': 'American Aviation', 'American Aviation Corp. (aac)': 'American Aviation', 'AMERICAN CHAMPION': 'American Champion', 'American Champion (acac)': 'American Champion', 'American Champion (ACAC)': 'American Champion', 'American Champion Aircraft': 'American Champion', 'AMERICAN CHAMPION AIRCRAFT': 'American Champion', 'American Champion Aircraft Cor': 'American Champion', 'AMERICAN EUROCOPTER CORP': 'American Eurocopter', 'AMERICAN GENERAL ACFT CORP': 'American General Aircraft', 'American Legand Aircraft': 'American Legend', 'AMERICAN LEGEND': 'American Legend', 'AMERICAN LEGEND AIRCRAFT CO': 'American Legend', 'American Legend Aircraft Co.': 'American Legend', 'Anderson': 'Anderson Aircraft Corp.', 'Atr': 'ATR', 'AVIAT': 'Aviat', 'AVIAT AIRCRAFT': 'Aviat', 'Aviat Aircraft Inc': 'Aviat', 'AVIAT AIRCRAFT INC': 'Aviat', 'Aviat Aircraft Inc.': 'Aviat', 'Aviat Aircraft, Inc.': 'Aviat', 'Aviat Inc': 'Aviat', 'AVIAT INC': 'Aviat', 'Avid': 'Avid Aircraft', 'AVID': 'Avid Aircraft', 'AYERS': 'Ayres', 'Ayers': 'Ayres', 'AYRES': 'Ayres', 'AYRES CORP': 'Ayres', 'Ayres Corporation': 'Ayres', 'AYRES CORPORATION': 'Ayres', 'Bede': 'Bede Aircraft', 'BEDE': 'Bede Aircraft', 'BEECH': 'Beech', 'BEECH AIRCRAFT': 'Beech', 'BEECH AIRCRAFT CO.': 'Beech', 'Beech Aircraft Corp': 'Beech', 'Beech Aircraft Corporation': 'Beech', 'BEECH AIRCRAFT CORPORATION': 'Beech', 'Beechcraft': 'Beech', 'BEECHCRAFT': 'Beech', 'Beechcraft Corporation': 'Beech', 'BOEING': 'Boeing', 'Boeing - Canada (de Havilland)': 'Boeing', 'Boeing (Stearman)': 'Boeing', 'BOEING 777-306ER': 'Boeing', 'Boeing Commercial Airplane Gro': 'Boeing', 'BOEING COMPANY': 'Boeing', 'Boeing Company': 'Boeing', 'BOEING OF CANADA/DEHAV DIV': 'Boeing', 'Boeing Stearman': 'Boeing', 'BOEING-STEARMAN': 'Boeing', 'Boeing-brown': 'Boeing', 'BOMBARDIER': 'Bombardier', 'Bombardier Aerospace, Inc.': 'Bombardier', 'Bombardier Canadair': 'Bombardier', 'BOMBARDIER INC': 'Bombardier', 'BOMBARDIER LEARJET CORP.': 'Bombardier', 'Bombardier, Inc.': 'Bombardier', 'BRITISH AEROSPACE': 'British Aerospace', 'British Aerospace Civil Aircr': 'British Aerospace', 'BRITTEN NORMAN': 'Britten Norman', 'Britten-norman': 'Britten Norman', 'BRITTEN-NORMAN': 'Britten Norman', 'CANADAIR': 'Canadair', 'CANADAIR LTD': 'Canadair', 'CASA': 'Casa', 'Cassult Racer': 'Cassuit', 'CASSUTT': 'Cassuit', 'Cesna': 'Cessna', 'CESSNA': 'Cessna', 'CESSNA AIRCRAFT': 'Cessna', 'CESSNA Aircraft': 'Cessna', 'CESSNA AIRCRAFT CO': 'Cessna', 'Cessna Aircraft Co.': 'Cessna', 'CESSNA AIRCRAFT COMPANY': 'Cessna', 'Cessna Aircraft Company': 'Cessna', 'Cessna Ector': 'Cessna', 'CESSNA ECTOR': 'Cessna', 'Cessna Reems': 'Cessna', 'CESSNA REIMS': 'Cessna', 'Cessna Robertson': 'Cessna', 'Cessna Skyhawk II': 'Cessna', 'Cessna Soloy': 'Cessna', 'Cessna Wren': 'Cessna', 'CESSNA/AIR REPAIR INC': 'Cessna', 'CESSNA/WEAVER': 'Cessna', 'CHALLENGER': 'Challenger', 'Challenger Ii': 'Challenger', 'CHAMBERLAIN GERALD': 'Chamberlain', 'CHAMBERLIN VICTOR WAYNE': 'Chamberlain', 'CHAMPION': 'Champion', 'CHANCE VOUGHT': 'Chance Vought', 'CHRISTEN INDUSTRIES INC': 'Christen Industries', 'Christen Industries, Inc.': 'Christen Industries', 'CIRRUS': 'Cirrus', 'Cirrus Design': 'Cirrus', 'CIRRUS DESIGN': 'Cirrus', 'Cirrus Design Corp': 'Cirrus', 'CIRRUS DESIGN CORP': 'Cirrus', 'Cirrus Design Corp.': 'Cirrus', 'CIRRUS DESIGN CORP.': 'Cirrus', 'Cirrus Design Corporation': 'Cirrus', 'CIRRUS DESIGN CORPORATION': 'Cirrus', 'CLASSIC AIRCRAFT CORP': 'Classic Aircraft Corp', 'Classic Aircraft Corp.': 'Classic Aircraft Corp', 'COLUMBIA': 'Columbia', 'Columbia Aircraft': 'Columbia', 'Columbia Aircraft Mfg': 'Columbia', 'COLUMBIA AIRCRAFT MFG': 'Columbia', 'Columbia Aircraft Mfg.': 'Columbia', 'COMMANDER': 'Commander', 'Commander Aircraft': 'Commander', 'COMMANDER AIRCRAFT CO': 'Commander', 'Commander Aircraft Company': 'Commander', 'CONSOLIDATED AERONAUTICS': 'Consolidated Aero', 'Consolidated Aeronautics Inc.': 'Consolidated Aero', 'CONSOLIDATED AERONAUTICS INC.': 'Consolidated Aero', 'Consolidated Aeronautics, Inc': 'Consolidated Aero', 'Consolidated Aeronautics, Inc.': 'Consolidated Aero', 'CONSOLIDATED VULTEE': 'Consolidated Aero', 'Consolidated-vultee': 'Consolidated Aero', 'CONVAIR': 'Convair', 'Convair Div. Of Gen. Dynamics': 'Convair', 'COSTRUZIONI AERONAUTICHE TECNA': 'Costruzioni', 'Costruzioni Aeronautiche': 'Costruzioni', 'Costruzioni AeronauticheTecnam': 'Costruzioni', 'CUB CRAFTER': 'Cub Crafters', 'CUB CRAFTERS': 'Cub Crafters', 'CUB CRAFTERS INC': 'Cub Crafters', 'Cub Crafters Inc': 'Cub Crafters', 'Cub Crafters Inc.': 'Cub Crafters', 'Cub Crafters, Inc.': 'Cub Crafters', 'Cubcrafter': 'Cub Crafters', 'Cubcrafters': 'Cub Crafters', 'CUBCRAFTERS': 'Cub Crafters', 'CubCrafters': 'Cub Crafters', 'CUBCRAFTERS INC': 'Cub Crafters', 'CubCrafters Inc': 'Cub Crafters', 'Cubcrafters, Inc': 'Cub Crafters', 'CubCrafters, Inc': 'Cub Crafters', 'CULVER': 'Culver', 'CULVER GLENN': 'Culver', 'Culver-revolution': 'Culver', 'Culver, Aurther L.': 'Culver', 'CURTIS JOHN P': 'Curtiss Wright', 'Curtis-travel Air': 'Curtiss Wright', 'Curtis-wright': 'Curtiss Wright', 'CURTISS': 'Curtiss Wright', 'CURTISS WRIGHT': 'Curtiss Wright', 'Curtiss-wright': 'Curtiss Wright', 'Curtiss-Wright': 'Curtiss Wright', 'CZECH': 'Czech Aircraft Works', 'CZECH AIRCRAFT WORKS': 'Czech Aircraft Works', 'CZECH AIRCRAFT WORKS SPOL SRO': 'Czech Aircraft Works', 'Czech Aircraft Works SPOL SRO': 'Czech Aircraft Works', 'Czech Aircraft Works Spol Sro': 'Czech Aircraft Works', 'Czech Sport Aircraft': 'Czech Sport', 'CZECH SPORT AIRCRAFT A S': 'Czech Sport', 'Czech Sport Aircraft a.s.': 'Czech Sport', 'Czech Sport Aircraft AS': 'Czech Sport', 'CZECH SPORT AIRCRAFT AS': 'Czech Sport', 'CZECH SPORTPLANES SRO': 'Czech Sport', 'DASSAULT': 'Dassault', 'Dassault Aviation': 'Dassault', 'DASSAULT AVIATION': 'Dassault', 'Dassault Falcon': 'Dassault', 'Dassault-breguet': 'Dassault', 'DASSAULT-BREGUET': 'Dassault', 'Dassault-Breguet': 'Dassault', 'Dassault/sud': 'Dassault', 'DASSAULT/SUD': 'Dassault', 'DE HAVILLAND': 'de Havilland', 'De Havilland': 'de Havilland', 'Dehavilland': 'de Havilland', 'DEHAVILLAND': 'de Havilland', 'DeHavilland': 'de Havilland', 'DEHAVILLAND CANADA': 'de Havilland', 'DIAMOND': 'Diamond', 'Diamond Aicraft Industries Inc': 'Diamond', 'Diamond Aircraft': 'Diamond', 'DIAMOND AIRCRAFT': 'Diamond', 'DIAMOND AIRCRAFT IND GMBH': 'Diamond', 'Diamond Aircraft Industries': 'Diamond', 'DIAMOND AIRCRAFT INDUSTRIES': 'Diamond', 'DIAMOND AIRCRAFT INDUSTRIES IN': 'Diamond', 'Diamond Aircraft Industry Inc': 'Diamond', 'DORNIER': 'Dornier', 'DORNIER GMBH': 'Dornier', 'DOUGLAS': 'Douglas', 'DOWNER': 'Downer', 'Downer Aircraft Industries': 'Downer', 'EAGLE': 'Eagle', 'Eagle (ultralight)': 'Eagle', 'EAGLE AIRCRAFT CO': 'Eagle', 'Eagle Aircraft Co.': 'Eagle', 'ECLIPSE AVIATION': 'Eclipse Aviation', 'ECLIPSE AVIATION CORP': 'Eclipse Aviation', 'Eclipse Aviation Corporation': 'Eclipse Aviation', 'EDGE': 'Edge', 'EIPPER': 'Eipper', 'Eipper Formance': 'Eipper', 'EIPPER FORMANCE INC': 'Eipper', 'Eipper Mx Ii Quicksilver': 'Eipper', 'Eipper Quicksilver': 'Eipper', 'Eipper Quicksiver E': 'Eipper', 'Eipper-formance': 'Eipper', 'EMBRAER': 'Embraer', 'Embraer Aircraft': 'Embraer', 'EMBRAER EXECUTIVE AIRCRAFT INC': 'Embraer', 'EMBRAER S A': 'Embraer', 'EMBRAER-EMPRESA BRASILEIRA DE': 'Embraer', 'ENGINEERING & RESEARCH': 'Engineering & Research', 'Engineering and Research': 'Engineering & Research', 'ENSTROM': 'Enstrom', 'ENSTROM HELICOPTER CORP': 'Enstrom', 'ERCOUPE': 'Ercoupe', 'Ercoupe (eng & Research Corp.)': 'Ercoupe', 'EUROCOPTER': 'Eurocopter', 'Eurocopter Deutsch': 'Eurocopter', 'Eurocopter Deutschland': 'Eurocopter', 'Eurocopter Deutschland Gmbh': 'Eurocopter', 'EUROCOPTER DEUTSCHLAND GMBH': 'Eurocopter', 'Eurocopter France': 'Eurocopter', 'EUROCOPTER FRANCE': 'Eurocopter', 'EUROPA': 'Europa', 'Europa Aviation Inc': 'Europa', 'EVEKTOR AEROTECHNIK': 'Evektor Aerotechnik', 'Evektor Aerotechnik': 'Evektor Aerotechnik', 'Evektor Aerotechnik AS': 'Evektor Aerotechnik', 'Evektor-aerotechnik': 'Evektor Aerotechnik', 'Evektor-aerotechnik A.s.': 'Evektor Aerotechnik', 'Evektor-aerotechnik As': 'Evektor Aerotechnik', 'EVEKTOR-AEROTECHNIK AS': 'Evektor Aerotechnik', 'Evektor-Aerotechnik AS': 'Evektor Aerotechnik', 'EXTRA': 'Extra', 'Extra Flugzeugbau': 'Extra', 'EXTRA FLUGZEUGBAU': 'Extra', 'Extra Flugzeugbau Gmbh': 'Extra', 'EXTRA FLUGZEUGBAU GMBH': 'Extra', 'EXTRA Flugzeugproduktions-GMBH': 'Extra', 'Extra Flugzeugproduktions-und': 'Extra', 'EXTRA FLUGZEUGPRODUKTIONS-UND': 'Extra', 'Extra Flugzeugrau Gmbh': 'Extra', 'FAIRCHILD': 'Fairchild', 'Fairchild Industries': 'Fairchild', 'Fairchild Swearingen': 'Fairchild', 'Fairchild/swearingen': 'Fairchild', 'FAIRCHILD(HOWARD)': 'Fairchild', 'Fairchild Heli-porter': 'Fairchild', 'FAIRCHILD HELI-PORTER': 'Fairchild', 'Fairchild-heliporter': 'Fairchild', 'FAIRCHILD HILLER': 'Fairchild Hiller', 'FANTASY AIR': 'Fantasy Air', 'FANTASY AIR SRO': 'Fantasy Air', 'Fantasy Sky Promotions': 'Fantasy Air', 'FIELDS': 'Fields', 'FISHER': 'Fisher', 'Fischer': 'Fisher', 'Fisher Aero': 'Fisher', 'Fisher Flying Products': 'Fisher', 'FISHER FLYING PRODUCTS': 'Fisher', 'FISHER HAROLD R': 'Fisher', 'FISHER MICHAEL E': 'Fisher', 'FISHER MICHAEL H': 'Fisher', 'FLEET': 'Fleet', 'FLIGHT DESIGN': 'Flight Design', 'FLIGHT DESIGN GENERAL AVN GMBH': 'Flight Design', 'Flight Design Gmbh': 'Flight Design', 'FLIGHT DESIGN GMBH': 'Flight Design', 'Flight Design GMBH': 'Flight Design', 'Flight Star': 'Flightstar', 'FLIGHTSTAR': 'Flightstar', 'FLIGHTstar': 'Flightstar', 'FLIGHTSTAR INC': 'Flightstar', 'FLIGHTSTAR SPORTPLANES': 'Flightstar', 'Flightstar Sportplanes': 'Flightstar', 'FOKKER': 'Fokker', 'FOUND ACFT CANADA INC': 'Found Aircraft Canada', 'Found Acft': 'Found Aircraft Canada', 'Found Aircraft Canada Inc': 'Found Aircraft Canada', 'GARLICK': 'Garlick', 'Garlick Helicipters Inc.': 'Garlick', 'GARLICK HELICOPTERS INC': 'Garlick', 'Garlick Helicopters Inc.': 'Garlick', 'Gates Lear Jet': 'Gates Learjet', 'GATES LEAR JET': 'Gates Learjet', 'GATES LEAR JET CORP.': 'Gates Learjet', 'GATES LEARJET': 'Gates Learjet', 'GATES LEARJET CORP': 'Gates Learjet', 'GATES LEARJET CORP.': 'Gates Learjet', 'Gates Learjet Corporation':'Gates Learjet', 'GENERAL ATOMICS': 'General Atomics', 'GLASAIR': 'Glasair', 'Glasair Aviation LLC': 'Glasair', 'GLASAIR AVIATION USA LLC': 'Glasair', 'Glasair Iii': 'Glasair', 'Glassair': 'Glasair', 'Glassair Iii': 'Glasair', 'GLOBE': 'Globe', 'Globe Swift': 'Globe', 'GREAT LAKES': 'Great Lakes', 'Great Lakes Adams': 'Great Lakes', 'Great Lakes Aircraft Company': 'Great Lakes', 'GRUMMAN': 'Grumman', 'Grumman Acft Eng': 'Grumman', 'GRUMMAN ACFT ENG COR': 'Grumman', 'GRUMMAN ACFT ENG COR-SCHWEIZER': 'Grumman', 'GRUMMAN AIRCRAFT': 'Grumman', 'GRUMMAN AIRCRAFT COR-SCHWEIZER': 'Grumman', 'GRUMMAN AIRCRAFT ENG CORP': 'Grumman', 'Grumman American': 'Grumman', 'GRUMMAN AMERICAN': 'Grumman', 'Grumman American Aviation': 'Grumman', 'GRUMMAN AMERICAN AVIATION CORP': 'Grumman', 'GRUMMAN AMERICAN AVN. CORP': 'Grumman', 'Grumman American Avn. Corp.': 'Grumman', 'GRUMMAN AMERICAN AVN. CORP.': 'Grumman', 'GRUMMAN American Corporation': 'Grumman', 'Grumman Schweizer': 'Grumman', 'GRUMMAN SCHWEIZER': 'Grumman', 'Grumman-schweizer': 'Grumman', 'Grumman-Schweizer': 'Grumman', 'GULFSTREAM': 'Gulfstream', 'Gulfstream Aerospace': 'Gulfstream', 'GULFSTREAM AEROSPACE': 'Gulfstream', 'Gulfstream Aerospace Corp': 'Gulfstream', 'Gulfstream Aerospace Corp.': 'Gulfstream', 'Gulfstream Aerospace LP': 'Gulfstream', 'GULFSTREAM AM CORP COMM DIV': 'Gulfstream', 'Gulfstream American': 'Gulfstream', 'Gulfstream American Corp': 'Gulfstream', 'GULFSTREAM AMERICAN CORP': 'Gulfstream', 'Gulfstream American Corp.': 'Gulfstream', 'GULFSTREAM AMERICAN CORP.': 'Gulfstream', 'GULFSTREAM SCHWEIZER A/C CORP': 'Gulfstream', 'Gulfstream-schweizer': 'Gulfstream', 'GULFSTREAM-SCHWEIZER': 'Gulfstream', 'HALL': 'Hall', 'Hall Christen Eagle': 'Hall', 'HALL DON H': 'Hall', 'HALL JEFFREY': 'Hall', 'HALL STEVEN C': 'Hall', 'HALL TERRENCE / HALL CATHIE': 'Hall', 'HALL THOMAS K': 'Hall', 'Hall-cavalier': 'Hall', 'HALL, WENDALL W': 'Hall', 'Hamilton Stoddard': 'Hamilton', 'HAWKER': 'Beech', 'HAWKER AIRCRAFT LTD': 'Beech', 'Hawker Aircraft Ltd': 'Beech', 'Hawker Aircraft Ltd.': 'Beech', 'Hawker Beech': 'Beech', 'HAWKER BEECH': 'Beech', 'Hawker Beechcraft': 'Beech', 'HAWKER BEECHCRAFT': 'Beech', 'HAWKER BEECHCRAFT CORP': 'Beech', 'Hawker Beechcraft Corp.': 'Beech', 'Hawker Beechcraft Corporation': 'Beech', 'HAWKER BEECHCRAFT CORPORATION': 'Beech', 'Hawker Siddeley': 'Hawker', 'HAWKER SIDDELEY': 'Hawker', 'Hawker Siddely': 'Hawker', 'Hawker-beechcraft': 'Beech', 'Hawker-Beechcraft': 'Beech', 'Hawker-Beechcraft Corporation': 'Beech', 'Helie': 'Helio', 'HELIO': 'Helio', 'Helio Aircraft Ltd': 'Helio', 'HILLER': 'Hiller', 'Hiller-osborn': 'Hiller', 'HILLER-ROGERSON HELICOPTER': 'Hiller', 'Hiller-soloy': 'Hiller', 'HILLER-TRI-PLEX IND.INC.': 'Hiller', 'HONDA AIRCRAFT': 'Honda Aircraft', 'HONDA AIRCRAFT CO LLC': 'Honda Aircraft', 'Honda Jet': 'Honda Aircraft', 'HOWARD AIRCRAFT': 'Howard Aircraft', 'Howard Aircraft Corp.': 'Howard Aircraft', 'HUGHES': 'Hughes', 'HUGHES HELICOPTERS INC': 'Hughes', 'HUGHES/HELICOPTER ASSOCS INC': 'Hughes', 'HUNTER': 'Hunter', 'HUNTER GEORGE': 'Hunter', 'ICON': 'Icon', 'ICON AIRCRAFT INC': 'Icon', 'INTERPLANE': 'Interplane', 'Interplane Llc': 'Interplane', 'INTERPLANE S R O': 'Interplane', 'Interplane Sro': 'Interplane', 'INTERSTATE': 'Interstate', 'ISRAEL AEROSPACE INDUSTRIESLTD': 'Israel Aircraft Industries', 'ISRAEL AIRCRAFT INDUSTRIES': 'Israel Aircraft Industries', 'JABIRU': 'Jabiru Aircraft', 'JABIRU AIRCRAFT PTY LTD': 'Jabiru Aircraft', 'JABIRU USA SPORT AIRCRAFT': 'Jabiru Aircraft', 'JABIRU USA SPORT AIRCRAFT LLC': 'Jabiru Aircraft', 'JABIRU USA SPORT AIRCRAFT, LLC': 'Jabiru Aircraft', 'JACKSON': 'Jackson', 'JACKSON DENNIS': 'Jackson', 'JACKSON FRED M': 'Jackson', 'JACKSON JEREMIAH D': 'Jackson', 'JONES': 'Jones', 'JONES KENT C': 'Jones', 'JONES PETER M': 'Jones', 'JONES RALPH D': 'Jones', 'JONES RODNEY V': 'Jones', 'JONES RONALD C': 'Jones', 'JUST': 'Just', 'JUST AIRCRAFT': 'Just', 'Just Aircraft Llc': 'Just', 'JUST AIRCRAFT LLC': 'Just', 'Just Aircraft LLC': 'Just', 'KAMAN': 'Kaman', 'KAMAN AEROSPACE CORP': 'Kaman', 'KITFOX': 'Kitfox', 'Kitfox IV': 'Kitfox', 'Kitfox Ten, Inc': 'Kitfox', 'KOLB': 'Kolb', 'KOLB AIRCRAFT CO': 'Kolb', 'KOLB AIRCRAFT INC': 'Kolb', 'Kolb Company': 'Kolb', 'Kolb Twin Star': 'Kolb', 'LAKE': 'Lake', 'Lake John K': 'Lake', 'LANCAIR': 'Lancair', 'Lancair Company': 'Lancair', 'LANCAIR COMPANY': 'Lancair', 'Lanceair': 'Lancair', 'LARSEN': 'Larsen', 'Larsen Charles Bennett': 'Larsen', 'Larson': 'Larsen', 'LARSON': 'Larsen', 'LARSON KEN W': 'Larsen', 'LARSON ROGER H': 'Larsen', 'Larson Smith Miniplane': 'Larsen', 'Larson, C.h.': 'Larsen', 'LEARJET': 'Learjet', 'LEARJET INC': 'Learjet', 'Learjet Inc': 'Learjet', 'LET': 'Let', 'LIBERTY AEROSPACE INCORPORATED': 'Liberty', 'LIBERTY AEROSPACE': 'Liberty', 'Liberty Aerospace': 'Liberty', 'Liberty Aerospace Inc.': 'Liberty', 'Liberty Aerospace Incorporate': 'Liberty', 'Liberty Aerospace, Inc.': 'Liberty', 'LINDSTRAND': 'Lindstrand', 'Lindstrand Balloons': 'Lindstrand', 'LINDSTRAND BALLOONS': 'Lindstrand', 'LINDSTRAND BALLOONS USA': 'Lindstrand', 'LINSTRAND': 'Lindstrand', 'LOCKHEED': 'Lockheed', 'Lockheed-martin': 'Lockheed', 'LOCKWOOD': 'Lockwood', 'LOCKWOOD AIRCRAFT CORP': 'Lockwood', 'LONG': 'Long', 'Long E-z-e': 'Long', 'Long Pitts': 'Long', 'Long-ez': 'Long', 'Longjev': 'Long', 'LUSCOMBE': 'Luscombe', 'Luscombe Silvaire Aircraft Co.': 'Luscombe', 'MARTIN CHARLES A': 'Martin', 'Martin Company': 'Martin', 'MARTIN CURTIS': 'Martin', 'MARTIN EDWARD H': 'Martin', 'Martin-pitts': 'Martin', 'Martin/harris': 'Martin', 'MAULE': 'Maule', 'Maule Air Inc.': 'Maule', 'MAULE AIRCRAFT CORP': 'Maule', 'MAXAIR': 'Maxair', 'Maxair Aircraft Corp.': 'Maxair', 'MAXAIR DRIFTER': 'Maxair', 'MCCLISH': 'McClish', 'Mcclish': 'McClish', 'Mcdonald': 'Mcdonnell Douglas', 'Mcdonald Douglas': 'Mcdonnell Douglas', 'MCDONNELL DOUGLAS': 'Mcdonnell Douglas', 'MCDONNELL DOUGLAS AIRCRAFT CO': 'Mcdonnell Douglas', 'MCDONNELL DOUGLAS CORPORATION': 'Mcdonnell Douglas', 'Mcdonnell-douglas': 'Mcdonnell Douglas', 'MCDONNELL DOUGLAS HELI CO': 'Mcdonnell Douglas Helicopter', 'MCDONNELL DOUGLAS HELICOPTER': 'Mcdonnell Douglas Helicopter', 'McDonnell Douglas Helicopter C': 'Mcdonnell Douglas Helicopter', 'Mcdonnell Douglas Helicopters': 'Mcdonnell Douglas Helicopter', 'McDonnell Douglas Helicopters': 'Mcdonnell Douglas Helicopter', 'MD HELICOPTER': 'Md Helicopter', 'MD Helicopter Inc': 'Md Helicopter', 'MD Helicopters Inc': 'Md Helicopter', 'MD HELICOPTER INC': 'Md Helicopter', 'Md Helicopter Inc.': 'Md Helicopter', 'Md Helicopters': 'Md Helicopter', 'MD HELICOPTERS': 'Md Helicopter', 'MD HELICOPTERS INC': 'Md Helicopter', 'Md Helicopters Inc.': 'Md Helicopter', 'Md Helicopters, Inc.': 'Md Helicopter', 'MD HELICOPTERS, INC.': 'Md Helicopter', 'Messerschmitt-boelkow-blohm': 'Messerschmitt', 'MESSERSCHMITT-BOELKOW-BLOHM': 'Messerschmitt', 'Messerschmitt-bolkow-blohm': 'Messerschmitt', 'MESSERSCHMITT-BOLKOW-BLOHM': 'Messerschmitt', 'MEYER': 'Meyer', 'MEYERS': 'Meyers', 'Meyers Aircraft Co.': 'Meyers', 'MEYERS INDUSTRIES INC': 'Meyers', 'MILLER': 'Miller', 'Miller Air Sports': 'Miller', 'Mitchell Aircraft Corp': 'Mitchell', 'MITSUBISHI': 'Mitsubishi', 'MONOCOUPE': 'Monocoupe', 'Monocoupe Aircraft': 'Monocoupe', 'MOONEY': 'Mooney', 'Mooney Aircraft': 'Mooney', 'Mooney Aircraft Corp': 'Mooney', 'MOONEY AIRCRAFT CORP.': 'Mooney', 'Mooney Aircraft Corporation': 'Mooney', 'MOONEY AIRPLANE CO INC': 'Mooney', 'MOONEY AIRPLANE COMPANY, INC.': 'Mooney', 'MOONEY INTERNATIONAL CORP': 'Mooney', 'MOORE': 'Moore', 'MORAVAN': 'Moravan', 'MORRISEY': 'Morrisey', 'MORRISON': 'Morrison', 'Murphy Aircraft': 'Murphy', 'Murphy Aircraft Mfg, Ltd.': 'Murphy', 'Murphy-charles': 'Murphy', 'Murphey': 'Murphy', 'MYERS': 'Myers', 'NANCHANG': 'Nanchang', 'Nanchang China': 'Nanchang', 'NANCHANG CHINA': 'Nanchang', 'NAVAL AIRCRAFT FACTORY': 'Naval Aircraft Factory', 'Navy': 'Naval Aircraft Factory', 'NAVION': 'Navion', 'NELSON': 'Nelson', 'Nelson/nelson': 'Nelson', 'New Glasair': 'Glasair', 'NEW KOLB AIRCRAFT CO': 'Kolb', 'NEW KOLB AIRCRAFT CO LLC': 'Kolb', 'New Piper': 'Piper', 'NEW PIPER': 'Piper', 'NEW PIPER AIRCRAFT INC': 'Piper', 'New Piper Aircraft, Inc.': 'Piper', 'NEW STANDARD': 'New Standard', 'NORD': 'Nord', 'Nord (sncan)': 'Nord', 'Nord Aviation': 'Nord', 'NORTH AMERICAN': 'North American', 'North American Aviation Div.': 'North American', 'North American Rockwell': 'North American', 'North American Rockwell Corp.': 'North American', 'NORTH AMERICAN-MEDORE': 'North American', 'North American/aero Classics': 'North American', 'North American-aero Classics': 'North American', 'North American-barene': 'North American', 'North American-kenney': 'North American', 'North American-maslon': 'North American', 'NORTH AMERICAN/AERO CLASSICS': 'North American', 'NORTH AMERICAN/SCHWAMM': 'North American', 'NORTH AMERICAN/VICTORIA MNT LT': 'North American', 'NORTH WING': 'North Wing', 'NORTH WING DESIGN': 'North Wing', 'NORTH WING UUM INC': 'North Wing', 'North Wing UUM INC': 'North Wing', 'NORTH WING UUM INC.': 'North Wing', 'NORTHROP': 'Northrop', 'NORTHWING': 'Northwing', 'Northwing Design': 'Northwing', 'NORTHWING DESIGN': 'Northwing', 'PACIFIC AEROSPACE CORP LTD': 'Pacific Aerospace', 'PIAGGIO': 'Piaggio', 'Piaggio Aero Industries S.p.a.': 'Piaggio', 'PIAGGIO AERO INDUSTRIES SPA': 'Piaggio', 'Piaggio Industrie': 'Piaggio', 'PIETENPOL': 'Pietenpol', 'Pietenpol-grega': 'Pietenpol', 'PILATUS': 'Pilatus', 'Pilatus Aircraft': 'Pilatus', 'PILATUS AIRCRAFT LTD': 'Pilatus', 'Pilatus Britten-norman': 'Pilatus', 'PILATUS BRITTEN-NORMAN': 'Pilatus', 'PIPER': 'Piper', 'PIPER / LAUDEMAN': 'Piper', 'Piper Aerostar': 'Piper', 'Piper Aircraft': 'Piper', 'PIPER AIRCRAFT': 'Piper', 'PIPER AIRCRAFT CORPORATION': 'Piper', 'Piper Aircraft Corporation': 'Piper', 'PIPER AIRCRAFT INC': 'Piper', 'PIPER AIRCRAFT, INC.': 'Piper', 'Piper Aircraft, Inc.': 'Piper', 'Piper Cub Crafters': 'Piper', 'Piper Pawnee': 'Piper', 'Piper-aerostar': 'Piper', 'PIPER-HARRIS': 'Piper', 'Piper/cub Crafters': 'Piper', 'PIPER/CUB CRAFTERS': 'Piper', 'Piper/Cub Crafters': 'Piper', 'Piper/stevens': 'Piper', 'PIPER/WALLY\\'S FLYERS INC': 'Piper', 'PIPISTREL': 'Pipistrel', 'PIPISTREL D O O': 'Pipistrel', 'PIPISTREL DOO AJDOVSCINA': 'Pipistrel', 'PIPISTREL ITALIA S R L': 'Pipistrel', 'Pipistrel Italia SRL': 'Pipistrel', 'PITCAIRN': 'Pitcairn', 'PITTS': 'Pitts', 'PITTS AEROBATICS': 'Pitts', 'Pitts Special': 'Pitts', 'PITTS SPECIAL': 'Pitts', 'Pitts Spl.': 'Pitts', 'PROGRESSIVE AERODYNE INC': 'Progressive Aerodyne', 'Progressive Aerodyne Inc.': 'Progressive Aerodyne', 'PZL BIELSKO': 'PZL', 'PZL MIELEC': 'PZL', 'PZL OKECIE': 'PZL', 'Pzl Okecie': 'PZL', 'Pzl Swidnik': 'PZL', 'PZL SWIDNIK': 'PZL', 'PZL Warszawa-Okecie': 'PZL', 'Pzl Warzawa-cnpsl': 'PZL', 'Pzl Warzawa-okecie': 'PZL', 'Pzl-bielsko': 'PZL', 'PZL-BIELSKO': 'PZL', 'Pzl-mielec': 'PZL', 'Pzl-okecie': 'PZL', 'Pzl-swidnik': 'PZL', 'PZL-Swidnik': 'PZL', 'PZL-SWIDNIK': 'PZL', 'QUAD CITY': 'Quad City', 'Quad City Aircraft': 'Quad City', 'Quad City Aircraft Corp': 'Quad City', 'Quad City Ultralight': 'Quad City', 'QUAD CITY ULTRALIGHT ACFT CORP': 'Quad City', 'Quad City Ultralight Aircraft': 'Quad City', 'QUAD CITY ULTRALIGHT CORP': 'Quad City', 'Quad City Ultralight, Llc': 'Quad City', 'QUAD CITY ULTRALIGHTS': 'Quad City', 'Quadcity': 'Quad City', 'QUEST': 'Quest', 'QUEST Aircraft Company': 'Quest', 'QUEST AIRCRAFT COMPANY LLC': 'Quest', 'QUESTAIR INC': 'Questair', 'Questair, Inc.': 'Questair', 'Questaire': 'Questair', 'QUICKIE': 'Quickie', 'Quickie Aircraft': 'Quickie', 'Quickie-myers': 'Quickie', 'Quick Silver': 'Quicksilver', 'QUICKSILVER': 'Quicksilver', 'Quicksilver Aircraft': 'Quicksilver', 'QUICKSILVER AIRCRAFT': 'Quicksilver', 'QUICKSILVER AIRCRAFT CO': 'Quicksilver', 'Quicksilver Aircraft Northeast': 'Quicksilver', 'QUICKSILVER EIPPER ACFT INC': 'Quicksilver', 'QUICKSILVER ENTERPRISES INC': 'Quicksilver', 'Quicksilver II': 'Quicksilver', 'Quicksilver Manufacturing': 'Quicksilver', 'QUICKSILVER MANUFACTURING INC': 'Quicksilver', 'QUICKSILVER MFG': 'Quicksilver', 'Quiksilver': 'Quicksilver', 'RANS': 'Rans', 'RANS AIRCRAFT': 'Rans', 'Rans Company': 'Rans', 'RANS DESIGNS INC': 'Rans', 'Rans Employee Flying Club': 'Rans', 'RANS EMPLOYEE FLYING CLUB': 'Rans', 'RANS INC': 'Rans', 'Rans Inc.': 'Rans', 'RANS S-12': 'Rans', 'Rans S-12 Airaile': 'Rans', 'Rans, Inc.': 'Rans', 'Rans/hine': 'Rans', 'Raven Industries': 'Raven', 'RAVEN INDUSTRIES INC': 'Raven', 'RAYTHEON': 'Raytheon', 'Raytheon Aircraft Company': 'Raytheon', 'RAYTHEON AIRCRAFT COMPANY': 'Raytheon', 'Raytheon Co': 'Raytheon', 'RAYTHEON COMPANY': 'Raytheon', 'Raytheon Corporate Jets': 'Raytheon', 'RAYTHEON CORPORATE JETS INC': 'Raytheon', 'REIMS': 'Reims', 'REims': 'Reims', 'Reims Aviation': 'Reims', 'Reims Aviation Cessna': 'Reims', 'REIMS AVIATION S.A.': 'Reims', 'REIMS AVIATION SA': 'Reims', 'Reims-Cessna': 'Reims', 'REIMS-CESSNA': 'Reims', 'REMOS ACFT GMBH FLUGZEUGBAU': 'Remos', 'Remos Aircraft GmbH': 'Remos', 'REMOS AIRCRAFT GMBH': 'Remos', 'Remos Aircraft GMBH': 'Remos', 'Remos Aircraft GMBH Flugzeugba': 'Remos', 'REMOS AIRCRAFT GMBH FLUGZEUGBA': 'Remos', 'REPUBLIC': 'Republic', 'ROBIN': 'Robin', 'ROBINSON': 'Robinson', 'Robinson Helicopter': 'Robinson', 'ROBINSON HELICOPTER': 'Robinson', 'ROBINSON HELICOPTER CO': 'Robinson', 'ROBINSON HELICOPTER CO INC': 'Robinson', 'Robinson Helicopter Co.': 'Robinson', 'Robinson Helicopter Company': 'Robinson', 'ROBINSON HELICOPTER COMPANY': 'Robinson', 'Robinson Helicopters': 'Robinson', 'ROCKWELL': 'Rockwell', 'Rockwell Comdr': 'Rockwell', 'Rockwell Commander': 'Rockwell', 'ROCKWELL COMMANDER': 'Rockwell', 'Rockwell Int\\'t': 'Rockwell', 'Rockwell International': 'Rockwell', 'ROCKWELL INTERNATIONAL': 'Rockwell', 'Rockwell Intl': 'Rockwell', 'ROGERS': 'Rogers', 'ROLLADEN-SCHNEIDER': 'Rolladen Schneider', 'ROLLADEN SCHNEIDER OHG': 'Rolladen Schneider', 'Rolladen-schneider': 'Rolladen Schneider', 'Rolladen-schneider Gmbh': 'Rolladen Schneider', 'ROLLADEN-SCHNEIDER GMBH': 'Rolladen Schneider', 'ROLLADEN-SCHNEIDER OHG': 'Rolladen Schneider', 'Roof': 'Root', 'Root, Arthur T.': 'Root', 'ROSE': 'Rose', 'ROSE HERBERT D': 'Rose', 'Rose Rhinehart': 'Rose', 'Rose Wesley': 'Rose', 'Rose-Rhinehart': 'Rose', 'ROSS ALFRED K/ONEILL TERRENCE': 'Ross', 'ROSS H/HERRIOTT M': 'Ross', 'ROSS JONATHAN': 'Ross', 'Ross/stonecipher': 'Ross', 'ROTORWAY': 'Rotorway', 'Rotorway Aircraft, Inc.': 'Rotorway', 'Rotorway Executive': 'Rotorway', 'Rotoway International': 'Rotorway', 'RUTAN': 'Rutan', 'Rutan Aircraft Factory': 'Rutan', 'RYAN': 'Ryan', 'Ryan Aeronautical': 'Ryan', 'RYAN AERONAUTICAL': 'Ryan', 'Ryan Aeronautics': 'Ryan', 'RYAN JOHN STEFFEY': 'Ryan', 'RYAN W Gross': 'Ryan', 'Ryan-navion': 'Ryan', 'SAAB': 'Saab', 'Saab-fairchild': 'Saab', 'Saab-scania': 'Saab', 'SAAB-SCANIA': 'Saab', 'SAAB-SCANIA AB': 'Saab', 'Saab-scania Ab (saab)': 'Saab', 'Saab-Scania AB (Saab)': 'Saab', 'SCHWEIZER': 'Schweizer', 'Schweizer 300CBi': 'Schweizer', 'Schweizer Aircraft Corp': 'Schweizer', 'SCHWEIZER AIRCRAFT CORP': 'Schweizer', 'Schweizer Aircraft Corp.': 'Schweizer', 'Schweizer Sgs': 'Schweizer', 'Schweizer, N36289': 'Schweizer', 'SCHWEIZER(HUGHES)': 'Schweizer', 'SCHWEIZER(HUGHES)AIRCRAFT CORP': 'Schweizer', 'Scottish': 'Scottish Aviation', 'SCOTTISH AVIATION': 'Scottish Aviation', 'SHORT': 'Short', 'SHORT BROS': 'Short', 'Short Bros.': 'Short', 'SHORT BROS. & HARLAND': 'Short', 'Short Brothers': 'Short', 'SHORT BROTHERS & HARLAND LTD.': 'Short', 'SHORT BROTHERS PLC': 'Short', 'SIAI MARCHETTI': 'Siai Marchetti', 'Siai-marchetti': 'Siai Marchetti', 'SIAI-MARCHETTI': 'Siai Marchetti', 'Siai-Marchetti': 'Siai Marchetti', 'SIKORSKY': 'Sikorsky', 'SIKORSKY AIRCRAFT CORP': 'Sikorsky', 'Sikorsky/orlando': 'Sikorsky', 'SILVAIRE': 'Silvaire', 'SKYKITS': 'Skykits', 'SKYKITS CORP': 'Skykits', 'Skykits Corporation': 'Skykits', 'SKYKITS USA CORP': 'Skykits', 'SMITH': 'Smith', 'Smith & R. Mathews': 'Smith', 'Smith Aerostar': 'Smith', 'SMITH ALBERT F': 'Smith', 'SMITH ALLEN': 'Smith', 'Smith Arthur Fox': 'Smith', 'SMITH BRET B': 'Smith', 'SMITH Capella': 'Smith', 'Smith Carter A': 'Smith', 'Smith Douglas J.': 'Smith', 'SMITH EDWARD I': 'Smith', 'Smith Mini': 'Smith', 'Smith Miniplane': 'Smith', 'SMITH MINIPLANE': 'Smith', 'SMITH VILAS': 'Smith', 'Smith Wylie Jay': 'Smith', 'Smith, Ted Aerostar': 'Smith', 'Smith/davis': 'Smith', 'SNOW': 'Snow', 'SOCATA': 'Socata', 'Socata-Groupe Aerospatiale': 'Socata', 'SONEX': 'Sonex', 'Sonex / John D. McCarter': 'Sonex', 'SONEX AIRCRAFT': 'Sonex', 'SONEX LIMITED': 'Sonex', 'SORENSEN': 'Sorensen', 'SORENSEN DANNY': 'Sorensen', 'SORENSEN DANNY S': 'Sorensen', 'SORENSON': 'Sorensen', 'Sorrel': 'Sorrell', 'Sorrell Aircraft': 'Sorrell', 'STANLEY': 'Stanley', 'STANLEY ARTHUR FREEMAN': 'Stanley', 'STANLEY B E': 'Stanley', 'STANLEY ERNIE SIGURD': 'Stanley', 'Stanley, Davey L': 'Stanley', 'STANTON': 'Stanton', 'Star Duster': 'Starduster', 'Star Duster Too': 'Starduster', 'Starduster Ii': 'Starduster', 'STARDUSTER II': 'Starduster', 'Starduster Too': 'Starduster', 'STAUDACHER AIRCRAFT INC': 'Staudacher', 'Staudacher Aircraft, Inc.': 'Staudacher', 'STAUDACHER HYDROPLANES': 'Staudacher', 'STAUDACHER JON': 'Staudacher', 'Staudaucher': 'Staudacher', 'STEARMAN': 'Stearman', 'STEARMAN AIRCRAFT': 'Stearman', 'STEELE': 'Steele', 'STEELE  JOHN J': 'Steele', 'STEELE RALPH BRUCE': 'Steele', 'STEELE SAMUEL D': 'Steele', 'STEEN': 'Steen', 'Steen Aero Lab': 'Steen', 'Steen Skybolt': 'Steen', 'STINSON': 'Stinson', 'Stits Aircraft': 'Stits', 'Stits Flut-r-bug': 'Stits', 'STITS FLUT-R-BUG': 'Stits', 'Stits Playboy': 'Stits', 'Stits-itrich': 'Stits', 'Stitts': 'Stits', 'STODDARD HAMILTON': 'Stoddard Hamilton', 'Stoddard-Hamilton': 'Stoddard Hamilton', 'STOL': 'Stol', 'Stol Aircraft': 'Stol', 'STOL Aircraft Corp': 'Stol', 'STOL LLC': 'Stol', 'STOLP STARDUSTER': 'Stolp Starduster', 'Stolp Starduster Corp.': 'Stolp Starduster', 'Stolp-adams': 'Stolp Starduster', 'Stolp-starduster Too': 'Stolp Starduster', 'SUKHOI': 'Sukhoi', 'SUTTON': 'Sutton', 'Sutton Tailwind': 'Sutton', 'SUTTON WILLIAM J': 'Sutton', 'SWANSON': 'Swanson', 'Swanson/bensen': 'Swanson', 'SWEARINGEN': 'Swearingen', 'Swearingen T R/masters W': 'Swearingen', 'TAYLOR': 'Taylor', 'Taylor Air Command': 'Taylor', 'Taylor Lonsdale': 'Taylor', 'Taylor Smith': 'Taylor', 'Taylor Titch': 'Taylor', 'TAYLORCRAFT': 'Taylorcraft', 'Taylorcraft Aviation': 'Taylorcraft', 'TAYLORCRAFT AVIATION CORP': 'Taylorcraft', 'TAYLORCRAFT CORP': 'Taylorcraft', 'Taylorcraft Corporation': 'Taylorcraft', 'TECNAM': 'Tecnam', 'TEMCO': 'Temco', 'Temco Luscombe': 'Temco', 'TERATORN': 'Teratorn', 'Teratorn Acft Inc.': 'Teratorn', 'Teratorn Aircraft, Inc.': 'Teratorn', 'Teratron': 'Teratorn', 'TEXAS HELICOPTER CORP': 'Texas Helicopter', 'Texas Helicopter Corp.':'Texas Helicopter', 'Texas Helicopter Corporation': 'Texas Helicopter', 'TEXTRON AVIATION INC': 'Textron Aviation', 'Textron Aviation Inc': 'Textron Aviation', 'THE BOEING COMPANY': 'Boeing', 'THOMPSON': 'Thompson', 'THORP': 'Thorp', 'Thorp Aero, Inc.': 'Thorp', 'Thorpe': 'Thorp', 'THRUSH': 'Thrush', 'THRUSH AIRCRAFT INC': 'Thrush', 'Thrush Aircraft Inc.': 'Thrush', 'THRUSH AIRCRAFT LLC': 'Thrush', 'Thrush Aircraft, Inc.': 'Thrush', 'TITAN': 'Titan', 'TITAN AEROSPACE HOLDINGS INC': 'Titan', 'Titan Aircraft': 'Titan', 'TRAVEL AIR': 'Travel Air', 'TUPOLEV': 'Tupolev', 'Univair Aircraft Corporation': 'Univair', 'UNIVAIR AIRCRAFT CORPORATION': 'Univair', 'Univar': 'Univair', 'UNIVERSAL': 'Universal', 'Universal Aircraft Industries': 'Universal', 'Universal Globe': 'Universal', 'Universal Moulded Pdts.': 'Universal', 'Universal Stinson': 'Universal', 'UNIVERSAL STINSON': 'Universal', 'VANS': 'Vans', 'Vans Aircraft': 'Vans', 'Vans Aircraft Inc': 'Vans', 'VANS AIRCRAFT INC': 'Vans', 'Vans Aircraft, Inc.': 'Vans', 'VARGA AIRCRAFT CORP.': 'Varga', 'VELOCITY INC': 'Velocity', 'VICKERS': 'Vickers', 'WACO': 'Waco', 'Waco Classic Aircraft': 'Waco', 'WACO CLASSIC AIRCRAFT': 'Waco', 'Waco Classic Aircraft Corp': 'Waco', 'WACO CLASSIC AIRCRAFT CORP': 'Waco', 'Waco Classic Aircraft Corp.': 'Waco', 'WEATHERLY': 'Weatherly', 'WEATHERLY AVIATION CO INC': 'Weatherly', 'Weatherly Aviation Company Inc': 'Weatherly', 'WEBER': 'Weber', 'WHEELER': 'Wheeler', 'Wheeler Acft. Co.': 'Wheeler', 'WHEELER C / WHEELER K': 'Wheeler', 'Wheeler Technology, Inc.': 'Wheeler', 'WHITTMAN': 'Whittman', 'Whittman Tailwind': 'Whittman', 'WILSON': 'Wilson', 'Wing Aircraft': 'Wing', 'Wing Aircraft Co.': 'Wing', 'WOOD': 'Wood', 'WSK PZL MIELEC': 'Wsk Pzl Mielec', 'Wsk Pzl Swidnik': 'Wsk Pzl Mielec', 'Wsk Pzl Warzawa-okecie': 'Wsk Pzl Mielec', 'Wsk Pzl-krosno': 'Wsk Pzl Mielec', 'WSK-MIELEC': 'Wsk Pzl Mielec', 'WSK-PZL MEILEC': 'Wsk Pzl Mielec', 'Wsk-pzl Mielec': 'Wsk Pzl Mielec', 'WSK-PZL WARZAWA-OKECIE': 'Wsk Pzl Mielec', 'Wsk-pzl Warzawaokecie': 'Wsk Pzl Mielec', 'WSL PZL': 'Wsk Pzl Mielec', 'XTREMEAIR GMBH': 'Xtremeair GMBH', 'YAKOVLEV': 'Yakovlev', 'YAKOVLEV/CHINNERY': 'Yakovlev', 'YAKOVLEV/DAY': 'Yakovlev', 'ZENAIR': 'Zenair', 'ZENAIR LTD': 'Zenair', 'Zenair Zodiac': 'Zenair', 'ZENITH': 'Zenith', 'ZENITH ACFT CO': 'Zenith', 'ZENITH AIRCRAFT CO': 'Zenith', 'ZIMMERMAN': 'Zimmerman', 'ZIVKO AERONAUTICS INC': 'Zivko', 'Zivko Aeronautics': 'Zivko', 'Zivko Aeronautics Inc.': 'Zivko', 'ZLIN': 'Zlin', 'Zlin Aviation': 'Zlin', 'Zlin Aviation S.r.o.': 'Zlin'}\n",
    "\n",
    "df['Make'] = df['Make'].replace(make_column_name_replace)"
   ]
  },
  {
   "cell_type": "markdown",
   "id": "adef2ea0-6ee4-44e9-9c12-3d549fcb9c1a",
   "metadata": {},
   "source": [
    "Combine the MD Helicopters and McDonnell Douglas into McDonnell Douglas Helicopters\n",
    "Combine the BELL variations into Bell"
   ]
  },
  {
   "cell_type": "code",
   "execution_count": null,
   "id": "1f8f4f3e-60d3-4685-a22c-ad5f1ac7cb03",
   "metadata": {},
   "outputs": [],
   "source": [
    "df[df['Make'].isin(['Md Helicopter', 'Mcdonnell Douglas Helicopter', 'McDonnell Douglas Helicopter', 'BELL', \n",
    "                    'BELL HELICOPTER TEXTRON CANADA', 'BELL HELICOPTER TEXTRON'])][\n",
    "    'Aircraft_Category'].value_counts(dropna=False)"
   ]
  },
  {
   "cell_type": "code",
   "execution_count": null,
   "id": "d041a5a6-0a74-4e5d-98c6-a6456dca1bc0",
   "metadata": {},
   "outputs": [],
   "source": [
    "# Clean up make column for McDonnell Douglas Helicopters and Bell\n",
    "make_column_name_replace = {'Md Helicopter': 'McDonnell Douglas Helicopters',\n",
    "                            'Mcdonnell Douglas Helicopter': 'McDonnell Douglas Helicopters', \n",
    "                            'McDonnell Douglas Helicopter': 'McDonnell Douglas Helicopters', \n",
    "                            'BELL': 'Bell',\n",
    "                            'BELL HELICOPTER TEXTRON CANADA': 'Bell',\n",
    "                            'BELL HELICOPTER TEXTRON': 'Bell'}\n",
    "\n",
    "df['Make'] = df['Make'].replace(make_column_name_replace)"
   ]
  },
  {
   "cell_type": "code",
   "execution_count": null,
   "id": "809d20ae-bf8d-4e8f-b766-4da914e3d811",
   "metadata": {},
   "outputs": [],
   "source": [
    "# Show Make value_counts over 10\n",
    "makes_value_10 = df['Make'].value_counts()[df['Make'].value_counts() > 10]\n",
    "makes_value_10"
   ]
  },
  {
   "cell_type": "markdown",
   "id": "5596f2b7-5d5a-4894-a3e2-a8304982c660",
   "metadata": {},
   "source": [
    "Now we look at the category column to see how we can fill it in using cleaned make column"
   ]
  },
  {
   "cell_type": "code",
   "execution_count": null,
   "id": "fb767d77-d9e3-412b-9eeb-9297c12ac36c",
   "metadata": {},
   "outputs": [],
   "source": [
    "# Show the Aircraft_Category value_counts for makes_value_10 including NaN\n",
    "df[df['Make'].isin(makes_value_10.index)]['Aircraft_Category'].value_counts(dropna=False)"
   ]
  },
  {
   "cell_type": "code",
   "execution_count": null,
   "id": "62d6f4a6-0397-49c8-b05a-e625569a4499",
   "metadata": {},
   "outputs": [],
   "source": [
    "# Show Aircraft Category value_counts for Cessna, Piper, Beech, Boeing, and Mooney, including Nan\n",
    "df[df['Make'].isin(['Cessna', 'Piper', 'Beech', 'Boeing', 'Mooney'])][\n",
    "    'Aircraft_Category'].value_counts(dropna=False)"
   ]
  },
  {
   "cell_type": "markdown",
   "id": "1c1e1dd0-077f-4bc9-a049-113738edf2bc",
   "metadata": {},
   "source": [
    "For these 5 makes, I feel it's reasonable to make them all airplane"
   ]
  },
  {
   "cell_type": "code",
   "execution_count": null,
   "id": "cba679c1-c9c8-4623-8096-e24aa2ecad47",
   "metadata": {},
   "outputs": [],
   "source": [
    "# make all category entries for particular makes 'Airplane'\n",
    "df.loc[df['Make'].isin(['Cessna', 'Piper', 'Beech', 'Boeing', 'Mooney']), 'Aircraft_Category'] = 'Airplane'"
   ]
  },
  {
   "cell_type": "code",
   "execution_count": null,
   "id": "d7d95bae-d415-433c-b652-9881774d55f5",
   "metadata": {},
   "outputs": [],
   "source": [
    "# Show Aircraft Category value_counts for Cessna, Piper, Beech, Boeing, and Mooney, including Nan\n",
    "df[df['Make'].isin(['Cessna', 'Piper', 'Beech', 'Boeing', 'Mooney'])][\n",
    "    'Aircraft_Category'].value_counts(dropna=False)"
   ]
  },
  {
   "cell_type": "code",
   "execution_count": null,
   "id": "2bcebbd0-cb33-427f-b3b1-857e02dc6da5",
   "metadata": {},
   "outputs": [],
   "source": [
    "# Show the Aircraft_Category value_counts for makes_value_10 including NaN\n",
    "df[df['Make'].isin(makes_value_10.index)]['Aircraft_Category'].value_counts(dropna=False)"
   ]
  },
  {
   "cell_type": "markdown",
   "id": "0a2dc9bf-c635-4d29-bd38-3844598f9ad2",
   "metadata": {},
   "source": [
    "At this point, we still have over 16000 empty values in category. \n",
    "Let's see about helicopters and filling in some missing values there."
   ]
  },
  {
   "cell_type": "code",
   "execution_count": null,
   "id": "734106b4-88f4-49d7-83ed-2851946cb31e",
   "metadata": {},
   "outputs": [],
   "source": [
    "# Helicopter value_counts\n",
    "df[df['Aircraft_Category'] == 'Helicopter']['Make'].value_counts()"
   ]
  },
  {
   "cell_type": "code",
   "execution_count": null,
   "id": "83d161b7-b60e-40b0-93cf-1df3208b55a6",
   "metadata": {},
   "outputs": [],
   "source": [
    "# Show Aircraft Category value_counts for Robinson, Bell, Hughes, Eurocopter, Schweizer, including Nan\n",
    "df[df['Make'].isin(['Robinson', 'Bell', 'Hughes', 'Eurocopter', 'Schweizer'])][\n",
    "    'Aircraft_Category'].value_counts(dropna=False)"
   ]
  },
  {
   "cell_type": "code",
   "execution_count": null,
   "id": "ab5bf9da-7388-4878-a171-5e31c13fe1bd",
   "metadata": {},
   "outputs": [],
   "source": [
    "# Again, there's an overwhelming number that are helicopter, so let's change these\n",
    "# Function to make all category entries for particular makes 'Helicopter'\n",
    "df.loc[df['Make'].isin(['Robinson', 'Bell', 'Hughes', 'Eurocopter', 'Schweizer']), 'Aircraft_Category'] = 'Helicopter'"
   ]
  },
  {
   "cell_type": "code",
   "execution_count": null,
   "id": "f7aeee0c-ac90-4492-a860-31eafeb61aa7",
   "metadata": {},
   "outputs": [],
   "source": [
    "# Show Helicopter value_counts\n",
    "df[df['Aircraft_Category'] == 'Helicopter']['Make'].value_counts()"
   ]
  },
  {
   "cell_type": "code",
   "execution_count": null,
   "id": "612ecc8e-b1de-43ab-a72e-90e85e6457db",
   "metadata": {},
   "outputs": [],
   "source": [
    "# Show the Aircraft_Category value_counts for makes_value_10 including NaN\n",
    "df[df['Make'].isin(makes_value_10.index)]['Aircraft_Category'].value_counts(dropna=False)"
   ]
  },
  {
   "cell_type": "code",
   "execution_count": null,
   "id": "0b6ee2b5-aaa7-4594-88dc-a4d9c43d418b",
   "metadata": {},
   "outputs": [],
   "source": [
    "# Now we're down to 13,000 empty category values. Let's look at the makes.\n",
    "# Show Make values whose Aircraft_Category value is NaN\n",
    "df[df['Aircraft_Category'].isna()]['Make'].value_counts()"
   ]
  },
  {
   "cell_type": "code",
   "execution_count": null,
   "id": "93c43af4-40aa-4be9-a297-71c1aeefdf0c",
   "metadata": {},
   "outputs": [],
   "source": [
    "# Show category value_counts for Grumman, Bellanca, Air Tractor, and Aeronca, including NaN\n",
    "df[df['Make'].isin(['Grumman', 'Bellanca', 'Air Tractor', 'Aeronca'])][\n",
    "    'Aircraft_Category'].value_counts(dropna=False)"
   ]
  },
  {
   "cell_type": "code",
   "execution_count": null,
   "id": "87d110b1-be2b-44d4-86f3-40db7c4ec185",
   "metadata": {},
   "outputs": [],
   "source": [
    "# Fill in 'Airplane' for Grumman, Bellanca, Air Tractor, and Aeronca\n",
    "df.loc[df['Make'].isin(['Grumman', 'Bellanca', 'Air Tractor', 'Aeronca']), 'Aircraft_Category'] = 'Airplane'"
   ]
  },
  {
   "cell_type": "code",
   "execution_count": null,
   "id": "d8fdacdb-bb3b-4d8b-87d1-f42c4d29d44a",
   "metadata": {},
   "outputs": [],
   "source": [
    "# Show Make values whose Aircraft_Category value is NaN\n",
    "df[df['Aircraft_Category'].isna()]['Make'].value_counts()"
   ]
  },
  {
   "cell_type": "code",
   "execution_count": null,
   "id": "0668de5d-0bac-40fd-bbc0-6fa1dd609245",
   "metadata": {},
   "outputs": [],
   "source": [
    "# Show category value_counts for Maule, Champion, de Havilland, Aero Commander, including NaN\n",
    "df[df['Make'].isin(['Maule', 'Champion', 'de Havilland', 'Aero Commander'])]['Aircraft_Category'].value_counts(dropna=False)"
   ]
  },
  {
   "cell_type": "code",
   "execution_count": null,
   "id": "b933fc83-dbbb-4d67-8ba6-141556fb6fb4",
   "metadata": {},
   "outputs": [],
   "source": [
    "# Fill in 'Airplane' for Maule, Champion, de Havilland, Aero Commander\n",
    "df.loc[df['Make'].isin(['Maule', 'Champion', 'de Havilland', 'Aero Commander']), 'Aircraft_Category'] = 'Airplane'"
   ]
  },
  {
   "cell_type": "code",
   "execution_count": null,
   "id": "fe02eeb3-8d23-4292-861a-f719eb41e252",
   "metadata": {},
   "outputs": [],
   "source": [
    "# Show Make values whose Aircraft_Category value is NaN\n",
    "df[df['Aircraft_Category'].isna()]['Make'].value_counts()"
   ]
  },
  {
   "cell_type": "code",
   "execution_count": null,
   "id": "183728b7-5814-4712-86d4-d40689895382",
   "metadata": {},
   "outputs": [],
   "source": [
    "# Show category value_counts for Rockwell, Hiller, Stinson, Aerospatiale, including NaN\n",
    "df[df['Make'].isin(['Rockwell', 'Stinson'])]['Aircraft_Category'].value_counts(dropna=False)"
   ]
  },
  {
   "cell_type": "code",
   "execution_count": null,
   "id": "5775f122-b542-4f28-be80-1319d52398b1",
   "metadata": {},
   "outputs": [],
   "source": [
    "# Fill in 'Airplane' for Rockwell and Stinson\n",
    "df.loc[df['Make'].isin(['Rockwell', 'Stinson']), 'Aircraft_Category'] = 'Airplane'"
   ]
  },
  {
   "cell_type": "code",
   "execution_count": null,
   "id": "34ec9ee7-77ad-4b73-8cbb-772f1d5b9746",
   "metadata": {},
   "outputs": [],
   "source": [
    "# Deal with Hiller and Aerospatiale\n",
    "df[df['Make'].isin(['Aerospatiale', 'Hiller'])]['Aircraft_Category'].value_counts(dropna=False)"
   ]
  },
  {
   "cell_type": "code",
   "execution_count": null,
   "id": "f7b532e5-6655-406f-aa3b-f505d92ede94",
   "metadata": {},
   "outputs": [],
   "source": [
    "# Since Hiller and Aerospatiale are overwhelmly Helicopter, let's fill those in\n",
    "df.loc[df['Make'].isin(['Aerospatiale', 'Hiller']), 'Aircraft_Category'] = 'Helicopter'"
   ]
  },
  {
   "cell_type": "code",
   "execution_count": null,
   "id": "66d4856e-00d9-4dfc-a1e6-9e37048c8c27",
   "metadata": {},
   "outputs": [],
   "source": [
    "# Show Make values whose Aircraft_Category value is NaN\n",
    "df[df['Aircraft_Category'].isna()]['Make'].value_counts()"
   ]
  },
  {
   "cell_type": "code",
   "execution_count": null,
   "id": "ba86dba5-15e2-4721-94a1-9d57e34cdf0e",
   "metadata": {},
   "outputs": [],
   "source": [
    "# deal with Mcdonnell Douglas\n",
    "df[df['Make'].isin(['Mcdonnell Douglas'])]['Aircraft_Category'].value_counts(dropna=False)"
   ]
  },
  {
   "cell_type": "code",
   "execution_count": null,
   "id": "9cf1c19f-6a39-43d3-b699-b108bf118706",
   "metadata": {},
   "outputs": [],
   "source": [
    "# If Make is Mcdonnell Douglas and category is Helicopter, change make to McDonnell Douglas Helicopters\n",
    "df.loc[(df['Make'] == 'Mcdonnell Douglas') & (df['Aircraft_Category'] == 'Helicopter'), 'Make'] = 'McDonnell Douglas Helicopters'\n",
    "\n",
    "df[df['Make'].isin(['Mcdonnell Douglas'])]['Aircraft_Category'].value_counts(dropna=False)"
   ]
  },
  {
   "cell_type": "code",
   "execution_count": null,
   "id": "6ba98e46-f26f-45b0-b285-72c49af3fa32",
   "metadata": {},
   "outputs": [],
   "source": [
    "df.loc[df['Make'].isin(['Mcdonnell Douglas']), 'Aircraft_Category'] = 'Airplane'"
   ]
  },
  {
   "cell_type": "code",
   "execution_count": null,
   "id": "bdb54b00-0b97-4d4d-89b9-8c0f9eb73c69",
   "metadata": {},
   "outputs": [],
   "source": [
    "# Show Make values whose Aircraft_Category value is NaN\n",
    "df[df['Aircraft_Category'].isna()]['Make'].value_counts()"
   ]
  },
  {
   "cell_type": "code",
   "execution_count": null,
   "id": "472236c2-f22a-4f74-a35a-745244db0fdd",
   "metadata": {},
   "outputs": [],
   "source": [
    "df[df['Make'].isin(['Taylorcraft', 'North American', 'Luscombe', 'Douglas'])]['Aircraft_Category'].value_counts(dropna=False)"
   ]
  },
  {
   "cell_type": "code",
   "execution_count": null,
   "id": "1637e076-bb98-43e2-8fcd-30c21e86324f",
   "metadata": {},
   "outputs": [],
   "source": [
    "df.loc[df['Make'].isin(['Taylorcraft', 'North American', 'Luscombe', 'Douglas']), 'Aircraft_Category'] = 'Airplane'\n",
    "\n",
    "# Show Make values whose Aircraft_Category value is NaN\n",
    "df[df['Aircraft_Category'].isna()]['Make'].value_counts()"
   ]
  },
  {
   "cell_type": "code",
   "execution_count": null,
   "id": "fc8716a0-25db-4688-9716-684b15c485a5",
   "metadata": {},
   "outputs": [],
   "source": [
    "df[df['Make'].isin(['Enstrom'])]['Aircraft_Category'].value_counts(dropna=False)"
   ]
  },
  {
   "cell_type": "code",
   "execution_count": null,
   "id": "fbc9e093-2d21-4767-952c-ff6b3dd967cd",
   "metadata": {},
   "outputs": [],
   "source": [
    "df.loc[df['Make'].isin(['Enstrom']), 'Aircraft_Category'] = 'Helicopter'\n",
    "\n",
    "# Show Make values whose Aircraft_Category value is NaN\n",
    "df[df['Aircraft_Category'].isna()]['Make'].value_counts()"
   ]
  },
  {
   "cell_type": "code",
   "execution_count": null,
   "id": "d53e7de8-0423-4734-be38-09be710416c8",
   "metadata": {},
   "outputs": [],
   "source": [
    "df[df['Make'].isin(['Ayres', 'Ercoupe', 'Gulfstream'])]['Aircraft_Category'].value_counts(dropna=False)"
   ]
  },
  {
   "cell_type": "code",
   "execution_count": null,
   "id": "060ed6a1-77ae-4cc1-9df0-51bd92c2ec46",
   "metadata": {},
   "outputs": [],
   "source": [
    "df.loc[df['Make'].isin(['Ayres', 'Ercoupe', 'Gulfstream']), 'Aircraft_Category'] = 'Airplane'\n",
    "\n",
    "# Show Make values whose Aircraft_Category value is NaN\n",
    "df[df['Aircraft_Category'].isna()]['Make'].value_counts()"
   ]
  },
  {
   "cell_type": "code",
   "execution_count": null,
   "id": "4263437d-9b3c-4a8e-bcda-12f3071a1c6c",
   "metadata": {},
   "outputs": [],
   "source": [
    "df[df['Make'].isin(['Airbus'])]['Aircraft_Category'].value_counts(dropna=False)"
   ]
  },
  {
   "cell_type": "code",
   "execution_count": null,
   "id": "31111404-b34e-48f0-9f00-a0a5184de0cb",
   "metadata": {},
   "outputs": [],
   "source": [
    "#Deal with Airbus name for helicopters\n",
    "df.loc[(df['Make'] == 'Airbus') & (df['Aircraft_Category'] == 'Helicopter'), 'Make'] = 'Airbus Helicopters'\n",
    "\n",
    "df[df['Make'].isin(['Airbus'])]['Aircraft_Category'].value_counts(dropna=False)"
   ]
  },
  {
   "cell_type": "code",
   "execution_count": null,
   "id": "154d52ff-02e5-41d0-bc17-5d1e14858950",
   "metadata": {},
   "outputs": [],
   "source": [
    "# Fill in the rest for Airbus\n",
    "df.loc[df['Make'].isin(['Airbus']), 'Aircraft_Category'] = 'Airplane'\n",
    "\n",
    "# Show Make values whose Aircraft_Category value is NaN\n",
    "df[df['Aircraft_Category'].isna()]['Make'].value_counts()"
   ]
  },
  {
   "cell_type": "code",
   "execution_count": null,
   "id": "76a8cfd2-9963-4195-895e-7b5cdb1dc4c6",
   "metadata": {},
   "outputs": [],
   "source": [
    "df[df['Make'].isin(['Sikorsky'])]['Aircraft_Category'].value_counts(dropna=False)"
   ]
  },
  {
   "cell_type": "code",
   "execution_count": null,
   "id": "6197ae56-0515-46f5-bd77-8ed07f5de679",
   "metadata": {},
   "outputs": [],
   "source": [
    "# Fill in the rest for Sikorsky\n",
    "df.loc[df['Make'].isin(['Sikorsky']), 'Aircraft_Category'] = 'Helicopter'\n",
    "\n",
    "# Show Make values whose Aircraft_Category value is NaN\n",
    "df[df['Aircraft_Category'].isna()]['Make'].value_counts()"
   ]
  },
  {
   "cell_type": "code",
   "execution_count": null,
   "id": "c61028dc-ef80-4c5f-8ec6-0e51f47dd34c",
   "metadata": {},
   "outputs": [],
   "source": [
    "df[df['Make'].isin(['Fairchild', 'Pitts', 'Swearingen', 'Lake'])]['Aircraft_Category'].value_counts(dropna=False)"
   ]
  },
  {
   "cell_type": "code",
   "execution_count": null,
   "id": "6a276180-d324-4bef-bb35-06fa5ce48cc5",
   "metadata": {},
   "outputs": [],
   "source": [
    "# Fill in the rest for previous\n",
    "df.loc[df['Make'].isin(['Fairchild', 'Pitts', 'Swearingen', 'Lake']), 'Aircraft_Category'] = 'Airplane'\n",
    "\n",
    "# Show Make values whose Aircraft_Category value is NaN\n",
    "df[df['Aircraft_Category'].isna()]['Make'].value_counts()"
   ]
  },
  {
   "cell_type": "code",
   "execution_count": null,
   "id": "20934d49-f812-4965-836e-f7f9be02f069",
   "metadata": {},
   "outputs": [],
   "source": [
    "df[df['Make'].isin(['Mitsubishi', 'Waco'])]['Aircraft_Category'].value_counts(dropna=False)"
   ]
  },
  {
   "cell_type": "code",
   "execution_count": null,
   "id": "81260814-90f0-47b9-b2e1-cd3618f33872",
   "metadata": {},
   "outputs": [],
   "source": [
    "# Fill in the rest for previous\n",
    "df.loc[df['Make'].isin(['Mitsubishi', 'Waco']), 'Aircraft_Category'] = 'Airplane'\n",
    "\n",
    "# Show Make values whose Aircraft_Category value is NaN\n",
    "df[df['Aircraft_Category'].isna()]['Make'].value_counts()"
   ]
  },
  {
   "cell_type": "code",
   "execution_count": null,
   "id": "4c6b700f-e419-495f-9707-a421a7ced6d2",
   "metadata": {},
   "outputs": [],
   "source": [
    "df[df['Make'].isin(['Ryan', 'Lockheed'])]['Aircraft_Category'].value_counts(dropna=False)"
   ]
  },
  {
   "cell_type": "code",
   "execution_count": null,
   "id": "890fdd42-19a6-47ee-a4fd-783daab5778c",
   "metadata": {},
   "outputs": [],
   "source": [
    "# Fill in the rest for previous\n",
    "df.loc[df['Make'].isin(['Ryan', 'Lockheed']), 'Aircraft_Category'] = 'Airplane'\n",
    "\n",
    "# Show Make values whose Aircraft_Category value is NaN\n",
    "df[df['Aircraft_Category'].isna()]['Make'].value_counts()"
   ]
  },
  {
   "cell_type": "code",
   "execution_count": null,
   "id": "c7198964-644c-4f68-8961-5c4dca156962",
   "metadata": {},
   "outputs": [],
   "source": [
    "df[df['Make'].isin(['Learjet'])]['Aircraft_Category'].value_counts(dropna=False)"
   ]
  },
  {
   "cell_type": "code",
   "execution_count": null,
   "id": "6c2e6e78-8d6a-48bc-961b-6530aee9ce8c",
   "metadata": {},
   "outputs": [],
   "source": [
    "# Fill in the rest for previous\n",
    "df.loc[df['Make'].isin(['Balloon Works', 'Aerostar']), 'Aircraft_Category'] = 'Balloon'\n",
    "\n",
    "# Show Make values whose Aircraft_Category value is NaN\n",
    "df[df['Aircraft_Category'].isna()]['Make'].value_counts()"
   ]
  },
  {
   "cell_type": "code",
   "execution_count": null,
   "id": "1644270e-2174-48e3-802d-9d7276ad0e63",
   "metadata": {},
   "outputs": [],
   "source": [
    "# Fill in the rest for previous\n",
    "df.loc[df['Make'].isin(['Burkhart Grob', 'Let']), 'Aircraft_Category'] = 'Glider'\n",
    "\n",
    "# Show Make values whose Aircraft_Category value is NaN\n",
    "df[df['Aircraft_Category'].isna()]['Make'].value_counts()"
   ]
  },
  {
   "cell_type": "code",
   "execution_count": null,
   "id": "39a06058-578f-45bd-a128-6f0b20586243",
   "metadata": {},
   "outputs": [],
   "source": [
    "df[df['Make'].isin(['Raven'])]['Aircraft_Category'].value_counts(dropna=False)"
   ]
  },
  {
   "cell_type": "code",
   "execution_count": null,
   "id": "386a1735-2cec-4058-b01c-2467e6e60fa2",
   "metadata": {},
   "outputs": [],
   "source": [
    "# Fill in the rest for previous\n",
    "df.loc[df['Make'].isin(['Learjet', 'Helio', 'Smith', 'Embraer']), 'Aircraft_Category'] = 'Airplane'\n",
    "\n",
    "# Show Make values whose Aircraft_Category value is NaN\n",
    "df[df['Aircraft_Category'].isna()]['Make'].value_counts()"
   ]
  },
  {
   "cell_type": "code",
   "execution_count": null,
   "id": "83aa353c-496b-49e4-89dc-c44609c9c316",
   "metadata": {},
   "outputs": [],
   "source": [
    "df[df['Make'].isin(['Aviat'])]['Aircraft_Category'].value_counts(dropna=False)"
   ]
  },
  {
   "cell_type": "code",
   "execution_count": null,
   "id": "1447ee73-78d3-4dd3-bc1b-4390f230457b",
   "metadata": {},
   "outputs": [],
   "source": [
    "# Fill in the rest for previous\n",
    "df.loc[df['Make'].isin(['Wsk Pzl Mielec', 'British Aerospace', 'American Aviation', 'Aviat']), 'Aircraft_Category'] = 'Airplane'\n",
    "\n",
    "# Show Make values whose Aircraft_Category value is NaN\n",
    "df[df['Aircraft_Category'].isna()]['Make'].value_counts()"
   ]
  },
  {
   "cell_type": "code",
   "execution_count": null,
   "id": "b03b6376-6d91-4bd1-9cff-3efe96eb6679",
   "metadata": {},
   "outputs": [],
   "source": [
    "df[df['Make'].isin(['Cirrus'])]['Aircraft_Category'].value_counts(dropna=False)"
   ]
  },
  {
   "cell_type": "code",
   "execution_count": null,
   "id": "b0207119-a777-4346-b122-a70f3fb3bcbf",
   "metadata": {},
   "outputs": [],
   "source": [
    "# Fill in the rest for previous\n",
    "df.loc[df['Make'].isin(['Globe', 'Weatherly', 'Cirrus']), 'Aircraft_Category'] = 'Airplane'\n",
    "\n",
    "# Show Make values whose Aircraft_Category value is NaN\n",
    "df[df['Aircraft_Category'].isna()]['Make'].value_counts()"
   ]
  },
  {
   "cell_type": "code",
   "execution_count": null,
   "id": "532c97d5-5792-4071-b6b1-ace08e7e2590",
   "metadata": {},
   "outputs": [],
   "source": [
    "# Fill in the rest for previous\n",
    "df.loc[df['Make'].isin(['Raven']), 'Aircraft_Category'] = 'Balloon'"
   ]
  },
  {
   "cell_type": "code",
   "execution_count": null,
   "id": "a2dd2a72-5e43-4520-84b6-efbd13c0261d",
   "metadata": {},
   "outputs": [],
   "source": [
    "# Fill in the rest for previous\n",
    "df.loc[df['Make'].isin(['Schleicher']), 'Aircraft_Category'] = 'Glider'\n",
    "\n",
    "# Show Make values whose Aircraft_Category value is NaN\n",
    "df[df['Aircraft_Category'].isna()]['Make'].value_counts()"
   ]
  },
  {
   "cell_type": "code",
   "execution_count": null,
   "id": "52ef01bd-6b8c-40d1-ba4b-c912e56e0455",
   "metadata": {},
   "outputs": [],
   "source": [
    "df[df['Make'].isin(['Navion'])]['Aircraft_Category'].value_counts(dropna=False)"
   ]
  },
  {
   "cell_type": "code",
   "execution_count": null,
   "id": "c329e09a-1b88-4982-b966-5292e2307596",
   "metadata": {},
   "outputs": [],
   "source": [
    "# Fill in the rest for previous\n",
    "df.loc[df['Make'].isin(['Mbb']), 'Aircraft_Category'] = 'Helicopter'\n",
    "df.loc[df['Make'].isin(['Schempp-hirth']), 'Aircraft_Category'] = 'Glider'\n",
    "df.loc[df['Make'].isin(['Gates Learjet', 'Saab', 'Navion']), 'Aircraft_Category'] = 'Airplane'\n",
    "\n",
    "# Show Make values whose Aircraft_Category value is NaN\n",
    "df[df['Aircraft_Category'].isna()]['Make'].value_counts()"
   ]
  },
  {
   "cell_type": "code",
   "execution_count": null,
   "id": "f451d770-1ad0-4e28-a0dc-e3442af9b50f",
   "metadata": {},
   "outputs": [],
   "source": [
    "df[df['Make'].isin(['Cameron'])]['Aircraft_Category'].value_counts(dropna=False)"
   ]
  },
  {
   "cell_type": "code",
   "execution_count": null,
   "id": "8b788183-ff27-46b7-8a1e-9a0fda23c92e",
   "metadata": {},
   "outputs": [],
   "source": [
    "df.loc[df['Make'].isin(['Balloon Works', 'Aerostar', 'Raven', 'Cameron']), 'Aircraft_Category'] = 'Balloon'\n",
    "df.loc[df['Make'].isin(['Burkhart Grob', 'Let', 'Schleicher', 'Schempp-hirth']), 'Aircraft_Category'] = 'Glider'\n",
    "df.loc[df['Make'].isin(['Robinson', 'Bell', 'Hughes', 'Eurocopter', 'Schweizer', 'Aerospatiale', 'Hiller', 'Enstrom', 'Sikorsky', 'Mbb']), 'Aircraft_Category'] = 'Helicopter'\n",
    "df.loc[df['Make'].isin(['Cessna', 'Piper', 'Beech', 'Boeing', 'Mooney', 'Grumman', 'Bellanca', 'Air Tractor', 'Aeronca', 'Maule', 'Champion', 'de Havilland', 'Aero Commander', 'Rockwell', 'Stinson', 'Mcdonnell Douglas', 'Taylorcraft', 'North American', 'Luscombe', 'Douglas', 'Ayres', 'Ercoupe', 'Gulfstream', 'Airbus', 'Fairchild', 'Pitts', 'Swearingen', 'Lake', 'Mitsubishi', 'Waco', 'Ryan', 'Lockheed', 'Learjet', 'Helio', 'Smith', 'Embraer', 'Wsk Pzl Mielec', 'British Aerospace', 'American Aviation', 'Aviat', 'Globe', 'Weatherly', 'Cirrus', 'Gates Learjet', 'Saab', 'Navion', 'Canadair', 'Dassault', 'Socata']), 'Aircraft_Category'] = 'Airplane'\n",
    "\n",
    "# Show Make values whose Aircraft_Category value is NaN\n",
    "df[df['Aircraft_Category'].isna()]['Make'].value_counts()"
   ]
  },
  {
   "cell_type": "code",
   "execution_count": null,
   "id": "c32a9aef-d5d4-47cc-aac9-755426667e93",
   "metadata": {},
   "outputs": [],
   "source": [
    "df[df['Make'].isin(['Christen Industries'])]['Aircraft_Category'].value_counts(dropna=False)"
   ]
  },
  {
   "cell_type": "code",
   "execution_count": null,
   "id": "ec99bf1c-9ed6-4ca9-a63d-aebddc943605",
   "metadata": {},
   "outputs": [],
   "source": [
    "df.loc[df['Make'].isin(['Rotorway']), 'Aircraft_Category'] = 'Helicopter'\n",
    "df.loc[df['Make'].isin(['Fokker', 'Bombardier', 'Christen Industries']), 'Aircraft_Category'] = 'Airplane'\n",
    "\n",
    "# Show Make values whose Aircraft_Category value is NaN\n",
    "df[df['Aircraft_Category'].isna()]['Make'].value_counts()"
   ]
  },
  {
   "cell_type": "code",
   "execution_count": null,
   "id": "6d41cc0a-1d48-44ef-9be8-973de31e452c",
   "metadata": {},
   "outputs": [],
   "source": [
    "df[df['Make'].isin(['Convair'])]['Aircraft_Category'].value_counts(dropna=False)"
   ]
  },
  {
   "cell_type": "code",
   "execution_count": null,
   "id": "32ebb95b-3e03-42d6-82c7-62f2e2850c64",
   "metadata": {},
   "outputs": [],
   "source": [
    "df.loc[df['Make'].isin(['Great Lakes', 'Eagle', 'Eipper', 'Convair']), 'Aircraft_Category'] = 'Airplane'\n",
    "\n",
    "# Show Make values whose Aircraft_Category value is NaN\n",
    "df[df['Aircraft_Category'].isna()]['Make'].value_counts()"
   ]
  },
  {
   "cell_type": "code",
   "execution_count": null,
   "id": "93fe9f4c-92b6-46ee-947a-49b9fff2aed7",
   "metadata": {},
   "outputs": [],
   "source": [
    "df[df['Make'].isin(['Brantly Helicopter'])]['Aircraft_Category'].value_counts(dropna=False)"
   ]
  },
  {
   "cell_type": "code",
   "execution_count": null,
   "id": "c6ec4f64-202e-47db-8f72-0fcc49a868b4",
   "metadata": {},
   "outputs": [],
   "source": [
    "df.loc[df['Make'].isin(['Brantly Helicopter']), 'Aircraft_Category'] = 'Helicopter'\n",
    "df.loc[df['Make'].isin(['Consolidated Aero', 'Short']), 'Aircraft_Category'] = 'Airplane'\n",
    "\n",
    "# Show Make values whose Aircraft_Category value is NaN\n",
    "df[df['Aircraft_Category'].isna()]['Make'].value_counts()"
   ]
  },
  {
   "cell_type": "code",
   "execution_count": null,
   "id": "95c4a735-02f4-4e44-bfa5-8453eba6a1b3",
   "metadata": {},
   "outputs": [],
   "source": [
    "df[df['Make'].isin(['Rolladen Schneider'])]['Aircraft_Category'].value_counts(dropna=False)"
   ]
  },
  {
   "cell_type": "code",
   "execution_count": null,
   "id": "f48ad8f8-b0fd-461b-8734-f65aa53baefb",
   "metadata": {},
   "outputs": [],
   "source": [
    "df.loc[df['Make'].isin(['Rolladen Schneider']), 'Aircraft_Category'] = 'Glider'\n",
    "df.loc[df['Make'].isin(['Kaman']), 'Aircraft_Category'] = 'Helicopter'\n",
    "df.loc[df['Make'].isin(['Aerotek']), 'Aircraft_Category'] = 'Airplane'\n",
    "\n",
    "# Show Make values whose Aircraft_Category value is NaN\n",
    "df[df['Aircraft_Category'].isna()]['Make'].value_counts()"
   ]
  },
  {
   "cell_type": "code",
   "execution_count": null,
   "id": "eb4c4f22-6512-440f-b308-064c4c107f0d",
   "metadata": {},
   "outputs": [],
   "source": [
    "df[df['Make'].isin(['Raytheon'])]['Aircraft_Category'].value_counts(dropna=False)"
   ]
  },
  {
   "cell_type": "code",
   "execution_count": null,
   "id": "738f21a0-ae18-4548-bf7e-3a80d628305a",
   "metadata": {},
   "outputs": [],
   "source": [
    "df.loc[df['Make'].isin(['Fairchild Hiller']), 'Aircraft_Category'] = 'Helicopter'\n",
    "df.loc[df['Make'].isin(['Britten Norman', 'Raytheon']), 'Aircraft_Category'] = 'Airplane'\n",
    "\n",
    "# Show Make values whose Aircraft_Category value is NaN\n",
    "df[df['Aircraft_Category'].isna()]['Make'].value_counts()"
   ]
  },
  {
   "cell_type": "code",
   "execution_count": null,
   "id": "54265f06-321c-4663-8689-e2c2c02861eb",
   "metadata": {},
   "outputs": [],
   "source": [
    "df[df['Make'].isin(['Diamond'])]['Aircraft_Category'].value_counts(dropna=False)"
   ]
  },
  {
   "cell_type": "code",
   "execution_count": null,
   "id": "1225d837-f5e3-4344-9eba-ae86b5ba795d",
   "metadata": {},
   "outputs": [],
   "source": [
    "df.loc[df['Make'].isin(['Agusta']), 'Aircraft_Category'] = 'Helicopter'\n",
    "df.loc[df['Make'].isin(['Pilatus', 'Diamond']), 'Aircraft_Category'] = 'Airplane'\n",
    "\n",
    "# Show Make values whose Aircraft_Category value is NaN\n",
    "df[df['Aircraft_Category'].isna()]['Make'].value_counts()"
   ]
  },
  {
   "cell_type": "code",
   "execution_count": null,
   "id": "dfeb8a85-7306-4ecf-9cc3-81bd8fd05fef",
   "metadata": {},
   "outputs": [],
   "source": [
    "df[df['Make'].isin(['Continental Copters'])]['Aircraft_Category'].value_counts(dropna=False)"
   ]
  },
  {
   "cell_type": "code",
   "execution_count": null,
   "id": "62949f90-cbae-46ef-bc20-f483460ed6b7",
   "metadata": {},
   "outputs": [],
   "source": [
    "df.loc[df['Make'].isin(['Continental Copters']), 'Aircraft_Category'] = 'Helicopter'\n",
    "df.loc[df['Make'].isin(['Alon', 'Hawker']), 'Aircraft_Category'] = 'Airplane'\n",
    "\n",
    "# Show Make values whose Aircraft_Category value is NaN\n",
    "df[df['Aircraft_Category'].isna()]['Make'].value_counts()"
   ]
  },
  {
   "cell_type": "code",
   "execution_count": null,
   "id": "a907a877-50c2-4323-92bb-0a579450ffef",
   "metadata": {},
   "outputs": [],
   "source": [
    "df[df['Make'].isin(['Republic'])]['Aircraft_Category'].value_counts(dropna=False)"
   ]
  },
  {
   "cell_type": "code",
   "execution_count": null,
   "id": "d931f6c8-b868-48b0-b136-bdcd56b7b75c",
   "metadata": {},
   "outputs": [],
   "source": [
    "df.loc[df['Make'].isin(['Texas Helicopter']), 'Aircraft_Category'] = 'Helicopter'\n",
    "df.loc[df['Make'].isin(['American Champion', 'Republic']), 'Aircraft_Category'] = 'Airplane'\n",
    "\n",
    "# Show Make values whose Aircraft_Category value is NaN\n",
    "df[df['Aircraft_Category'].isna()]['Make'].value_counts()"
   ]
  },
  {
   "cell_type": "code",
   "execution_count": null,
   "id": "a3982ff3-a3e1-4e46-93c2-45ae86411a88",
   "metadata": {},
   "outputs": [],
   "source": [
    "df[df['Make'].isin(['Dornier'])]['Aircraft_Category'].value_counts(dropna=False)"
   ]
  },
  {
   "cell_type": "code",
   "execution_count": null,
   "id": "0ab8cd2d-3c68-444b-85c3-98936cbea9d2",
   "metadata": {},
   "outputs": [],
   "source": [
    "df.loc[df['Make'].isin(['Homebuilt', 'Rans', 'Dornier']), 'Aircraft_Category'] = 'Airplane'\n",
    "\n",
    "# Show Make values whose Aircraft_Category value is NaN\n",
    "df[df['Aircraft_Category'].isna()]['Make'].value_counts()"
   ]
  },
  {
   "cell_type": "code",
   "execution_count": null,
   "id": "bcd25dd4-88a7-4b66-84a0-5a5d45356ee4",
   "metadata": {},
   "outputs": [],
   "source": [
    "df[df['Make'].isin(['Israel Aircraft Industries'])]['Aircraft_Category'].value_counts(dropna=False)"
   ]
  },
  {
   "cell_type": "code",
   "execution_count": null,
   "id": "9bc9e733-6926-4812-b37d-35c9569bd685",
   "metadata": {},
   "outputs": [],
   "source": [
    "df.loc[df['Make'].isin(['I.c.a. Brasov']), 'Aircraft_Category'] = 'Glider'\n",
    "df.loc[df['Make'].isin(['Siai Marchetti', 'Israel Aircraft Industries']), 'Aircraft_Category'] = 'Airplane'\n",
    "\n",
    "# Show Make values whose Aircraft_Category value is NaN\n",
    "df[df['Aircraft_Category'].isna()]['Make'].value_counts()"
   ]
  },
  {
   "cell_type": "code",
   "execution_count": null,
   "id": "fcfce85a-49b8-4699-ba35-3c03de5fa4f7",
   "metadata": {},
   "outputs": [],
   "source": [
    "df[df['Make'].isin(['Quicksilver'])]['Aircraft_Category'].value_counts(dropna=False)"
   ]
  },
  {
   "cell_type": "code",
   "execution_count": null,
   "id": "07267593-7d8d-481a-b2ec-2b30a8c3ddc6",
   "metadata": {},
   "outputs": [],
   "source": [
    "df.loc[df['Make'].isin(['Snow', 'Yakovlev', 'Quicksilver']), 'Aircraft_Category'] = 'Airplane'\n",
    "\n",
    "# Show Make values whose Aircraft_Category value is NaN\n",
    "df[df['Aircraft_Category'].isna()]['Make'].value_counts()"
   ]
  },
  {
   "cell_type": "code",
   "execution_count": null,
   "id": "53afe37c-600c-4d3b-be3c-5502b397927e",
   "metadata": {},
   "outputs": [],
   "source": [
    "df[df['Make'].isin(['Callair'])]['Aircraft_Category'].value_counts(dropna=False)"
   ]
  },
  {
   "cell_type": "code",
   "execution_count": null,
   "id": "93f5e80f-07c9-4758-b2ac-8882fd738838",
   "metadata": {},
   "outputs": [],
   "source": [
    "df.loc[df['Make'].isin(['Adams Balloon']), 'Aircraft_Category'] = 'Balloon'\n",
    "df.loc[df['Make'].isin(['Lancair', 'Callair']), 'Aircraft_Category'] = 'Airplane'\n",
    "\n",
    "# Show Make values whose Aircraft_Category value is NaN\n",
    "df[df['Aircraft_Category'].isna()]['Make'].value_counts()"
   ]
  },
  {
   "cell_type": "code",
   "execution_count": null,
   "id": "5998aac8-53c5-40cf-95a4-139309758bc5",
   "metadata": {},
   "outputs": [],
   "source": [
    "df[df['Make'].isin(['Quickie'])]['Aircraft_Category'].value_counts(dropna=False)"
   ]
  },
  {
   "cell_type": "code",
   "execution_count": null,
   "id": "71cc446a-1e0d-4fa4-9c95-89d9d217169b",
   "metadata": {},
   "outputs": [],
   "source": [
    "df.loc[df['Make'].isin(['Thunder And Colt']), 'Aircraft_Category'] = 'Balloon'\n",
    "df.loc[df['Make'].isin(['Varga', 'Quickie']), 'Aircraft_Category'] = 'Airplane'\n",
    "\n",
    "# Show Make values whose Aircraft_Category value is NaN\n",
    "df[df['Aircraft_Category'].isna()]['Make'].value_counts()"
   ]
  },
  {
   "cell_type": "code",
   "execution_count": null,
   "id": "b3047b75-0b7b-47fe-91f6-82150835a264",
   "metadata": {},
   "outputs": [],
   "source": [
    "# Show Make values whose Aircraft_Category value is NaN if there are over 15\n",
    "df[df['Aircraft_Category'].isna()]['Make'].value_counts()[df[df['Aircraft_Category'].isna()]['Make'].value_counts() > 15]"
   ]
  },
  {
   "cell_type": "code",
   "execution_count": null,
   "id": "693bd9f0-f550-42c9-9c42-b2f7254d5a3f",
   "metadata": {},
   "outputs": [],
   "source": [
    "df[df['Make'].isin(['Glaser-dirks'])]['Aircraft_Category'].value_counts(dropna=False)"
   ]
  },
  {
   "cell_type": "code",
   "execution_count": null,
   "id": "41cd2f42-ec81-459a-9984-1d4276636e09",
   "metadata": {},
   "outputs": [],
   "source": [
    "df.loc[df['Make'].isin(['Barnes']), 'Aircraft_Category'] = 'Balloon'\n",
    "df.loc[df['Make'].isin(['Glasflugel', 'Glaser-dirks']), 'Aircraft_Category'] = 'Glider'\n",
    "df.loc[df['Make'].isin(['Garlick']), 'Aircraft_Category'] = 'Helicopter'\n",
    "df.loc[df['Make'].isin(['Extra', 'Curtiss Wright', 'Kolb', 'Glasair', 'ATR', 'Casa', 'Temco', 'Johnson', 'Classic Aircraft Corp', 'Davis', 'Miller', 'Forney']), 'Aircraft_Category'] = 'Airplane'\n",
    "\n",
    "# Show Make values whose Aircraft_Category value is NaN\n",
    "df[df['Aircraft_Category'].isna()]['Make'].value_counts()"
   ]
  },
  {
   "cell_type": "code",
   "execution_count": null,
   "id": "fe1e6d1f-de80-4fab-a52c-97ccdfe322fa",
   "metadata": {},
   "outputs": [],
   "source": [
    "# Show Make values whose Aircraft_Category value is NaN if there are over 10\n",
    "df[df['Aircraft_Category'].isna()]['Make'].value_counts()[df[df['Aircraft_Category'].isna()]['Make'].value_counts() > 10]"
   ]
  },
  {
   "cell_type": "code",
   "execution_count": null,
   "id": "cb5c8126-d707-4a05-ad91-8fadd98f7f02",
   "metadata": {},
   "outputs": [],
   "source": [
    "df[df['Make'].isin(['Partenavia'])]['Aircraft_Category'].value_counts(dropna=False)"
   ]
  },
  {
   "cell_type": "code",
   "execution_count": null,
   "id": "4ffdabd0-7742-47b8-ab53-a9a7f941d81e",
   "metadata": {},
   "outputs": [],
   "source": [
    "df.loc[df['Make'].isin(['Bensen', 'Air & Space']), 'Aircraft_Category'] = 'Gyrocraft'\n",
    "df.loc[df['Make'].isin(['Pterodactyl', 'Weedhopper']), 'Aircraft_Category'] = 'Ultralight'\n",
    "df.loc[df['Make'].isin(['Eiriavion Oy']), 'Aircraft_Category'] = 'Glider'\n",
    "df.loc[df['Make'].isin(['Interstate', 'Sukhoi', 'Artic Aircraft Corp.', 'Vans', 'Rotec', 'Thorp', 'Anderson Aircraft Corp.', 'American General Aircraft', 'Culver', 'Mitchell', 'Stearman', 'Aerofab Inc.', 'Hall', 'Taylor', 'Nord', 'Jones', 'Hispano Aviacion', 'Young', 'Rutan', 'Naval Aircraft Factory', 'Howard Aircraft', 'Steen', 'Teratorn', 'Meyers', 'Starduster', 'Partenavia']), 'Aircraft_Category'] = 'Airplane'\n",
    "\n",
    "# Show Make values whose Aircraft_Category value is NaN\n",
    "df[df['Aircraft_Category'].isna()]['Make'].value_counts()"
   ]
  },
  {
   "cell_type": "code",
   "execution_count": null,
   "id": "a3156574-421d-4eea-9674-02e421cdd676",
   "metadata": {},
   "outputs": [],
   "source": [
    "# Show Make values whose Aircraft_Category value is NaN if there are over 5 and under 11\n",
    "blanks_over_5 = df[df['Aircraft_Category'].isna()]['Make'].value_counts()[(df[df['Aircraft_Category'].isna()]['Make'].value_counts() > 5)]\n",
    "\n",
    "# Show blank_over_5 below 11\n",
    "blanks_over_5[blanks_over_5 < 11]"
   ]
  },
  {
   "cell_type": "code",
   "execution_count": null,
   "id": "5ee688b5-031c-431d-91a0-e0d38600f859",
   "metadata": {},
   "outputs": [],
   "source": [
    "df[df['Make'].isin(['Hayes'])]['Aircraft_Category'].value_counts(dropna=False)"
   ]
  },
  {
   "cell_type": "code",
   "execution_count": null,
   "id": "39e0d0e3-4146-46f6-840d-4b96e29d96cd",
   "metadata": {},
   "outputs": [],
   "source": [
    "df.loc[df['Make'].isin(['Benson']), 'Aircraft_Category'] = 'Gyrocraft'\n",
    "df.loc[df['Make'].isin(['American Aerolights']), 'Aircraft_Category'] = 'Ultralight'\n",
    "df.loc[df['Make'].isin(['Maxair', 'Bede Aircraft', 'Martin']), 'Aircraft_Category'] = 'Airplane'\n",
    "\n",
    "# Show Make values whose Aircraft_Category value is NaN\n",
    "df[df['Aircraft_Category'].isna()]['Make'].value_counts()"
   ]
  },
  {
   "cell_type": "code",
   "execution_count": null,
   "id": "b6f88924-32b4-48ea-ad41-2d9161aaf14b",
   "metadata": {},
   "outputs": [],
   "source": [
    "# Show Make value_counts over 10\n",
    "makes_value_10 = df['Make'].value_counts()[df['Make'].value_counts() > 10]\n",
    "makes_value_10"
   ]
  },
  {
   "cell_type": "code",
   "execution_count": null,
   "id": "3b83795e-c1f7-4689-b91f-19d51800f6ac",
   "metadata": {},
   "outputs": [],
   "source": [
    "# Show the Aircraft_Category value_counts for makes_value_10 including NaN\n",
    "df[df['Make'].isin(makes_value_10.index)]['Aircraft_Category'].value_counts(dropna=False)"
   ]
  },
  {
   "cell_type": "markdown",
   "id": "7f85f8ee-161c-43bb-9cce-ef708616c62c",
   "metadata": {},
   "source": [
    "Go ahead here and combine NaN and Unknown in the category column."
   ]
  },
  {
   "cell_type": "code",
   "execution_count": null,
   "id": "78acf10c-8852-4cd1-8a30-183044108854",
   "metadata": {},
   "outputs": [],
   "source": [
    "# Make NaN category 'Unknown'\n",
    "df.loc[df['Aircraft_Category'].isna(), 'Aircraft_Category'] = 'Unknown'"
   ]
  },
  {
   "cell_type": "code",
   "execution_count": null,
   "id": "0c21715e-3021-43f6-b79b-8c2bb4b67428",
   "metadata": {},
   "outputs": [],
   "source": [
    "# Show the Aircraft_Category value_counts for makes_value_10 including NaN\n",
    "df[df['Make'].isin(makes_value_10.index)]['Aircraft_Category'].value_counts(dropna=False)"
   ]
  },
  {
   "cell_type": "code",
   "execution_count": null,
   "id": "577613d8-1ab6-499f-84e3-1badefc92a09",
   "metadata": {},
   "outputs": [],
   "source": [
    "# Make WSFT category 'Weight-Shift'\n",
    "df.loc[df['Aircraft_Category'] == 'WSFT', 'Aircraft_Category'] = 'Weight-Shift'"
   ]
  },
  {
   "cell_type": "markdown",
   "id": "f4fdee3f-183b-48bf-9e46-1c838ba6d175",
   "metadata": {},
   "source": [
    "At this point, the category column is filled in enough"
   ]
  },
  {
   "cell_type": "markdown",
   "id": "8aa6e4b7-3392-4e39-bc41-741d8b952892",
   "metadata": {},
   "source": [
    "# Continue column cleaning"
   ]
  },
  {
   "cell_type": "code",
   "execution_count": null,
   "id": "b6ca016c-5058-4f56-853b-9daf2a321304",
   "metadata": {},
   "outputs": [],
   "source": [
    "df.info()"
   ]
  },
  {
   "cell_type": "code",
   "execution_count": null,
   "id": "190374ab-2c01-4887-9a12-1669b29f6e78",
   "metadata": {},
   "outputs": [],
   "source": [
    "# Show FAR_Description values including NaN\n",
    "df['Weather_Condition'].value_counts(dropna=False)"
   ]
  },
  {
   "cell_type": "code",
   "execution_count": null,
   "id": "837c1648-bee5-4977-ba31-6f181e725626",
   "metadata": {},
   "outputs": [],
   "source": [
    "# Change UNK and Unk to Unknown\n",
    "df.loc[df['Weather_Condition'] == 'Unk', 'Weather_Condition'] = 'Unknown'\n",
    "df.loc[df['Weather_Condition'] == 'UNK', 'Weather_Condition'] = 'Unknown'\n",
    "\n",
    "# Change NaN to Unknown\n",
    "df.loc[df['Weather_Condition'].isna(), 'Weather_Condition'] = 'Unknown'"
   ]
  },
  {
   "cell_type": "code",
   "execution_count": null,
   "id": "3a7ecad9-fb86-42bb-84e4-1e28ea1fd797",
   "metadata": {},
   "outputs": [],
   "source": [
    "# Show FAR_Description values including NaN\n",
    "df['Weather_Condition'].value_counts(dropna=False)"
   ]
  },
  {
   "cell_type": "code",
   "execution_count": null,
   "id": "f911f8a3-3dc3-4860-a22e-d62c9a4c98ff",
   "metadata": {},
   "outputs": [],
   "source": [
    "df['Purpose_of_flight'].value_counts(dropna=False)"
   ]
  },
  {
   "cell_type": "code",
   "execution_count": null,
   "id": "f58e43f9-a9d7-4096-91cc-545e5680cd06",
   "metadata": {},
   "outputs": [],
   "source": [
    "# Change NaN to Unknown\n",
    "df.loc[df['Purpose_of_flight'].isna(), 'Purpose_of_flight'] = 'Unknown'"
   ]
  },
  {
   "cell_type": "code",
   "execution_count": null,
   "id": "ad358579-8eff-475e-bca0-f30b4f129f0b",
   "metadata": {},
   "outputs": [],
   "source": [
    "df['Broad_phase_of_flight'].value_counts(dropna=False)"
   ]
  },
  {
   "cell_type": "code",
   "execution_count": null,
   "id": "60785516-3326-453e-b56a-02ec7b85bef0",
   "metadata": {},
   "outputs": [],
   "source": [
    "# Change NaN to Unknown\n",
    "df.loc[df['Broad_phase_of_flight'].isna(), 'Broad_phase_of_flight'] = 'Unknown'\n",
    "\n",
    "# Change Other to Unknown\n",
    "df.loc[df['Broad_phase_of_flight'] == 'Other', 'Broad_phase_of_flight'] = 'Unknown'"
   ]
  },
  {
   "cell_type": "code",
   "execution_count": null,
   "id": "5e0296fa-6271-4900-8a96-6051ed51716f",
   "metadata": {},
   "outputs": [],
   "source": [
    "df['Broad_phase_of_flight'].value_counts(dropna=False)"
   ]
  },
  {
   "cell_type": "code",
   "execution_count": null,
   "id": "9c5d5ad3-cf04-494e-be87-5f070eefb8ef",
   "metadata": {},
   "outputs": [],
   "source": [
    "df['Engine_Type'].value_counts(dropna=False)"
   ]
  },
  {
   "cell_type": "code",
   "execution_count": null,
   "id": "30c98340-b235-4bc1-8f6d-35d454358ccb",
   "metadata": {},
   "outputs": [],
   "source": [
    "# Change NaN to Unknown\n",
    "df.loc[df['Engine_Type'].isna(), 'Engine_Type'] = 'Unknown'\n",
    "\n",
    "# Change UNK to Unknown\n",
    "df.loc[df['Engine_Type'] == 'UNK', 'Engine_Type'] = 'Unknown'"
   ]
  },
  {
   "cell_type": "code",
   "execution_count": null,
   "id": "9ef820dd-a47d-40d5-ace9-b191e24758b3",
   "metadata": {},
   "outputs": [],
   "source": [
    "df['Engine_Type'].value_counts(dropna=False)"
   ]
  },
  {
   "cell_type": "code",
   "execution_count": null,
   "id": "9715266b-67a4-477e-b9fe-629f039d07ca",
   "metadata": {},
   "outputs": [],
   "source": [
    "df.info()"
   ]
  },
  {
   "cell_type": "code",
   "execution_count": null,
   "id": "1be6a1a3-6316-4be3-a458-8766bb83ab48",
   "metadata": {},
   "outputs": [],
   "source": [
    "df['Total_Fatal_Injuries'].value_counts(dropna=False)"
   ]
  },
  {
   "cell_type": "code",
   "execution_count": null,
   "id": "db65b355-c2c5-462a-b466-a0c7dc02e86f",
   "metadata": {},
   "outputs": [],
   "source": [
    "# Change NaN to 0 in Injury columns\n",
    "df.loc[df['Total_Fatal_Injuries'].isna(), 'Total_Fatal_Injuries'] = 0\n",
    "df.loc[df['Total_Serious_Injuries'].isna(), 'Total_Serious_Injuries'] = 0\n",
    "df.loc[df['Total_Minor_Injuries'].isna(), 'Total_Minor_Injuries'] = 0\n",
    "df.loc[df['Total_Uninjured'].isna(), 'Total_Uninjured'] = 0"
   ]
  },
  {
   "cell_type": "code",
   "execution_count": null,
   "id": "c5a004eb-0ee9-4126-b0e9-9c158b601e4d",
   "metadata": {},
   "outputs": [],
   "source": [
    "df['Location'].value_counts(dropna=False)"
   ]
  },
  {
   "cell_type": "code",
   "execution_count": null,
   "id": "8af3d906-b907-4591-a501-d4b922ee42d8",
   "metadata": {},
   "outputs": [],
   "source": [
    "# Change NaN to Unknown\n",
    "df.loc[df['Location'].isna(), 'Location'] = 'Unknown'"
   ]
  },
  {
   "cell_type": "code",
   "execution_count": null,
   "id": "9f01a087-2b92-4b79-b111-a23b1b3787e6",
   "metadata": {},
   "outputs": [],
   "source": [
    "df.info()"
   ]
  },
  {
   "cell_type": "markdown",
   "id": "6d8c84dc-8923-4a02-9d68-b9446d3b50a2",
   "metadata": {},
   "source": [
    "Looking through the values for Make, I see that it may need more attention, and would like to try another method\n",
    "by going through the makes alphabetically."
   ]
  },
  {
   "cell_type": "code",
   "execution_count": null,
   "id": "df75bb1a-6f68-4cb3-8b89-3cf6adbd637d",
   "metadata": {},
   "outputs": [],
   "source": [
    "# Let's go back to the Make column and clean further\n",
    "# Show most popular makes beginning with 'A'\n",
    "df[df['Make'].str.lower().str.startswith('a', na=False)].value_counts('Make').head(20)"
   ]
  },
  {
   "cell_type": "code",
   "execution_count": null,
   "id": "da005df3-4689-4de7-9891-8afb331f9f8d",
   "metadata": {},
   "outputs": [],
   "source": [
    "df.loc[df['Make'].str.lower().str.startswith('aeron', na=False), 'Make'] = 'Aeronca'\n",
    "df.loc[df['Make'].str.lower().str.startswith('air tra', na=False), 'Make'] = 'Air Tractor'\n",
    "df.loc[df['Make'].str.lower().str.startswith('aero comm', na=False), 'Make'] = 'Aero Commander'\n",
    "df.loc[df['Make'].str.lower().str.startswith('ayre', na=False), 'Make'] = 'Ayres'\n",
    "df.loc[df['Make'].str.lower().str.startswith('aerosp', na=False), 'Make'] = 'Aerospatiale'\n",
    "df.loc[df['Make'].str.lower().str.startswith('airb', na=False), 'Make'] = 'Airbus'\n",
    "df.loc[df['Make'].str.lower().str.startswith('avia', na=False), 'Make'] = 'Aviat'"
   ]
  },
  {
   "cell_type": "code",
   "execution_count": null,
   "id": "0ade736a-6c05-4ce3-990e-81e9c730b9b5",
   "metadata": {},
   "outputs": [],
   "source": [
    "# Show most popular makes beginning with 'A'\n",
    "df[df['Make'].str.lower().str.startswith('a', na=False)].value_counts('Make').head(20)"
   ]
  },
  {
   "cell_type": "code",
   "execution_count": null,
   "id": "767ee2d5-e715-401b-99ea-41f5d2568075",
   "metadata": {},
   "outputs": [],
   "source": [
    "df.loc[df['Make'].str.lower().str.startswith('agus', na=False), 'Make'] = 'Agusta'\n",
    "df.loc[df['Make'].str.lower().str.startswith('american cha', na=False), 'Make'] = 'American Champion'\n",
    "df.loc[df['Make'].str.lower().str.startswith('american av', na=False), 'Make'] = 'American'\n",
    "df.loc[df['Make'].str.lower().str.startswith('american leg', na=False), 'Make'] = 'American Legend'"
   ]
  },
  {
   "cell_type": "code",
   "execution_count": null,
   "id": "0a57f8b8-1e79-40a5-9559-2aae9cb4fe41",
   "metadata": {},
   "outputs": [],
   "source": [
    "# Show me most popular makes beginning with 'A'\n",
    "df[df['Make'].str.lower().str.startswith('american g', na=False)].value_counts('Make').head(20)"
   ]
  },
  {
   "cell_type": "code",
   "execution_count": null,
   "id": "5fa962a9-3b8f-4320-9b7f-9dc14af23570",
   "metadata": {},
   "outputs": [],
   "source": [
    "# Show me most popular makes beginning with 'A'\n",
    "df[df['Make'].str.lower().str.startswith('american', na=False)].value_counts('Make').head(20)"
   ]
  },
  {
   "cell_type": "code",
   "execution_count": null,
   "id": "29ec79a4-6f67-4aba-b542-d5d21273ffc4",
   "metadata": {},
   "outputs": [],
   "source": [
    "# Show me most popular makes beginning with 'A'\n",
    "df[df['Make'].str.lower().str.startswith('american b', na=False)].value_counts('Make').head(20)"
   ]
  },
  {
   "cell_type": "code",
   "execution_count": null,
   "id": "a0d0bd13-09ec-4a27-a51f-6e5d2823eb5a",
   "metadata": {},
   "outputs": [],
   "source": [
    "df.loc[df['Make'].str.lower().str.startswith('american b', na=False), 'Make'] = 'American Blimp'"
   ]
  },
  {
   "cell_type": "code",
   "execution_count": null,
   "id": "4c5578ea-fb73-42b9-86c2-4a5a0ea797d2",
   "metadata": {},
   "outputs": [],
   "source": [
    "# Show me most popular makes beginning with 'A'\n",
    "df[df['Make'].str.lower().str.startswith('american', na=False)].value_counts('Make').head(20)"
   ]
  },
  {
   "cell_type": "code",
   "execution_count": null,
   "id": "eecac46a-53b4-40e7-8c9e-5e69c7b25bda",
   "metadata": {},
   "outputs": [],
   "source": [
    "# Show me most popular makes beginning with 'A'\n",
    "df[df['Make'].str.lower().str.startswith('american eu', na=False)].value_counts('Make').head(20)"
   ]
  },
  {
   "cell_type": "code",
   "execution_count": null,
   "id": "b8bad4c3-9ddc-46fe-ba04-ec36cdcab76d",
   "metadata": {},
   "outputs": [],
   "source": [
    "df.loc[df['Make'].str.lower().str.startswith('american eu', na=False), 'Make'] = 'American Eurocopter'"
   ]
  },
  {
   "cell_type": "code",
   "execution_count": null,
   "id": "a1955e28-ec43-4d22-aefd-f3d070ed93ba",
   "metadata": {},
   "outputs": [],
   "source": [
    "# Show me most popular makes beginning with 'B'\n",
    "df[df['Make'].str.lower().str.startswith('b', na=False)].value_counts('Make').head(20)"
   ]
  },
  {
   "cell_type": "code",
   "execution_count": null,
   "id": "bc7f14ef-40b2-425b-969f-3a28eacbecaf",
   "metadata": {},
   "outputs": [],
   "source": [
    "# Show me most popular makes beginning with 'B'\n",
    "df[df['Make'].str.lower().str.startswith('bell', na=False)].value_counts('Make').head(20)"
   ]
  },
  {
   "cell_type": "code",
   "execution_count": null,
   "id": "445cb0e9-c2b2-4207-acc9-1be3b7f6c00a",
   "metadata": {},
   "outputs": [],
   "source": [
    "df.loc[df['Make'].str.lower().str.startswith('bell h', na=False), 'Make'] = 'Bell'"
   ]
  },
  {
   "cell_type": "code",
   "execution_count": null,
   "id": "ef5b1c91-e07f-4c9f-bedf-0b553d2e74d3",
   "metadata": {},
   "outputs": [],
   "source": [
    "df[df['Make'].str.lower().str.startswith('bell', na=False)].value_counts('Make').head(20)"
   ]
  },
  {
   "cell_type": "code",
   "execution_count": null,
   "id": "bf6844f9-02b9-4fd5-bcf0-aab4887237bb",
   "metadata": {},
   "outputs": [],
   "source": [
    "df.loc[df['Make'].str.lower().str.startswith('bella', na=False), 'Make'] = 'Bellanca'\n",
    "df.loc[df['Make'].str.lower().str.startswith('bell-', na=False), 'Make'] = 'Bell'\n",
    "df.loc[df['Make'].str.lower().str.startswith('bell/', na=False), 'Make'] = 'Bell'\n",
    "df.loc[df['Make'].str.lower().str.startswith('bell t', na=False), 'Make'] = 'Bell'\n",
    "df.loc[df['Make'].str.lower().str.startswith('bell b', na=False), 'Make'] = 'Bell'\n",
    "df.loc[df['Make'].str.lower().str.startswith('bell 4', na=False), 'Make'] = 'Bell'\n",
    "df.loc[df['Make'].str.lower().str.startswith('bell s', na=False), 'Make'] = 'Bell'"
   ]
  },
  {
   "cell_type": "code",
   "execution_count": null,
   "id": "e580a789-a649-4a3f-89ed-f09ec1a03a1b",
   "metadata": {},
   "outputs": [],
   "source": [
    "df[df['Make'].str.lower().str.startswith('bell', na=False)].value_counts('Make').head(20)"
   ]
  },
  {
   "cell_type": "code",
   "execution_count": null,
   "id": "83b74160-a152-44c4-bec4-6ae6d91159c1",
   "metadata": {},
   "outputs": [],
   "source": [
    "# Show me most popular makes beginning with 'B'\n",
    "df[df['Make'].str.lower().str.startswith('boe', na=False)].value_counts('Make').head(20)"
   ]
  },
  {
   "cell_type": "code",
   "execution_count": null,
   "id": "e683c470-d2aa-4160-a617-017488b4d5e9",
   "metadata": {},
   "outputs": [],
   "source": [
    "df.loc[df['Make'].str.lower().str.startswith('boeing h', na=False), 'Make'] = 'Boeing Helicopters'\n",
    "df.loc[df['Make'].str.lower().str.startswith('boeing c', na=False), 'Make'] = 'Boeing'\n",
    "df.loc[df['Make'].str.lower().str.startswith('boeing v', na=False), 'Make'] = 'Boeing'"
   ]
  },
  {
   "cell_type": "code",
   "execution_count": null,
   "id": "dcd21b8d-9e60-4503-8a2f-584d47ca1a64",
   "metadata": {},
   "outputs": [],
   "source": [
    "df[df['Make'].str.lower().str.startswith('b', na=False)].value_counts('Make').head(20)"
   ]
  },
  {
   "cell_type": "code",
   "execution_count": null,
   "id": "4f912e8c-1f56-4b02-9037-dfee5eb358fb",
   "metadata": {},
   "outputs": [],
   "source": [
    "df.loc[df['Make'].str.lower().str.startswith('bens', na=False), 'Make'] = 'Benson'"
   ]
  },
  {
   "cell_type": "code",
   "execution_count": null,
   "id": "dd2c65b5-dafb-4521-830b-b82dc7a94cf2",
   "metadata": {},
   "outputs": [],
   "source": [
    "df[df['Make'].str.lower().str.startswith('c', na=False)].value_counts('Make').head(40)"
   ]
  },
  {
   "cell_type": "code",
   "execution_count": null,
   "id": "bf408bfb-873e-4f43-ae82-3cd074461eaf",
   "metadata": {},
   "outputs": [],
   "source": [
    "df.loc[df['Make'].str.lower().str.startswith('cub', na=False), 'Make'] = 'Cubcrafters'\n",
    "df.loc[df['Make'].str.lower().str.startswith('cirrus', na=False), 'Make'] = 'Cirrus Design'\n",
    "df.loc[df['Make'].str.lower().str.startswith('champ', na=False), 'Make'] = 'Champion'\n",
    "df.loc[df['Make'].str.lower().str.startswith('christ', na=False), 'Make'] = 'Christen Industries'\n",
    "df.loc[df['Make'].str.lower().str.startswith('consol', na=False), 'Make'] = 'Consolidated Aeronautics'"
   ]
  },
  {
   "cell_type": "code",
   "execution_count": null,
   "id": "ddc99abe-88d3-4e3e-8d72-5b9be6657b79",
   "metadata": {},
   "outputs": [],
   "source": [
    "# Show category value_counts for Cameron\n",
    "df[df['Make'] == 'Cameron'].value_counts('Aircraft_Category', dropna=False)"
   ]
  },
  {
   "cell_type": "code",
   "execution_count": null,
   "id": "61dd3315-df8f-49fb-885c-eb71ccd72f2e",
   "metadata": {},
   "outputs": [],
   "source": [
    "df.loc[df['Make'].str.lower().str.startswith('camer', na=False), 'Make'] = 'Cameron Balloons'"
   ]
  },
  {
   "cell_type": "code",
   "execution_count": null,
   "id": "accab972-5c2b-4a5f-bf62-8eeb9097d2ab",
   "metadata": {},
   "outputs": [],
   "source": [
    "df[df['Make'].str.lower().str.startswith('c', na=False)].value_counts('Make').head(40)"
   ]
  },
  {
   "cell_type": "code",
   "execution_count": null,
   "id": "5729eb0f-1a05-4ffa-87e7-31c63e5233e4",
   "metadata": {},
   "outputs": [],
   "source": [
    "df.loc[df['Make'].str.lower().str.startswith('continental c', na=False), 'Make'] = 'Continental Copters'\n",
    "df.loc[df['Make'].str.lower().str.startswith('cosmos', na=False), 'Make'] = 'Cosmos'\n",
    "df.loc[df['Make'].str.lower().str.startswith('curtis', na=False), 'Make'] = 'Curtiss Wright'"
   ]
  },
  {
   "cell_type": "code",
   "execution_count": null,
   "id": "ec4127fd-466c-4087-a75a-791d7305d407",
   "metadata": {},
   "outputs": [],
   "source": [
    "df[df['Make'].str.lower().str.startswith('c', na=False)].value_counts('Make').head(40)"
   ]
  },
  {
   "cell_type": "code",
   "execution_count": null,
   "id": "2330fe52-6f28-4c51-a8c6-502e58414090",
   "metadata": {},
   "outputs": [],
   "source": [
    "df.loc[df['Make'].str.lower().str.startswith('cassu', na=False), 'Make'] = 'Cassutt'\n",
    "df.loc[df['Make'].str.lower().str.startswith('cgs', na=False), 'Make'] = 'CGS Aviation'\n",
    "df.loc[df['Make'].str.lower().str.startswith('continental', na=False), 'Make'] = 'Continental Copters'"
   ]
  },
  {
   "cell_type": "code",
   "execution_count": null,
   "id": "93a0bb43-5063-4c24-9798-92844dd3d4f4",
   "metadata": {},
   "outputs": [],
   "source": [
    "df[df['Make'].str.lower().str.startswith('d', na=False)].value_counts('Make').head(20)"
   ]
  },
  {
   "cell_type": "code",
   "execution_count": null,
   "id": "51d92a25-efa8-4c4a-a25e-6d741e9ec350",
   "metadata": {},
   "outputs": [],
   "source": [
    "df.loc[df['Make'].str.lower().str.startswith('doug', na=False), 'Make'] = 'Douglas'\n",
    "df.loc[df['Make'].str.lower().str.startswith('dorn', na=False), 'Make'] = 'Dornier'"
   ]
  },
  {
   "cell_type": "code",
   "execution_count": null,
   "id": "efd60cbc-4a7c-4fbc-8e3c-bfb9771ad388",
   "metadata": {},
   "outputs": [],
   "source": [
    "df[df['Make'].str.lower().str.startswith('e', na=False)].value_counts('Make').head(30)"
   ]
  },
  {
   "cell_type": "code",
   "execution_count": null,
   "id": "f0f9f63e-4e44-47f9-8b41-cf7717926833",
   "metadata": {},
   "outputs": [],
   "source": [
    "df.loc[df['Make'].str.lower().str.startswith('eagl', na=False), 'Make'] = 'Eagle Aircraft'\n",
    "df.loc[df['Make'].str.lower().str.startswith('embr', na=False), 'Make'] = 'Embraer'\n",
    "df.loc[df['Make'].str.lower().str.startswith('enstrom', na=False), 'Make'] = 'Enstrom'\n",
    "df.loc[df['Make'].str.lower().str.startswith('ercou', na=False), 'Make'] = 'Ercoupe'\n",
    "df.loc[df['Make'].str.lower().str.startswith('euroc', na=False), 'Make'] = 'Eurocopter'\n",
    "df.loc[df['Make'].str.lower().str.startswith('evek', na=False), 'Make'] = 'Evektor Aerotechnik'\n",
    "df.loc[df['Make'].str.lower().str.startswith('extra', na=False), 'Make'] = 'Extra'"
   ]
  },
  {
   "cell_type": "code",
   "execution_count": null,
   "id": "c7c0c06f-fd67-4e3b-b682-c4a7882dadd1",
   "metadata": {},
   "outputs": [],
   "source": [
    "df[df['Make'].str.lower().str.startswith('e', na=False)].value_counts('Make').head(30)"
   ]
  },
  {
   "cell_type": "code",
   "execution_count": null,
   "id": "3565e48d-4fd2-4056-b82e-93f1fd14e7e4",
   "metadata": {},
   "outputs": [],
   "source": [
    "df.loc[df['Make'].str.lower().str.startswith('eaa', na=False), 'Make'] = 'Eaa'\n",
    "df.loc[df['Make'].str.lower().str.startswith('ecli', na=False), 'Make'] = 'Eclipse Aviation'\n",
    "df.loc[df['Make'].str.lower().str.startswith('eip', na=False), 'Make'] = 'Eipper'\n",
    "df.loc[df['Make'].str.lower().str.startswith('eiri', na=False), 'Make'] = 'Eiriavion Oy'\n",
    "df.loc[df['Make'].str.lower().str.startswith('eng', na=False), 'Make'] = 'Engineering & Research'\n",
    "df.loc[df['Make'].str.lower().str.startswith('evol', na=False), 'Make'] = 'Evolution'"
   ]
  },
  {
   "cell_type": "code",
   "execution_count": null,
   "id": "1ffedd91-d9e3-4b04-8152-38fbdb7ea190",
   "metadata": {},
   "outputs": [],
   "source": [
    "df[df['Make'].str.lower().str.startswith('f', na=False)].value_counts('Make').head(30)"
   ]
  },
  {
   "cell_type": "code",
   "execution_count": null,
   "id": "3bff01b8-daad-4165-922d-ce5a4b41c48f",
   "metadata": {},
   "outputs": [],
   "source": [
    "df.loc[df['Make'].str.lower().str.startswith('fairch', na=False), 'Make'] = 'Fairchild'\n",
    "df.loc[df['Make'].str.lower().str.startswith('firef', na=False), 'Make'] = 'Firefly'\n",
    "df.loc[df['Make'].str.lower().str.startswith('fish', na=False), 'Make'] = 'Fisher'\n",
    "df.loc[df['Make'].str.lower().str.startswith('fleet', na=False), 'Make'] = 'Fleet'\n",
    "df.loc[df['Make'].str.lower().str.startswith('flight d', na=False), 'Make'] = 'Flight Design'\n",
    "df.loc[df['Make'].str.lower().str.startswith('flights', na=False), 'Make'] = 'Flightstar'\n",
    "df.loc[df['Make'].str.lower().str.startswith('fokk', na=False), 'Make'] = 'Fokker'"
   ]
  },
  {
   "cell_type": "code",
   "execution_count": null,
   "id": "f99e39ac-869a-40eb-8239-cb146a848d6a",
   "metadata": {},
   "outputs": [],
   "source": [
    "df[df['Make'].str.lower().str.startswith('f', na=False)].value_counts('Make').head(30)"
   ]
  },
  {
   "cell_type": "code",
   "execution_count": null,
   "id": "ddf299a4-00b9-483d-88c1-8e22b34ba9f7",
   "metadata": {},
   "outputs": [],
   "source": [
    "df.loc[df['Make'].str.lower().str.startswith('foug', na=False), 'Make'] = 'Fouga'\n",
    "df.loc[df['Make'].str.lower().str.startswith('found', na=False), 'Make'] = 'Found Aircraft'\n",
    "df.loc[df['Make'].str.lower().str.startswith('funk', na=False), 'Make'] = 'Funk'"
   ]
  },
  {
   "cell_type": "code",
   "execution_count": null,
   "id": "adbfee85-3bd5-4285-adab-e171cff19871",
   "metadata": {},
   "outputs": [],
   "source": [
    "df[df['Make'].str.lower().str.startswith('f', na=False)].value_counts('Make').head(30)"
   ]
  },
  {
   "cell_type": "code",
   "execution_count": null,
   "id": "d1b2cc5c-c903-419a-9022-cba9592ac187",
   "metadata": {},
   "outputs": [],
   "source": [
    "df.loc[df['Make'].str.lower().str.startswith('fant', na=False), 'Make'] = 'Fantasy'"
   ]
  },
  {
   "cell_type": "code",
   "execution_count": null,
   "id": "ad056f84-08a4-49db-ba69-f3c81cce2e9b",
   "metadata": {},
   "outputs": [],
   "source": [
    "df[df['Make'].str.lower().str.startswith('g', na=False)].value_counts('Make').head(30)"
   ]
  },
  {
   "cell_type": "code",
   "execution_count": null,
   "id": "d655db06-3f10-41b3-b321-69e3c457ecc4",
   "metadata": {},
   "outputs": [],
   "source": [
    "df.loc[df['Make'].str.lower().str.startswith('garl', na=False), 'Make'] = 'Garlick'\n",
    "df.loc[df['Make'].str.lower().str.startswith('gates', na=False), 'Make'] = 'Gates Learjet'\n",
    "df.loc[df['Make'].str.lower().str.startswith('general atom', na=False), 'Make'] = 'General Atomics'\n",
    "df.loc[df['Make'].str.lower().str.startswith('glasa', na=False), 'Make'] = 'Glasair'\n",
    "df.loc[df['Make'].str.lower().str.startswith('glassa', na=False), 'Make'] = 'Glasair'\n",
    "df.loc[df['Make'].str.lower().str.startswith('glase', na=False), 'Make'] = 'Glaser Dirks'\n",
    "df.loc[df['Make'].str.lower().str.startswith('glasf', na=False), 'Make'] = 'Glasflugel'\n",
    "df.loc[df['Make'].str.lower().str.startswith('globe', na=False), 'Make'] = 'Globe'\n",
    "df.loc[df['Make'].str.lower().str.startswith('great l', na=False), 'Make'] = 'Great Lakes'\n",
    "df.loc[df['Make'].str.lower().str.startswith('grob', na=False), 'Make'] = 'Grob'\n",
    "df.loc[df['Make'].str.lower().str.startswith('grum', na=False), 'Make'] = 'Grumman'\n",
    "df.loc[df['Make'].str.lower().str.startswith('gulfstr', na=False), 'Make'] = 'Gulfstream'\n",
    "df.loc[df['Make'].str.lower().str.startswith('golden c', na=False), 'Make'] = 'Golden Circle Air'\n",
    "df.loc[df['Make'].str.lower().str.startswith('gren', na=False), 'Make'] = 'Grenier'"
   ]
  },
  {
   "cell_type": "code",
   "execution_count": null,
   "id": "cf4bc95e-72d1-4418-96e8-f674b5bcdbc0",
   "metadata": {},
   "outputs": [],
   "source": [
    "df[df['Make'].str.lower().str.startswith('h', na=False)].value_counts('Make').head(50)"
   ]
  },
  {
   "cell_type": "code",
   "execution_count": null,
   "id": "c548a593-2242-423c-a3c6-40eaf6d7fb5a",
   "metadata": {},
   "outputs": [],
   "source": [
    "df.loc[df['Make'].str.lower().str.startswith('hawk', na=False), 'Make'] = 'Hawker'\n",
    "df.loc[df['Make'].str.lower().str.startswith('head', na=False), 'Make'] = 'Head Balloons'\n",
    "df.loc[df['Make'].str.lower().str.startswith('helio', na=False), 'Make'] = 'Helio'\n",
    "df.loc[df['Make'].str.lower().str.startswith('hiller', na=False), 'Make'] = 'Hiller'\n",
    "df.loc[df['Make'].str.lower().str.startswith('howard', na=False), 'Make'] = 'Howard Aircraft'\n",
    "df.loc[df['Make'].str.lower().str.startswith('hughes', na=False), 'Make'] = 'Hughes Helicopters'"
   ]
  },
  {
   "cell_type": "code",
   "execution_count": null,
   "id": "9b1efe3a-d26b-49b1-857c-e1e3876b60b9",
   "metadata": {},
   "outputs": [],
   "source": [
    "df[df['Make'].str.lower().str.startswith('i', na=False)].value_counts('Make').head(50)"
   ]
  },
  {
   "cell_type": "code",
   "execution_count": null,
   "id": "5c1a572c-35ab-4dd4-a525-dfc28a107bad",
   "metadata": {},
   "outputs": [],
   "source": [
    "df.loc[df['Make'].str.lower().str.startswith('i.c.a', na=False), 'Make'] = 'I.c.a. Brasov'\n",
    "df.loc[df['Make'].str.lower().str.startswith('ica', na=False), 'Make'] = 'I.c.a. Brasov'\n",
    "df.loc[df['Make'].str.lower().str.startswith('icon', na=False), 'Make'] = 'Icon'\n",
    "df.loc[df['Make'].str.lower().str.startswith('indu', na=False), 'Make'] = 'Indus'\n",
    "df.loc[df['Make'].str.lower().str.startswith('infini', na=False), 'Make'] = 'Infinity'\n",
    "df.loc[df['Make'].str.lower().str.startswith('iniz', na=False), 'Make'] = 'Iniziative Industriali Italian'\n",
    "df.loc[df['Make'].str.lower().str.startswith('interp', na=False), 'Make'] = 'Interplane'\n",
    "df.loc[df['Make'].str.lower().str.startswith('intersta', na=False), 'Make'] = 'Interstate'\n",
    "df.loc[df['Make'].str.lower().str.startswith('israel', na=False), 'Make'] = 'Israel Aircraft Industries'"
   ]
  },
  {
   "cell_type": "code",
   "execution_count": null,
   "id": "29e5f5ae-8a70-44f1-9cc2-c1bbd448b717",
   "metadata": {},
   "outputs": [],
   "source": [
    "df[df['Make'].str.lower().str.startswith('j', na=False)].value_counts('Make').head(50)"
   ]
  },
  {
   "cell_type": "code",
   "execution_count": null,
   "id": "f4276399-c268-4eaf-bf91-206ceb09db7e",
   "metadata": {},
   "outputs": [],
   "source": [
    "df.loc[df['Make'].str.lower().str.startswith('jabi', na=False), 'Make'] = 'Jabiru'\n",
    "df.loc[df['Make'].str.lower().str.startswith('jihl', na=False), 'Make'] = 'Jihlavan'\n",
    "df.loc[df['Make'].str.lower().str.startswith('jode', na=False), 'Make'] = 'Jodel'\n",
    "df.loc[df['Make'].str.lower().str.startswith('johns', na=False), 'Make'] = 'Johnson'\n",
    "df.loc[df['Make'].str.lower().str.startswith('jones', na=False), 'Make'] = 'Jones'\n",
    "df.loc[df['Make'].str.lower().str.startswith('just', na=False), 'Make'] = 'Just Aircraft'"
   ]
  },
  {
   "cell_type": "code",
   "execution_count": null,
   "id": "8b65fecc-fcc6-4728-95e9-958ebb2b217f",
   "metadata": {},
   "outputs": [],
   "source": [
    "df[df['Make'].str.lower().str.startswith('k', na=False)].value_counts('Make').head(50)"
   ]
  },
  {
   "cell_type": "code",
   "execution_count": null,
   "id": "1ffef4a8-e9ac-4475-bc63-9d03e2f14a9b",
   "metadata": {},
   "outputs": [],
   "source": [
    "df.loc[df['Make'].str.lower().str.startswith('kama', na=False), 'Make'] = 'Kaman'\n",
    "df.loc[df['Make'].str.lower().str.startswith('kawa', na=False), 'Make'] = 'Kawasaki'\n",
    "df.loc[df['Make'].str.lower().str.startswith('kitf', na=False), 'Make'] = 'Kitfox'\n",
    "df.loc[df['Make'].str.lower().str.startswith('kolb', na=False), 'Make'] = 'Kolb'\n",
    "df.loc[df['Make'].str.lower().str.startswith('kubic', na=False), 'Make'] = 'Kubicek'"
   ]
  },
  {
   "cell_type": "code",
   "execution_count": null,
   "id": "cd8b7de1-60a1-485a-bd30-d8497dab5429",
   "metadata": {},
   "outputs": [],
   "source": [
    "df[df['Make'].str.lower().str.startswith('l', na=False)].value_counts('Make').head(50)"
   ]
  },
  {
   "cell_type": "code",
   "execution_count": null,
   "id": "5844beb7-e113-4700-8fdb-fa87e6ca9dee",
   "metadata": {},
   "outputs": [],
   "source": [
    "df.loc[df['Make'].str.lower().str.startswith('lake', na=False), 'Make'] = 'Lake'\n",
    "df.loc[df['Make'].str.lower().str.startswith('lanc', na=False), 'Make'] = 'Lancair'\n",
    "df.loc[df['Make'].str.lower().str.startswith('lars', na=False), 'Make'] = 'Larson'\n",
    "df.loc[df['Make'].str.lower().str.startswith('lear', na=False), 'Make'] = 'Learjet'\n",
    "df.loc[df['Make'].str.lower().str.startswith('let', na=False), 'Make'] = 'Let'\n",
    "df.loc[df['Make'].str.lower().str.startswith('liberty', na=False), 'Make'] = 'Liberty'\n",
    "df.loc[df['Make'].str.lower().str.startswith('lindst', na=False), 'Make'] = 'Lindstrand Balloons'\n",
    "df.loc[df['Make'].str.lower().str.startswith('lockh', na=False), 'Make'] = 'Lockheed'\n",
    "df.loc[df['Make'].str.lower().str.startswith('long', na=False), 'Make'] = 'Long'\n",
    "df.loc[df['Make'].str.lower().str.startswith('lusc', na=False), 'Make'] = 'Luscombe'"
   ]
  },
  {
   "cell_type": "code",
   "execution_count": null,
   "id": "60563cf0-03cb-4ce7-a035-ee86d431b6e3",
   "metadata": {},
   "outputs": [],
   "source": [
    "df[df['Make'].str.lower().str.startswith('m', na=False)].value_counts('Make').head(50)"
   ]
  },
  {
   "cell_type": "code",
   "execution_count": null,
   "id": "7b9475c8-359f-4609-a8ac-b920ebd3d258",
   "metadata": {},
   "outputs": [],
   "source": [
    "df.loc[df['Make'].str.lower().str.startswith('martin', na=False), 'Make'] = 'Martin'\n",
    "df.loc[df['Make'].str.lower().str.startswith('maul', na=False), 'Make'] = 'Maule'\n",
    "df.loc[df['Make'].str.lower().str.startswith('MCDONNELL DOUGLAS H', na=False), 'Make'] = 'Mcdonnell Douglas Helicopters'\n",
    "df.loc[df['Make'].str.lower().str.startswith('MCDONNELL DOUGLAS A', na=False), 'Make'] = 'Mcdonnell Douglas'"
   ]
  },
  {
   "cell_type": "code",
   "execution_count": null,
   "id": "88c803de-2413-4dec-9a48-dc204246e784",
   "metadata": {},
   "outputs": [],
   "source": [
    "df[df['Make'].str.lower().str.startswith('mcdonn', na=False)].value_counts('Make').head(50)"
   ]
  },
  {
   "cell_type": "code",
   "execution_count": null,
   "id": "aa638faf-0520-4e02-b679-f68b88e2a6ff",
   "metadata": {},
   "outputs": [],
   "source": [
    "df.loc[df['Make'].str.lower().str.startswith('mcdonnell-douglas', na=False), 'Make'] = 'Mcdonnell Douglas'"
   ]
  },
  {
   "cell_type": "code",
   "execution_count": null,
   "id": "819c4fa4-816a-4e58-9d58-0addc083be69",
   "metadata": {},
   "outputs": [],
   "source": [
    "df[df['Make'].str.lower().str.startswith('mcdonn', na=False)].value_counts('Make').head(50)"
   ]
  },
  {
   "cell_type": "code",
   "execution_count": null,
   "id": "370dc432-848e-4c97-b4bf-0b1788cdff5f",
   "metadata": {},
   "outputs": [],
   "source": [
    "df.loc[(df['Make'] == 'MCDONNELL DOUGLAS') | (df['Make'] == 'McDonnell Douglas'), 'Make'] = 'Mcdonnell Douglas'"
   ]
  },
  {
   "cell_type": "code",
   "execution_count": null,
   "id": "7d60b0aa-1fe0-4064-bb43-05843297da48",
   "metadata": {},
   "outputs": [],
   "source": [
    "df[df['Make'].str.lower().str.startswith('mcdonn', na=False)].value_counts('Make').head(50)"
   ]
  },
  {
   "cell_type": "code",
   "execution_count": null,
   "id": "5d46acea-20a8-4a03-aa97-76e6cd74ba78",
   "metadata": {},
   "outputs": [],
   "source": [
    "df.loc[df['Make'].str.lower().str.startswith('maxair', na=False), 'Make'] = 'Maxair'\n",
    "df.loc[df['Make'].str.lower().str.startswith('mbb', na=False), 'Make'] = 'MBB'\n",
    "df.loc[df['Make'].str.lower().str.startswith('md helicopter', na=False), 'Make'] = 'Md Helicopter'\n",
    "df.loc[df['Make'].str.lower().str.startswith('meyer', na=False), 'Make'] = 'Meyers'\n",
    "df.loc[df['Make'].str.lower().str.startswith('miller', na=False), 'Make'] = 'Miller'\n",
    "df.loc[df['Make'].str.lower().str.startswith('mitsub', na=False), 'Make'] = 'Mitsubishi'\n",
    "df.loc[df['Make'].str.lower().str.startswith('monoco', na=False), 'Make'] = 'Monocoupe'\n",
    "df.loc[df['Make'].str.lower().str.startswith('moone', na=False), 'Make'] = 'Mooney'\n",
    "df.loc[df['Make'].str.lower().str.startswith('morris', na=False), 'Make'] = 'Morrisey'\n",
    "df.loc[df['Make'].str.lower().str.startswith('murph', na=False), 'Make'] = 'Murphy'\n",
    "df.loc[df['Make'].str.lower().str.startswith('messersch', na=False), 'Make'] = 'Messerschmitt'\n",
    "df.loc[df['Make'].str.lower().str.startswith('mikoya', na=False), 'Make'] = 'Mikoyan'\n",
    "df.loc[df['Make'].str.lower().str.startswith('moor', na=False), 'Make'] = 'Moore'\n",
    "df.loc[df['Make'].str.lower().str.startswith('mong', na=False), 'Make'] = 'Mong'"
   ]
  },
  {
   "cell_type": "code",
   "execution_count": null,
   "id": "817400c0-16bc-4941-add8-3af1420dc06c",
   "metadata": {},
   "outputs": [],
   "source": [
    "df[df['Make'].str.lower().str.startswith('n', na=False)].value_counts('Make').head(50)"
   ]
  },
  {
   "cell_type": "code",
   "execution_count": null,
   "id": "fa1a4519-f6b0-45db-b2e9-0a1de4895c02",
   "metadata": {},
   "outputs": [],
   "source": [
    "df.loc[df['Make'].str.lower().str.startswith('nanch', na=False), 'Make'] = 'Nanchang'\n",
    "df.loc[df['Make'].str.lower().str.startswith('navio', na=False), 'Make'] = 'Navion'\n",
    "df.loc[df['Make'].str.lower().str.startswith('nelso', na=False), 'Make'] = 'Nelson'\n",
    "df.loc[df['Make'].str.lower().str.startswith('new pip', na=False), 'Make'] = 'New Piper'\n",
    "df.loc[df['Make'].str.lower().str.startswith('newel', na=False), 'Make'] = 'Newell'\n",
    "df.loc[df['Make'].str.lower().str.startswith('nord', na=False), 'Make'] = 'Nord'\n",
    "df.loc[df['Make'].str.lower().str.startswith('north ame', na=False), 'Make'] = 'North American'\n",
    "df.loc[df['Make'].str.lower().str.startswith('north w', na=False), 'Make'] = 'North Wing'\n",
    "df.loc[df['Make'].str.lower().str.startswith('northw', na=False), 'Make'] = 'North Wing'"
   ]
  },
  {
   "cell_type": "code",
   "execution_count": null,
   "id": "e361de6f-be71-458d-a9a9-fcce4ca10763",
   "metadata": {},
   "outputs": [],
   "source": [
    "df[df['Make'].str.lower().str.startswith('o', na=False)].value_counts('Make').head(50)"
   ]
  },
  {
   "cell_type": "code",
   "execution_count": null,
   "id": "1813caf2-39b4-4bfe-801d-22077c92a3e4",
   "metadata": {},
   "outputs": [],
   "source": [
    "df[df['Make'].str.lower().str.startswith('p', na=False)].value_counts('Make').head(50)"
   ]
  },
  {
   "cell_type": "code",
   "execution_count": null,
   "id": "c8f461e4-59d1-4ac8-adb2-591caff6fb46",
   "metadata": {},
   "outputs": [],
   "source": [
    "df.loc[df['Make'].str.lower().str.startswith('p z', na=False), 'Make'] = 'PZL'\n",
    "df.loc[df['Make'].str.lower().str.startswith('pz', na=False), 'Make'] = 'PZL'\n",
    "df.loc[df['Make'].str.lower().str.startswith('parke', na=False), 'Make'] = 'Parker'\n",
    "df.loc[df['Make'].str.lower().str.startswith('partenav', na=False), 'Make'] = 'Partenavia'\n",
    "df.loc[df['Make'].str.lower().str.startswith('pdp', na=False), 'Make'] = 'PDPS'\n",
    "df.loc[df['Make'].str.lower().str.startswith('perth', na=False), 'Make'] = 'Perth Amboy'\n",
    "df.loc[df['Make'].str.lower().str.startswith('phanto', na=False), 'Make'] = 'Phantom'\n",
    "df.loc[df['Make'].str.lower().str.startswith('philli', na=False), 'Make'] = 'Phillips'\n",
    "df.loc[df['Make'].str.lower().str.startswith('piagg', na=False), 'Make'] = 'Piaggio'\n",
    "df.loc[df['Make'].str.lower().str.startswith('piel', na=False), 'Make'] = 'Piel'\n",
    "df.loc[df['Make'].str.lower().str.startswith('piet', na=False), 'Make'] = 'Pietenpol'\n",
    "df.loc[df['Make'].str.lower().str.startswith('pilat', na=False), 'Make'] = 'Pilatus'\n",
    "df.loc[df['Make'].str.lower().str.startswith('piper', na=False), 'Make'] = 'Piper'\n",
    "df.loc[df['Make'].str.lower().str.startswith('pipest', na=False), 'Make'] = 'Pipestrel'\n",
    "df.loc[df['Make'].str.lower().str.startswith('pitts', na=False), 'Make'] = 'Pitts'\n",
    "df.loc[df['Make'].str.lower().str.startswith('powr', na=False), 'Make'] = 'Powrachute'\n",
    "df.loc[df['Make'].str.lower().str.startswith('progress', na=False), 'Make'] = 'Progressive'"
   ]
  },
  {
   "cell_type": "code",
   "execution_count": null,
   "id": "cb1a1c16-1531-4985-b8a3-b5711e04c0a3",
   "metadata": {},
   "outputs": [],
   "source": [
    "df[df['Make'].str.lower().str.startswith('q', na=False)].value_counts('Make').head(50)"
   ]
  },
  {
   "cell_type": "code",
   "execution_count": null,
   "id": "d4eca021-cdbd-4815-9fc8-461d0b8d7a34",
   "metadata": {},
   "outputs": [],
   "source": [
    "df.loc[df['Make'].str.lower().str.startswith('quartz', na=False), 'Make'] = 'Quartz Mountain'\n",
    "df.loc[df['Make'].str.lower().str.startswith('quad', na=False), 'Make'] = 'Quad City'\n",
    "df.loc[df['Make'].str.lower().str.startswith('quest a', na=False), 'Make'] = 'Quest Aircraft'\n",
    "df.loc[(df['Make'] == 'QUEST') | (df['Make'] == 'Quest'), 'Make'] = 'Quest Aircraft'\n",
    "df.loc[df['Make'].str.lower().str.startswith('questa', na=False), 'Make'] = 'Questair'\n",
    "df.loc[df['Make'].str.lower().str.startswith('quickie', na=False), 'Make'] = 'Quickie'\n",
    "df.loc[df['Make'].str.lower().str.startswith('quick s', na=False), 'Make'] = 'Quicksilver'\n",
    "df.loc[df['Make'].str.lower().str.startswith('quicksil', na=False), 'Make'] = 'Quicksilver'\n",
    "df.loc[df['Make'].str.lower().str.startswith('quiks', na=False), 'Make'] = 'Quicksilver'\n",
    "df.loc[df['Make'].str.lower().str.startswith('quinn', na=False), 'Make'] = 'Quinn'"
   ]
  },
  {
   "cell_type": "code",
   "execution_count": null,
   "id": "0e40a92b-5dda-47c1-a554-59a9b2f1dc79",
   "metadata": {},
   "outputs": [],
   "source": [
    "df[df['Make'].str.lower().str.startswith('r', na=False)].value_counts('Make').head(50)"
   ]
  },
  {
   "cell_type": "code",
   "execution_count": null,
   "id": "b0a2d3c2-fe40-4367-a727-40277aef6899",
   "metadata": {},
   "outputs": [],
   "source": [
    "df.loc[df['Make'].str.lower().str.startswith('rans', na=False), 'Make'] = 'Rans'\n",
    "df.loc[df['Make'].str.lower().str.startswith('raven', na=False), 'Make'] = 'Raven'\n",
    "df.loc[df['Make'].str.lower().str.startswith('raythe', na=False), 'Make'] = 'Raytheon'\n",
    "df.loc[df['Make'].str.lower().str.startswith('reims', na=False), 'Make'] = 'Reims Aviation'\n",
    "df.loc[df['Make'].str.lower().str.startswith('remos', na=False), 'Make'] = 'Remos'\n",
    "df.loc[df['Make'].str.lower().str.startswith('republ', na=False), 'Make'] = 'Republic'\n",
    "df.loc[df['Make'].str.lower().str.startswith('revolut', na=False), 'Make'] = 'Revolution Helicopters'\n",
    "df.loc[df['Make'].str.lower().str.startswith('riddel', na=False), 'Make'] = 'Riddell'\n",
    "df.loc[df['Make'].str.lower().str.startswith('robinson', na=False), 'Make'] = 'Robinson Helicopter'\n",
    "df.loc[(df['Make'] == 'ROBIN') | (df['Make'] == 'Robin'), 'Make'] = 'Robin'\n",
    "df.loc[df['Make'].str.lower().str.startswith('rockwell', na=False), 'Make'] = 'Rockwell'\n",
    "df.loc[df['Make'].str.lower().str.startswith('rolladen', na=False), 'Make'] = 'Rolladen-Schneider'\n",
    "df.loc[df['Make'].str.lower().str.startswith('rose', na=False), 'Make'] = 'Rose'\n",
    "df.loc[df['Make'].str.lower().str.startswith('rotec', na=False), 'Make'] = 'Rotec'\n",
    "df.loc[df['Make'].str.lower().str.startswith('rotorw', na=False), 'Make'] = 'Rotorway'\n",
    "df.loc[df['Make'].str.lower().str.startswith('rutan', na=False), 'Make'] = 'Rutan'\n",
    "df.loc[df['Make'].str.lower().str.startswith('ryan', na=False), 'Make'] = 'Ryan'"
   ]
  },
  {
   "cell_type": "code",
   "execution_count": null,
   "id": "489243f0-1e4f-4b85-9133-4f6ef1257b26",
   "metadata": {},
   "outputs": [],
   "source": [
    "df[df['Make'].str.lower().str.startswith('s', na=False)].value_counts('Make').loc[lambda x : x<3].head(60)"
   ]
  },
  {
   "cell_type": "code",
   "execution_count": null,
   "id": "7e239824-3de7-4ac1-a731-32838c8c7258",
   "metadata": {},
   "outputs": [],
   "source": [
    "df.loc[df['Make'].str.lower().str.startswith('saab', na=False), 'Make'] = 'Saab'\n",
    "df.loc[df['Make'].str.lower().str.startswith('scheibe', na=False), 'Make'] = 'Scheibe'\n",
    "df.loc[df['Make'].str.lower().str.startswith('schempp', na=False), 'Make'] = 'Schempp Hirth'\n",
    "df.loc[df['Make'].str.lower().str.startswith('schleich', na=False), 'Make'] = 'Schleicher'\n",
    "df.loc[df['Make'].str.lower().str.startswith('schwei', na=False), 'Make'] = 'Schweizer'\n",
    "df.loc[df['Make'].str.lower().str.startswith('scottish', na=False), 'Make'] = 'Scottish Aviation'\n",
    "df.loc[df['Make'].str.lower().str.startswith('short bro', na=False), 'Make'] = 'Short Brothers'\n",
    "df.loc[df['Make'].str.lower().str.startswith('siai', na=False), 'Make'] = 'Siai Marchetti'\n",
    "df.loc[df['Make'].str.lower().str.startswith('sikors', na=False), 'Make'] = 'Sikorsky'\n",
    "df.loc[df['Make'].str.lower().str.startswith('silva', na=False), 'Make'] = 'Silvaire'\n",
    "df.loc[df['Make'].str.lower().str.startswith('six ch', na=False), 'Make'] = 'Six Chuter'\n",
    "df.loc[df['Make'].str.lower().str.startswith('skykit', na=False), 'Make'] = 'Skykits Corp'\n",
    "df.loc[df['Make'].str.lower().str.startswith('slings', na=False), 'Make'] = 'Slingsby'"
   ]
  },
  {
   "cell_type": "code",
   "execution_count": null,
   "id": "a5fce64d-e179-4e1d-beeb-a4e7f07006a6",
   "metadata": {},
   "outputs": [],
   "source": [
    "df[df['Make'].str.lower().str.startswith('t', na=False)].value_counts('Make').loc[lambda x : x<2].head(60)"
   ]
  },
  {
   "cell_type": "code",
   "execution_count": null,
   "id": "83603dc7-a927-446b-9412-8b3ce88a7c14",
   "metadata": {},
   "outputs": [],
   "source": [
    "df.loc[df['Make'].str.lower().str.startswith('taylorcr', na=False), 'Make'] = 'Taylorcraft'\n",
    "df.loc[df['Make'].str.lower().str.startswith('tecn', na=False), 'Make'] = 'Tecnam'\n",
    "df.loc[df['Make'].str.lower().str.startswith('temco', na=False), 'Make'] = 'Temco'\n",
    "df.loc[df['Make'].str.lower().str.startswith('terato', na=False), 'Make'] = 'Teratorn'\n",
    "df.loc[df['Make'].str.lower().str.startswith('texas h', na=False), 'Make'] = 'Texas Helicopter'\n",
    "df.loc[df['Make'].str.lower().str.startswith('textro', na=False), 'Make'] = 'Textron Aviation'\n",
    "df.loc[df['Make'].str.lower().str.startswith('thorp', na=False), 'Make'] = 'Thorp'\n",
    "df.loc[df['Make'].str.lower().str.startswith('thrush', na=False), 'Make'] = 'Thrush Aircraft'\n",
    "df.loc[df['Make'].str.lower().str.startswith('thunder', na=False), 'Make'] = 'Thunder And Colt'\n",
    "df.loc[df['Make'].str.lower().str.startswith('titan', na=False), 'Make'] = 'Titan'\n",
    "df.loc[df['Make'].str.lower().str.startswith('tl u', na=False), 'Make'] = 'TL Ultralight'\n",
    "df.loc[df['Make'].str.lower().str.startswith('travel', na=False), 'Make'] = 'Travel Air'\n",
    "df.loc[df['Make'].str.lower().str.startswith('trick', na=False), 'Make'] = 'Trick Trikes'\n",
    "df.loc[df['Make'].str.lower().str.startswith('tubb', na=False), 'Make'] = 'Tubbs'\n",
    "df.loc[df['Make'].str.lower().str.startswith('tupole', na=False), 'Make'] = 'Tupolev'\n",
    "df.loc[df['Make'].str.lower().str.startswith('the boei', na=False), 'Make'] = 'Boeing'"
   ]
  },
  {
   "cell_type": "code",
   "execution_count": null,
   "id": "0e7ff62a-ede4-4e3c-bab8-c0e66bd36e27",
   "metadata": {},
   "outputs": [],
   "source": [
    "df[df['Make'].str.lower().str.startswith('u', na=False)].value_counts('Make').loc[lambda x : x>0].head(60)"
   ]
  },
  {
   "cell_type": "code",
   "execution_count": null,
   "id": "cf2c76ac-f6ee-477d-b83c-02548153ae82",
   "metadata": {},
   "outputs": [],
   "source": [
    "df.loc[df['Make'].str.lower().str.startswith('ultrali', na=False), 'Make'] = 'Ultralight Flight'\n",
    "df.loc[df['Make'].str.lower().str.startswith('ultramag', na=False), 'Make'] = 'Ultramagic'\n",
    "df.loc[df['Make'].str.lower().str.startswith('ultravia', na=False), 'Make'] = 'Ultravia Aero'\n",
    "df.loc[df['Make'].str.lower().str.startswith('united cons', na=False), 'Make'] = 'United Consultant Corp.'\n",
    "df.loc[df['Make'].str.lower().str.startswith('univa', na=False), 'Make'] = 'Univair'\n",
    "df.loc[df['Make'].str.lower().str.startswith('universal s', na=False), 'Make'] = 'Universal'\n",
    "df.loc[df['Make'].str.lower().str.startswith('unknow', na=False), 'Make'] = 'Unknown'\n",
    "df.loc[df['Make'].str.lower().str.startswith('unregis', na=False), 'Make'] = 'Unknown'\n",
    "df.loc[df['Make'].str.lower().str.startswith('urban a', na=False), 'Make'] = 'Urban Air'"
   ]
  },
  {
   "cell_type": "code",
   "execution_count": null,
   "id": "83a12a95-f80c-4d67-b042-88d700d2fb5e",
   "metadata": {},
   "outputs": [],
   "source": [
    "df[df['Make'].str.lower().str.startswith('v', na=False)].value_counts('Make').loc[lambda x : x>0].head(60)"
   ]
  },
  {
   "cell_type": "code",
   "execution_count": null,
   "id": "fb1ae4ac-f89d-42ec-921d-8df316dff3a0",
   "metadata": {},
   "outputs": [],
   "source": [
    "df.loc[df['Make'].str.lower().str.startswith('valent', na=False), 'Make'] = 'Valentin'\n",
    "df.loc[df['Make'].str.lower().str.startswith('vans', na=False), 'Make'] = 'Vans'\n",
    "df.loc[df['Make'].str.lower().str.startswith(\"van's\", na=False), 'Make'] = 'Vans'\n",
    "df.loc[df['Make'].str.lower().str.startswith('varga', na=False), 'Make'] = 'Varga'\n",
    "df.loc[df['Make'].str.lower().str.startswith('vari', na=False), 'Make'] = 'Varieze'"
   ]
  },
  {
   "cell_type": "code",
   "execution_count": null,
   "id": "dc88e969-a4ed-4b80-901c-09b1c5b4d593",
   "metadata": {},
   "outputs": [],
   "source": [
    "df[df['Make'].str.lower().str.startswith('vaugh', na=False)].value_counts('Make').loc[lambda x : x>0].head(60)"
   ]
  },
  {
   "cell_type": "code",
   "execution_count": null,
   "id": "536c1b89-577c-4516-b248-e667377aea5c",
   "metadata": {},
   "outputs": [],
   "source": [
    "df.loc[df['Make'].str.lower().str.startswith('vaugh', na=False), 'Make'] = 'Vaughn'"
   ]
  },
  {
   "cell_type": "code",
   "execution_count": null,
   "id": "5cec06a6-0d6d-4738-91b4-a8d7e38ad63b",
   "metadata": {},
   "outputs": [],
   "source": [
    "df[df['Make'].str.lower().str.startswith('w', na=False)].value_counts('Make').loc[lambda x : x<2].head(60)"
   ]
  },
  {
   "cell_type": "code",
   "execution_count": null,
   "id": "4963171b-6d17-44ba-a91e-2ceaeeec11f8",
   "metadata": {},
   "outputs": [],
   "source": [
    "df.loc[df['Make'].str.lower().str.startswith('waco', na=False), 'Make'] = 'Waco'\n",
    "df.loc[df['Make'].str.lower().str.startswith('weatherl', na=False), 'Make'] = 'Weatherly'\n",
    "df.loc[df['Make'].str.lower().str.startswith('weber', na=False), 'Make'] = 'Weber'\n",
    "df.loc[df['Make'].str.lower().str.startswith('westland', na=False), 'Make'] = 'Westland Helicopters'\n",
    "df.loc[df['Make'].str.lower().str.startswith('wheele', na=False), 'Make'] = 'Wheeler'\n",
    "df.loc[df['Make'].str.lower().str.startswith('white', na=False), 'Make'] = 'White'\n",
    "df.loc[df['Make'].str.lower().str.startswith('whittman', na=False), 'Make'] = 'Whittman'\n",
    "df.loc[df['Make'].str.lower().str.startswith('williams hel', na=False), 'Make'] = 'Williams Helicopter'\n",
    "df.loc[df['Make'].str.lower().str.startswith('wsk', na=False), 'Make'] = 'WSK'"
   ]
  },
  {
   "cell_type": "code",
   "execution_count": null,
   "id": "3c488636-e274-4702-a9c5-6218d98ba832",
   "metadata": {},
   "outputs": [],
   "source": [
    "df[df['Make'].str.lower().str.startswith('x', na=False)].value_counts('Make').loc[lambda x : x>0].head(60)"
   ]
  },
  {
   "cell_type": "code",
   "execution_count": null,
   "id": "a3764ff2-7dc7-44aa-a838-5383820d8b7f",
   "metadata": {},
   "outputs": [],
   "source": [
    "df[df['Make'].str.lower().str.startswith('y', na=False)].value_counts('Make').loc[lambda x : x>0].head(60)"
   ]
  },
  {
   "cell_type": "code",
   "execution_count": null,
   "id": "ebe142f1-e511-4fa4-9ddb-52c8c08a23c5",
   "metadata": {},
   "outputs": [],
   "source": [
    "df.loc[df['Make'].str.lower().str.startswith('yamok', na=False), 'Make'] = 'Yamokoski'"
   ]
  },
  {
   "cell_type": "code",
   "execution_count": null,
   "id": "590a230e-57b1-4286-aa52-6043fba2e0c3",
   "metadata": {},
   "outputs": [],
   "source": [
    "df[df['Make'].str.lower().str.startswith('z', na=False)].value_counts('Make').loc[lambda x : x>0].head(60)"
   ]
  },
  {
   "cell_type": "code",
   "execution_count": null,
   "id": "25295b97-71ae-41b1-a3b5-4d3fd15b03de",
   "metadata": {},
   "outputs": [],
   "source": [
    "df.loc[df['Make'].str.lower().str.startswith('zenai', na=False), 'Make'] = 'Zenair'\n",
    "df.loc[df['Make'].str.lower().str.startswith('zeni', na=False), 'Make'] = 'Zenith'\n",
    "df.loc[df['Make'].str.lower().str.startswith('zimmerm', na=False), 'Make'] = 'Zimmerman'\n",
    "df.loc[df['Make'].str.lower().str.startswith('zivk', na=False), 'Make'] = 'Zivko Aeronautics'\n",
    "df.loc[df['Make'].str.lower().str.startswith('zli', na=False), 'Make'] = 'Zlin'"
   ]
  },
  {
   "cell_type": "code",
   "execution_count": null,
   "id": "cb4f3b43-ae39-4f9c-9c0b-b38d630c9cfc",
   "metadata": {},
   "outputs": [],
   "source": [
    "df.loc[df['Make'].str.lower().str.startswith('aero vodo', na=False), 'Make'] = 'Aero Vodochody'\n",
    "df.loc[df['Make'].str.lower().str.startswith('aeromot', na=False), 'Make'] = 'Aeromot'\n",
    "df.loc[df['Make'].str.lower().str.startswith('aeropro', na=False), 'Make'] = 'Aeropro CZ'\n",
    "df.loc[df['Make'].str.lower().str.startswith('aerostar', na=False), 'Make'] = 'Aerostar'\n",
    "df.loc[df['Make'].str.lower().str.startswith('aerotek', na=False), 'Make'] = 'Aerotek'\n",
    "df.loc[df['Make'].str.lower().str.startswith('air cre', na=False), 'Make'] = 'Air Creation'\n",
    "df.loc[df['Make'].str.lower().str.startswith('aircraft mfg', na=False), 'Make'] = 'Aircraft Mfg and Dev'\n",
    "df.loc[df['Make'].str.lower().str.startswith('alon', na=False), 'Make'] = 'Alon'\n",
    "df.loc[df['Make'].str.lower().str.startswith('amateur b', na=False), 'Make'] = 'Amateur Built'\n",
    "df.loc[df['Make'].str.lower().str.startswith('atr', na=False), 'Make'] = 'ATR'\n",
    "df.loc[df['Make'].str.lower().str.startswith('autogyr', na=False), 'Make'] = 'AutoGyro'\n",
    "df.loc[df['Make'].str.lower().str.startswith('avid', na=False), 'Make'] = 'Avid'\n",
    "df.loc[df['Make'].str.lower().str.startswith('balloon w', na=False), 'Make'] = 'Balloon Works'\n",
    "df.loc[df['Make'].str.lower().str.startswith('brantl', na=False), 'Make'] = 'Brantly'\n",
    "df.loc[df['Make'].str.lower().str.startswith('british ae', na=False), 'Make'] = 'British Aerospace'\n",
    "df.loc[df['Make'].str.lower().str.startswith('britten', na=False), 'Make'] = 'Britten Norman'\n",
    "df.loc[df['Make'].str.lower().str.startswith('buckeye', na=False), 'Make'] = 'Buckeye'\n",
    "df.loc[df['Make'].str.lower().str.startswith('burkhart', na=False), 'Make'] = 'Burkhart Grob'\n",
    "df.loc[df['Make'].str.lower().str.startswith('canadair', na=False), 'Make'] = 'Canadair'\n",
    "df.loc[df['Make'].str.lower().str.startswith('cassutt', na=False), 'Make'] = 'Cassutt'\n",
    "df.loc[df['Make'].str.lower().str.startswith('cgs', na=False), 'Make'] = 'CGS Aviation'\n",
    "df.loc[df['Make'].str.lower().str.startswith('classic airc', na=False), 'Make'] = 'Classic Aircraft Corp'\n",
    "df.loc[df['Make'].str.lower().str.startswith('continental', na=False), 'Make'] = 'Continental Copters'\n",
    "df.loc[df['Make'].str.lower().str.startswith('convair', na=False), 'Make'] = 'Convair'\n",
    "df.loc[df['Make'].str.lower().str.startswith('cosmos', na=False), 'Make'] = 'Cosmos'\n",
    "df.loc[df['Make'].str.lower().str.startswith('costruzioni', na=False), 'Make'] = 'Costruzioni Aeronautiche Tecna'\n",
    "df.loc[df['Make'].str.lower().str.startswith('curtis', na=False), 'Make'] = 'Curtiss-Wright'\n",
    "df.loc[df['Make'].str.lower().str.startswith('czech a', na=False), 'Make'] = 'Czech Aircraft Works'\n",
    "df.loc[df['Make'].str.lower().str.startswith('czech s', na=False), 'Make'] = 'Czech Sport Aircraft'\n",
    "df.loc[df['Make'].str.lower().str.startswith('downer', na=False), 'Make'] = 'Downer Aircraft Industries'\n",
    "df.loc[df['Make'].str.lower().str.startswith('pipistrel', na=False), 'Make'] = 'Pipistrel'\n",
    "df.loc[df['Make'].str.lower().str.startswith('socata', na=False), 'Make'] = 'Socata'\n",
    "df.loc[df['Make'].str.lower().str.startswith('sonex', na=False), 'Make'] = 'Sonex'\n",
    "df.loc[df['Make'].str.lower().str.startswith('stearm', na=False), 'Make'] = 'Stearman Aircraft'\n",
    "df.loc[df['Make'].str.lower().str.startswith('steen', na=False), 'Make'] = 'Steen'\n",
    "df.loc[df['Make'].str.lower().str.startswith('stemme', na=False), 'Make'] = 'Stemme'\n",
    "df.loc[df['Make'].str.lower().str.startswith('stinson', na=False), 'Make'] = 'Stinson'\n",
    "df.loc[df['Make'].str.lower().str.startswith('sukh', na=False), 'Make'] = 'Sukhoi'\n",
    "df.loc[df['Make'].str.lower().str.startswith('swearing', na=False), 'Make'] = 'Swearingen'"
   ]
  },
  {
   "cell_type": "code",
   "execution_count": null,
   "id": "7918db65-f277-4a2d-8b00-9b2d02be9e0d",
   "metadata": {},
   "outputs": [],
   "source": [
    "df['Make'].value_counts().loc[lambda x : x>50].head(60)"
   ]
  },
  {
   "cell_type": "code",
   "execution_count": null,
   "id": "3f6ace71-73bc-412f-aca8-c5347098f6f0",
   "metadata": {},
   "outputs": [],
   "source": [
    "df.info()"
   ]
  },
  {
   "cell_type": "markdown",
   "id": "8ab03e48-66ef-488a-b409-0d030b4a4a6e",
   "metadata": {},
   "source": [
    "The airport columns and FAR Description are quite empty and not useful to the intended analysis, so they can be removed"
   ]
  },
  {
   "cell_type": "code",
   "execution_count": null,
   "id": "91624d3f-db68-4e9a-b0a2-854bd398d693",
   "metadata": {},
   "outputs": [],
   "source": [
    "# Remove Columns labelled Airport_Code, Airport_Name, FAR_Description\n",
    "df = df.drop(['Airport_Code', 'Airport_Name', 'FAR_Description'], axis=1)\n",
    "\n",
    "df.info()"
   ]
  },
  {
   "cell_type": "code",
   "execution_count": null,
   "id": "c4c6e7b1-a5c1-42d8-a572-5cc85bfeb958",
   "metadata": {},
   "outputs": [],
   "source": [
    "# Aircraft_damage value_counts\n",
    "df['Aircraft_damage'].value_counts(dropna=False)"
   ]
  },
  {
   "cell_type": "code",
   "execution_count": null,
   "id": "d3315743-4121-4517-ad3b-fe90eecf9e51",
   "metadata": {},
   "outputs": [],
   "source": [
    "# Fill in NaN values in Aircraft_damage with Unknown\n",
    "df['Aircraft_damage'] = df['Aircraft_damage'].fillna('Unknown')\n",
    "\n",
    "df['Aircraft_damage'].value_counts(dropna=False)"
   ]
  },
  {
   "cell_type": "code",
   "execution_count": null,
   "id": "f99c3665-0d6b-4fcb-afe8-6fb6375514b7",
   "metadata": {},
   "outputs": [],
   "source": [
    "df['Aircraft_Category'].value_counts(dropna=False)"
   ]
  },
  {
   "cell_type": "code",
   "execution_count": null,
   "id": "fe45c8e2-4f39-4b6e-849a-7251a76d5ef0",
   "metadata": {},
   "outputs": [],
   "source": [
    "# Fill UNK with Unknown in Category column\n",
    "df['Aircraft_Category'] = df['Aircraft_Category'].replace('UNK', 'Unknown')"
   ]
  },
  {
   "cell_type": "code",
   "execution_count": null,
   "id": "a86e4dad-4c8c-46da-b2d6-bde02c28991a",
   "metadata": {},
   "outputs": [],
   "source": [
    "# Fill ULTR with Ultralight in Category column\n",
    "df['Aircraft_Category'] = df['Aircraft_Category'].replace('ULTR', 'Ultralight')"
   ]
  },
  {
   "cell_type": "code",
   "execution_count": null,
   "id": "322b2d6d-3928-45c3-aa7d-2d4c71eccee1",
   "metadata": {},
   "outputs": [],
   "source": [
    "df['Aircraft_Category'].value_counts(dropna=False)"
   ]
  },
  {
   "cell_type": "code",
   "execution_count": null,
   "id": "0bc4ce05-cfb3-4b85-af67-f3c448810d53",
   "metadata": {},
   "outputs": [],
   "source": [
    "df['Injury_Severity'].value_counts(dropna=False)"
   ]
  },
  {
   "cell_type": "code",
   "execution_count": null,
   "id": "8db9af4d-f02b-41f7-ad1f-55a33e2862a8",
   "metadata": {},
   "outputs": [],
   "source": [
    "# Show NaN count in Injury_Severity column\n",
    "df['Injury_Severity'].isna().sum()"
   ]
  },
  {
   "cell_type": "code",
   "execution_count": null,
   "id": "e02489b3-b12a-442a-9544-5fc70c5ab33f",
   "metadata": {},
   "outputs": [],
   "source": [
    "# Fill in NaN values in Injury_Severity with Unknown\n",
    "df['Injury_Severity'] = df['Injury_Severity'].fillna('Unknown')"
   ]
  },
  {
   "cell_type": "code",
   "execution_count": null,
   "id": "b715706b-e51a-4882-8169-0cc7d9882bfa",
   "metadata": {},
   "outputs": [],
   "source": [
    "# replace values starting with 'Fata' with 'Fatal' since the number of fatalities is already recorded in another column\n",
    "df.loc[df['Injury_Severity'].str.startswith('Fata'), 'Injury_Severity'] = 'Fatal'"
   ]
  },
  {
   "cell_type": "code",
   "execution_count": null,
   "id": "14452e1d-7d3c-47d1-b1d1-4a82e79f223c",
   "metadata": {},
   "outputs": [],
   "source": [
    "df['Injury_Severity'].value_counts(dropna=False)"
   ]
  },
  {
   "cell_type": "code",
   "execution_count": null,
   "id": "522b6599-a6eb-4004-b430-107868323ea9",
   "metadata": {},
   "outputs": [],
   "source": [
    "# Fill Unavailable with Unknown in Injury_Severity column\n",
    "df['Injury_Severity'] = df['Injury_Severity'].replace('Unavailable', 'Unknown')"
   ]
  },
  {
   "cell_type": "code",
   "execution_count": null,
   "id": "a8395d2b-6345-4b3e-a68f-77e1feb673bb",
   "metadata": {},
   "outputs": [],
   "source": [
    "df['Injury_Severity'].value_counts(dropna=False)"
   ]
  },
  {
   "cell_type": "code",
   "execution_count": null,
   "id": "6e88a390-3b16-4fb9-8a23-76c16e86aea2",
   "metadata": {},
   "outputs": [],
   "source": [
    "df['Amateur_Built'].value_counts(dropna=False)"
   ]
  },
  {
   "cell_type": "code",
   "execution_count": null,
   "id": "12f62cba-e73d-49e9-b438-3c5cb72f58f8",
   "metadata": {},
   "outputs": [],
   "source": [
    "# Fill in NaN values in Amateur_Built with Unknown\n",
    "df['Amateur_Built'] = df['Amateur_Built'].fillna('Unknown')"
   ]
  },
  {
   "cell_type": "code",
   "execution_count": null,
   "id": "6db3dc93-28cc-4fd1-8493-7c8b81fae14e",
   "metadata": {},
   "outputs": [],
   "source": [
    "# Show NaN count in Report_Status column\n",
    "df['Report_Status'].isna().sum()"
   ]
  },
  {
   "cell_type": "code",
   "execution_count": null,
   "id": "979d3bea-d902-46d4-a968-c01ce97dff9c",
   "metadata": {},
   "outputs": [],
   "source": [
    "# Fill in NaN values in Amateur_Built with Unknown\n",
    "df['Report_Status'] = df['Report_Status'].fillna('Unknown')"
   ]
  },
  {
   "cell_type": "code",
   "execution_count": null,
   "id": "5fc613ce-e2c3-4739-93de-113edbe9f23d",
   "metadata": {},
   "outputs": [],
   "source": [
    "df.info()"
   ]
  },
  {
   "cell_type": "code",
   "execution_count": null,
   "id": "e26d7b32-d65e-4bb4-b9ee-4378be3e4072",
   "metadata": {},
   "outputs": [],
   "source": [
    "# Show NaN count in Report_Status column\n",
    "df['Country'].isna().sum()"
   ]
  },
  {
   "cell_type": "code",
   "execution_count": null,
   "id": "b8d4f61a-ded6-45e5-b1b5-a58bb889504a",
   "metadata": {},
   "outputs": [],
   "source": [
    "# Fill in NaN values in Country with Unknown\n",
    "df['Country'] = df['Country'].fillna('Unknown')"
   ]
  },
  {
   "cell_type": "code",
   "execution_count": null,
   "id": "c8218332-296e-4c50-93b6-c9dcc258f762",
   "metadata": {},
   "outputs": [],
   "source": [
    "# Fill in NaN values in Registration_Number with Unknown\n",
    "df['Registration_Number'] = df['Registration_Number'].fillna('Unknown')"
   ]
  },
  {
   "cell_type": "code",
   "execution_count": null,
   "id": "d7a574e7-8f26-4943-a7d8-a891a8c8fb7e",
   "metadata": {},
   "outputs": [],
   "source": [
    "# Fill in NaN values in Model with Unknown\n",
    "df['Model'] = df['Model'].fillna('Unknown')"
   ]
  },
  {
   "cell_type": "code",
   "execution_count": null,
   "id": "158376c8-ce36-4dc8-bb21-620516cba5e1",
   "metadata": {},
   "outputs": [],
   "source": [
    "# Fill in NaN values in Number_of_Engines with Unknown\n",
    "df['Number_of_Engines'] = df['Number_of_Engines'].fillna('Unknown')"
   ]
  },
  {
   "cell_type": "code",
   "execution_count": null,
   "id": "ffd0de6a-c5ae-4ac5-86be-744feedc13ad",
   "metadata": {},
   "outputs": [],
   "source": [
    "# Fill in NaN values in Publication_Date with Unknown\n",
    "df['Publication_Date'] = df['Publication_Date'].fillna('Unknown')"
   ]
  },
  {
   "cell_type": "code",
   "execution_count": null,
   "id": "225b617c-9875-498e-8ce1-135a710e4b8a",
   "metadata": {},
   "outputs": [],
   "source": [
    "df.info()"
   ]
  },
  {
   "cell_type": "markdown",
   "id": "fc1eba9d-e0d1-432d-b441-92deedb64d4b",
   "metadata": {},
   "source": [
    "At this point we've filled in all the columns with valid values or \"Unknown\" if the values were not capable of being filled in."
   ]
  },
  {
   "cell_type": "code",
   "execution_count": null,
   "id": "27eb5d60-bef0-4ea2-af87-f23499d0b363",
   "metadata": {},
   "outputs": [],
   "source": [
    "# Export df as a separate file for Tableau visualizations\n",
    "df.to_csv('Data/cleaned_aviation_data_complete.csv', index=False)"
   ]
  },
  {
   "cell_type": "markdown",
   "id": "8f383142-cb02-4f73-99d4-a85f92716240",
   "metadata": {},
   "source": [
    "# Aircraft Damage Levels\n",
    "I'd like to create some numbers, percentages, and charts to explore the Aircraft Damage levels related to Injury Levels"
   ]
  },
  {
   "cell_type": "code",
   "execution_count": null,
   "id": "de4c485b-d398-4640-a445-972cdcc67d70",
   "metadata": {},
   "outputs": [],
   "source": [
    "# For airplane incidents, how many were destroyed, had minor damage or substantial damage\n",
    "incidents_airplane = df[df['Aircraft_Category'] == 'Airplane']\n",
    "incidents_airplane['Aircraft_damage'].value_counts()"
   ]
  },
  {
   "cell_type": "code",
   "execution_count": null,
   "id": "24b3d36f-1b59-48eb-9df7-fa4b0886bfcb",
   "metadata": {},
   "outputs": [],
   "source": [
    "# Sums of different injury categories for airplanes\n",
    "fatalities_airplane = incidents_airplane['Total_Fatal_Injuries'].sum()\n",
    "serious_injury_airplane = incidents_airplane['Total_Serious_Injuries'].sum()\n",
    "minor_injury_airplane = incidents_airplane['Total_Minor_Injuries'].sum()\n",
    "no_injury_airplane = incidents_airplane['Total_Uninjured'].sum()\n",
    "airplane_people_total = fatalities_airplane + serious_injury_airplane + minor_injury_airplane + no_injury_airplane\n",
    "\n",
    "airplane_people_total"
   ]
  },
  {
   "cell_type": "code",
   "execution_count": null,
   "id": "35fa1d89-4c39-4ea9-b29a-353223abdd46",
   "metadata": {},
   "outputs": [],
   "source": [
    "substantial_damage_airplane = incidents_airplane[incidents_airplane['Aircraft_damage'] == 'Substantial'].shape[0]\n",
    "minor_damage_airplane = incidents_airplane[incidents_airplane['Aircraft_damage'] == 'Minor'].shape[0]\n",
    "destroyed_airplane = incidents_airplane[incidents_airplane['Aircraft_damage'] == 'Destroyed'].shape[0]"
   ]
  },
  {
   "cell_type": "code",
   "execution_count": null,
   "id": "03166c49-6c31-41a2-9b5e-672cbca4436a",
   "metadata": {},
   "outputs": [],
   "source": [
    "#fatalities in the damage subsets\n",
    "fatalities_substantial_damage_airplane = incidents_airplane[incidents_airplane['Aircraft_damage'] == 'Substantial']['Total_Fatal_Injuries'].sum()\n",
    "fatalities_minor_damage_airplane = incidents_airplane[incidents_airplane['Aircraft_damage'] == 'Minor']['Total_Fatal_Injuries'].sum()\n",
    "fatalities_destroyed_airplane = incidents_airplane[incidents_airplane['Aircraft_damage'] == 'Destroyed']['Total_Fatal_Injuries'].sum()"
   ]
  },
  {
   "cell_type": "code",
   "execution_count": null,
   "id": "6740833c-91f2-4d57-8a52-ff8b8b5120a9",
   "metadata": {},
   "outputs": [],
   "source": [
    "# what are the percentages of incidents_airplane injury levels\n",
    "no_injury_airplane_percent = no_injury_airplane / airplane_people_total * 100\n",
    "fatalities_airplane_percent = fatalities_airplane / airplane_people_total * 100\n",
    "serious_injury_airplane_percent = serious_injury_airplane / airplane_people_total * 100\n",
    "minor_injury_airplane_percent = minor_injury_airplane / airplane_people_total * 100"
   ]
  },
  {
   "cell_type": "code",
   "execution_count": null,
   "id": "8249c3ea-0813-4895-a545-640c10898951",
   "metadata": {},
   "outputs": [],
   "source": [
    "import numpy as np\n",
    "import matplotlib.pyplot as plt\n",
    "import seaborn as sns\n",
    "\n",
    "# Create pie chart with injury percentages\n",
    "labels = ['No Injuries', 'Fatalities', 'Serious Injuries', 'Minor Injuries']\n",
    "sizes = [no_injury_airplane_percent, fatalities_airplane_percent, serious_injury_airplane_percent, minor_injury_airplane_percent]\n",
    "colors = ['#66b3ff', '#ff9999', '#99ff99', '#ffcc99']\n",
    "sns.set_style(\"whitegrid\")\n",
    "plt.figure(figsize=(6,6))\n",
    "plt.pie(sizes, labels=labels, colors=colors, autopct='%1.1f%%', shadow=False, startangle=45)\n",
    "plt.axis('equal')\n",
    "plt.title('Percentages of injuries, no injuries, and fatalities in Airplane Incidents')\n",
    "plt.show()"
   ]
  },
  {
   "cell_type": "markdown",
   "id": "3af4ce07-9c5d-4507-89b7-192980f87396",
   "metadata": {},
   "source": [
    "Make the same graph for helicopters"
   ]
  },
  {
   "cell_type": "code",
   "execution_count": null,
   "id": "f1e73411-7341-456c-ab13-d4e6559862e2",
   "metadata": {},
   "outputs": [],
   "source": [
    "incidents_helicopter = df[df['Aircraft_Category'] == 'Helicopter']\n",
    "# Sums of different injury categories for airplanes\n",
    "fatalities_helicopter = incidents_helicopter['Total_Fatal_Injuries'].sum()\n",
    "serious_injury_helicopter = incidents_helicopter['Total_Serious_Injuries'].sum()\n",
    "minor_injury_helicopter = incidents_helicopter['Total_Minor_Injuries'].sum()\n",
    "no_injury_helicopter = incidents_helicopter['Total_Uninjured'].sum()\n",
    "helicopter_people_total = fatalities_helicopter + serious_injury_helicopter + minor_injury_helicopter + no_injury_helicopter\n",
    "\n",
    "substantial_damage_helicopter = incidents_helicopter[incidents_helicopter['Aircraft_damage'] == 'Substantial'].shape[0]\n",
    "minor_damage_helicopter = incidents_helicopter[incidents_helicopter['Aircraft_damage'] == 'Minor'].shape[0]\n",
    "destroyed_helicopter = incidents_helicopter[incidents_helicopter['Aircraft_damage'] == 'Destroyed'].shape[0]\n",
    "\n",
    "#fatalities in the damage subsets\n",
    "fatalities_substantial_damage_helicopter = incidents_helicopter[incidents_helicopter['Aircraft_damage'] == 'Substantial']['Total_Fatal_Injuries'].sum()\n",
    "fatalities_minor_damage_helicopter = incidents_helicopter[incidents_helicopter['Aircraft_damage'] == 'Minor']['Total_Fatal_Injuries'].sum()\n",
    "fatalities_destroyed_helicopter = incidents_helicopter[incidents_helicopter['Aircraft_damage'] == 'Destroyed']['Total_Fatal_Injuries'].sum()\n",
    "\n",
    "# percentages of incidents_helicopter in the injury column\n",
    "no_injury_helicopter_percent = no_injury_helicopter / helicopter_people_total * 100\n",
    "fatalities_helicopter_percent = fatalities_helicopter / helicopter_people_total * 100\n",
    "serious_injury_helicopter_percent = serious_injury_helicopter / helicopter_people_total * 100\n",
    "minor_injury_helicopter_percent = minor_injury_helicopter / helicopter_people_total * 100\n",
    "\n",
    "# Create pie chart with injury percentages\n",
    "labels = ['No Injuries', 'Fatalities', 'Serious Injuries', 'Minor Injuries']\n",
    "sizes = [no_injury_helicopter_percent, fatalities_helicopter_percent, serious_injury_helicopter_percent, minor_injury_helicopter_percent]\n",
    "colors = ['#66b3ff', '#ff9999', '#99ff99', '#ffcc99']\n",
    "sns.set_style(\"whitegrid\")\n",
    "plt.figure(figsize=(6,6))\n",
    "plt.pie(sizes, labels=labels, colors=colors, autopct='%1.1f%%', shadow=False, startangle=45)\n",
    "plt.axis('equal')\n",
    "plt.title('Percentages of injuries, no injuries, and fatalities in Helicopter Incidents')\n",
    "plt.show()"
   ]
  },
  {
   "cell_type": "markdown",
   "id": "4f151b4a-4e7d-4e41-9dec-bd75c5a1be17",
   "metadata": {},
   "source": [
    "# Report Status\n",
    "Even though the Report Status column is mostly empty, I feel that the data that does exist there may be interesting and would like to see if it can be sorted, cleaned, and used somehow."
   ]
  },
  {
   "cell_type": "code",
   "execution_count": null,
   "id": "6f840784-507b-4ff9-bb04-d847d3441fc4",
   "metadata": {},
   "outputs": [],
   "source": [
    "df['Report_Status'].value_counts()"
   ]
  },
  {
   "cell_type": "code",
   "execution_count": null,
   "id": "10f2e0cd-eb9b-46b6-86e8-b8721cf60819",
   "metadata": {},
   "outputs": [],
   "source": [
    "# create a subset of rows that is called informative_report that removes probable cause, unknown, foreign, factual, and any other non-useful values\n",
    "\n",
    "informative_report = df[df['Report_Status'] != 'Probable Cause']\n",
    "informative_report = informative_report[informative_report['Report_Status'] != 'Unknown']\n",
    "informative_report = informative_report[informative_report['Report_Status'] != 'Foreign']\n",
    "informative_report = informative_report[informative_report['Report_Status'] != '<br /><br />']\n",
    "informative_report = informative_report[informative_report['Report_Status'] != 'Factual']\n",
    "informative_report = informative_report[informative_report['Report_Status'] != 'None.']\n",
    "informative_report = informative_report[informative_report['Report_Status'] != '.']\n",
    "informative_report = informative_report[informative_report['Report_Status'] != 'Preliminary']\n",
    "informative_report = informative_report[informative_report['Report_Status'] != 'Undetermined.']\n",
    "\n",
    "informative_report['Report_Status'].info()"
   ]
  },
  {
   "cell_type": "code",
   "execution_count": null,
   "id": "f8f0073c-424a-437c-96a7-9b77902ff6c1",
   "metadata": {},
   "outputs": [],
   "source": [
    "# In informative_report, replace \"pilots\" with \"pilot's\"\n",
    "informative_report['Report_Status'] = informative_report['Report_Status'].str.replace('pilots', \"pilot's\")\n",
    "\n",
    "informative_report['Report_Status'].value_counts()"
   ]
  },
  {
   "cell_type": "code",
   "execution_count": null,
   "id": "304f1e1d-2225-4b66-9193-b0ffeda8c392",
   "metadata": {},
   "outputs": [],
   "source": [
    "# create subset of rows named pilot_error that contain the word \"pilot's\" in the Report_Status column\n",
    "pilot_error = informative_report[informative_report['Report_Status'].str.contains(\"pilot's\")]\n",
    "\n",
    "pilot_error['Report_Status'].info()"
   ]
  },
  {
   "cell_type": "code",
   "execution_count": null,
   "id": "93dea480-ce73-4c7a-81e9-c7a8bc575da1",
   "metadata": {},
   "outputs": [],
   "source": [
    "# What percentage of all the records are pilot_error\n",
    "pilot_error.shape[0] / df.shape[0] * 100"
   ]
  },
  {
   "cell_type": "code",
   "execution_count": null,
   "id": "325b26c7-b2db-469c-8fbf-6fa5c22481f4",
   "metadata": {},
   "outputs": [],
   "source": [
    "# non_pilot_report is informative_report without the pilot_error results\n",
    "non_pilot_report = informative_report[~informative_report.index.isin(pilot_error.index)]\n",
    "\n",
    "non_pilot_report['Report_Status'].info()"
   ]
  },
  {
   "cell_type": "code",
   "execution_count": null,
   "id": "a3b34f49-890f-4d99-97b9-e36537b43e9b",
   "metadata": {},
   "outputs": [],
   "source": [
    "# What percentage of all the records are non_pilot_error\n",
    "non_pilot_report.shape[0] / df.shape[0] * 100"
   ]
  },
  {
   "cell_type": "code",
   "execution_count": null,
   "id": "bedb92e0-d4ad-400a-b8fc-8ef860090c7e",
   "metadata": {},
   "outputs": [],
   "source": [
    "# What percentage of the informative records are non_pilot_error and pilot_error\n",
    "print(non_pilot_report.shape[0] / informative_report.shape[0] * 100)\n",
    "print(pilot_error.shape[0] / informative_report.shape[0] * 100)"
   ]
  },
  {
   "cell_type": "markdown",
   "id": "74971575-78b6-4efd-a0d5-eeebc9d87fd7",
   "metadata": {},
   "source": [
    "Report Status \n",
    "This previous section demonstrates that the vast majority of the report status column is not informative, having values such as \"Probable Cause\", \"Foreign\", and \"Unknown\". About 14% of the records (12,414) indicate pilot error as the main cause of the incident. Another 6.8% (5,966) contain a variety of causes for the incident, most of which point to mechanical or equipment issues.\n",
    "\n",
    "So of these 18,380 informative values for Report Status, almost 68% are attributed to pilot error and about 32.5% attributed to various mechanical or equipment failures, many due to undetermined causes and some caused by human error in maintenance of equipment."
   ]
  },
  {
   "cell_type": "code",
   "execution_count": null,
   "id": "b20f805f-6027-440a-8f17-405d8822be49",
   "metadata": {},
   "outputs": [],
   "source": [
    "# create bar chart for pilot_error.shape and non_pilot_error.shape\n",
    "plt.figure(figsize=(10, 6))\n",
    "plt.bar(['Pilot Error', 'Non-Pilot Error'], [pilot_error.shape[0], non_pilot_report.shape[0]])\n",
    "plt.title('Pilot Error vs Non-Pilot Error')\n",
    "plt.xlabel('Error Type')\n",
    "plt.ylabel('Number of Incidents')\n",
    "plt.show()"
   ]
  },
  {
   "cell_type": "markdown",
   "id": "cfc4fb05-fc0a-4f80-9d94-ce2d1205d0cc",
   "metadata": {},
   "source": [
    "Create two charts showing the damage percentage of planes and helicopters."
   ]
  },
  {
   "cell_type": "code",
   "execution_count": null,
   "id": "931bcc64-1e16-4f87-a015-8de234153556",
   "metadata": {},
   "outputs": [],
   "source": [
    "# airplane damage percentages\n",
    "airplane_damage = incidents_airplane['Aircraft_damage'].value_counts()\n",
    "labels = airplane_damage.index\n",
    "sizes = airplane_damage\n",
    "colors = ['#66b3ff', '#ff9999', '#99ff99', '#ffcc99']\n",
    "explode = (0, 0, 0)\n",
    "sns.set_style(\"whitegrid\")\n",
    "plt.figure(figsize=(6,6))\n",
    "plt.pie(sizes, labels=labels, colors=colors, autopct='%1.1f%%', shadow=False, startangle=45)\n",
    "plt.axis('equal')\n",
    "plt.title('Airplane Damage')\n",
    "plt.show()"
   ]
  },
  {
   "cell_type": "code",
   "execution_count": null,
   "id": "07fed2c6-f8c2-4ab7-a297-5eeb84f7a071",
   "metadata": {},
   "outputs": [],
   "source": [
    "# do the same for heli\n",
    "helicopter_damage = incidents_helicopter['Aircraft_damage'].value_counts()\n",
    "labels = helicopter_damage.index\n",
    "sizes = helicopter_damage\n",
    "colors = ['#66b3ff', '#ff9999', '#99ff99', '#ffcc99']\n",
    "explode = (0, 0, 0)\n",
    "sns.set_style(\"whitegrid\")\n",
    "plt.figure(figsize=(6,6))\n",
    "plt.pie(sizes, labels=labels, colors=colors, autopct='%1.1f%%', shadow=False, startangle=45)\n",
    "plt.axis('equal')\n",
    "plt.title('Helicopter Damage')\n",
    "plt.show()"
   ]
  }
 ],
 "metadata": {
  "kernelspec": {
   "display_name": "Python 3 (ipykernel)",
   "language": "python",
   "name": "python3"
  },
  "language_info": {
   "codemirror_mode": {
    "name": "ipython",
    "version": 3
   },
   "file_extension": ".py",
   "mimetype": "text/x-python",
   "name": "python",
   "nbconvert_exporter": "python",
   "pygments_lexer": "ipython3",
   "version": "3.12.4"
  }
 },
 "nbformat": 4,
 "nbformat_minor": 5
}
